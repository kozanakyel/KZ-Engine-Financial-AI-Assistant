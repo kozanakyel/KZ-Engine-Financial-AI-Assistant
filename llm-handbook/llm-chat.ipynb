{
 "cells": [
  {
   "cell_type": "code",
   "execution_count": 1,
   "metadata": {
    "ExecuteTime": {
     "end_time": "2023-06-05T14:01:30.048631600Z",
     "start_time": "2023-06-05T14:01:30.035630Z"
    },
    "collapsed": true
   },
   "outputs": [],
   "source": [
    "from dotenv import load_dotenv\n",
    "import os\n",
    "\n",
    "load_dotenv()\n",
    "\n",
    "openai_api_key = os.getenv('T_OPENAI_API_KEY')\n",
    "os.environ['OPENAI_API_KEY'] = openai_api_key\n",
    "\n",
    "hugging_api_key = os.getenv('HUGGINGFACEHUB_API_TOKEN')\n",
    "os.environ['HUGGINGFACEHUB_API_TOKEN'] = hugging_api_key"
   ]
  },
  {
   "cell_type": "code",
   "execution_count": 10,
   "metadata": {
    "ExecuteTime": {
     "end_time": "2023-06-05T14:03:42.539608700Z",
     "start_time": "2023-06-05T14:03:42.533609600Z"
    },
    "collapsed": false
   },
   "outputs": [],
   "source": [
    "from langchain.chat_models import ChatOpenAI\n",
    "\n",
    "chat = ChatOpenAI(\n",
    "    openai_api_key=openai_api_key,\n",
    "    temperature=0.7,\n",
    "    model='gpt-3.5-turbo'\n",
    ")"
   ]
  },
  {
   "cell_type": "code",
   "execution_count": 6,
   "metadata": {
    "ExecuteTime": {
     "end_time": "2023-06-05T14:03:43.181749300Z",
     "start_time": "2023-06-05T14:03:43.163749900Z"
    },
    "collapsed": false
   },
   "outputs": [],
   "source": [
    "from langchain.schema import (\n",
    "    SystemMessage,\n",
    "    HumanMessage,\n",
    "    AIMessage\n",
    ")\n",
    "\n",
    "messages = [\n",
    "    SystemMessage(content=\"You are a helpful assistant.\"),\n",
    "    HumanMessage(content=\"Hi AI, how are you today?\"),\n",
    "    AIMessage(content=\"I'm great thank you. How can I help you?\"),\n",
    "    HumanMessage(content=\"I'd like to understand string theory.\")\n",
    "]"
   ]
  },
  {
   "cell_type": "code",
   "execution_count": 8,
   "metadata": {
    "ExecuteTime": {
     "end_time": "2023-06-05T14:04:02.243729900Z",
     "start_time": "2023-06-05T14:03:44.037438700Z"
    },
    "collapsed": false
   },
   "outputs": [
    {
     "data": {
      "text/plain": [
       "AIMessage(content='Sure, I can help you with that. String theory is a theoretical framework in physics that attempts to reconcile quantum mechanics and general relativity. It proposes that the fundamental building blocks of the universe are not point-like particles, but rather tiny, one-dimensional \"strings\" that vibrate at different frequencies. These strings are incredibly small, with a length scale of around 10^-35 meters.\\n\\nThe vibrations of these strings determine the properties of the particles that they form, such as their mass and charge. In this way, string theory provides a way to unify all of the fundamental forces of nature, including gravity, electromagnetism, and the strong and weak nuclear forces.\\n\\nOne of the key features of string theory is that it requires the existence of extra dimensions beyond the three spatial dimensions that we are familiar with. In fact, string theory requires a total of 10 or 11 dimensions, depending on the specific version of the theory.\\n\\nWhile string theory is still a highly speculative and controversial area of research, it has the potential to provide a unified description of the universe at the most fundamental level.', additional_kwargs={}, example=False)"
      ]
     },
     "execution_count": 8,
     "metadata": {},
     "output_type": "execute_result"
    }
   ],
   "source": [
    "res = chat(messages)\n",
    "res"
   ]
  },
  {
   "cell_type": "code",
   "execution_count": 9,
   "metadata": {
    "ExecuteTime": {
     "end_time": "2023-06-05T14:04:29.768440400Z",
     "start_time": "2023-06-05T14:04:29.764444400Z"
    },
    "collapsed": false
   },
   "outputs": [
    {
     "name": "stdout",
     "output_type": "stream",
     "text": [
      "Sure, I can help you with that. String theory is a theoretical framework in physics that attempts to reconcile quantum mechanics and general relativity. It proposes that the fundamental building blocks of the universe are not point-like particles, but rather tiny, one-dimensional \"strings\" that vibrate at different frequencies. These strings are incredibly small, with a length scale of around 10^-35 meters.\n",
      "\n",
      "The vibrations of these strings determine the properties of the particles that they form, such as their mass and charge. In this way, string theory provides a way to unify all of the fundamental forces of nature, including gravity, electromagnetism, and the strong and weak nuclear forces.\n",
      "\n",
      "One of the key features of string theory is that it requires the existence of extra dimensions beyond the three spatial dimensions that we are familiar with. In fact, string theory requires a total of 10 or 11 dimensions, depending on the specific version of the theory.\n",
      "\n",
      "While string theory is still a highly speculative and controversial area of research, it has the potential to provide a unified description of the universe at the most fundamental level.\n"
     ]
    }
   ],
   "source": [
    "print(res.content)"
   ]
  },
  {
   "cell_type": "code",
   "execution_count": 10,
   "metadata": {
    "ExecuteTime": {
     "end_time": "2023-06-05T14:05:14.751217Z",
     "start_time": "2023-06-05T14:04:53.867223900Z"
    },
    "collapsed": false
   },
   "outputs": [
    {
     "name": "stdout",
     "output_type": "stream",
     "text": [
      "Physicists believe that string theory has the potential to produce a unified theory because it provides a way to reconcile the two most successful theories in physics: quantum mechanics and general relativity.\n",
      "\n",
      "Quantum mechanics is the theory that describes the behavior of particles at the smallest scales, while general relativity is the theory that describes the behavior of gravity and the large-scale structure of the universe. However, these two theories are fundamentally incompatible with each other, and attempts to combine them have been unsuccessful.\n",
      "\n",
      "String theory proposes that the fundamental building blocks of the universe are not point-like particles, but rather tiny, one-dimensional \"strings\" that vibrate at different frequencies. These strings are incredibly small, with a length scale of around 10^-35 meters. The vibrations of these strings determine the properties of the particles that they form, such as their mass and charge.\n",
      "\n",
      "In this way, string theory provides a way to unify all of the fundamental forces of nature, including gravity, electromagnetism, and the strong and weak nuclear forces. It also requires the existence of extra dimensions beyond the three spatial dimensions that we are familiar with.\n",
      "\n",
      "While string theory is still a highly speculative and controversial area of research, it has the potential to provide a unified description of the universe at the most fundamental level.\n"
     ]
    }
   ],
   "source": [
    "# add latest AI response to messages\n",
    "messages.append(res)\n",
    "\n",
    "# now create a new user prompt\n",
    "prompt = HumanMessage(\n",
    "    content=\"Why do physicists believe it can produce a 'unified theory'?\"\n",
    ")\n",
    "# add to messages\n",
    "messages.append(prompt)\n",
    "\n",
    "# send to chat-gpt\n",
    "res = chat(messages)\n",
    "\n",
    "print(res.content)"
   ]
  },
  {
   "cell_type": "code",
   "execution_count": 13,
   "metadata": {
    "ExecuteTime": {
     "end_time": "2023-06-05T14:06:20.733958200Z",
     "start_time": "2023-06-05T14:06:20.720958700Z"
    },
    "collapsed": false
   },
   "outputs": [],
   "source": [
    "chat = ChatOpenAI(\n",
    "    openai_api_key=openai_api_key,\n",
    "    temperature=0,\n",
    "    model='gpt-3.5-turbo-0301'\n",
    ")\n",
    "rsi_14 = 27.345\n",
    "mfi_14 = 54.456\n",
    "dmp_14 = 12.567\n",
    "dmn_14 = 36.5678\n",
    "adx_14 = 28.43665\n",
    "\n",
    "# setup first system message\n",
    "messages = [\n",
    "    SystemMessage(content=(\n",
    "        \"\"\"Answer the question based on the context below.\n",
    "You are the trading advisor. Also you are expert on RSI, MFI and DMP, DMI indicators.\n",
    "\n",
    "Context: RSI indicator value range betwwen 0-100. RSI value 70 and above meaning that overbought area.\n",
    " So you should sell your coin. also value 80 is a extreme overbought and you act cautiously.\n",
    " RSI value 30 that meaning is overselling area. and value 20 is extreme overselling are.\n",
    " if the RSI value are 20-30s you should bought this coin. 30-70 range waiting or\n",
    " you can look other indicator results.\n",
    " MFI indicator value range betwen 0-100. MFI value 80 and above meaning that overbought area.\n",
    " So you should sell your coin. also value 90 is a extreme overbought and you should act cautiously.\n",
    " MFI value 20 that meaning is overselling area. and value 10 is extreme overselling are.\n",
    " if the MFI value are 10-20s you should bought this coin. 20-80 range waiting or\n",
    " you can look other indicator results.\n",
    " Else it shows overselling condition between 0-25.\n",
    " DMI indicator is a collection of indicators including DMP, DMI, and ADX. The Plus Direction Indicator DMP and\n",
    " Minus Direction Indicator DMI show the current price direction. When the DMP is above DMN,\n",
    " the current price momentum is up. When the DMN is above DMP, the current price momentum is down.\n",
    " ADX measures the strength of the trend, either up or down; a reading above 25 indicates a strong trend.\n",
    " Here are example responses: \n",
    " - The RSI indicator value being above 70 at this moment indicates an overbought zone has been entered.\"\n",
    "                  The MFI value trending above the average confirms the flow of money. On the DMi side, \n",
    "                  the DMP (positive directional movement indicator) value is above \n",
    "                  the DMN (negative directional movement indicator) value, \n",
    "                  and ADX is strongly trending above 25 and at 40 levels, \n",
    "                  indicating a strong bull trend that has entered in a short period of time. \n",
    "                  When considering the flow of money and the overbought zone, it may be advisable \n",
    "                  to take some profits and waiting next market movements.\n",
    "- The RSI indicator value dropping around 40 indicates approaching the selling zone. \"\n",
    "                  The MFI index also dropping around 40 supports this. Although ADX suggests that there is no strong trend below 25, \n",
    "                  it can be observed that DMN is above DMP, creating selling pressure. \n",
    "                  My recommendation would be to wait for a better buying opportunity at this point.\n",
    "\"\"\"\n",
    "    )),\n",
    "    HumanMessage(content=f\"RSI indicator value is {rsi_14:.2f}, MFI indicator value is {mfi_14:.2f}, DMP indicator value is {dmp_14:.2f},\" \\\n",
    "        f\" DMN indicator value is {dmn_14:.2f} and ADX indicator value is {adx_14:.2f}.\" \\\n",
    "        f\" What is your advice for trading for those indicator values?\")\n",
    "]"
   ]
  },
  {
   "cell_type": "code",
   "execution_count": 14,
   "metadata": {
    "ExecuteTime": {
     "end_time": "2023-06-05T14:06:42.425048300Z",
     "start_time": "2023-06-05T14:06:38.983668500Z"
    },
    "collapsed": false
   },
   "outputs": [
    {
     "name": "stdout",
     "output_type": "stream",
     "text": [
      "Length: 901\n",
      "Based on the given indicator values, the RSI value of 27.34 indicates that the coin is in the oversold area, which could be a good buying opportunity. The MFI value of 54.46 is in the neutral zone, which means that there is no significant buying or selling pressure. The DMP value of 12.57 is lower than the DMN value of 36.57, indicating that the current price momentum is down. However, the ADX value of 28.44 indicates a strong trend, which could be a bullish trend. \n",
      "\n",
      "Considering all these indicators, my recommendation would be to wait for a confirmation of the trend direction before making any trading decisions. It may be advisable to wait for the DMP value to cross above the DMN value and the ADX value to increase further above 25, indicating a stronger bullish trend. Alternatively, you can also look for other indicators to confirm the trend direction before making any trading decisions.\n"
     ]
    }
   ],
   "source": [
    "res = chat(messages)\n",
    "\n",
    "print(f\"Length: {len(res.content)}\\n{res.content}\")"
   ]
  },
  {
   "cell_type": "code",
   "execution_count": 15,
   "metadata": {},
   "outputs": [
    {
     "name": "stdout",
     "output_type": "stream",
     "text": [
      "I apologize for the confusion in my previous response. I made an error in interpreting the DMP and DMN values. When the DMP is above DMN, it indicates that the current price momentum is up, and when DMN is above DMP, it indicates that the current price momentum is down. \n",
      "\n",
      "In the given scenario, the DMP value of 12.57 is lower than the DMN value of 36.57, which means that the current price momentum is down. The ADX value of 28.44 indicates a strong trend, but it does not necessarily indicate the direction of the trend. \n",
      "\n",
      "Therefore, based on the given indicator values, the overall sentiment is bearish, and it may be advisable to wait for a confirmation of the trend direction before making any trading decisions. You can also look for other indicators to confirm the trend direction and make a more informed decision.\n"
     ]
    }
   ],
   "source": [
    "# add latest AI response to messages\n",
    "messages.append(res)\n",
    "\n",
    "# now create a new user prompt\n",
    "prompt = HumanMessage(\n",
    "    content=\"You said ADX have a storng trend and DMN above the DMP, is that sign to bearish beahvior or not\"\n",
    ")\n",
    "# add to messages\n",
    "messages.append(prompt)\n",
    "\n",
    "# send to chat-gpt\n",
    "res = chat(messages)\n",
    "\n",
    "print(res.content)"
   ]
  },
  {
   "cell_type": "code",
   "execution_count": 13,
   "metadata": {
    "ExecuteTime": {
     "end_time": "2023-06-05T14:07:01.040397Z",
     "start_time": "2023-06-05T14:07:00.997872400Z"
    },
    "collapsed": false
   },
   "outputs": [
    {
     "data": {
      "text/plain": [
       "ChatPromptValue(messages=[HumanMessage(content='Hi AI, how are you? What is quantum physics? Can you keep the response to no more than 100 characters (including whitespace), and sign off with a random name like \"Robot McRobot\" or \"Bot Rob\".', additional_kwargs={}, example=False)])"
      ]
     },
     "execution_count": 13,
     "metadata": {},
     "output_type": "execute_result"
    }
   ],
   "source": [
    "from langchain.prompts.chat import HumanMessagePromptTemplate, ChatPromptTemplate\n",
    "\n",
    "human_template = HumanMessagePromptTemplate.from_template(\n",
    "    '{input} Can you keep the response to no more than 100 characters '+\n",
    "    '(including whitespace), and sign off with a random name like \"Robot '+\n",
    "    'McRobot\" or \"Bot Rob\".'\n",
    ")\n",
    "\n",
    "# create the human message\n",
    "chat_prompt = ChatPromptTemplate.from_messages([human_template])\n",
    "# format with some input\n",
    "chat_prompt_value = chat_prompt.format_prompt(\n",
    "    input=\"Hi AI, how are you? What is quantum physics?\"\n",
    ")\n",
    "chat_prompt_value"
   ]
  },
  {
   "cell_type": "code",
   "execution_count": 14,
   "metadata": {
    "ExecuteTime": {
     "end_time": "2023-06-05T14:07:39.977691Z",
     "start_time": "2023-06-05T14:07:39.953309200Z"
    },
    "collapsed": false
   },
   "outputs": [
    {
     "data": {
      "text/plain": [
       "[HumanMessage(content='Hi AI, how are you? What is quantum physics? Can you keep the response to no more than 100 characters (including whitespace), and sign off with a random name like \"Robot McRobot\" or \"Bot Rob\".', additional_kwargs={}, example=False)]"
      ]
     },
     "execution_count": 14,
     "metadata": {},
     "output_type": "execute_result"
    }
   ],
   "source": [
    "chat_prompt_value.to_messages()"
   ]
  },
  {
   "cell_type": "code",
   "execution_count": 15,
   "metadata": {
    "ExecuteTime": {
     "end_time": "2023-06-05T14:07:47.299484400Z",
     "start_time": "2023-06-05T14:07:47.294971200Z"
    },
    "collapsed": false
   },
   "outputs": [
    {
     "data": {
      "text/plain": [
       "'Human: Hi AI, how are you? What is quantum physics? Can you keep the response to no more than 100 characters (including whitespace), and sign off with a random name like \"Robot McRobot\" or \"Bot Rob\".'"
      ]
     },
     "execution_count": 15,
     "metadata": {},
     "output_type": "execute_result"
    }
   ],
   "source": [
    "chat_prompt_value.to_string()"
   ]
  },
  {
   "cell_type": "code",
   "execution_count": 16,
   "metadata": {
    "ExecuteTime": {
     "end_time": "2023-06-05T14:07:59.824915200Z",
     "start_time": "2023-06-05T14:07:57.259678500Z"
    },
    "collapsed": false
   },
   "outputs": [
    {
     "name": "stdout",
     "output_type": "stream",
     "text": [
      "Length: 99\n",
      "I'm good! Quantum physics studies the behavior of matter and energy at a very small scale. -Bot Rob\n"
     ]
    }
   ],
   "source": [
    "messages = [\n",
    "    SystemMessage(content=(\n",
    "        'You are a helpful assistant. You keep responses to no more than '\n",
    "        '100 characters long (including whitespace), and sign off every '\n",
    "        'message with a random name like \"Robot McRobot\" or \"Bot Rob\".'\n",
    "    )),\n",
    "    chat_prompt.format_prompt(\n",
    "        input=\"Hi AI, how are you? What is quantum physics?\"\n",
    "    ).to_messages()[0]\n",
    "]\n",
    "\n",
    "res = chat(messages)\n",
    "\n",
    "print(f\"Length: {len(res.content)}\\n{res.content}\")"
   ]
  },
  {
   "cell_type": "code",
   "execution_count": 17,
   "metadata": {
    "ExecuteTime": {
     "end_time": "2023-06-05T14:08:32.064306700Z",
     "start_time": "2023-06-05T14:08:32.058307600Z"
    },
    "collapsed": false
   },
   "outputs": [
    {
     "data": {
      "text/plain": [
       "ChatPromptValue(messages=[SystemMessage(content='You are a helpful assistant. You keep responses to no more than 50 characters long (including whitespace), and sign off every message with \"- Robot McRobot', additional_kwargs={}), HumanMessage(content='Hi AI, how are you? What is quantum physics?', additional_kwargs={}, example=False), AIMessage(content=\"Good! It's physics of small things - Robot McRobot\", additional_kwargs={}, example=False)])"
      ]
     },
     "execution_count": 17,
     "metadata": {},
     "output_type": "execute_result"
    }
   ],
   "source": [
    "from langchain.prompts.chat import (\n",
    "    SystemMessagePromptTemplate,\n",
    "    AIMessagePromptTemplate\n",
    ")\n",
    "\n",
    "system_template = SystemMessagePromptTemplate.from_template(\n",
    "    'You are a helpful assistant. You keep responses to no more than '\n",
    "    '{character_limit} characters long (including whitespace), and sign '\n",
    "    'off every message with \"- {sign_off}'\n",
    ")\n",
    "human_template = HumanMessagePromptTemplate.from_template(\"{input}\")\n",
    "ai_template = AIMessagePromptTemplate.from_template(\"{response} - {sign_off}\")\n",
    "\n",
    "# create the list of messages\n",
    "chat_prompt = ChatPromptTemplate.from_messages([\n",
    "    system_template,\n",
    "    human_template,\n",
    "    ai_template\n",
    "])\n",
    "# format with required inputs\n",
    "chat_prompt_value = chat_prompt.format_prompt(\n",
    "    character_limit=\"50\", sign_off=\"Robot McRobot\",\n",
    "    input=\"Hi AI, how are you? What is quantum physics?\",\n",
    "    response=\"Good! It's physics of small things\"\n",
    ")\n",
    "chat_prompt_value"
   ]
  },
  {
   "cell_type": "code",
   "execution_count": 18,
   "metadata": {
    "ExecuteTime": {
     "end_time": "2023-06-05T14:09:32.404381700Z",
     "start_time": "2023-06-05T14:09:30.972815400Z"
    },
    "collapsed": false
   },
   "outputs": [
    {
     "name": "stdout",
     "output_type": "stream",
     "text": [
      "Length: 41\n",
      "Atoms, electrons, photons - Robot McRobot\n"
     ]
    }
   ],
   "source": [
    "messages = chat_prompt_value.to_messages()\n",
    "\n",
    "messages.append(\n",
    "    HumanMessage(content=\"How small?\")\n",
    ")\n",
    "\n",
    "res = chat(messages)\n",
    "\n",
    "print(f\"Length: {len(res.content)}\\n{res.content}\")"
   ]
  },
  {
   "cell_type": "code",
   "execution_count": 19,
   "metadata": {
    "ExecuteTime": {
     "end_time": "2023-06-05T14:09:50.556329500Z",
     "start_time": "2023-06-05T14:09:48.554735500Z"
    },
    "collapsed": false
   },
   "outputs": [
    {
     "name": "stdout",
     "output_type": "stream",
     "text": [
      "Length: 68\n",
      "Yes, quantum physics is a branch of particle physics - Robot McRobot\n"
     ]
    }
   ],
   "source": [
    "# add last response\n",
    "messages.append(res)\n",
    "\n",
    "# make new query\n",
    "messages.append(\n",
    "    HumanMessage(content=\"Okay cool, so it is like 'partical physics'?\")\n",
    ")\n",
    "\n",
    "res = chat(messages)\n",
    "\n",
    "print(f\"Length: {len(res.content)}\\n{res.content}\")"
   ]
  },
  {
   "cell_type": "code",
   "execution_count": 20,
   "metadata": {
    "ExecuteTime": {
     "end_time": "2023-06-05T14:10:04.165385900Z",
     "start_time": "2023-06-05T14:10:04.159388700Z"
    },
    "collapsed": false
   },
   "outputs": [
    {
     "data": {
      "text/plain": [
       "ChatPromptValue(messages=[HumanMessage(content=\"Okay cool, so it is like 'partical physics'? Answer in less than 50 characters (including whitespace).\", additional_kwargs={}, example=False)])"
      ]
     },
     "execution_count": 20,
     "metadata": {},
     "output_type": "execute_result"
    }
   ],
   "source": [
    "from langchain import PromptTemplate\n",
    "\n",
    "# this is a faster way of building the prompt via a PromptTemplate\n",
    "human_template = HumanMessagePromptTemplate.from_template(\n",
    "    '{input} Answer in less than {character_limit} characters (including whitespace).'\n",
    ")\n",
    "# create the human message\n",
    "human_prompt = ChatPromptTemplate.from_messages([human_template])\n",
    "# format with some input\n",
    "human_prompt_value = human_prompt.format_prompt(\n",
    "    input=\"Okay cool, so it is like 'partical physics'?\",\n",
    "    character_limit=\"50\"\n",
    ")\n",
    "human_prompt_value"
   ]
  },
  {
   "cell_type": "code",
   "execution_count": 21,
   "metadata": {
    "ExecuteTime": {
     "end_time": "2023-06-05T14:10:15.781435900Z",
     "start_time": "2023-06-05T14:10:15.775435800Z"
    },
    "collapsed": false
   },
   "outputs": [
    {
     "data": {
      "text/plain": [
       "HumanMessage(content=\"Okay cool, so it is like 'partical physics'?\", additional_kwargs={}, example=False)"
      ]
     },
     "execution_count": 21,
     "metadata": {},
     "output_type": "execute_result"
    }
   ],
   "source": [
    "# drop the last message about partical physics so we can rewrite\n",
    "messages.pop(-1)"
   ]
  },
  {
   "cell_type": "code",
   "execution_count": 22,
   "metadata": {
    "ExecuteTime": {
     "end_time": "2023-06-05T14:11:49.676223500Z",
     "start_time": "2023-06-05T14:11:49.603696300Z"
    },
    "collapsed": false
   },
   "outputs": [
    {
     "data": {
      "text/plain": [
       "[SystemMessage(content='You are a helpful assistant. You keep responses to no more than 50 characters long (including whitespace), and sign off every message with \"- Robot McRobot', additional_kwargs={}),\n",
       " HumanMessage(content='Hi AI, how are you? What is quantum physics?', additional_kwargs={}, example=False),\n",
       " AIMessage(content=\"Good! It's physics of small things - Robot McRobot\", additional_kwargs={}, example=False),\n",
       " HumanMessage(content='How small?', additional_kwargs={}, example=False),\n",
       " AIMessage(content='Atoms, electrons, photons - Robot McRobot', additional_kwargs={}, example=False),\n",
       " HumanMessage(content=\"Okay cool, so it is like 'partical physics'? Answer in less than 50 characters (including whitespace).\", additional_kwargs={}, example=False)]"
      ]
     },
     "execution_count": 22,
     "metadata": {},
     "output_type": "execute_result"
    }
   ],
   "source": [
    "messages.extend(human_prompt_value.to_messages())\n",
    "messages"
   ]
  },
  {
   "cell_type": "code",
   "execution_count": 23,
   "metadata": {
    "ExecuteTime": {
     "end_time": "2023-06-05T14:12:12.597095600Z",
     "start_time": "2023-06-05T14:12:08.327513800Z"
    },
    "collapsed": false
   },
   "outputs": [
    {
     "name": "stdout",
     "output_type": "stream",
     "text": [
      "Length: 28\n",
      "Yes, similar - Robot McRobot\n"
     ]
    }
   ],
   "source": [
    "res = chat(messages)\n",
    "\n",
    "print(f\"Length: {len(res.content)}\\n{res.content}\")"
   ]
  },
  {
   "cell_type": "code",
   "execution_count": 24,
   "metadata": {
    "ExecuteTime": {
     "end_time": "2023-06-05T14:12:15.571319Z",
     "start_time": "2023-06-05T14:12:15.565315800Z"
    },
    "collapsed": false
   },
   "outputs": [
    {
     "data": {
      "text/plain": [
       "HumanMessage(content=\"Okay cool, so it is like 'partical physics'? Answer in less than 50 characters (including whitespace).\", additional_kwargs={}, example=False)"
      ]
     },
     "execution_count": 24,
     "metadata": {},
     "output_type": "execute_result"
    }
   ],
   "source": [
    "_input = \"Okay cool, so it is like 'partical physics'?\"\n",
    "character_limit = 50\n",
    "\n",
    "human_message = HumanMessage(content=(\n",
    "    f\"{_input} Answer in less than {character_limit} characters \"\n",
    "    \"(including whitespace).\"\n",
    "))\n",
    "\n",
    "human_message"
   ]
  },
  {
   "cell_type": "code",
   "execution_count": 25,
   "metadata": {
    "ExecuteTime": {
     "end_time": "2023-06-05T14:12:28.774179500Z",
     "start_time": "2023-06-05T14:12:28.759178200Z"
    },
    "collapsed": false
   },
   "outputs": [
    {
     "data": {
      "text/plain": [
       "[SystemMessage(content='You are a helpful assistant. You keep responses to no more than 50 characters long (including whitespace), and sign off every message with \"- Robot McRobot', additional_kwargs={}),\n",
       " HumanMessage(content='Hi AI, how are you? What is quantum physics?', additional_kwargs={}, example=False),\n",
       " AIMessage(content=\"Good! It's physics of small things - Robot McRobot\", additional_kwargs={}, example=False),\n",
       " HumanMessage(content='How small?', additional_kwargs={}, example=False),\n",
       " AIMessage(content='Atoms, electrons, photons - Robot McRobot', additional_kwargs={}, example=False),\n",
       " HumanMessage(content=\"Okay cool, so it is like 'partical physics'? Answer in less than 50 characters (including whitespace).\", additional_kwargs={}, example=False)]"
      ]
     },
     "execution_count": 25,
     "metadata": {},
     "output_type": "execute_result"
    }
   ],
   "source": [
    "# drop the last message about partical physics so we can rewrite\n",
    "messages.pop(-1)\n",
    "\n",
    "# add f-string formatted message\n",
    "messages.append(human_message)\n",
    "messages"
   ]
  },
  {
   "cell_type": "code",
   "execution_count": null,
   "metadata": {
    "collapsed": false
   },
   "outputs": [],
   "source": []
  }
 ],
 "metadata": {
  "kernelspec": {
   "display_name": "Python 3",
   "language": "python",
   "name": "python3"
  },
  "language_info": {
   "codemirror_mode": {
    "name": "ipython",
    "version": 3
   },
   "file_extension": ".py",
   "mimetype": "text/x-python",
   "name": "python",
   "nbconvert_exporter": "python",
   "pygments_lexer": "ipython3",
   "version": "3.8.1"
  }
 },
 "nbformat": 4,
 "nbformat_minor": 0
}
