{
 "cells": [
  {
   "cell_type": "code",
   "execution_count": null,
   "metadata": {},
   "outputs": [],
   "source": [
    "#openai initiliazer\n",
    "import openai\n",
    "from dotenv import load_dotenv\n",
    "import os\n",
    "import json\n",
    "\n",
    "load_dotenv()\n",
    "\n",
    "openai_api_key = os.getenv('OPENAI_API_KEY')"
   ]
  },
  {
   "cell_type": "code",
   "execution_count": null,
   "metadata": {},
   "outputs": [],
   "source": [
    "# jsonl file sended to openi for Fine-Tuned purposes\n",
    "openai.api_key = openai_api_key\n",
    "response_file_post = openai.File.create(\n",
    "  file=open(\"datatset_prepared.jsonl\", \"rb\"),\n",
    "  purpose='fine-tune'\n",
    ")\n",
    "response_file_post"
   ]
  },
  {
   "cell_type": "code",
   "execution_count": null,
   "metadata": {},
   "outputs": [],
   "source": [
    "# Fine tuned and created model from file id\n",
    "openai.FineTune.create(training_file=\"file-rNx4Zl0bNp1c6Na0ALCzoVH2\")"
   ]
  },
  {
   "cell_type": "code",
   "execution_count": null,
   "metadata": {},
   "outputs": [],
   "source": [
    "# See all fine-tuned model list and status\n",
    "openai.FineTune.list()"
   ]
  },
  {
   "cell_type": "code",
   "execution_count": null,
   "metadata": {},
   "outputs": [],
   "source": [
    "# get response from new prompt\n",
    "fine_tuned_model_id = \"ft-kAhHsmceYiFD3CKTBJZgVMyi\"\n",
    "prompt = json.dumps(dt.to_json())\n",
    "\n",
    "response = openai.Completion.create(\n",
    "    model=fine_tuned_model_id,\n",
    "    prompt=prompt,\n",
    "    max_tokens=300\n",
    ")\n",
    "\n",
    "output_text = response.choices[0].text\n",
    "print(output_text)"
   ]
  },
  {
   "cell_type": "code",
   "execution_count": null,
   "metadata": {},
   "outputs": [],
   "source": [
    "# get fine-tune id information\n",
    "fine_tune_id = \"ft-mhzCaPZwpXrfH3x1GRxzucB4\"\n",
    "\n",
    "# Use the OpenAI API to retrieve information about the fine-tuning task\n",
    "response = openai.FineTune.retrieve(fine_tune_id)\n",
    "\n",
    "# Print the JSON response\n",
    "print(json.dumps(response, indent=2))"
   ]
  },
  {
   "cell_type": "code",
   "execution_count": null,
   "metadata": {},
   "outputs": [],
   "source": [
    "# delete fine-tuned models\n",
    "openai.Model.delete(\"ft-kAhHsmceYiFD3CKTBJZgVMyi\")"
   ]
  }
 ],
 "metadata": {
  "language_info": {
   "name": "python"
  },
  "orig_nbformat": 4
 },
 "nbformat": 4,
 "nbformat_minor": 2
}
