{
 "cells": [
  {
   "cell_type": "code",
   "execution_count": 1,
   "metadata": {
    "collapsed": true,
    "ExecuteTime": {
     "end_time": "2023-06-14T10:46:03.375960500Z",
     "start_time": "2023-06-14T10:46:02.614551800Z"
    }
   },
   "outputs": [
    {
     "ename": "ModuleNotFoundError",
     "evalue": "No module named 'yfinance'",
     "output_type": "error",
     "traceback": [
      "\u001B[0;31m---------------------------------------------------------------------------\u001B[0m",
      "\u001B[0;31mModuleNotFoundError\u001B[0m                       Traceback (most recent call last)",
      "Cell \u001B[0;32mIn[1], line 4\u001B[0m\n\u001B[1;32m      2\u001B[0m \u001B[38;5;28;01mimport\u001B[39;00m \u001B[38;5;21;01mos\u001B[39;00m\n\u001B[1;32m      3\u001B[0m \u001B[38;5;28;01mimport\u001B[39;00m \u001B[38;5;21;01mmatplotlib\u001B[39;00m\u001B[38;5;21;01m.\u001B[39;00m\u001B[38;5;21;01mpyplot\u001B[39;00m \u001B[38;5;28;01mas\u001B[39;00m \u001B[38;5;21;01mplt\u001B[39;00m\n\u001B[0;32m----> 4\u001B[0m \u001B[38;5;28;01mfrom\u001B[39;00m \u001B[38;5;21;01mohlc_data_process\u001B[39;00m \u001B[38;5;28;01mimport\u001B[39;00m calculate_dmi_rsi_mfi, fetch_data\n\u001B[1;32m      6\u001B[0m load_dotenv()\n\u001B[1;32m      8\u001B[0m openai_api_key \u001B[38;5;241m=\u001B[39m os\u001B[38;5;241m.\u001B[39mgetenv(\u001B[38;5;124m'\u001B[39m\u001B[38;5;124mT_OPENAI_API_KEY\u001B[39m\u001B[38;5;124m'\u001B[39m)\n",
      "File \u001B[0;32m/mnt/c/Users/kozan/Desktop/Sen_Des_Proj/GPT-4-KZEngine-Signal-Interpretation/trading-advisor-gpt/ohlc_data_process.py:1\u001B[0m\n\u001B[0;32m----> 1\u001B[0m \u001B[38;5;28;01mimport\u001B[39;00m \u001B[38;5;21;01myfinance\u001B[39;00m \u001B[38;5;28;01mas\u001B[39;00m \u001B[38;5;21;01myf\u001B[39;00m\n\u001B[1;32m      2\u001B[0m \u001B[38;5;28;01mimport\u001B[39;00m \u001B[38;5;21;01mpandas\u001B[39;00m \u001B[38;5;28;01mas\u001B[39;00m \u001B[38;5;21;01mpd\u001B[39;00m\n\u001B[1;32m      3\u001B[0m \u001B[38;5;28;01mimport\u001B[39;00m \u001B[38;5;21;01mpandas_ta\u001B[39;00m \u001B[38;5;28;01mas\u001B[39;00m \u001B[38;5;21;01mta\u001B[39;00m\n",
      "\u001B[0;31mModuleNotFoundError\u001B[0m: No module named 'yfinance'"
     ]
    }
   ],
   "source": [
    "from dotenv import load_dotenv\n",
    "import os\n",
    "import matplotlib.pyplot as plt\n",
    "from ohlc_data_process import calculate_dmi_rsi_mfi, fetch_data\n",
    "\n",
    "load_dotenv()\n",
    "\n",
    "openai_api_key = os.getenv('T_OPENAI_API_KEY')\n",
    "os.environ['OPENAI_API_KEY'] = openai_api_key\n"
   ]
  },
  {
   "cell_type": "code",
   "execution_count": null,
   "metadata": {
    "collapsed": false
   },
   "outputs": [],
   "source": [
    "from langchain import OpenAI\n",
    "\n",
    "openai = OpenAI(\n",
    "    model_name='text-davinci-003',\n",
    "    #model_name='text-curie-001',\n",
    "    temperature=0.7\n",
    ")"
   ]
  },
  {
   "cell_type": "code",
   "execution_count": null,
   "metadata": {
    "collapsed": false
   },
   "outputs": [],
   "source": [
    "df = fetch_data('BTC-USD', '3mo', '1d')\n",
    "indicator_data = calculate_dmi_rsi_mfi(df)\n",
    "normalized_close = (df['Close'] - df['Close'].min()) / (df['Close'].max() - df['Close'].min()) * 100\n",
    "indicator_data.plot(y=[\"DMP_14\", \"DMN_14\", \"ADX_14\", \"RSI_14\", \"MFI_14\"], figsize=(12,5))\n",
    "normalized_close.iloc[28:].plot(label='norm_close')\n",
    "plt.show()"
   ]
  },
  {
   "cell_type": "code",
   "execution_count": null,
   "metadata": {
    "collapsed": false
   },
   "outputs": [],
   "source": [
    "from langchain import FewShotPromptTemplate, PromptTemplate\n",
    "\n",
    "# create our examples\n",
    "examples = [\n",
    "    {\n",
    "        \"query\": f\"RSI indicator value is 70.34, MFI indicator value is 59.02, DMP indicator value is 31.3,\"\n",
    "                 f\" DMN indicator value is 12.77 and ADX indicator value is 41.26.\"\n",
    "                 f\" What is your advice for trading for those indicator values?\",\n",
    "        \"answer\": \"The RSI indicator value being above 70 at this moment indicates an overbought zone has been entered.\"\n",
    "                  \"The MFI value trending above the average confirms the flow of money. On the DMi side, \"\n",
    "                  \"the DMP (positive directional movement indicator) value is above \"\n",
    "                  \"the DMN (negative directional movement indicator) value, \"\n",
    "                  \"and ADX is strongly trending above 25 and at 40 levels, \"\n",
    "                  \"indicating a strong bull trend that has entered in a short period of time. \"\n",
    "                  \"When considering the flow of money and the overbought zone, it may be advisable \"\n",
    "                  \"to take some profits and waiting next market movements.\"\n",
    "    }, {\n",
    "        \"query\": f\"RSI indicator value is 40.14, MFI indicator value is 41, DMP indicator value is 21.01,\"\n",
    "                 f\" DMN indicator value is 23.67 and ADX indicator value is 20.76.\"\n",
    "                 f\" What is your advice for trading for those indicator values?\",\n",
    "        \"answer\": \"The RSI indicator value dropping around 40 indicates approaching the selling zone. \"\n",
    "                  \"The MFI index also dropping around 40 supports this. Although ADX suggests that there is no strong trend below 25, \"\n",
    "                  \"it can be observed that DMN is above DMP, creating selling pressure. \"\n",
    "                  \"My recommendation would be to wait for a better buying opportunity at this point.\"\n",
    "    }\n",
    "]\n",
    "\n",
    "# create a example template\n",
    "example_template = \"\"\"\n",
    "User: {query}\n",
    "AI: {answer}\n",
    "\"\"\"\n",
    "\n",
    "# create a prompt example from above template\n",
    "example_prompt = PromptTemplate(\n",
    "    input_variables=[\"query\", \"answer\"],\n",
    "    template=example_template\n",
    ")\n",
    "\n",
    "# now break our previous prompt into a prefix and suffix\n",
    "# the prefix is our instructions\n",
    "prefix = \"\"\"Answer the question based on the context below.\n",
    "You are the trading advisor. Also you are expert on RSI, MFI and DMP, DMI indicators.\n",
    "\n",
    "Context: RSI indicator value range betwwen 0-100. RSI value 70 and above meaning that overbought area.\n",
    " So you should sell your coin. also value 80 is a extreme overbought and you act cautiously.\n",
    " RSI value 30 that meaning is overselling area. and value 20 is extreme overselling are.\n",
    " if the RSI value are 20-30s you should bought this coin. 30-70 range waiting or\n",
    " you can look other indicator results.\n",
    " MFI indicator value range betwen 0-100. MFI value 80 and above meaning that overbought area.\n",
    " So you should sell your coin. also value 90 is a extreme overbought and you should act cautiously.\n",
    " MFI value 20 that meaning is overselling area. and value 10 is extreme overselling are.\n",
    " if the MFI value are 10-20s you should bought this coin. 20-80 range waiting or\n",
    " you can look other indicator results.\n",
    " Else it shows overselling condition between 0-25.\n",
    " DMI indicator is a collection of indicators including DMP, DMI, and ADX. The Plus Direction Indicator DMP and\n",
    " Minus Direction Indicator DMI show the current price direction. When the DMP is above DMN,\n",
    " the current price momentum is up. When the DMN is above DMP, the current price momentum is down.\n",
    " ADX measures the strength of the trend, either up or down; a reading above 25 indicates a strong trend.\n",
    "Here are some examples:\n",
    "\"\"\"\n",
    "# and the suffix our user input and output indicator\n",
    "suffix = \"\"\"\n",
    "User: {query}\n",
    "AI: \"\"\"\n",
    "\n",
    "# now create the few shot prompt template\n",
    "few_shot_prompt_template = FewShotPromptTemplate(\n",
    "    examples=examples,\n",
    "    example_prompt=example_prompt,\n",
    "    prefix=prefix,\n",
    "    suffix=suffix,\n",
    "    input_variables=[\"query\"],\n",
    "    example_separator=\"\\n\\n\"\n",
    ")"
   ]
  },
  {
   "cell_type": "code",
   "execution_count": null,
   "metadata": {
    "collapsed": false
   },
   "outputs": [],
   "source": [
    "# df = fetch_data('BTC-USD', '3mo', '1d')\n",
    "# indicator_data = calculate_dmi_rsi_mfi(df)\n",
    "rsi_14 = indicator_data.RSI_14.iloc[-1]\n",
    "mfi_14 = indicator_data.MFI_14.iloc[-1]\n",
    "dmp_14 = indicator_data.DMP_14.iloc[-1]\n",
    "dmn_14 = indicator_data.DMN_14.iloc[-1]\n",
    "adx_14 = indicator_data.ADX_14.iloc[-1]\n",
    "\n",
    "query = f\"RSI indicator value is {rsi_14:.2f}, MFI indicator value is {mfi_14:.2f}, DMP indicator value is {dmp_14:.2f},\" \\\n",
    "        f\" DMN indicator value is {dmn_14:.2f} and ADX indicator value is {adx_14:.2f}.\" \\\n",
    "        f\" What is your advice for trading for those indicator values?\"\n",
    "\n",
    "print(openai(\n",
    "    few_shot_prompt_template.format(\n",
    "        query= query\n",
    "    )\n",
    "))"
   ]
  },
  {
   "cell_type": "code",
   "execution_count": null,
   "metadata": {
    "collapsed": false
   },
   "outputs": [],
   "source": []
  }
 ],
 "metadata": {
  "kernelspec": {
   "display_name": "Python 3",
   "language": "python",
   "name": "python3"
  },
  "language_info": {
   "codemirror_mode": {
    "name": "ipython",
    "version": 3
   },
   "file_extension": ".py",
   "mimetype": "text/x-python",
   "name": "python",
   "nbconvert_exporter": "python",
   "pygments_lexer": "ipython3",
   "version": "3.8.1"
  }
 },
 "nbformat": 4,
 "nbformat_minor": 0
}
