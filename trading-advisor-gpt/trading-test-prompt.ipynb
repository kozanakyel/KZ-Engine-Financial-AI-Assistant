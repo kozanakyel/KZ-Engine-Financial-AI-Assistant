{
 "cells": [
  {
   "cell_type": "code",
   "execution_count": 15,
   "metadata": {
    "collapsed": true,
    "ExecuteTime": {
     "end_time": "2023-06-06T07:33:25.709755600Z",
     "start_time": "2023-06-06T07:33:25.687931600Z"
    }
   },
   "outputs": [],
   "source": [
    "from dotenv import load_dotenv\n",
    "import os\n",
    "from ohlc_data_process import calculate_dmi_rsi_mfi, fetch_data\n",
    "\n",
    "load_dotenv()\n",
    "\n",
    "openai_api_key = os.getenv('OPENAI_API_KEY')\n",
    "os.environ['OPENAI_API_KEY'] = openai_api_key"
   ]
  },
  {
   "cell_type": "code",
   "execution_count": 19,
   "metadata": {
    "ExecuteTime": {
     "end_time": "2023-06-06T07:37:40.104507900Z",
     "start_time": "2023-06-06T07:37:40.088421400Z"
    }
   },
   "outputs": [],
   "source": [
    "from langchain import OpenAI\n",
    "\n",
    "openai = OpenAI(\n",
    "    model_name='text-davinci-003',\n",
    "    #model_name='text-curie-001',\n",
    "    temperature=0.7\n",
    ")"
   ]
  },
  {
   "cell_type": "code",
   "execution_count": 20,
   "metadata": {
    "ExecuteTime": {
     "end_time": "2023-06-06T07:37:40.726725Z",
     "start_time": "2023-06-06T07:37:40.711077300Z"
    }
   },
   "outputs": [],
   "source": [
    "from langchain import PromptTemplate\n",
    "\n",
    "template = \"\"\"Answer the question based on the context below.\n",
    "You are the trading advisor. Also you are expert on RSI, MFI and DMP, DMI indicators.\n",
    "\n",
    "Context: RSI indicator value range betwwen 0-100. RSI value 70 and above meaning that overbought area.\n",
    " So you should sell your coin. also value 80 is a extreme overbought and you act cautiously.\n",
    " RSI value 30 that meaning is overselling area. and value 20 is extreme overselling are.\n",
    " if the RSI value are 20-30s you should bought this coin. 30-70 range waiting or\n",
    " you can look other indicator results.\n",
    " MFI indicator value range betwen 0-100. MFI value 80 and above meaning that overbought area.\n",
    " So you should sell your coin. also value 90 is a extreme overbought and you should act cautiously.\n",
    " MFI value 20 that meaning is overselling area. and value 10 is extreme overselling are.\n",
    " if the MFI value are 10-20s you should bought this coin. 20-80 range waiting or\n",
    " you can look other indicator results.\n",
    " Else it shows overselling condition between 0-25.\n",
    " DMI indicator is a collection of indicators including DMP, DMI, and ADX. The Plus Direction Indicator DMP and\n",
    " Minus Direction Indicator DMI show the current price direction. When the DMP is above DMN,\n",
    " the current price momentum is up. When the DMN is above DMP, the current price momentum is down.\n",
    " ADX measures the strength of the trend, either up or down; a reading above 25 indicates a strong trend.\n",
    "\n",
    "Question: {query}\n",
    "\n",
    "Answer: \"\"\"\n",
    "\n",
    "prompt_template = PromptTemplate(\n",
    "    input_variables=[\"query\"],\n",
    "    template=template\n",
    ")"
   ]
  },
  {
   "cell_type": "code",
   "execution_count": 21,
   "metadata": {
    "ExecuteTime": {
     "end_time": "2023-06-06T07:37:51.315687Z",
     "start_time": "2023-06-06T07:37:42.856324300Z"
    }
   },
   "outputs": [
    {
     "name": "stdout",
     "output_type": "stream",
     "text": [
      " Based on the given indicator values, it appears that the RSI and MFI indicators are in a neutral range (30-70 for RSI and 20-80 for MFI). The DMP and DMN values indicate that the current price momentum is down, and the ADX value indicates that there is a weak trend. Thus, it is best to wait for a clearer indication from the indicators before making any trading decisions.\n"
     ]
    }
   ],
   "source": [
    "df = fetch_data('BTC-USD', '3mo', '1d')\n",
    "indicator_data = calculate_dmi_rsi_mfi(df)\n",
    "rsi_14 = indicator_data.RSI_14.iloc[-1]\n",
    "mfi_14 = indicator_data.MFI_14.iloc[-1]\n",
    "dmp_14 = indicator_data.DMP_14.iloc[-1]\n",
    "dmn_14 = indicator_data.DMN_14.iloc[-1]\n",
    "adx_14 = indicator_data.ADX_14.iloc[-1]\n",
    "\n",
    "print(openai(\n",
    "    prompt_template.format(\n",
    "        query=f\"RSI indicator value is {rsi_14:.2f}, MFI indicator value is {mfi_14:.2f}, DMP indicator value is {dmp_14:.2f},\"\n",
    "              f\" DMN indicator value is {dmn_14:.2f} and ADX indicator value is {adx_14:.2f}.\"\n",
    "              f\" What is your advice for trading for those indicator values?\"\n",
    "    )\n",
    "))"
   ]
  },
  {
   "cell_type": "code",
   "execution_count": 11,
   "metadata": {
    "ExecuteTime": {
     "end_time": "2023-06-02T17:07:40.226151Z",
     "start_time": "2023-06-02T17:07:40.186766800Z"
    }
   },
   "outputs": [],
   "source": [
    "from langchain import FewShotPromptTemplate\n",
    "\n",
    "# create our examples\n",
    "examples = [\n",
    "    {\n",
    "        \"query\": \"RSI_10 daily value is 35 and EMA 5 daily value above than EMA 10 daily. What is your Advice for trading?\",\n",
    "        \"answer\": \"The RSI value is near the overselling if youe are hodl any coin i think you continue to hold this coin.\" \n",
    "                \"otherwise you can wait for the RSI decreasing for good buying oppurtunity and EMA value says bullish trend is continueing. You can think about bullish position.\"\n",
    "    }, {\n",
    "        \"query\": \"RSI 10 daily value is 85 and EMA 7 daily value under than EMA 10 daily.\"\n",
    "                \"What is your Advice for trading?\",\n",
    "        \"answer\": \"RSI value say this condition is overbought and you can sell any asset if you are hold any coin.\" \n",
    "                \"Also EMA indicator shows a coin is in Bearish condition and you could sell if you are hold this coin.\"\n",
    "    }\n",
    "]\n",
    "\n",
    "# create a example template\n",
    "example_template = \"\"\"\n",
    "User: {query}\n",
    "AI: {answer}\n",
    "\"\"\"\n",
    "\n",
    "# create a prompt example from above template\n",
    "example_prompt = PromptTemplate(\n",
    "    input_variables=[\"query\", \"answer\"],\n",
    "    template=example_template\n",
    ")\n",
    "\n",
    "# now break our previous prompt into a prefix and suffix\n",
    "# the prefix is our instructions\n",
    "prefix = \"\"\"The following are experts from conversations with an AI\n",
    "trading advisor assistant.\n",
    "The RSI and EMA indicator values are playing important role when trading on a daily basis.\n",
    " RSI data indicating a decline can indicate an overbought condition between 70-100. so you can sell your coin.\n",
    " Else it shows overselling condition between 0-25. so you can buy this coin.\n",
    " Overselling condition create a good oppurtunity for buyimg asset and overbought condition means that you should sell your asset.\n",
    " The EMA indicators generally says if lower daily period is\n",
    " above on higher daily period that means is bullish. if the condition is opposite for EMA than\n",
    " we can say that is bearish signal for selling assets.\n",
    "Here are some examples:\n",
    "\"\"\"\n",
    "# and the suffix our user input and output indicator\n",
    "suffix = \"\"\"\n",
    "User: {query}\n",
    "AI: \"\"\"\n",
    "\n",
    "# now create the few shot prompt template\n",
    "few_shot_prompt_template = FewShotPromptTemplate(\n",
    "    examples=examples,\n",
    "    example_prompt=example_prompt,\n",
    "    prefix=prefix,\n",
    "    suffix=suffix,\n",
    "    input_variables=[\"query\"],\n",
    "    example_separator=\"\\n\\n\"\n",
    ")"
   ]
  },
  {
   "cell_type": "code",
   "execution_count": 13,
   "metadata": {
    "ExecuteTime": {
     "end_time": "2023-06-02T17:09:20.418285Z",
     "start_time": "2023-06-02T17:09:19.295109400Z"
    }
   },
   "outputs": [
    {
     "name": "stdout",
     "output_type": "stream",
     "text": [
      "\n",
      "\n",
      "Since the RSI value is below the oversold territory, it may be a good time to sell your assets. Meanwhile, the EMA indicator suggests that the market is bullish, and so you may want to buy assets at this time.\n"
     ]
    }
   ],
   "source": [
    "query = \"RSI_10 daily value is 25 and EMA 6 daily value above than EMA 10 daily. What is your Advice for trading?\"\n",
    "\n",
    "print(openai(\n",
    "    few_shot_prompt_template.format(query=query)\n",
    "))"
   ]
  },
  {
   "cell_type": "code",
   "execution_count": 12,
   "metadata": {
    "ExecuteTime": {
     "end_time": "2023-06-02T17:07:41.053467600Z",
     "start_time": "2023-06-02T17:07:41.010395100Z"
    }
   },
   "outputs": [],
   "source": []
  }
 ],
 "metadata": {
  "kernelspec": {
   "display_name": "Python 3 (ipykernel)",
   "language": "python",
   "name": "python3"
  },
  "language_info": {
   "codemirror_mode": {
    "name": "ipython",
    "version": 3
   },
   "file_extension": ".py",
   "mimetype": "text/x-python",
   "name": "python",
   "nbconvert_exporter": "python",
   "pygments_lexer": "ipython3",
   "version": "3.9.9"
  }
 },
 "nbformat": 4,
 "nbformat_minor": 1
}
