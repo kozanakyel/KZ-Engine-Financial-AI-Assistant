{
 "cells": [
  {
   "cell_type": "code",
   "execution_count": 21,
   "metadata": {
    "collapsed": true,
    "ExecuteTime": {
     "end_time": "2023-06-01T13:42:05.733029500Z",
     "start_time": "2023-06-01T13:42:04.581736800Z"
    }
   },
   "outputs": [
    {
     "data": {
      "text/plain": "'\\n\\nThe EMA indicator is used to calculate the average of the individual stocks of a market. It is a tool used to help investors understand the fair value of stocks and to make informed investment decisions.'"
     },
     "execution_count": 21,
     "metadata": {},
     "output_type": "execute_result"
    }
   ],
   "source": [
    "from langchain.llms import OpenAI\n",
    "from dotenv import load_dotenv\n",
    "import os\n",
    "import re\n",
    "\n",
    "load_dotenv()\n",
    "\n",
    "openai_api_key = os.getenv('OPENAI_API_KEY')\n",
    "chatgpt = OpenAI(\n",
    "    model_name='text-ada-001',\n",
    "    temperature=0.3,\n",
    "    max_tokens=150\n",
    "    )\n",
    "text = \"what is the EMA indicator role in trading cycle?\"\n",
    "result = chatgpt(text)\n",
    "\n",
    "pattern = r'\\n\\d+\\. '  # Matches newlines followed by numbers and a dot\n",
    "extract_n = re.sub(pattern, '', result)\n",
    "extract_n"
   ]
  },
  {
   "cell_type": "code",
   "execution_count": 2,
   "outputs": [],
   "source": [],
   "metadata": {
    "collapsed": false,
    "ExecuteTime": {
     "end_time": "2023-06-01T13:28:45.065294500Z",
     "start_time": "2023-06-01T13:28:45.012717500Z"
    }
   }
  },
  {
   "cell_type": "code",
   "execution_count": null,
   "outputs": [],
   "source": [],
   "metadata": {
    "collapsed": false
   }
  }
 ],
 "metadata": {
  "kernelspec": {
   "display_name": "Python 3",
   "language": "python",
   "name": "python3"
  },
  "language_info": {
   "codemirror_mode": {
    "name": "ipython",
    "version": 2
   },
   "file_extension": ".py",
   "mimetype": "text/x-python",
   "name": "python",
   "nbconvert_exporter": "python",
   "pygments_lexer": "ipython2",
   "version": "2.7.6"
  }
 },
 "nbformat": 4,
 "nbformat_minor": 0
}
