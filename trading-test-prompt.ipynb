{
 "cells": [
  {
   "cell_type": "code",
   "execution_count": 7,
   "metadata": {
    "collapsed": true,
    "ExecuteTime": {
     "end_time": "2023-06-02T17:07:38.941226500Z",
     "start_time": "2023-06-02T17:07:38.924710400Z"
    }
   },
   "outputs": [],
   "source": [
    "from dotenv import load_dotenv\n",
    "import os\n",
    "\n",
    "load_dotenv()\n",
    "\n",
    "openai_api_key = os.getenv('OPENAI_API_KEY')\n",
    "os.environ['OPENAI_API_KEY'] = openai_api_key"
   ]
  },
  {
   "cell_type": "code",
   "execution_count": 8,
   "metadata": {
    "ExecuteTime": {
     "end_time": "2023-06-02T17:07:38.969234600Z",
     "start_time": "2023-06-02T17:07:38.944218900Z"
    }
   },
   "outputs": [],
   "source": [
    "from langchain import OpenAI\n",
    "\n",
    "openai = OpenAI(\n",
    "    #model_name='text-davinci-003',\n",
    "    model_name='text-curie-001',\n",
    "    temperature=0.7\n",
    ")"
   ]
  },
  {
   "cell_type": "code",
   "execution_count": 9,
   "metadata": {
    "ExecuteTime": {
     "end_time": "2023-06-02T17:07:38.976234800Z",
     "start_time": "2023-06-02T17:07:38.959240200Z"
    }
   },
   "outputs": [],
   "source": [
    "from langchain import PromptTemplate\n",
    "\n",
    "template = \"\"\"Answer the question based on the context below.\n",
    "And act like a trading advisor with based on RSI and EMA indicators.\n",
    "\n",
    "Context: The RSI and EMA indicator values are crucial when trading on a daily basis.\n",
    " RSI data indicating a decline can indicate an overbought condition between 70-100.\n",
    " Alse it shows overselling condition between 0-25.\n",
    " If lower period EMAs rise above higher period EMAs, it can be a bullish signal.\n",
    " For example, when the 5-day EMA crosses above the 10-day EMA.\n",
    "\n",
    "Question: {query}\n",
    "\n",
    "Answer: \"\"\"\n",
    "\n",
    "prompt_template = PromptTemplate(\n",
    "    input_variables=[\"query\"],\n",
    "    template=template\n",
    ")"
   ]
  },
  {
   "cell_type": "code",
   "execution_count": 10,
   "metadata": {
    "ExecuteTime": {
     "end_time": "2023-06-02T17:07:40.182094800Z",
     "start_time": "2023-06-02T17:07:38.974235800Z"
    }
   },
   "outputs": [
    {
     "name": "stdout",
     "output_type": "stream",
     "text": [
      "\n",
      "\n",
      "The RSI indicator is indicating that the price is overbought and may be due for a correction. The EMA indicator is showing that the market is still relatively stable. While it is possible that the market will go down in the near future, it is also possible that the market will continue to rise.\n"
     ]
    }
   ],
   "source": [
    "rsi_daily = 10\n",
    "rsi_value = 30\n",
    "ema_above = 7\n",
    "ema_under = 13\n",
    "\n",
    "print(openai(\n",
    "    prompt_template.format(\n",
    "        query=f\"RSI_{rsi_daily} daily value is {rsi_value} and EMA_{ema_above} is above on EMA_{ema_under} day. \"\n",
    "              \"What is your advice for this RSI and EMA?\"\n",
    "    )\n",
    "))"
   ]
  },
  {
   "cell_type": "code",
   "execution_count": 11,
   "metadata": {
    "ExecuteTime": {
     "end_time": "2023-06-02T17:07:40.226151Z",
     "start_time": "2023-06-02T17:07:40.186766800Z"
    }
   },
   "outputs": [],
   "source": [
    "from langchain import FewShotPromptTemplate\n",
    "\n",
    "# create our examples\n",
    "examples = [\n",
    "    {\n",
    "        \"query\": \"RSI_10 daily value is 35 and EMA 5 daily value above than EMA 10 daily. What is your Advice for trading?\",\n",
    "        \"answer\": \"The RSI value is near the overselling if youe are hodl any coin i think you continue to hold this coin.\" \n",
    "                \"otherwise you can wait for the RSI decreasing for good buying oppurtunity and EMA value says bullish trend is continueing. You can think about bullish position.\"\n",
    "    }, {\n",
    "        \"query\": \"RSI 10 daily value is 85 and EMA 7 daily value under than EMA 10 daily.\"\n",
    "                \"What is your Advice for trading?\",\n",
    "        \"answer\": \"RSI value say this condition is overbought and you can sell any asset if you are hold any coin.\" \n",
    "                \"Also EMA indicator shows a coin is in Bearish condition and you could sell if you are hold this coin.\"\n",
    "    }\n",
    "]\n",
    "\n",
    "# create a example template\n",
    "example_template = \"\"\"\n",
    "User: {query}\n",
    "AI: {answer}\n",
    "\"\"\"\n",
    "\n",
    "# create a prompt example from above template\n",
    "example_prompt = PromptTemplate(\n",
    "    input_variables=[\"query\", \"answer\"],\n",
    "    template=example_template\n",
    ")\n",
    "\n",
    "# now break our previous prompt into a prefix and suffix\n",
    "# the prefix is our instructions\n",
    "prefix = \"\"\"The following are experts from conversations with an AI\n",
    "trading advisor assistant.\n",
    "The RSI and EMA indicator values are playing important role when trading on a daily basis.\n",
    " RSI data indicating a decline can indicate an overbought condition between 70-100. so you can sell your coin.\n",
    " Else it shows overselling condition between 0-25. so you can buy this coin.\n",
    " Overselling condition create a good oppurtunity for buyimg asset and overbought condition means that you should sell your asset.\n",
    " The EMA indicators generally says if lower daily period is\n",
    " above on higher daily period that means is bullish. if the condition is opposite for EMA than\n",
    " we can say that is bearish signal for selling assets.\n",
    "Here are some examples:\n",
    "\"\"\"\n",
    "# and the suffix our user input and output indicator\n",
    "suffix = \"\"\"\n",
    "User: {query}\n",
    "AI: \"\"\"\n",
    "\n",
    "# now create the few shot prompt template\n",
    "few_shot_prompt_template = FewShotPromptTemplate(\n",
    "    examples=examples,\n",
    "    example_prompt=example_prompt,\n",
    "    prefix=prefix,\n",
    "    suffix=suffix,\n",
    "    input_variables=[\"query\"],\n",
    "    example_separator=\"\\n\\n\"\n",
    ")"
   ]
  },
  {
   "cell_type": "code",
   "execution_count": 13,
   "metadata": {
    "ExecuteTime": {
     "end_time": "2023-06-02T17:09:20.418285Z",
     "start_time": "2023-06-02T17:09:19.295109400Z"
    }
   },
   "outputs": [
    {
     "name": "stdout",
     "output_type": "stream",
     "text": [
      "\n",
      "\n",
      "Since the RSI value is below the oversold territory, it may be a good time to sell your assets. Meanwhile, the EMA indicator suggests that the market is bullish, and so you may want to buy assets at this time.\n"
     ]
    }
   ],
   "source": [
    "query = \"RSI_10 daily value is 25 and EMA 6 daily value above than EMA 10 daily. What is your Advice for trading?\"\n",
    "\n",
    "print(openai(\n",
    "    few_shot_prompt_template.format(query=query)\n",
    "))"
   ]
  },
  {
   "cell_type": "code",
   "execution_count": 12,
   "metadata": {
    "ExecuteTime": {
     "end_time": "2023-06-02T17:07:41.053467600Z",
     "start_time": "2023-06-02T17:07:41.010395100Z"
    }
   },
   "outputs": [],
   "source": []
  }
 ],
 "metadata": {
  "kernelspec": {
   "display_name": "Python 3 (ipykernel)",
   "language": "python",
   "name": "python3"
  },
  "language_info": {
   "codemirror_mode": {
    "name": "ipython",
    "version": 3
   },
   "file_extension": ".py",
   "mimetype": "text/x-python",
   "name": "python",
   "nbconvert_exporter": "python",
   "pygments_lexer": "ipython3",
   "version": "3.9.9"
  }
 },
 "nbformat": 4,
 "nbformat_minor": 1
}
