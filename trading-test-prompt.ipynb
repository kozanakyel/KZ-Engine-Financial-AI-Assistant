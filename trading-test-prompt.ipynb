{
 "cells": [
  {
   "cell_type": "code",
   "execution_count": 7,
   "metadata": {
    "collapsed": true,
    "ExecuteTime": {
     "end_time": "2023-06-02T14:17:41.819358200Z",
     "start_time": "2023-06-02T14:17:41.772452700Z"
    }
   },
   "outputs": [],
   "source": [
    "from dotenv import load_dotenv\n",
    "import os\n",
    "\n",
    "load_dotenv()\n",
    "\n",
    "openai_api_key = os.getenv('OPENAI_API_KEY')\n",
    "os.environ['OPENAI_API_KEY'] = openai_api_key"
   ]
  },
  {
   "cell_type": "code",
   "execution_count": 8,
   "metadata": {
    "ExecuteTime": {
     "end_time": "2023-06-02T14:17:41.822390700Z",
     "start_time": "2023-06-02T14:17:41.803714Z"
    }
   },
   "outputs": [],
   "source": [
    "from langchain import OpenAI\n",
    "\n",
    "openai = OpenAI(\n",
    "    #model_name='text-davinci-003',\n",
    "    model_name='text-curie-001',\n",
    "    temperature=0.7\n",
    ")"
   ]
  },
  {
   "cell_type": "code",
   "execution_count": 9,
   "metadata": {
    "ExecuteTime": {
     "end_time": "2023-06-02T14:17:41.822390700Z",
     "start_time": "2023-06-02T14:17:41.803714Z"
    }
   },
   "outputs": [],
   "source": [
    "from langchain import PromptTemplate\n",
    "\n",
    "template = \"\"\"Answer the question based on the context below.\n",
    "And act like a trading advisor with based on RSI and EMA indicators.\n",
    "\n",
    "Context: The RSI and EMA indicator values are crucial when trading on a daily basis.\n",
    " RSI data indicating a decline can indicate an overbought condition between 70-100.\n",
    " Alse it shows overselling condition between 0-25.\n",
    " If lower period EMAs rise above higher period EMAs, it can be a bullish signal.\n",
    " For example, when the 5-day EMA crosses above the 10-day EMA.\n",
    "\n",
    "Question: {query}\n",
    "\n",
    "Answer: \"\"\"\n",
    "\n",
    "prompt_template = PromptTemplate(\n",
    "    input_variables=[\"query\"],\n",
    "    template=template\n",
    ")"
   ]
  },
  {
   "cell_type": "code",
   "execution_count": 10,
   "metadata": {
    "ExecuteTime": {
     "end_time": "2023-06-02T14:17:42.607262200Z",
     "start_time": "2023-06-02T14:17:41.822390700Z"
    }
   },
   "outputs": [
    {
     "name": "stdout",
     "output_type": "stream",
     "text": [
      "\n",
      "\n",
      "The RSI is overbought and the EMA is overselling, so we would short the stock.\n"
     ]
    }
   ],
   "source": [
    "print(openai(\n",
    "    prompt_template.format(\n",
    "        query=\"RSI 10 daily value is 35 and EMA 7 is above on EMA 13 day. \"\n",
    "              \"What is your advice for this RSI and EMA?\"\n",
    "    )\n",
    "))"
   ]
  },
  {
   "cell_type": "code",
   "execution_count": 11,
   "metadata": {
    "ExecuteTime": {
     "end_time": "2023-06-02T14:17:42.654581200Z",
     "start_time": "2023-06-02T14:17:42.607262200Z"
    }
   },
   "outputs": [],
   "source": [
    "from langchain import FewShotPromptTemplate\n",
    "\n",
    "# create our examples\n",
    "examples = [\n",
    "    {\n",
    "        \"query\": \"RSI 10 daily value is 35 and EMA 5 daily value above than EMA daily 10. What is your Advice for trading?\",\n",
    "        \"answer\": \"The RSI value is near the overselling if youe are hodl any coin i think you continue to hold this coin.\" \n",
    "                \"otherwise you can wait for the RSI decreasing for good buying oppurtunity and EMA value says bullish trend is continueing. You can think about bullish position.\"\n",
    "    }, {\n",
    "        \"query\": \"RSI 10 daily value is 85 and EMA 7 daily value under than EMA daily 10.\" \n",
    "                \"What is your Advice for trading?\",\n",
    "        \"answer\": \"RSI value say this condition is overbought and you can sell any asset if you are hold any coin.\" \n",
    "                \"Also EMa indicator shows a coin is in Bearish condition and you could sell if you are hold this coin.\"\n",
    "    }\n",
    "]\n",
    "\n",
    "# create a example template\n",
    "example_template = \"\"\"\n",
    "User: {query}\n",
    "AI: {answer}\n",
    "\"\"\"\n",
    "\n",
    "# create a prompt example from above template\n",
    "example_prompt = PromptTemplate(\n",
    "    input_variables=[\"query\", \"answer\"],\n",
    "    template=example_template\n",
    ")\n",
    "\n",
    "# now break our previous prompt into a prefix and suffix\n",
    "# the prefix is our instructions\n",
    "prefix = \"\"\"The following are experts from conversations with an AI\n",
    "trading advisor assistant.\n",
    "The RSI and EMA indicator values are playing important role when trading on a daily basis.\n",
    " RSI data indicating a decline can indicate an overbought condition between 70-100.\n",
    " Else it shows overselling condition between 0-25.\n",
    " The EMA indicators generally says if lower daily period is\n",
    " above on higher daily period that means is bullish. if the condition is opposite for EMA than\n",
    " we can say that is bearish signal for selling assets.\n",
    "Here are some examples:\n",
    "\"\"\"\n",
    "# and the suffix our user input and output indicator\n",
    "suffix = \"\"\"\n",
    "User: {query}\n",
    "AI: \"\"\"\n",
    "\n",
    "# now create the few shot prompt template\n",
    "few_shot_prompt_template = FewShotPromptTemplate(\n",
    "    examples=examples,\n",
    "    example_prompt=example_prompt,\n",
    "    prefix=prefix,\n",
    "    suffix=suffix,\n",
    "    input_variables=[\"query\"],\n",
    "    example_separator=\"\\n\\n\"\n",
    ")"
   ]
  },
  {
   "cell_type": "code",
   "execution_count": 12,
   "metadata": {
    "ExecuteTime": {
     "end_time": "2023-06-02T14:17:43.374798900Z",
     "start_time": "2023-06-02T14:17:42.623392400Z"
    }
   },
   "outputs": [
    {
     "name": "stdout",
     "output_type": "stream",
     "text": [
      "\n",
      "\n",
      "The RSI value is near the oversold condition and you can sell any asset if you are hold any coin.Also EMa indicator shows a coin is in Bullish condition and you could buy if you are hold this coin.\n"
     ]
    }
   ],
   "source": [
    "query = \"RSI 10 daily value is 25 and EMA 6 daily value above than EMA daily 10. What is your Advice for trading?\"\n",
    "\n",
    "print(openai(\n",
    "    few_shot_prompt_template.format(query=query)\n",
    "))"
   ]
  },
  {
   "cell_type": "code",
   "execution_count": 12,
   "metadata": {
    "ExecuteTime": {
     "end_time": "2023-06-02T14:17:43.390204500Z",
     "start_time": "2023-06-02T14:17:43.374798900Z"
    }
   },
   "outputs": [],
   "source": []
  }
 ],
 "metadata": {
  "kernelspec": {
   "display_name": "Python 3 (ipykernel)",
   "language": "python",
   "name": "python3"
  },
  "language_info": {
   "codemirror_mode": {
    "name": "ipython",
    "version": 3
   },
   "file_extension": ".py",
   "mimetype": "text/x-python",
   "name": "python",
   "nbconvert_exporter": "python",
   "pygments_lexer": "ipython3",
   "version": "3.9.9"
  }
 },
 "nbformat": 4,
 "nbformat_minor": 1
}
