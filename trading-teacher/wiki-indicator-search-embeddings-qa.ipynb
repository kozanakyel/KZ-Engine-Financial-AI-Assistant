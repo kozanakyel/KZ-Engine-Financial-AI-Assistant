{
 "cells": [
  {
   "cell_type": "markdown",
   "source": [
    "### Search or Fine-Tuning Which one?"
   ],
   "metadata": {
    "collapsed": false
   }
  },
  {
   "cell_type": "code",
   "execution_count": 6,
   "metadata": {
    "collapsed": true,
    "ExecuteTime": {
     "end_time": "2023-06-08T12:58:18.274091400Z",
     "start_time": "2023-06-08T12:58:18.269164900Z"
    }
   },
   "outputs": [],
   "source": [
    "import ast  # for converting embeddings saved as strings back to arrays\n",
    "import openai  # for calling the OpenAI API\n",
    "import pandas as pd  # for storing text and embeddings data\n",
    "import tiktoken  # for counting tokens\n",
    "from scipy import spatial  # for calculating vector similarities for search\n",
    "from dotenv import load_dotenv\n",
    "import os\n",
    "import matplotlib.pyplot as plt\n",
    "\n",
    "load_dotenv()\n",
    "\n",
    "openai_api_key = os.getenv('T_OPENAI_API_KEY')\n",
    "os.environ['OPENAI_API_KEY'] = openai_api_key\n",
    "\n",
    "\n",
    "# models\n",
    "EMBEDDING_MODEL = \"text-embedding-ada-002\"\n",
    "GPT_MODEL = \"gpt-3.5-turbo\""
   ]
  },
  {
   "cell_type": "code",
   "execution_count": 8,
   "outputs": [
    {
     "name": "stdout",
     "output_type": "stream",
     "text": [
      "As an AI language model, I cannot predict the future or provide financial advice. However, I can provide some information on past events that have influenced Bitcoin's price and potential factors that could impact its price in the future.\n",
      "\n",
      "In 2023, there may be several important events that could impact Bitcoin's price. Some potential factors include:\n",
      "\n",
      "1. Adoption by institutional investors: As more institutional investors enter the cryptocurrency market, it could lead to increased demand for Bitcoin and potentially drive up its price.\n",
      "\n",
      "2. Regulatory changes: Governments around the world are still grappling with how to regulate cryptocurrencies. Any significant regulatory changes could impact Bitcoin's price.\n",
      "\n",
      "3. Technological advancements: Bitcoin is built on blockchain technology, which is constantly evolving. Any significant technological advancements could impact Bitcoin's price.\n",
      "\n",
      "4. Economic conditions: Bitcoin's price is often influenced by broader economic conditions, such as inflation, interest rates, and geopolitical events.\n",
      "\n",
      "It's important to note that Bitcoin's price is notoriously volatile and can be influenced by a wide range of factors. As such, it's difficult to predict with certainty how its price will behave in the future.\n"
     ]
    }
   ],
   "source": [
    "# an example question about the 2022 Olympics\n",
    "query = 'can you explain Bitcoin price actions and important events in 2023'\n",
    "\n",
    "response = openai.ChatCompletion.create(\n",
    "    messages=[\n",
    "        {'role': 'system', 'content': 'You answer questions about Bitcoin price actions at 2023'},\n",
    "        {'role': 'user', 'content': query},\n",
    "    ],\n",
    "    model=GPT_MODEL,\n",
    "    temperature=0,\n",
    "    api_key=openai_api_key\n",
    ")\n",
    "\n",
    "print(response['choices'][0]['message']['content'])"
   ],
   "metadata": {
    "collapsed": false,
    "ExecuteTime": {
     "end_time": "2023-06-08T12:59:40.024492800Z",
     "start_time": "2023-06-08T12:59:19.480497400Z"
    }
   }
  },
  {
   "cell_type": "code",
   "execution_count": 29,
   "outputs": [],
   "source": [
    "wikipedia_article_on_bitcoin = \"\"\"History of Bitcoin\n",
    "\n",
    "2010\n",
    "The first notable retail transaction involving physical goods was paid on May 22, 2010, by exchanging 10,000 mined BTC for two pizzas delivered from a local pizza restaurant in Florida, marking May 22 as the Bitcoin Pizza Day for crypto-fans. At the time, a transaction's value was typically negotiated on the Bitcoin forum\n",
    "\n",
    "On 6 August 2010, a major vulnerability in the bitcoin protocol was spotted. While the protocol did verify that a transaction's outputs never exceeded its inputs, a transaction whose outputs summed to more than} would overflow, permitting the transaction author to create arbitrary amounts of bitcoin. On 15 August, the vulnerability was exploited; a single transaction spent 0.5 bitcoin to send just over 92 billion bitcoins to each of two different addresses on the network. Within hours, the transaction was spotted, the bug was fixed, and the blockchain was forked by miners using an updated version of the bitcoin protocol. Since the blockchain was forked below the problematic transaction, the transaction no longer appears in the blockchain used by the Bitcoin network today. This was the only major security flaw found and exploited in bitcoin's history.\n",
    "\n",
    "2011\n",
    "Based on bitcoin's open-source code, other cryptocurrencies started to emerge.\n",
    "\n",
    "The Electronic Frontier Foundation, a non-profit group, started accepting bitcoins in January 2011, then stopped accepting them in June 2011, citing concerns about a lack of legal precedent about new currency systems.\n",
    "\n",
    "In May 2011, bitcoin payment processor, BitPay was founded to provide mobile checkout services to companies wanting to accept bitcoins as a form of payment.\n",
    "\n",
    "2012\n",
    "In January 2012, bitcoin was featured as the main subject within a fictionalized trial on the CBS legal drama The Good Wife in the third-season episode \"Bitcoin for Dummies\". The host of CNBC's Mad Money, Jim Cramer, played himself in a courtroom scene where he testifies that he doesn't consider bitcoin a true currency, saying, \"There's no central bank to regulate it; it's digital and functions completely peer to peer\".\n",
    "\n",
    "In October 2012, BitPay reported having over 1,000 merchants accepting bitcoin under its payment processing service. In November 2012, WordPress started accepting bitcoins.\n",
    "\n",
    "2013\n",
    "In February 2013, the bitcoin-based payment processor Coinbase reported selling US$1 million worth of bitcoins in a single month at over $22 per bitcoin. The Internet Archive announced that it was ready to accept donations as bitcoins and that it intends to give employees the option to receive portions of their salaries in bitcoin currency.\n",
    "\n",
    "In March, the bitcoin transaction log, called the blockchain, temporarily split into two independent chains with differing rules on how transactions were accepted. For six hours two bitcoin networks operated at the same time, each with its own version of the transaction history. The core developers called for a temporary halt to transactions, sparking a sharp sell-off. Normal operation was restored when the majority of the network downgraded to version 0.7 of the bitcoin software. before recovering to previous level of approximately $48 in the following hours.\n",
    "\n",
    "In April, payment processors BitInstant and Mt. Gox experienced processing delays due to insufficient capacity resulting in the bitcoin exchange rate dropping from $266 to $76 before returning to $160 within six hours. Bitcoin gained greater recognition when services such as OkCupid and Foodler began accepting it for payment.\"\n",
    "\n",
    "On 15 May 2013, the US authorities seized accounts associated with Mt. Gox after discovering that it had not registered as a money transmitter with FinCEN in the US.\n",
    "\n",
    "On 17 May 2013, it was reported that BitInstant processed approximately 30 percent of the money going into and out of bitcoin, and in April alone facilitated 30,000 transactions,\n",
    "\n",
    "On 23 June 2013, it was reported that the US Drug Enforcement Administration listed 11.02 bitcoins as a seized asset in a United States Department of Justice seizure notice pursuant to 21 U.S.C. § 881.\n",
    "\n",
    "In July 2013, a project began in Kenya linking bitcoin with M-Pesa, a popular mobile payments system, in an experiment designed to spur innovative payments in Africa. During the same month the Foreign Exchange Administration and Policy Department in Thailand stated that bitcoin lacks any legal framework and would therefore be illegal.\n",
    "\n",
    "On 6 August 2013, Federal Judge Amos Mazzant of the Eastern District of Texas of the Fifth Circuit ruled that bitcoins are \"a currency or a form of money\", and as such were subject to the court's jurisdiction, and Germany's Finance Ministry subsumed bitcoins under the term \"unit of account\" though not as e-money or a functional currency, a classification nonetheless having legal and tax implications.\n",
    "\n",
    "In October 2013, the FBI seized roughly 26,000 BTC from website Silk Road during the arrest of alleged owner Ross William Ulbricht. Two companies, Robocoin and Bitcoiniacs launched the world's first bitcoin ATM on 29 October 2013 in Vancouver\n",
    "\n",
    "In November 2013, the University of Nicosia announced that it would be accepting bitcoin as payment for tuition fees, with the university's chief financial officer calling it the \"gold of tomorrow\".\n",
    "\n",
    "In December 2013, Overstock.com announced plans to accept bitcoin in the second half of 2014. On 5 December 2013, the People's Bank of China prohibited Chinese financial institutions from using bitcoins.\n",
    "\n",
    "On 4 December 2013, Alan Greenspan referred to it as a \"bubble\".\n",
    "\n",
    "2014\n",
    "In January 2014, Zynga[92] announced it was testing bitcoin for purchasing in-game assets in seven of its games. That same month,  Casino properties in downtown Las Vegas announced they would also begin accepting bitcoin,\n",
    "\n",
    "In early February 2014, one of the largest bitcoin exchanges, Mt. Gox, suspended withdrawals citing technical issues. By the end of the month, Mt. Gox had filed for bankruptcy protection in Japan amid reports that 744,000 bitcoins had been stolen.\n",
    "\n",
    "In June 2014, the network exceeded 100 petahash/sec. On 18 June 2014, it was announced that bitcoin payment service provider BitPay would become the new sponsor of St. Petersburg Bowl under a two-year deal\n",
    "\n",
    "In July 2014, Newegg and Dell started accepting bitcoin.\n",
    "\n",
    "In September 2014, TeraExchange, LLC, received approval from the U.S.Commodity Futures Trading Commission \"CFTC\" to begin listing an over-the-counter swap product based on the price of a bitcoin. The CFTC swap product approval marks the first time a U.S. regulatory agency approved a bitcoin financial product.\n",
    "\n",
    "In December 2014, Microsoft began to accept bitcoin to buy Xbox games and Windows software.\n",
    "\n",
    "In 2014, several light-hearted songs celebrating bitcoin such as the \"Ode to Satoshi\"[104] were released.\n",
    "\n",
    "2015\n",
    "In January 2015, Coinbase raised US$75 million as part of a Series C funding round, smashing the previous record for a bitcoin company. Less than one year after the collapse of Mt. Gox, United Kingdom-based exchange Bitstamp announced that their exchange would be taken offline while they investigate a hack which resulted in about 19,000 bitcoins (equivalent to roughly US$5 million at that time) being stolen from their hot wallet.\n",
    "\n",
    "In February 2015, the number of merchants accepting bitcoin exceeded 100,000.\n",
    "\n",
    "In 2015, the MAK (Museum of Applied Arts, Vienna) became the first museum to acquire art using bitcoin, when it purchased the screensaver \"Event listeners\" of van den Dorpel.\n",
    "\n",
    "In October 2015, a proposal was submitted to the Unicode Consortium to add a code point for the bitcoin symbol.\n",
    "\n",
    "2016\n",
    "In January 2016, the network rate exceeded 1 exahash/sec.\n",
    "\n",
    "In March 2016, the Cabinet of Japan recognized virtual currencies like bitcoin as having a function similar to real money. Bidorbuy, the largest South African online marketplace, launched bitcoin payments for both buyers and sellers.\n",
    "\n",
    "In July 2016, researchers published a paper showing that by November 2013 bitcoin commerce was no longer driven by \"sin\" activities but instead by legitimate enterprises.\n",
    "\n",
    "In August 2016, a major bitcoin exchange, Bitfinex, was hacked and nearly 120,000 BTC (around $60m) was stolen.\n",
    "\n",
    "In November 2016, the Swiss Railway operator SBB (CFF) upgraded all their automated ticket machines so that bitcoin could be bought from them using the scanner on the ticket machine to scan the bitcoin address on a phone app.\n",
    "\n",
    "Bitcoin generates more academic interest year after year; the number of Google Scholar articles published mentioning bitcoin grew from 83 in 2009, to 424 in 2012, and 3580 in 2016. Also, the academic journal Ledger published its first issue. It is edited by Peter Rizun.\n",
    "\n",
    "2017\n",
    "The number of businesses accepting bitcoin continued to increase. In January 2017, NHK reported the number of online stores accepting bitcoin in Japan had increased 4.6 times over the past year. BitPay CEO Stephen Pair declared the company's transaction rate grew 3× from January 2016 to February 2017, and explained usage of bitcoin is growing in B2B supply chain payments.\n",
    "\n",
    "Bitcoin gains more legitimacy among lawmakers and legacy financial companies.\n",
    "\n",
    "Exchange trading volumes continue to increase. ] Between January and May 2017 Poloniex saw an increase of more than 600% active traders online and regularly processed 640% more transactions.\n",
    "\n",
    "In June 2017, the bitcoin symbol was encoded in Unicode version 10.0 at position U+20BF (₿) in the Currency Symbols block.\n",
    "\n",
    "Up until July 2017, bitcoin users maintained a common set of rules for the cryptocurrency. On 1 August 2017 bitcoin split into two derivative digital currencies, the bitcoin (BTC) chain with 1 MB blocksize limit and the Bitcoin Cash (BCH) chain with 8 MB blocksize limit.\n",
    "\n",
    "On 6 December 2017 the software marketplace Steam announced that it would no longer accept bitcoin as payment for its products, citing slow transactions speeds, price volatility, and high fees for transactions.\n",
    "\n",
    "2018\n",
    "See also: Cryptocurrency bubble § 2018 crash\n",
    "On 22 January 2018, South Korea brought in a regulation that requires all the bitcoin traders to reveal their identity, thus putting a ban on anonymous trading of bitcoins.\n",
    "\n",
    "On 24 January 2018, the online payment firm Stripe announced that it would phase out its support for bitcoin payments by late April 2018, citing declining demand, rising fees and longer transaction times as the reasons.\n",
    "\n",
    "On 25 January 2018, George Soros referred to bitcoin as a bubble\n",
    "\n",
    "2019\n",
    "The dawn of 2019 found Bitcoin trading below the $4000 mark after a difficult year for the global crypto market. It climbed to just over $12,000 in July before.\n",
    "\n",
    "2020\n",
    "On 2 July 2020, the Indian company 69 Shares started to quote a set of bitcoin exchange-traded products (ETP) on the Xetra trading system of the Deutsche Boerse.\n",
    "\n",
    "On 1 September 2020, the Wiener Börse[clarification needed] listed its first 21 titles denominated in cryptocurrencies like bitcoin, including the services of real-time quotation and securities settlement.\n",
    "\n",
    "On 3 September 2020, the Frankfurt Stock Exchange admitted in its Regulated Market the quotation of the first bitcoin exchange-traded note, centrally cleared via Eurex Clearing\n",
    "\n",
    "In October 2020, PayPal announced that it would allow its users to buy and sell bitcoin on its platform, although not to deposit or withdraw bitcoins.\n",
    "\n",
    "2021\n",
    "From February 2021, the Swiss canton of Zug allows for tax payments in bitcoin and other cryptocurrencies.\n",
    "\n",
    "On 1 June 2021, El Salvador President Nayib Bukele announced his plans to adopt bitcoin as legal tender; this would render El Salvador the world's first country to do so.\n",
    "\n",
    "On 8 June 2021, at the initiative of the president, pro-government deputies in the Legislative Assembly of El Salvador voted legislation—Ley Bitcoin or the Bitcoin Law—to make Bitcoin legal tender in the country alongside the US Dollar.\n",
    "\n",
    "2022\n",
    "Global economic factors that stemmed from Russia's War in Ukraine negatively affected the price of Bitcoin. On April 22, 2022, its price fell back down below $40,000. It further dropped to as low as $26,970 in May after the collapse of Terra-Luna and its sister stablecoin, UST, in addition to a shedding of tech stocks.\n",
    "\n",
    "Prices and value history\n",
    "\n",
    "The price of a bitcoin reached US$1,139.9 on 4 January 2017.\n",
    "Among the factors which may have contributed to this rise were the European sovereign-debt crisis – particularly the 2012–2013 Cypriot financial crisis – statements by FinCEN\n",
    "\n",
    "Bitcoin value history\n",
    "Date\tUSD : 1 BTC\tNotes\n",
    "Feb 2011 – April 2011\t$1.00Increase\tBitcoin takes parity with US dollar.\n",
    "Nov 2013\t$350–$1,242Increase\tPrice rose from $150 in October to $200 in November, reaching $1,242 on 29 November 2013.\n",
    "Apr 2014\t$340–$530Decrease\tThe lowest price since the 2012–2013 Cypriot financial crisis had been reached at 3:25 AM on 11 April.\n",
    "2–3 March 2017\t$1,290+ Increase\tPrice broke above the November 2013 high of $1,242 and then traded above $1,290.\n",
    "20 May 2017\t$2,000 Increase\tPrice reached a new high, reaching $1,402.03 on 1 May 2017, and over $1,800 on 11 May 2017. On 20 May 2017, the price passed $2,000 for the first time.\n",
    "1 September 2017\t$5,014Increase\tPrice broke $5,000 for the first time.\n",
    "17–20 November 2017\t$7,600-8,100 Increase\tBriefly topped at $8004.59. This surge in bitcoin may be related to the 2017 Zimbabwean coup d'état. On one bitcoin exchange, 1 BTC topped at nearly $13,500, just shy of 2 times the value of the International market.\n",
    "15 December 2017\t$17,900 Increase\tPrice reached $17,900.\n",
    "17 December 2017\t$19,783 Increase\tPrice rose 5% in 24 hours, with its value being up 1,824% since 1 January 2017, to reach a new all-time high of $19,783.06.\n",
    "22 December 2017\t$13,800 Decrease\tPrice lost one third of its value in 24 hours, dropping below $14,000.\n",
    "5 February 2018\t$6,200 Decrease\tPrice dropped by 50% in 16 days, falling below $7,000.\n",
    "31 October 2018\t$6,300 Steady\tOn the 10th anniversary of bitcoin, the price held steady above $6,000 during a period of historically low volatility.\n",
    "7 December 2018\t$3,300 Decrease\tPrice briefly dipped below $3,300, a 76% drop from the previous year and a 15-month low.\n",
    "1 July 2019\t$10,599 Increase\tRose to a calendar-year peak of $10,599 after starting the year at $3,869.\n",
    "16 March 2020\t$5,000 Decrease\tPrice dropped 50% in early 2020, losing 25% in 24 hours early in the COVID-19 pandemic.\n",
    "27 July 2020\t$10,944 Increase\tPrice recovered value lost in COVID-related crash.\n",
    "30 November 2020\t$19,850 Increase\tBitcoin price reached new all-time high of $19,850.11.\n",
    "8 January 2021\t$41,973 Increase\tBitcoin traded as high as $41,973.\n",
    "11 January 2021\t$33,400 Decrease\tPrice briefly fell as much as 26% but pared losses to trade around $33,400.\n",
    "8 February 2021\t$44,200 Increase\tBitcoin price surge after Elon Musk and Tesla announcements of investments into Bitcoin, including acceptance of payment.\n",
    "16 February 2021\t$50,000 Increase\tBitcoin price reached new all-time high of $50,000.\n",
    "10 April 2021\t$60,000 Increase\tBitcoin back above $60,000 as Coinbase gets ready to go public on the stock market.\n",
    "14 April 2021\t$64,800 Increase\tThe all-time high price of $64,800 was reached on April 14, 2021.\n",
    "19 May 2021\t$30,000 Decrease\tBitcoin price drops to $30,000 at one point following suggestions that Tesla has sold or will sell its Bitcoin holdings] and a new set of regulations from the Chinese government to support their cryptocurrency crackdown.\n",
    "2 September 2021\t$50,128 Increase\tBitcoin price recovered to $50,000\n",
    "17 October 2021\t$62,600 Increase\tBitcoin price returned near to its all-time high\n",
    "20 October 2021\t$66,975 Increase\tBitcoin price hits all-time high above $66,000\n",
    "22 January 2022\t$35,000 Decrease\tBitcoin price falls almost 50% from all-time highs, to below $35,000\n",
    "12 May 2022\t$25,401 Decrease\tFollowing the Terra-LUNA crash in May 2022, Bitcoin retreated to its lowest level since December 2020. Traders seized the discounted bitcoin to buoy the price around the $30k mark.\n",
    "13 June 2022\t$22,602 Decrease\tBitcoin slid to $22,601.69 as Celsius Network froze withdrawals and transfers, citing \"extreme\" conditions.\n",
    "18 June 2022\t$17,769 Decrease\tBitcoin dropped below $18,000, to trade at levels beneath its 2017 highs.\n",
    "27 June 2022\t$20,700 Increase\tBitcoin traded around $20,700 as cryptocurrency hedge fund Three Arrows Capital defaulted on a bitcoin loan and was ordered into liquidation by a court in the British Virgin Islands.\n",
    "28 November 2022\t$16,216 Decrease\tBitcoin took an immediate hit after the collapse of FTX, costing more than a million users of the exchange billions of dollars in cumulative losses. Bitcoin sunk to a two-year low.\n",
    "14 January 2023\t$20,853 Increase\tBitcoin rose back above $20,000 for first time in over two months\n",
    "21 January 2023\t$23,199 Increase\tBitcoin rose above $23,000 to its highest levels since August 2022\n",
    "16 February 2023\t$25,156 Increase\tBitcoin rose above $25,000 for the first time in eight months\n",
    "10 March 2023\t$20,000 Decrease\tBitcoin fell below $20,000 for the first time since January 2023.\n",
    "17 March 2023\t$26,868 Increase\tBitcoin rose to $26,868.39, recording its best weekly gain since January 2021.\n",
    "\"\"\""
   ],
   "metadata": {
    "collapsed": false,
    "ExecuteTime": {
     "end_time": "2023-06-08T13:15:22.142495300Z",
     "start_time": "2023-06-08T13:15:22.122449600Z"
    }
   }
  },
  {
   "cell_type": "code",
   "execution_count": 34,
   "outputs": [
    {
     "name": "stdout",
     "output_type": "stream",
     "text": [
      "The article provides multiple updates on the Bitcoin price in 2023, including a decrease below $20\n"
     ]
    }
   ],
   "source": [
    "query = f\"\"\"Use the below article on Bitcoin price history answer the subsequent question. If the answer cannot be found, write \"I don't know.\"\n",
    "\n",
    "Article:\n",
    "\\\"\\\"\\\"\n",
    "{wikipedia_article_on_bitcoin}\n",
    "\\\"\\\"\\\"\n",
    "\n",
    "Question: In 2023 what is the Bitcoin condition\"\"\"\n",
    "\n",
    "response = openai.ChatCompletion.create(\n",
    "    messages=[\n",
    "        {'role': 'system', 'content': 'You answer questions about the Bitcoin price history.'},\n",
    "        {'role': 'user', 'content': query},\n",
    "    ],\n",
    "    model=GPT_MODEL,\n",
    "    temperature=0.3,\n",
    "    api_key=openai_api_key\n",
    ")\n",
    "\n",
    "print(response['choices'][0]['message']['content'])"
   ],
   "metadata": {
    "collapsed": false,
    "ExecuteTime": {
     "end_time": "2023-06-08T13:17:02.699124500Z",
     "start_time": "2023-06-08T13:16:59.911369300Z"
    }
   }
  },
  {
   "cell_type": "code",
   "execution_count": 35,
   "outputs": [],
   "source": [
    "embeddings_path = '../data/bitcoin_wikipedia.csv'\n",
    "df = pd.read_csv(embeddings_path)"
   ],
   "metadata": {
    "collapsed": false,
    "ExecuteTime": {
     "end_time": "2023-06-08T13:42:48.745180700Z",
     "start_time": "2023-06-08T13:42:48.504396100Z"
    }
   }
  },
  {
   "cell_type": "code",
   "execution_count": 36,
   "outputs": [],
   "source": [
    "# convert embeddings from CSV str type back to list type\n",
    "df['embedding'] = df['embedding'].apply(ast.literal_eval)"
   ],
   "metadata": {
    "collapsed": false,
    "ExecuteTime": {
     "end_time": "2023-06-08T13:42:58.793745800Z",
     "start_time": "2023-06-08T13:42:55.812677600Z"
    }
   }
  },
  {
   "cell_type": "code",
   "execution_count": 38,
   "outputs": [
    {
     "data": {
      "text/plain": "                                                text   \n0  Alexander Vinnik\\n\\n{{short description|Comput...  \\\n1  Alexander Vinnik\\n\\n==BTC-e==\\n\\n{{main|BTC-e}...   \n2  Alexander Vinnik\\n\\n==Arrest==\\n\\nOn July 25, ...   \n3  Alexander Vinnik\\n\\n==Sentencing==\\n\\nIn Decem...   \n4  Alexander Vinnik\\n\\n==U.S. Extradition==\\n\\nOn...   \n\n                                           embedding  \n0  [-0.0014204626204445958, -0.017629165202379227...  \n1  [-0.004991992376744747, -0.02255716361105442, ...  \n2  [0.008657805621623993, -0.01702658087015152, 0...  \n3  [0.008324075490236282, -0.021144462749361992, ...  \n4  [0.00791188608855009, -0.01363716833293438, -0...  ",
      "text/html": "<div>\n<style scoped>\n    .dataframe tbody tr th:only-of-type {\n        vertical-align: middle;\n    }\n\n    .dataframe tbody tr th {\n        vertical-align: top;\n    }\n\n    .dataframe thead th {\n        text-align: right;\n    }\n</style>\n<table border=\"1\" class=\"dataframe\">\n  <thead>\n    <tr style=\"text-align: right;\">\n      <th></th>\n      <th>text</th>\n      <th>embedding</th>\n    </tr>\n  </thead>\n  <tbody>\n    <tr>\n      <th>0</th>\n      <td>Alexander Vinnik\\n\\n{{short description|Comput...</td>\n      <td>[-0.0014204626204445958, -0.017629165202379227...</td>\n    </tr>\n    <tr>\n      <th>1</th>\n      <td>Alexander Vinnik\\n\\n==BTC-e==\\n\\n{{main|BTC-e}...</td>\n      <td>[-0.004991992376744747, -0.02255716361105442, ...</td>\n    </tr>\n    <tr>\n      <th>2</th>\n      <td>Alexander Vinnik\\n\\n==Arrest==\\n\\nOn July 25, ...</td>\n      <td>[0.008657805621623993, -0.01702658087015152, 0...</td>\n    </tr>\n    <tr>\n      <th>3</th>\n      <td>Alexander Vinnik\\n\\n==Sentencing==\\n\\nIn Decem...</td>\n      <td>[0.008324075490236282, -0.021144462749361992, ...</td>\n    </tr>\n    <tr>\n      <th>4</th>\n      <td>Alexander Vinnik\\n\\n==U.S. Extradition==\\n\\nOn...</td>\n      <td>[0.00791188608855009, -0.01363716833293438, -0...</td>\n    </tr>\n  </tbody>\n</table>\n</div>"
     },
     "execution_count": 38,
     "metadata": {},
     "output_type": "execute_result"
    }
   ],
   "source": [
    "# the dataframe has two columns: \"text\" and \"embedding\"\n",
    "df.head()"
   ],
   "metadata": {
    "collapsed": false,
    "ExecuteTime": {
     "end_time": "2023-06-08T13:43:38.738443100Z",
     "start_time": "2023-06-08T13:43:38.707162200Z"
    }
   }
  },
  {
   "cell_type": "code",
   "execution_count": 41,
   "outputs": [],
   "source": [
    "# search function\n",
    "def strings_ranked_by_relatedness(\n",
    "    query: str,\n",
    "    df: pd.DataFrame,\n",
    "    relatedness_fn=lambda x, y: 1 - spatial.distance.cosine(x, y),\n",
    "    top_n: int = 100\n",
    ") -> tuple[list[str], list[float]]:\n",
    "    \"\"\"Returns a list of strings and relatednesses, sorted from most related to least.\"\"\"\n",
    "    query_embedding_response = openai.Embedding.create(\n",
    "        model=EMBEDDING_MODEL,\n",
    "        input=query\n",
    "    )\n",
    "    query_embedding = query_embedding_response[\"data\"][0][\"embedding\"]\n",
    "    strings_and_relatednesses = [\n",
    "        (row[\"text\"], relatedness_fn(query_embedding, row[\"embedding\"]))\n",
    "        for i, row in df.iterrows()\n",
    "    ]\n",
    "    strings_and_relatednesses.sort(key=lambda x: x[1], reverse=True)\n",
    "    strings, relatednesses = zip(*strings_and_relatednesses)\n",
    "    return strings[:top_n], relatednesses[:top_n]"
   ],
   "metadata": {
    "collapsed": false,
    "ExecuteTime": {
     "end_time": "2023-06-08T13:44:11.426864800Z",
     "start_time": "2023-06-08T13:44:11.395582600Z"
    }
   }
  },
  {
   "cell_type": "code",
   "execution_count": 42,
   "outputs": [
    {
     "name": "stdout",
     "output_type": "stream",
     "text": [
      "relatedness=0.753\n"
     ]
    },
    {
     "data": {
      "text/plain": "\"Wendy Diamond\\n\\n== Awards and honors ==\\n\\n* GC4W Honored Wendy Diamond as a Global Champion For Women at the [[Library of Congress]] in Washington DC on [[International Women's Day]] in 2015.\\n* In 2016, Ellis Island Honors Society awarded Diamond the [[Ellis Island Medal of Honor]] in recognition of her humanitarian efforts.\\n<nowiki>*</nowiki> In 2019, Diamond received the [[Women's Entrepreneurship Day]] Pioneer Award at the United Nations in recognition of her lifetime achievements.\""
     },
     "metadata": {},
     "output_type": "display_data"
    },
    {
     "name": "stdout",
     "output_type": "stream",
     "text": [
      "relatedness=0.751\n"
     ]
    },
    {
     "data": {
      "text/plain": "\"John Fitzgerald (soccer)\\n\\n==International career==\\n\\nFitzgerald a right-winger, played for Canada at the [[Football at the 1987 Pan American Games|1987 Pan American Games]] and [[1987 FIFA World Youth Championship]]. He made his senior debut for [[Canada men's national soccer team|Canada]] in a February 1988 friendly match against [[Bermuda national football team|Bermuda]], which was in preparation for Canada's 1990 World Cup qualification campaign. He earned a total of 14 senior caps. Fitzgerald also represented [[Canada national futsal team|Canadian futsal team]] at the inaugural [[1989 FIFA Futsal World Championship]] where he scored Canada's goal against Argentina.\\n\\nHis final international game was a May 1990 friendly match against [[Mexico national football team|Mexico]].\""
     },
     "metadata": {},
     "output_type": "display_data"
    },
    {
     "name": "stdout",
     "output_type": "stream",
     "text": [
      "relatedness=0.750\n"
     ]
    },
    {
     "data": {
      "text/plain": "'Cryptocurrency exchange\\n\\n== History ==\\n\\n=== 2004-2008 Pre crypto regulatory issues ===\\n\\nIn 2004 three [[Australia]]n-based digital currency exchange businesses voluntarily shut down following an investigation by the [[Australian Securities and Investments Commission]] (ASIC). The ASIC viewed the services offered as legally requiring an [[Australian Financial Services Licence|Australian Financial Services License]], which the companies lacked.\\n\\nIn 2006, U.S.-based digital currency exchange business [[Gold Age]] Inc., a New York state business, was shut down by the U.S. Secret Service after operating since 2002. Business operators [[Arthur Budovsky]] and Vladimir Kats were indicted \"on charges of operating an illegal digital currency exchange and money transmittal business\" from their apartments, transmitting more than $30 million to digital currency accounts. Budovsky and Kats were sentenced in 2007 to five years in prison \"for engaging in the business of [[Money transmitter|transmitting money without a license]], a felony violation of state banking law\", ultimately receiving sentences of five years\\' probation.\\n\\nIn April 2007, the U.S. government ordered [[E-Gold]] administration to lock/block approximately 58 E-Gold accounts owned and used by The Bullion Exchange, AnyGoldNow, [[IceGold]], GitGold, The Denver Gold Exchange, GoldPouch Express, [[1MDC]] (a [[Digital gold currency|Digital Gold Currency]], based on [[e-gold]]) and others, forcing G&SR (owner of OmniPay) to liquidate the seized assets.\\n\\nA few weeks later, E-Gold faced four indictments.'"
     },
     "metadata": {},
     "output_type": "display_data"
    },
    {
     "name": "stdout",
     "output_type": "stream",
     "text": [
      "relatedness=0.741\n"
     ]
    },
    {
     "data": {
      "text/plain": "'Wendy Diamond\\n\\n==Career==\\n\\n===Author===\\n\\nAfter moving to New York, Diamond had a chance encounter with a homeless man in front of the Plaza Hotel, which inspired her to volunteer at the Coalition for the Homeless. She rode the van to distribute food to the homeless and gained first-hand experience of the issue. One day on the van, she met ABC News anchor Peter Jennings, which motivated her to make a difference.{{cn|date=May 2023}}\\n\\nDiamond saw a friend\\'s self-published cookbook for her family with their recipes and had an idea to create her own cookbook featuring the favorite recipes of celebrities to raise funds for homeless charities. This was the start of her entrepreneurial career in New York, and she self-published two cookbooks, \\'\\'A Musical Feast\\'\\' and \\'\\'An All-Star Feast\\'\\'. These cookbooks raised about $200,000 for various homeless charities, including the National Coalition for the Homeless, New York; Empty the Shelters; and the Coalition on Homelessness-San Francisco.\\n\\nThe recipes featured in the cookbooks are from more than 100 musicians, including [[Madonna]] (a \"cholesterol\" cherry torte made with Dream Whip, margarine, and canned cherry-pie filling), [[Seal (musician)|Seal]] (penne with a broccoli and tomato sauce), [[Mick Jagger]] (a surprisingly mild shrimp curry), and [[Dolly Parton]] (a very good version of floating island, the classic French custard and meringue dessert). The cookbook also featured work from artists and photographers, and Nabisco agreed to underwrite the production costs.<ref name=\":5\" />\\xa0A Musical Feast was featured all over the media including [[People (magazine)|People Magazine]], and Diamond made appearances on [[Oprah Winfrey|Oprah]] and [[Howard Stern]] to promote the book as well as raise awareness for the issue of homelessness in America.\\n\\nDiamond’s next book, The All Star Feast Cookbook, featured over 130 star athletes and their favorite recipes, including [[Michael Jordan]], [[Shaquille O\\'Neal]], [[Pat Riley]], [[Keyshawn Johnson]], [[Caitlyn Jenner]], [[Joe Frazier]], [[Rebecca Lobo]], [[Emmitt Smith]], [[Troy Aikman]], William Perry, David Cohen, [[Charlie Ward]], [[Wayne Gretzky]], [[Martin Brodeur]], [[Mickey Mantle]], [[Brooks Robinson|Brook Robinson]], [[Andre Agassi]], [[Joe Montana]], [[Martina Navratilova]], Oscal De La Hoya, [[Nancy Lopez]], Armond Palmer, [[Mario Andretti|Mario]] and [[Michael Andretti]], [[Adam Graves]], [[Brian Boitano|Brian Boitana]], Scott Hamilton, [[Carl Lewis]], Michael Johnson, [[Alexi Lalas]], [[Frank Gifford]], [[John Harkes]], and [[Joe Theismann]]. {{cn|date=May 2023}} The All Star Feast Cookbook served as a fundraising tool for various charitable organizations, including the [[Special Olympics]], [[Women\\'s Sports Foundation]], and the Buoniconti Fund to Cure Paralysis. {{cn|date=May 2023}}\\n\\nHer chance meeting with [[Marvin Girouard]], the chairman of Pier 1 Imports, led to her cookbooks being sold in stores, further increasing the reach of her charitable work.'"
     },
     "metadata": {},
     "output_type": "display_data"
    },
    {
     "name": "stdout",
     "output_type": "stream",
     "text": [
      "relatedness=0.740\n"
     ]
    },
    {
     "data": {
      "text/plain": "'Wendy Diamond\\n\\n==Career==\\n\\n=== Television career ===\\n\\nDiamond has appeared on television series including \\'\\'Single in the City\\'\\' on the [[WE: Women\\'s Entertainment]] network, \\'\\'Lucky Travels\\'\\' on [[Animal Planet]] and \\'\\'Relationship Rehab\\'\\' on the [[Style Network]]. She frequently contributes to \\'\\'[[Today (NBC program)|Today]]\\'\\', [[Fox News|Fox News Channel]], [[CNN]], \\'\\'[[Good Morning America]]\\'\\' and has appeared on \\'\\'[[The View (U.S. TV series)|The View]], [[The Oprah Winfrey Show]], [[Extra (U.S. TV program)|Extra (TV series)]],\\'\\'  MTV, [[VH1]], and [[E!]]. She was dubbed by [[The New Yorker]] as the \"[[Martha Stewart]] of the Milk and Bone dish\",\\n\\nIn Summer 2008, Diamond was featured as one of the judges of the summer [[CBS]] series \\'\\'[[Greatest American Dog]]\\'\\' alongside [[Victoria Stilwell]] and [[American Kennel Club]] board member, Allan Reznick. Diamond served as a judge alongside [[Whoopi Goldberg]] and [[Betty White]] for the [[American Humane Association]]\\'s Hero Dog Awards on [[The Hallmark Channel]].'"
     },
     "metadata": {},
     "output_type": "display_data"
    }
   ],
   "source": [
    "# examples\n",
    "strings, relatednesses = strings_ranked_by_relatedness(\"curling gold medal\", df, top_n=5)\n",
    "for string, relatedness in zip(strings, relatednesses):\n",
    "    print(f\"{relatedness=:.3f}\")\n",
    "    display(string)"
   ],
   "metadata": {
    "collapsed": false,
    "ExecuteTime": {
     "end_time": "2023-06-08T13:44:12.915241900Z",
     "start_time": "2023-06-08T13:44:12.142239700Z"
    }
   }
  },
  {
   "cell_type": "code",
   "execution_count": 43,
   "outputs": [],
   "source": [
    "def num_tokens(text: str, model: str = GPT_MODEL) -> int:\n",
    "    \"\"\"Return the number of tokens in a string.\"\"\"\n",
    "    encoding = tiktoken.encoding_for_model(model)\n",
    "    return len(encoding.encode(text))"
   ],
   "metadata": {
    "collapsed": false,
    "ExecuteTime": {
     "end_time": "2023-06-08T13:44:46.017216100Z",
     "start_time": "2023-06-08T13:44:45.996575500Z"
    }
   }
  },
  {
   "cell_type": "code",
   "execution_count": 45,
   "outputs": [],
   "source": [
    "def query_message(\n",
    "    query: str,\n",
    "    df: pd.DataFrame,\n",
    "    model: str,\n",
    "    token_budget: int\n",
    ") -> str:\n",
    "    \"\"\"Return a message for GPT, with relevant source texts pulled from a dataframe.\"\"\"\n",
    "    strings, relatednesses = strings_ranked_by_relatedness(query, df)\n",
    "    introduction = 'Use the below articles about Bitcoin the subsequent question. If the answer cannot be found in the articles, write \"I could not find an answer.\"'\n",
    "    question = f\"\\n\\nQuestion: {query}\"\n",
    "    message = introduction\n",
    "    for string in strings:\n",
    "        next_article = f'\\n\\nWikipedia article section:\\n\"\"\"\\n{string}\\n\"\"\"'\n",
    "        if (\n",
    "            num_tokens(message + next_article + question, model=model)\n",
    "            > token_budget\n",
    "        ):\n",
    "            break\n",
    "        else:\n",
    "            message += next_article\n",
    "    return message + question"
   ],
   "metadata": {
    "collapsed": false,
    "ExecuteTime": {
     "end_time": "2023-06-08T13:45:27.046473300Z",
     "start_time": "2023-06-08T13:45:27.029282400Z"
    }
   }
  },
  {
   "cell_type": "code",
   "execution_count": 46,
   "outputs": [],
   "source": [
    "def ask(\n",
    "    query: str,\n",
    "    df: pd.DataFrame = df,\n",
    "    model: str = GPT_MODEL,\n",
    "    token_budget: int = 4096 - 500,\n",
    "    print_message: bool = False,\n",
    ") -> str:\n",
    "    \"\"\"Answers a query using GPT and a dataframe of relevant texts and embeddings.\"\"\"\n",
    "    message = query_message(query, df, model=model, token_budget=token_budget)\n",
    "    if print_message:\n",
    "        print(message)\n",
    "    messages = [\n",
    "        {\"role\": \"system\", \"content\": \"You answer questions about Bitcoin.\"},\n",
    "        {\"role\": \"user\", \"content\": message},\n",
    "    ]\n",
    "    response = openai.ChatCompletion.create(\n",
    "        model=model,\n",
    "        messages=messages,\n",
    "        temperature=0\n",
    "    )\n",
    "    response_message = response[\"choices\"][0][\"message\"][\"content\"]\n",
    "    return response_message"
   ],
   "metadata": {
    "collapsed": false,
    "ExecuteTime": {
     "end_time": "2023-06-08T13:45:58.594031800Z",
     "start_time": "2023-06-08T13:45:58.562382800Z"
    }
   }
  },
  {
   "cell_type": "code",
   "execution_count": 50,
   "outputs": [],
   "source": [
    "openai.api_key = openai_api_key"
   ],
   "metadata": {
    "collapsed": false,
    "ExecuteTime": {
     "end_time": "2023-06-08T13:48:33.162052Z",
     "start_time": "2023-06-08T13:48:33.146834600Z"
    }
   }
  },
  {
   "cell_type": "code",
   "execution_count": 55,
   "outputs": [
    {
     "data": {
      "text/plain": "'The SEC has issued warnings about investment schemes using virtual currencies, and has warned that investments involving bitcoin might have high rates of fraud, according to the Wikipedia article section \"Bitcoin - Legal status, tax and regulation - Regulatory warnings.\"'"
     },
     "execution_count": 55,
     "metadata": {},
     "output_type": "execute_result"
    }
   ],
   "source": [
    "ask(\"What is SEC role for bitcoin?\")"
   ],
   "metadata": {
    "collapsed": false,
    "ExecuteTime": {
     "end_time": "2023-06-08T13:50:53.376265800Z",
     "start_time": "2023-06-08T13:50:47.222643500Z"
    }
   }
  },
  {
   "cell_type": "code",
   "execution_count": 56,
   "outputs": [
    {
     "data": {
      "text/plain": "'I could not find an answer.'"
     },
     "execution_count": 56,
     "metadata": {},
     "output_type": "execute_result"
    }
   ],
   "source": [
    "ask(\"did bitcoin reach the $60000, at anytime\")"
   ],
   "metadata": {
    "collapsed": false,
    "ExecuteTime": {
     "end_time": "2023-06-08T13:51:52.438474200Z",
     "start_time": "2023-06-08T13:51:50.195626600Z"
    }
   }
  },
  {
   "cell_type": "code",
   "execution_count": 57,
   "outputs": [
    {
     "data": {
      "text/plain": "\"Bitcoin's price history has been volatile, with cycles of appreciation and depreciation referred to as bubbles and busts. In 2011, the value of one bitcoin rapidly rose from about US$0.30 to US$32 before returning to US$2. In 2013, prices started at $13.30 rising to $770 by 1 January 2014. However, in March 2013, the blockchain temporarily split into two independent chains with different rules due to a bug in version 0.8 of the bitcoin software, causing the price to drop by 23%. In 2014, prices started at $770 and fell to $314 for the year. In 2015, prices started at $314 and rose to $434 for the year. In 2016, prices rose and climbed up to $998 by 1 January 2017. The price on 1 January 2018 was $13,412.44, but then fell sharply due to China banning trading in bitcoin, reaching $6,914 on 5 February 2018. The price on 1 January 2019 was $3,747, down 72% for 2018 and down 81% since the all-time high. In 2020, bitcoin fell below $4,000 during a broad market selloff, after trading above $10,000 in February 2020. However, in November 2020, the bitcoin value reached a new all-time high of $19,860. In May 2022, the bitcoin price fell to $31,324, as a result of a collapse of a UST stablecoin experiment named Terra, with bitcoin down more than 50% since the November 2021 high.\""
     },
     "execution_count": 57,
     "metadata": {},
     "output_type": "execute_result"
    }
   ],
   "source": [
    "ask(\"Can you explain bitcoin price history?\")"
   ],
   "metadata": {
    "collapsed": false,
    "ExecuteTime": {
     "end_time": "2023-06-08T13:53:00.000363600Z",
     "start_time": "2023-06-08T13:52:28.037770200Z"
    }
   }
  },
  {
   "cell_type": "code",
   "execution_count": null,
   "outputs": [],
   "source": [],
   "metadata": {
    "collapsed": false
   }
  }
 ],
 "metadata": {
  "kernelspec": {
   "display_name": "Python 3",
   "language": "python",
   "name": "python3"
  },
  "language_info": {
   "codemirror_mode": {
    "name": "ipython",
    "version": 2
   },
   "file_extension": ".py",
   "mimetype": "text/x-python",
   "name": "python",
   "nbconvert_exporter": "python",
   "pygments_lexer": "ipython2",
   "version": "2.7.6"
  }
 },
 "nbformat": 4,
 "nbformat_minor": 0
}
