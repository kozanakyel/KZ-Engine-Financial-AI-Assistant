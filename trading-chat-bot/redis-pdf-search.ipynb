{
 "cells": [
  {
   "cell_type": "code",
   "execution_count": 1,
   "metadata": {
    "ExecuteTime": {
     "end_time": "2023-06-14T10:50:32.645039900Z",
     "start_time": "2023-06-14T10:50:32.629696400Z"
    }
   },
   "outputs": [],
   "source": [
    "from dotenv import load_dotenv\n",
    "import os\n",
    "\n",
    "load_dotenv()\n",
    "\n",
    "twitter_bearer_token = os.getenv('TW_BEARER_TOKEN')\n",
    "openai_api_key = os.getenv('T_OPENAI_API_KEY')\n",
    "os.environ['OPENAI_API_KEY'] = openai_api_key"
   ]
  },
  {
   "cell_type": "code",
   "execution_count": 2,
   "metadata": {
    "ExecuteTime": {
     "end_time": "2023-06-14T10:50:53.606557200Z",
     "start_time": "2023-06-14T10:50:52.294185600Z"
    }
   },
   "outputs": [],
   "source": [
    "from langchain.embeddings import OpenAIEmbeddings\n",
    "from langchain.text_splitter import CharacterTextSplitter\n",
    "from langchain.document_loaders import TextLoader\n",
    "from langchain.vectorstores.redis import Redis"
   ]
  },
  {
   "cell_type": "code",
   "execution_count": 3,
   "metadata": {
    "ExecuteTime": {
     "end_time": "2023-06-14T10:50:54.545832600Z",
     "start_time": "2023-06-14T10:50:54.508439200Z"
    }
   },
   "outputs": [
    {
     "name": "stderr",
     "output_type": "stream",
     "text": [
      "Created a chunk of size 1628, which is longer than the specified 500\n",
      "Created a chunk of size 725, which is longer than the specified 500\n",
      "Created a chunk of size 593, which is longer than the specified 500\n",
      "Created a chunk of size 633, which is longer than the specified 500\n",
      "Created a chunk of size 1481, which is longer than the specified 500\n",
      "Created a chunk of size 1798, which is longer than the specified 500\n",
      "Created a chunk of size 1671, which is longer than the specified 500\n",
      "Created a chunk of size 2143, which is longer than the specified 500\n",
      "Created a chunk of size 525, which is longer than the specified 500\n",
      "Created a chunk of size 2042, which is longer than the specified 500\n",
      "Created a chunk of size 2352, which is longer than the specified 500\n"
     ]
    }
   ],
   "source": [
    "loader = TextLoader(\"denemegpt.txt\")\n",
    "documents = loader.load()\n",
    "text_splitter = CharacterTextSplitter(chunk_size=500, chunk_overlap=0)\n",
    "docs = text_splitter.split_documents(documents)\n",
    "\n",
    "embeddings = OpenAIEmbeddings()"
   ]
  },
  {
   "cell_type": "code",
   "execution_count": null,
   "metadata": {
    "ExecuteTime": {
     "end_time": "2023-06-14T10:51:00.731807700Z",
     "start_time": "2023-06-14T10:50:58.282117700Z"
    }
   },
   "outputs": [],
   "source": [
    "rds = Redis.from_documents(docs, embeddings, redis_url=\"redis://localhost:6379\",  index_name='link04')"
   ]
  },
  {
   "cell_type": "code",
   "execution_count": 5,
   "metadata": {
    "ExecuteTime": {
     "end_time": "2023-06-14T10:51:02.194925900Z",
     "start_time": "2023-06-14T10:51:02.180416900Z"
    }
   },
   "outputs": [
    {
     "data": {
      "text/plain": [
       "'link04'"
      ]
     },
     "execution_count": 5,
     "metadata": {},
     "output_type": "execute_result"
    }
   ],
   "source": [
    "rds.index_name"
   ]
  },
  {
   "cell_type": "code",
   "execution_count": 6,
   "metadata": {
    "ExecuteTime": {
     "end_time": "2023-06-14T10:51:06.024318600Z",
     "start_time": "2023-06-14T10:51:05.424737300Z"
    }
   },
   "outputs": [
    {
     "name": "stdout",
     "output_type": "stream",
     "text": [
      "Common Metaverse Usage: GptVerse provides various areas for users to spend time in and enjoy, such as conference halls, concert venues, and playgrounds, creating a more engaging and immersive experience within the Metaverse.  Play to Earn Games & Tournaments: GptVerse's games and tournaments allow users to earn tokens while playing, which can help incentivize more active participation within the Metaverse.\n"
     ]
    }
   ],
   "source": [
    "query = \"What is the gptverse and their utilities?\"\n",
    "results = rds.similarity_search(query)\n",
    "print(results[0].page_content.replace(\"\\n\", \" \"))"
   ]
  },
  {
   "cell_type": "code",
   "execution_count": 7,
   "metadata": {
    "ExecuteTime": {
     "end_time": "2023-06-14T10:51:08.407270Z",
     "start_time": "2023-06-14T10:51:08.395743400Z"
    }
   },
   "outputs": [],
   "source": [
    "from langchain.document_loaders import TwitterTweetLoader"
   ]
  },
  {
   "cell_type": "code",
   "execution_count": 27,
   "metadata": {
    "ExecuteTime": {
     "end_time": "2023-06-14T10:51:09.862504200Z",
     "start_time": "2023-06-14T10:51:09.752567900Z"
    }
   },
   "outputs": [],
   "source": [
    "loader = TwitterTweetLoader.from_bearer_token(\n",
    "    oauth2_bearer_token=twitter_bearer_token,\n",
    "    twitter_users=['gpt_verse'],\n",
    "    number_tweets=1000,  # Default value is 100\n",
    ")"
   ]
  },
  {
   "cell_type": "code",
   "execution_count": 28,
   "metadata": {
    "ExecuteTime": {
     "end_time": "2023-06-14T10:51:13.297401400Z",
     "start_time": "2023-06-14T10:51:11.517739900Z"
    }
   },
   "outputs": [
    {
     "data": {
      "text/plain": [
       "['🚨#Giveaway 🚨\\n\\nRewards:  \\n\\n💰 100 $USDT &amp; 🎧3 Bluetooth Earphones  \\n🎁 13 winners  \\n\\nTasks:  \\n\\n1⃣ Follow @gpt_verse &amp;… https://t.co/AOynwKV82f',\n",
       " '📝📊 Test your language level with ChatGPT! Unlock the power of communication and discover your proficiency in just a… https://t.co/MGYBXbtqr9',\n",
       " '📣🎥 Exciting news coming your way! Stay tuned! 📺🌟 #ExcitingNews #ComingSoon #gptverse #ai https://t.co/VnoNCPp28p',\n",
       " \"Let's ask the same question to the bard.\\n#Google #GoogleBard #ChatGPTvsBard #ai https://t.co/h229M26rPu https://t.co/VyPuuzmDvF\",\n",
       " \"🍔🍟 McDonald's and Burger King in a playful banter with ChatGPT's wit! Enjoy the fast food rivalry brought to life.… https://t.co/iyUlBodBUv\",\n",
       " 'AI revolutionizes business: chatbots for customer service, data analysis for insights, predictive analytics, person… https://t.co/wAQXLFhjWZ',\n",
       " '🎨🤔 Which AI-generated artwork from the text-to-image systems captures your imagination? Share your preference and l… https://t.co/UOswPZobIe',\n",
       " 'New vision pro powered by Apple😄 #GPT4 #Metaverse #artificalintelligence #midjourney https://t.co/jrG3xuYHhC',\n",
       " '🎉🌐 Exciting news! The GPTverse demo has upgraded with Metamask login! 🔒✨ Explore limitless possibilities at… https://t.co/Y71Ta7N2f3',\n",
       " '🎒🌍 Welcome to the educational adventure of a lifetime in the GPTverse! 🏗️✨\\n\\n#ai #education #socialfi #gpt https://t.co/r9Lpyry80i',\n",
       " '🏗️🎓 Step into our remarkable Auditorium in the GPTverse, where education and inspiration intertwine! ✨🎭  #gptverse… https://t.co/FRk117S3BF',\n",
       " '🏗️🏛️ The construction site in the GPTverse is emerging as a magnificent Fair Center! 🤩✨\\n#gptverse #ai #faircenter… https://t.co/PclCZhwJCy',\n",
       " 'RT @TyranoAnalytics: 📢 Attention crypto enthusiasts! Here are 15 more exciting projects on the @BNBCHAIN that you need to know about: \\n\\n 🏆@…',\n",
       " 'RT @gpt_verse: 🌟 Introducing GptVerse: The ultimate SocialFi Dapp that brings together the power of AI and blockchain. Immerse yourself in…',\n",
       " '🌟 Introducing GptVerse: The ultimate SocialFi Dapp that brings together the power of AI and blockchain. Immerse you… https://t.co/thmYkcq5TI',\n",
       " '@elonmusk You can mint D2E (Drive to Earn) Tesla Token for drivers',\n",
       " '@Gazit_s @BNBCHAIN 🎳 Get ready to roll in the virtual alley of GPTverse! 🌟⚡️',\n",
       " \"🏗️ Can you guess what's emerging from the construction site in the GPTverse? 🤔🔨\\n#gptverse\\n#BNBChain\\n#SocialFi… https://t.co/xiRxUI0vL7\",\n",
       " '@icreatelife Prompt engineers are coming !',\n",
       " '@icreatelife Good job!',\n",
       " '🎶 Join us in the enchanting realm of GPTverse for an unforgettable concert experience! 🌟✨\\n#gptverse\\n#music\\n#concert https://t.co/FfsGfKfhPU',\n",
       " 'GptVerse is thrilled to announce our partnership with BNB Chain, bringing together the power of AI and blockchain t… https://t.co/gPkqSzaWnQ',\n",
       " '@BNBCHAIN @Chain_GPT LayerZero is designed to be a lightweight interoperability protocol for cross-chain message passing.',\n",
       " 'Learn and earn in Gptverse &amp; join events and earn &amp; use tokens as a discount in stores\\n#EducationForAll #events… https://t.co/Zplpx5N0EZ',\n",
       " '@BNBCHAIN Catoshi nakamato :)',\n",
       " '@BSC_Allday @BNBCHAIN @DanceFitapp @Fitburn_ai @dArticle_io @CyberTitansGame @zkMakers @Bidaochain @Popcorn_DAO… https://t.co/ey8fBs9lxg',\n",
       " 'What kind of activity do you want GPT to do for you in the metaverse? \\n#GPT #MetaverseNFT #blockchain #ArtificialIntelligence',\n",
       " 'RT @BSC_Allday: 🏆 Huge Congrats To #Web3 Newcomers On @BNBChain\\n\\nFor #SocialFi👇\\n@DanceFitapp\\n@Fitburn_ai\\n@dArticle_io\\n@gpt_verse\\n\\nFor #Gami…',\n",
       " '@BNBCHAIN Ai powered education @gpt_verse',\n",
       " '@bsc_daily @BNBCHAIN @DanceFitapp @Fitburn_ai @dArticle_io @CyberTitansGame @zkMakers @Bidaochain @Popcorn_DAO… https://t.co/fO6VjauRuG',\n",
       " '@BNBCHAIN The @gpt_verse  is an AI-based Metaverse project. More education and event oriented, also providing users… https://t.co/O3V7uIqs9L',\n",
       " 'RT @BNBCHAIN: Are these projects future superstars on BNB Chain? 🔮\\n\\nRead ahead for our weekly blog that rounds up all the latest dApps laun…',\n",
       " '@BSC_Economy @BNBCHAIN @CyberTitansGame @DanceFitapp @Bidaochain @zkMakers @Fitburn_ai @dArticle_io @Popcorn_DAO… https://t.co/B3Y7ao2iRS',\n",
       " \"RT @BSC_Economy: ️🎉THE NEWCOMERS #DAPPS ON #BNBCHAIN🎉\\n\\n🔎If you're seeking new opportunities in the #BSC ecosystem, don't miss out on these…\",\n",
       " \"Exciting news! We're thrilled to announce that our token contract has been successfully deployed on the BNB Chain!… https://t.co/hcRmg5B8hp\"]"
      ]
     },
     "execution_count": 28,
     "metadata": {},
     "output_type": "execute_result"
    }
   ],
   "source": [
    "contents = []\n",
    "documents = loader.load()\n",
    "for doc in documents:\n",
    "    contents.append(doc.dict()['page_content'])\n",
    "contents"
   ]
  },
  {
   "cell_type": "code",
   "execution_count": null,
   "metadata": {},
   "outputs": [],
   "source": []
  }
 ],
 "metadata": {
  "kernelspec": {
   "display_name": "llm-study-venv",
   "language": "python",
   "name": "python3"
  },
  "language_info": {
   "codemirror_mode": {
    "name": "ipython",
    "version": 3
   },
   "file_extension": ".py",
   "mimetype": "text/x-python",
   "name": "python",
   "nbconvert_exporter": "python",
   "pygments_lexer": "ipython3",
   "version": "3.8.1"
  },
  "orig_nbformat": 4
 },
 "nbformat": 4,
 "nbformat_minor": 2
}
