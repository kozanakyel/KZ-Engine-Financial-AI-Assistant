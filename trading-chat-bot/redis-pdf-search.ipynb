{
 "cells": [
  {
   "cell_type": "code",
   "execution_count": 22,
   "metadata": {},
   "outputs": [],
   "source": [
    "from dotenv import load_dotenv\n",
    "import os\n",
    "\n",
    "load_dotenv()\n",
    "\n",
    "openai_api_key = os.getenv('T_OPENAI_API_KEY')\n",
    "os.environ['OPENAI_API_KEY'] = openai_api_key"
   ]
  },
  {
   "cell_type": "code",
   "execution_count": 23,
   "metadata": {},
   "outputs": [],
   "source": [
    "from langchain.embeddings import OpenAIEmbeddings\n",
    "from langchain.text_splitter import CharacterTextSplitter\n",
    "from langchain.document_loaders import PyPDFLoader\n",
    "from langchain.vectorstores.redis import Redis"
   ]
  },
  {
   "cell_type": "code",
   "execution_count": 24,
   "metadata": {},
   "outputs": [],
   "source": [
    "loader = PyPDFLoader(\"data/GptVerse.pdf\")\n",
    "documents = loader.load()\n",
    "text_splitter = CharacterTextSplitter(chunk_size=100, chunk_overlap=0)\n",
    "docs = text_splitter.split_documents(documents)\n",
    "\n",
    "embeddings = OpenAIEmbeddings()"
   ]
  },
  {
   "cell_type": "code",
   "execution_count": 25,
   "metadata": {},
   "outputs": [],
   "source": [
    "rds = Redis.from_documents(docs, embeddings, redis_url=\"redis://localhost:6379\",  index_name='link03')"
   ]
  },
  {
   "cell_type": "code",
   "execution_count": 26,
   "metadata": {},
   "outputs": [
    {
     "data": {
      "text/plain": [
       "'link03'"
      ]
     },
     "execution_count": 26,
     "metadata": {},
     "output_type": "execute_result"
    }
   ],
   "source": [
    "rds.index_name"
   ]
  },
  {
   "cell_type": "code",
   "execution_count": 28,
   "metadata": {},
   "outputs": [
    {
     "name": "stdout",
     "output_type": "stream",
     "text": [
      "Description of product & innovation - R e v o l u t i o n i z i n g E d u c a t i o n w i t h A I - P o w e r e d L e a r n i n g i n t h e M e t a v e r s e - E n h a n c i n g L e a r n i n g w i t h 3 D a n d I n t e r a c t i v e E n v i r o n m e n t s - E v e n t R o b o t P r o d u c t s 1 . R e a l - t i m e T r a n s l a t i o n s : A s y s t e m w h e r e p a r t i c i p a n t s s p e a k i n g d i f f e r e n t l a n g u a g e s c a n  i n s t a n t l y u n d e r s t a n d e a c h o t h e r . 2 . P o l l s a n d S u r v e y s : E v e n t r o b o t h a s a f e a t u r e t h a t a l l o w s o r g a n i z e r s t o c r e a t e a n d  d i s t r i b u t e p o l l s o r s u r v e y s t o a t t e n d e e s , a l l o w i n g t h e m t o g a t h e r v a l u a b l e f e e d b a c k a n d  i n s i g h t s i n r e a l - t i m e . 3 . L i v e Q & A : L i v e Q & A f e a t u r e t h a t a l l o w s a t t e n d e e s t o s u b m i t q u e s t i o n s t o s p e a k e r s o r  p r e s e n t e r s d u r i n g l i v e e v e n t s , m a k i n g i t e a s i e r f o r t h e m t o p a r t i c i p a t e a n d e n g a g e w i t h  t h e c o n t e n t . 4 . R e m i n d e r s a n d N o t i f i c a t i o n s : E v e n t r o b o t c o u l d s e n d r e m i n d e r s a n d n o t i f i c a t i o n s t o  a t t e n d e e s a b o u t u p c o m i n g e v e n t s o r s e s s i o n s t h e y a r e i n t e r e s t e d i n , h e l p i n g t o e n s u r e  t h e y d o n ' t m i s s a n y t h i n g i m p o r t a n t . 5 . I n t e r a c t i v e G a m e s : C o n s i d e r i n c o r p o r a t i n g i n t e r a c t i v e g a m e s o r c h a l l e n g e s t h a t  a t t e n d e e s c a n p a r t i c i p a t e i n d u r i n g e v e n t s t o m a k e t h e m m o r e e n g a g i n g a n d  m e m o r a b l e . - S h o p p i n g R o b o t P r o d u c t s 1 . I n n o v a t i v e P r o d u c t P r o p o s a l ( A I B a s e d 3 D O b j e c t s ) 2 . B u i l d e r E d i t o r - T r a d i n g A s s i s t a n t R o b o t 1 . T e c h n i c a l a n a l y s i s  2 . F u n d a m e n t a l a n a l y s i s  3 . R e a l - t i m e i n s i g h t s  4 . C u s t o m i z a b l e s e t t i n g s - C o n v e r s a t i o n a l A s s i s t a n t R o b o t\n"
     ]
    }
   ],
   "source": [
    "query = \"What is the description of product\"\n",
    "results = rds.similarity_search(query)\n",
    "print(results[0].page_content.replace(\"\\n\", \" \"))"
   ]
  },
  {
   "cell_type": "code",
   "execution_count": null,
   "metadata": {},
   "outputs": [],
   "source": []
  }
 ],
 "metadata": {
  "kernelspec": {
   "display_name": "llm-study-venv",
   "language": "python",
   "name": "python3"
  },
  "language_info": {
   "codemirror_mode": {
    "name": "ipython",
    "version": 3
   },
   "file_extension": ".py",
   "mimetype": "text/x-python",
   "name": "python",
   "nbconvert_exporter": "python",
   "pygments_lexer": "ipython3",
   "version": "3.8.1"
  },
  "orig_nbformat": 4
 },
 "nbformat": 4,
 "nbformat_minor": 2
}
