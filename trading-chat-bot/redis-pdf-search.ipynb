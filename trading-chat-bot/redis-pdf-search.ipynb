{
 "cells": [
  {
   "cell_type": "code",
   "execution_count": 1,
   "metadata": {
    "ExecuteTime": {
     "end_time": "2023-06-14T10:50:32.645039900Z",
     "start_time": "2023-06-14T10:50:32.629696400Z"
    }
   },
   "outputs": [],
   "source": [
    "from dotenv import load_dotenv\n",
    "import os\n",
    "\n",
    "load_dotenv()\n",
    "\n",
    "twitter_bearer_token = os.getenv('TW_BEARER_TOKEN')\n",
    "openai_api_key = os.getenv('T_OPENAI_API_KEY')\n",
    "os.environ['OPENAI_API_KEY'] = openai_api_key"
   ]
  },
  {
   "cell_type": "code",
   "execution_count": 2,
   "metadata": {
    "ExecuteTime": {
     "end_time": "2023-06-14T10:50:53.606557200Z",
     "start_time": "2023-06-14T10:50:52.294185600Z"
    }
   },
   "outputs": [],
   "source": [
    "from langchain.embeddings import OpenAIEmbeddings\n",
    "from langchain.text_splitter import CharacterTextSplitter\n",
    "from langchain.document_loaders import TextLoader\n",
    "from langchain.vectorstores.redis import Redis"
   ]
  },
  {
   "cell_type": "code",
   "execution_count": 3,
   "metadata": {
    "ExecuteTime": {
     "end_time": "2023-06-14T10:50:54.545832600Z",
     "start_time": "2023-06-14T10:50:54.508439200Z"
    }
   },
   "outputs": [
    {
     "name": "stderr",
     "output_type": "stream",
     "text": [
      "Created a chunk of size 1628, which is longer than the specified 500\n",
      "Created a chunk of size 725, which is longer than the specified 500\n",
      "Created a chunk of size 593, which is longer than the specified 500\n",
      "Created a chunk of size 633, which is longer than the specified 500\n",
      "Created a chunk of size 1481, which is longer than the specified 500\n",
      "Created a chunk of size 1798, which is longer than the specified 500\n",
      "Created a chunk of size 1671, which is longer than the specified 500\n",
      "Created a chunk of size 2143, which is longer than the specified 500\n",
      "Created a chunk of size 525, which is longer than the specified 500\n",
      "Created a chunk of size 2042, which is longer than the specified 500\n",
      "Created a chunk of size 2352, which is longer than the specified 500\n"
     ]
    }
   ],
   "source": [
    "loader = TextLoader(\"denemegpt.txt\")\n",
    "documents = loader.load()\n",
    "text_splitter = CharacterTextSplitter(chunk_size=500, chunk_overlap=0)\n",
    "docs = text_splitter.split_documents(documents)\n",
    "\n",
    "embeddings = OpenAIEmbeddings()"
   ]
  },
  {
   "cell_type": "code",
   "execution_count": 4,
   "metadata": {
    "ExecuteTime": {
     "end_time": "2023-06-14T10:51:00.731807700Z",
     "start_time": "2023-06-14T10:50:58.282117700Z"
    }
   },
   "outputs": [],
   "source": [
    "rds = Redis.from_documents(docs, embeddings, redis_url=\"redis://localhost:6379\",  index_name='link04')"
   ]
  },
  {
   "cell_type": "code",
   "execution_count": 5,
   "metadata": {
    "ExecuteTime": {
     "end_time": "2023-06-14T10:51:02.194925900Z",
     "start_time": "2023-06-14T10:51:02.180416900Z"
    }
   },
   "outputs": [
    {
     "data": {
      "text/plain": "'link04'"
     },
     "execution_count": 5,
     "metadata": {},
     "output_type": "execute_result"
    }
   ],
   "source": [
    "rds.index_name"
   ]
  },
  {
   "cell_type": "code",
   "execution_count": 6,
   "metadata": {
    "ExecuteTime": {
     "end_time": "2023-06-14T10:51:06.024318600Z",
     "start_time": "2023-06-14T10:51:05.424737300Z"
    }
   },
   "outputs": [
    {
     "name": "stdout",
     "output_type": "stream",
     "text": [
      "Common Metaverse Usage: GptVerse provides various areas for users to spend time in and enjoy, such as conference halls, concert venues, and playgrounds, creating a more engaging and immersive experience within the Metaverse.  Play to Earn Games & Tournaments: GptVerse's games and tournaments allow users to earn tokens while playing, which can help incentivize more active participation within the Metaverse.\n"
     ]
    }
   ],
   "source": [
    "query = \"What is the gptverse and their utilities?\"\n",
    "results = rds.similarity_search(query)\n",
    "print(results[0].page_content.replace(\"\\n\", \" \"))"
   ]
  },
  {
   "cell_type": "code",
   "execution_count": 7,
   "metadata": {
    "ExecuteTime": {
     "end_time": "2023-06-14T10:51:08.407270Z",
     "start_time": "2023-06-14T10:51:08.395743400Z"
    }
   },
   "outputs": [],
   "source": [
    "from langchain.document_loaders import TwitterTweetLoader"
   ]
  },
  {
   "cell_type": "code",
   "execution_count": 8,
   "metadata": {
    "ExecuteTime": {
     "end_time": "2023-06-14T10:51:09.862504200Z",
     "start_time": "2023-06-14T10:51:09.752567900Z"
    }
   },
   "outputs": [],
   "source": [
    "loader = TwitterTweetLoader.from_bearer_token(\n",
    "    oauth2_bearer_token=twitter_bearer_token,\n",
    "    twitter_users=['_kozanakyel', 'elonmusk'],\n",
    "    number_tweets=5,  # Default value is 100\n",
    ")"
   ]
  },
  {
   "cell_type": "code",
   "execution_count": 9,
   "metadata": {
    "ExecuteTime": {
     "end_time": "2023-06-14T10:51:13.297401400Z",
     "start_time": "2023-06-14T10:51:11.517739900Z"
    }
   },
   "outputs": [
    {
     "data": {
      "text/plain": "\"RT @gpt_verse: Let's ask the same question to the bard.\\n#Google #GoogleBard #ChatGPTvsBard #ai https://t.co/VyPuuzmDvF\""
     },
     "execution_count": 9,
     "metadata": {},
     "output_type": "execute_result"
    }
   ],
   "source": [
    "documents = loader.load()\n",
    "documents[0].dict()['page_content']"
   ]
  },
  {
   "cell_type": "code",
   "execution_count": null,
   "metadata": {},
   "outputs": [],
   "source": []
  }
 ],
 "metadata": {
  "kernelspec": {
   "display_name": "llm-study-venv",
   "language": "python",
   "name": "python3"
  },
  "language_info": {
   "codemirror_mode": {
    "name": "ipython",
    "version": 3
   },
   "file_extension": ".py",
   "mimetype": "text/x-python",
   "name": "python",
   "nbconvert_exporter": "python",
   "pygments_lexer": "ipython3",
   "version": "3.8.1"
  },
  "orig_nbformat": 4
 },
 "nbformat": 4,
 "nbformat_minor": 2
}
