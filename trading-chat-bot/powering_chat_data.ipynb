{
 "cells": [
  {
   "cell_type": "code",
   "execution_count": 11,
   "metadata": {
    "ExecuteTime": {
     "end_time": "2023-06-14T10:52:02.684110900Z",
     "start_time": "2023-06-14T10:52:02.666392700Z"
    }
   },
   "outputs": [
    {
     "name": "stdout",
     "output_type": "stream",
     "text": [
      "The autoreload extension is already loaded. To reload it, use:\n",
      "  %reload_ext autoreload\n"
     ]
    }
   ],
   "source": [
    "%load_ext autoreload\n",
    "%autoreload 2"
   ]
  },
  {
   "cell_type": "code",
   "execution_count": 12,
   "metadata": {
    "ExecuteTime": {
     "end_time": "2023-06-14T11:18:29.084382Z",
     "start_time": "2023-06-14T11:18:29.018483Z"
    }
   },
   "outputs": [
    {
     "data": {
      "text/plain": [
       "True"
      ]
     },
     "execution_count": 12,
     "metadata": {},
     "output_type": "execute_result"
    }
   ],
   "source": [
    "import openai\n",
    "import os\n",
    "import requests\n",
    "import numpy as np\n",
    "import pandas as pd\n",
    "from typing import Iterator\n",
    "import tiktoken\n",
    "import textract\n",
    "from numpy import array, average\n",
    "from dotenv import load_dotenv\n",
    "\n",
    "from database import get_redis_connection\n",
    "\n",
    "# Set our default models and chunking size\n",
    "from config import COMPLETIONS_MODEL, EMBEDDINGS_MODEL, CHAT_MODEL, TEXT_EMBEDDING_CHUNK_SIZE, VECTOR_FIELD_NAME\n",
    "\n",
    "# Ignore unclosed SSL socket warnings - optional in case you get these errors\n",
    "import warnings\n",
    "\n",
    "warnings.filterwarnings(action=\"ignore\", message=\"unclosed\", category=ImportWarning)\n",
    "warnings.filterwarnings(\"ignore\", category=DeprecationWarning) \n",
    "\n",
    "load_dotenv()"
   ]
  },
  {
   "cell_type": "code",
   "execution_count": 13,
   "metadata": {
    "ExecuteTime": {
     "end_time": "2023-06-14T11:18:29.938389500Z",
     "start_time": "2023-06-14T11:18:29.910793Z"
    }
   },
   "outputs": [],
   "source": [
    "pd.set_option('display.max_colwidth', 0)"
   ]
  },
  {
   "cell_type": "code",
   "execution_count": 14,
   "metadata": {
    "ExecuteTime": {
     "end_time": "2023-06-14T11:18:31.832853500Z",
     "start_time": "2023-06-14T11:18:31.743432900Z"
    }
   },
   "outputs": [
    {
     "data": {
      "text/plain": [
       "['GptVerse.pdf', 'ugur_akyel_20190808020_project_report.pdf']"
      ]
     },
     "execution_count": 14,
     "metadata": {},
     "output_type": "execute_result"
    }
   ],
   "source": [
    "data_dir = os.path.join(os.curdir,'data')\n",
    "pdf_files = sorted([x for x in os.listdir(data_dir) if 'DS_Store' not in x])\n",
    "pdf_files"
   ]
  },
  {
   "cell_type": "code",
   "execution_count": 15,
   "metadata": {
    "ExecuteTime": {
     "end_time": "2023-06-14T11:18:33.210897100Z",
     "start_time": "2023-06-14T11:18:33.179631300Z"
    }
   },
   "outputs": [],
   "source": [
    "# Setup Redis\n",
    "from redis import Redis\n",
    "from redis.commands.search.query import Query\n",
    "from redis.commands.search.field import (\n",
    "    TextField,\n",
    "    VectorField,\n",
    "    NumericField\n",
    ")\n",
    "from redis.commands.search.indexDefinition import (\n",
    "    IndexDefinition,\n",
    "    IndexType\n",
    ")\n",
    "\n",
    "redis_client = get_redis_connection()"
   ]
  },
  {
   "cell_type": "code",
   "execution_count": 16,
   "metadata": {
    "ExecuteTime": {
     "end_time": "2023-06-14T11:18:38.336077400Z",
     "start_time": "2023-06-14T11:18:38.314343900Z"
    }
   },
   "outputs": [],
   "source": [
    "# Constants\n",
    "VECTOR_DIM = 1536 #len(data['title_vector'][0]) # length of the vectors\n",
    "#VECTOR_NUMBER = len(data)                 # initial number of vectors\n",
    "PREFIX = \"gptversedoc\"                            # prefix for the document keys\n",
    "DISTANCE_METRIC = \"COSINE\"                # distance metric for the vectors (ex. COSINE, IP, L2)"
   ]
  },
  {
   "cell_type": "code",
   "execution_count": 17,
   "metadata": {
    "ExecuteTime": {
     "end_time": "2023-06-14T11:18:39.294072700Z",
     "start_time": "2023-06-14T11:18:39.218600400Z"
    }
   },
   "outputs": [],
   "source": [
    "# Create search index\n",
    "\n",
    "# Index\n",
    "INDEX_NAME = \"f1-index\"           # name of the search index\n",
    "VECTOR_FIELD_NAME = 'content_vector'\n",
    "\n",
    "# Define RediSearch fields for each of the columns in the dataset\n",
    "# This is where you should add any additional metadata you want to capture\n",
    "filename = TextField(\"filename\")\n",
    "text_chunk = TextField(\"text_chunk\")\n",
    "file_chunk_index = NumericField(\"file_chunk_index\")\n",
    "\n",
    "# define RediSearch vector fields to use HNSW index\n",
    "\n",
    "text_embedding = VectorField(VECTOR_FIELD_NAME,\n",
    "    \"HNSW\", {\n",
    "        \"TYPE\": \"FLOAT32\",\n",
    "        \"DIM\": VECTOR_DIM,\n",
    "        \"DISTANCE_METRIC\": DISTANCE_METRIC\n",
    "    }\n",
    ")\n",
    "# Add all our field objects to a list to be created as an index\n",
    "fields = [filename,text_chunk,file_chunk_index,text_embedding]"
   ]
  },
  {
   "cell_type": "code",
   "execution_count": 18,
   "metadata": {
    "ExecuteTime": {
     "end_time": "2023-06-14T11:18:40.321732500Z",
     "start_time": "2023-06-14T11:18:40.305903900Z"
    }
   },
   "outputs": [
    {
     "data": {
      "text/plain": [
       "True"
      ]
     },
     "execution_count": 18,
     "metadata": {},
     "output_type": "execute_result"
    }
   ],
   "source": [
    "redis_client.ping()"
   ]
  },
  {
   "cell_type": "code",
   "execution_count": 19,
   "metadata": {
    "ExecuteTime": {
     "end_time": "2023-06-14T11:18:40.951442200Z",
     "start_time": "2023-06-14T11:18:40.870448100Z"
    }
   },
   "outputs": [
    {
     "name": "stdout",
     "output_type": "stream",
     "text": [
      "Index already exists\n"
     ]
    }
   ],
   "source": [
    "# Optional step to drop the index if it already exists\n",
    "#redis_client.ft(INDEX_NAME).dropindex()\n",
    "\n",
    "# Check if index exists\n",
    "try:\n",
    "    redis_client.ft(INDEX_NAME).info()\n",
    "    print(\"Index already exists\")\n",
    "except Exception as e:\n",
    "    print(e)\n",
    "    # Create RediSearch Index\n",
    "    print('Not there yet. Creating')\n",
    "    redis_client.ft(INDEX_NAME).create_index(\n",
    "        fields = fields,\n",
    "        definition = IndexDefinition(prefix=[PREFIX], index_type=IndexType.HASH)\n",
    "    )"
   ]
  },
  {
   "cell_type": "code",
   "execution_count": 20,
   "metadata": {
    "ExecuteTime": {
     "end_time": "2023-06-14T11:18:41.842559800Z",
     "start_time": "2023-06-14T11:18:41.829532500Z"
    }
   },
   "outputs": [],
   "source": [
    "# The transformers.py file contains all of the transforming functions, including ones to chunk, embed and load data\n",
    "# For more details, check the file and work through each function individually\n",
    "from transformers import handle_file_string"
   ]
  },
  {
   "cell_type": "code",
   "execution_count": 21,
   "metadata": {},
   "outputs": [],
   "source": [
    "from dotenv import load_dotenv\n",
    "import os\n",
    "\n",
    "load_dotenv()\n",
    "\n",
    "openai_api_key = os.getenv('T_OPENAI_API_KEY')\n",
    "os.environ['OPENAI_API_KEY'] = openai_api_key"
   ]
  },
  {
   "cell_type": "code",
   "execution_count": 22,
   "metadata": {
    "ExecuteTime": {
     "end_time": "2023-06-14T11:18:42.843832400Z",
     "start_time": "2023-06-14T11:18:42.653698600Z"
    }
   },
   "outputs": [
    {
     "name": "stdout",
     "output_type": "stream",
     "text": [
      "./data/GptVerse.pdf\n",
      "./data/ugur_akyel_20190808020_project_report.pdf\n",
      "CPU times: user 784 ms, sys: 68.7 ms, total: 852 ms\n",
      "Wall time: 10.3 s\n"
     ]
    }
   ],
   "source": [
    "%%time\n",
    "# This step takes about 5 minutes\n",
    "openai.api_key = openai_api_key\n",
    "# Initialise tokenizer\n",
    "tokenizer = tiktoken.get_encoding(\"cl100k_base\")\n",
    "\n",
    "# Process each PDF file and prepare for embedding\n",
    "for pdf_file in pdf_files:\n",
    "    \n",
    "    pdf_path = os.path.join(data_dir,pdf_file)\n",
    "    print(pdf_path)\n",
    "    \n",
    "    # Extract the raw text from each PDF using textract\n",
    "    text = textract.process(pdf_path, method='pdfminer')\n",
    "    \n",
    "    # Chunk each document, embed the contents and load to Redis\n",
    "    handle_file_string((pdf_file,text.decode(\"utf-8\")),tokenizer,redis_client,VECTOR_FIELD_NAME,INDEX_NAME)"
   ]
  },
  {
   "cell_type": "code",
   "execution_count": 23,
   "metadata": {},
   "outputs": [
    {
     "data": {
      "text/plain": [
       "'140'"
      ]
     },
     "execution_count": 23,
     "metadata": {},
     "output_type": "execute_result"
    }
   ],
   "source": [
    "# Check that our docs have been inserted\n",
    "redis_client.ft(INDEX_NAME).info()['num_docs']"
   ]
  },
  {
   "cell_type": "code",
   "execution_count": 24,
   "metadata": {},
   "outputs": [],
   "source": [
    "from database import get_redis_results"
   ]
  },
  {
   "cell_type": "code",
   "execution_count": 25,
   "metadata": {},
   "outputs": [
    {
     "data": {
      "text/html": [
       "<div>\n",
       "<style scoped>\n",
       "    .dataframe tbody tr th:only-of-type {\n",
       "        vertical-align: middle;\n",
       "    }\n",
       "\n",
       "    .dataframe tbody tr th {\n",
       "        vertical-align: top;\n",
       "    }\n",
       "\n",
       "    .dataframe thead th {\n",
       "        text-align: right;\n",
       "    }\n",
       "</style>\n",
       "<table border=\"1\" class=\"dataframe\">\n",
       "  <thead>\n",
       "    <tr style=\"text-align: right;\">\n",
       "      <th></th>\n",
       "      <th>id</th>\n",
       "      <th>result</th>\n",
       "      <th>certainty</th>\n",
       "    </tr>\n",
       "  </thead>\n",
       "  <tbody>\n",
       "    <tr>\n",
       "      <th>0</th>\n",
       "      <td>0</td>\n",
       "      <td>Filename is: GptVerse.pdf; GptVerse is an artificial intelligence based Metaverse application with shopping, education,  organization and p2e features. It will be a multi-chain project but the main network has not  been decided yet. Here is a list of the main solutions, as follows in the first place:    -Innovative Product Proposal (AI Based 3D Objects)    Quickly transfer photos of real world objects that are taken from different angles to the 3D  Metaverse environment by passing them through special AI and machine learning algorithms  such as NERF. Users and brands can list and sell them on user stores as NFTs.    -AI Based Event &amp; Educational Areas    Bots with machine learning that can educate users on various topics. There is also a bot that  will organize events like concerts, exhibitions and help users have fun while having a good  time.    -OpenAI Integrated &amp; Conversational AI Assistant Bots    AI bots assist the user when they enter the GptVerse to find the place the user is looking for.  They also assist customers as store assistants with Conversational AI features. Other  features of bot: Event hall organization planner, the bot that finds the song when you hum.    -Metaverse Store Solutions    Besides most known NFT stores, automated and innovative NFT stores which users &amp;  brands can design using our builder editor. Objects and structures that users can create  verbally or in writing in GptVerse.    -Common metaverse usage (conference hall, concert venue, playground)    Areas where users can spend valuable time by making use of known metaverse features.    -Play to Earn Games &amp; Tournaments    Every user can play games and earn tokens. Bowling, billiards, chess and many more table  games will be integrated.    —----------------------------------------------------------------------------------------    GptVerse is a unique and innovative application that combines AI-based technology and  Metaverse features to create a variety of solutions for users and brands.</td>\n",
       "      <td>0.140639543533</td>\n",
       "    </tr>\n",
       "    <tr>\n",
       "      <th>1</th>\n",
       "      <td>1</td>\n",
       "      <td>This allows GptVerse to deliver highly interactive  and personalized experiences for users across various domains, including  events, education, shopping, and more.    2. Comprehensive Metaverse Integration: GptVerse goes beyond being just a    standalone application by offering a fully immersive metaverse experience. It  provides users with a seamless transition between virtual worlds, allowing  them to explore, interact, and engage in a wide range of activities within a  uniﬁed ecosystem.    3. Holistic Approach to Education: GptVerse prioritizes education and learning,  offering AI-powered educational bots and immersive learning experiences.  These features enable users to access personalized and engaging  educational content, participate in virtual classrooms, and receive  individualized tutoring and guidance.    4. Extensive Event Management Functionality: GptVerse provides robust event  organization and management capabilities, empowering users to seamlessly  plan, host, and participate in events. With AI-powered event bots, GptVerse  streamlines event logistics, facilitates networking, and enhances overall event  experiences.  Intelligent Shopping Solutions: GptVerse incorporates AI-driven shopping bots  and assistants, revolutionizing the way users shop within the metaverse.  These bots offer personalized recommendations, real-time assistance, and an  immersive shopping experience, enhancing convenience and satisfaction for  users.    5.    6. Strong Emphasis on User Experience: GptVerse is designed with a    user-centric approach, prioritizing intuitive interfaces, seamless navigation,  and engaging interactions. The platform aims to create a highly immersive,  enjoyable, and user-friendly environment, enhancing user satisfaction and  driving increased engagement.    7. Potential for Collaboration and Partnerships: GptVerse recognizes the value of    collaboration and partnerships within the blockchain and metaverse  ecosystem and also brands using web2 technologies. By fostering  collaborations with industry leaders, content creators, and developers, brands  GptVerse aims to create a vibrant and diverse ecosystem, providing users with  a wide range of experiences and opportunities.</td>\n",
       "      <td>0.156740307808</td>\n",
       "    </tr>\n",
       "  </tbody>\n",
       "</table>\n",
       "</div>"
      ],
      "text/plain": [
       "   id  \\\n",
       "0  0    \n",
       "1  1    \n",
       "\n",
       "                                                                                                                                                                                                                                                                                                                                                                                                                                                                                                                                                                                                                                                                                                                                                                                                                                                                                                                                                                                                                                                                                                                                                                                                                                                                                                                                                                                                                                                                                                                                                                                                                                                                                                                                                                                                                                                                                                                                                                                                                                                                                                                                                                                                                                                                                                                    result  \\\n",
       "0  Filename is: GptVerse.pdf; GptVerse is an artificial intelligence based Metaverse application with shopping, education,  organization and p2e features. It will be a multi-chain project but the main network has not  been decided yet. Here is a list of the main solutions, as follows in the first place:    -Innovative Product Proposal (AI Based 3D Objects)    Quickly transfer photos of real world objects that are taken from different angles to the 3D  Metaverse environment by passing them through special AI and machine learning algorithms  such as NERF. Users and brands can list and sell them on user stores as NFTs.    -AI Based Event & Educational Areas    Bots with machine learning that can educate users on various topics. There is also a bot that  will organize events like concerts, exhibitions and help users have fun while having a good  time.    -OpenAI Integrated & Conversational AI Assistant Bots    AI bots assist the user when they enter the GptVerse to find the place the user is looking for.  They also assist customers as store assistants with Conversational AI features. Other  features of bot: Event hall organization planner, the bot that finds the song when you hum.    -Metaverse Store Solutions    Besides most known NFT stores, automated and innovative NFT stores which users &  brands can design using our builder editor. Objects and structures that users can create  verbally or in writing in GptVerse.    -Common metaverse usage (conference hall, concert venue, playground)    Areas where users can spend valuable time by making use of known metaverse features.    -Play to Earn Games & Tournaments    Every user can play games and earn tokens. Bowling, billiards, chess and many more table  games will be integrated.    —----------------------------------------------------------------------------------------    GptVerse is a unique and innovative application that combines AI-based technology and  Metaverse features to create a variety of solutions for users and brands.                                                                                                                                                                                                                                    \n",
       "1   This allows GptVerse to deliver highly interactive  and personalized experiences for users across various domains, including  events, education, shopping, and more.    2. Comprehensive Metaverse Integration: GptVerse goes beyond being just a    standalone application by offering a fully immersive metaverse experience. It  provides users with a seamless transition between virtual worlds, allowing  them to explore, interact, and engage in a wide range of activities within a  uniﬁed ecosystem.    3. Holistic Approach to Education: GptVerse prioritizes education and learning,  offering AI-powered educational bots and immersive learning experiences.  These features enable users to access personalized and engaging  educational content, participate in virtual classrooms, and receive  individualized tutoring and guidance.    4. Extensive Event Management Functionality: GptVerse provides robust event  organization and management capabilities, empowering users to seamlessly  plan, host, and participate in events. With AI-powered event bots, GptVerse  streamlines event logistics, facilitates networking, and enhances overall event  experiences.  Intelligent Shopping Solutions: GptVerse incorporates AI-driven shopping bots  and assistants, revolutionizing the way users shop within the metaverse.  These bots offer personalized recommendations, real-time assistance, and an  immersive shopping experience, enhancing convenience and satisfaction for  users.    5.    6. Strong Emphasis on User Experience: GptVerse is designed with a    user-centric approach, prioritizing intuitive interfaces, seamless navigation,  and engaging interactions. The platform aims to create a highly immersive,  enjoyable, and user-friendly environment, enhancing user satisfaction and  driving increased engagement.    7. Potential for Collaboration and Partnerships: GptVerse recognizes the value of    collaboration and partnerships within the blockchain and metaverse  ecosystem and also brands using web2 technologies. By fostering  collaborations with industry leaders, content creators, and developers, brands  GptVerse aims to create a vibrant and diverse ecosystem, providing users with  a wide range of experiences and opportunities.   \n",
       "\n",
       "        certainty  \n",
       "0  0.140639543533  \n",
       "1  0.156740307808  "
      ]
     },
     "execution_count": 25,
     "metadata": {},
     "output_type": "execute_result"
    }
   ],
   "source": [
    "f1_query='What is the gptverse platform'\n",
    "\n",
    "result_df = get_redis_results(redis_client,f1_query,index_name=INDEX_NAME)\n",
    "result_df"
   ]
  },
  {
   "cell_type": "code",
   "execution_count": 26,
   "metadata": {},
   "outputs": [
    {
     "name": "stdout",
     "output_type": "stream",
     "text": [
      "- Using Decision Trees, Sentiment Analysis and Candlestick Art to predict price movement of popular cryptocurrencies\n",
      "- Evaluating other technical analysis and indicator structures\n",
      "- Incorporating Twitter data and sentiment analysis into the model\n",
      "- Aiming to determine whether price will increase or decrease in the next 1 hour or 1 day\n",
      "- Resulting in an application with a data and AI modelling pipeline as well as a frontend for users to view coin signal results\n",
      "- Predicting cryptocurrency movements can be challenging due to their volatility and external factors\n"
     ]
    }
   ],
   "source": [
    "f1_query='what is challenges for kzengine project?'\n",
    "\n",
    "result_df = get_redis_results(redis_client,f1_query,index_name=INDEX_NAME)\n",
    "# Build a prompt to provide the original query, the result and ask to summarise for the user\n",
    "summary_prompt = '''Summarise this result in a bulleted list to answer the search query a customer has sent.\n",
    "Search query: SEARCH_QUERY_HERE\n",
    "Search result: SEARCH_RESULT_HERE\n",
    "Summary:\n",
    "'''\n",
    "summary_prepped = summary_prompt.replace('SEARCH_QUERY_HERE',f1_query).replace('SEARCH_RESULT_HERE',result_df['result'][0])\n",
    "summary = openai.Completion.create(engine=COMPLETIONS_MODEL,prompt=summary_prepped,max_tokens=200)\n",
    "# Response provided by GPT-3\n",
    "print(summary['choices'][0]['text'])"
   ]
  },
  {
   "cell_type": "code",
   "execution_count": 27,
   "metadata": {},
   "outputs": [
    {
     "name": "stdout",
     "output_type": "stream",
     "text": [
      "assistant: As an AI language model, I can help you in the following ways:\n",
      "\n",
      "1. Answer your questions: I can answer your questions on a wide range of topics.\n",
      "\n",
      "2. Provide information: I can provide you with information on any topic that you need.\n",
      "\n",
      "3. Suggest solutions: I can suggest solutions to your problems based on the inputs you provide.\n",
      "\n",
      "4. Assist in decision making: I can assist you in making decisions by providing you with options and their pros and cons.\n",
      "\n",
      "5. Generate ideas: I can generate ideas for your projects and brainstorm with you.\n",
      "\n",
      "6. Reduce your workload: I can help you automate repetitive tasks and save you time.\n",
      "\n",
      "7. Improve your productivity: I can provide you with tools and resources to improve your productivity and efficiency.\n"
     ]
    }
   ],
   "source": [
    "question = 'How can you help me'\n",
    "\n",
    "\n",
    "completion = openai.ChatCompletion.create(\n",
    "  model=\"gpt-3.5-turbo\",\n",
    "  messages=[\n",
    "    {\"role\": \"user\", \"content\": question}\n",
    "  ]\n",
    ")\n",
    "print(f\"{completion['choices'][0]['message']['role']}: {completion['choices'][0]['message']['content']}\")"
   ]
  },
  {
   "cell_type": "code",
   "execution_count": 28,
   "metadata": {},
   "outputs": [],
   "source": [
    "from termcolor import colored\n",
    "\n",
    "# A basic class to create a message as a dict for chat\n",
    "class Message:\n",
    "    \n",
    "    \n",
    "    def __init__(self,role,content):\n",
    "        \n",
    "        self.role = role\n",
    "        self.content = content\n",
    "        \n",
    "    def message(self):\n",
    "        \n",
    "        return {\"role\": self.role,\"content\": self.content}\n",
    "        \n",
    "# Our assistant class we'll use to converse with the bot\n",
    "class Assistant:\n",
    "    \n",
    "    def __init__(self):\n",
    "        self.conversation_history = []\n",
    "\n",
    "    def _get_assistant_response(self, prompt):\n",
    "        \n",
    "        try:\n",
    "            completion = openai.ChatCompletion.create(\n",
    "              model=\"gpt-3.5-turbo\",\n",
    "              messages=prompt\n",
    "            )\n",
    "            \n",
    "            response_message = Message(completion['choices'][0]['message']['role'],completion['choices'][0]['message']['content'])\n",
    "            return response_message.message()\n",
    "            \n",
    "        except Exception as e:\n",
    "            \n",
    "            return f'Request failed with exception {e}'\n",
    "\n",
    "    def ask_assistant(self, next_user_prompt, colorize_assistant_replies=True):\n",
    "        [self.conversation_history.append(x) for x in next_user_prompt]\n",
    "        assistant_response = self._get_assistant_response(self.conversation_history)\n",
    "        self.conversation_history.append(assistant_response)\n",
    "        return assistant_response\n",
    "            \n",
    "        \n",
    "    def pretty_print_conversation_history(self, colorize_assistant_replies=True):\n",
    "        for entry in self.conversation_history:\n",
    "            if entry['role'] == 'system':\n",
    "                pass\n",
    "            else:\n",
    "                prefix = entry['role']\n",
    "                content = entry['content']\n",
    "                output = colored(prefix +':\\n' + content, 'green') if colorize_assistant_replies and entry['role'] == 'assistant' else prefix +':\\n' + content\n",
    "                print(output)"
   ]
  },
  {
   "cell_type": "code",
   "execution_count": 29,
   "metadata": {},
   "outputs": [
    {
     "data": {
      "text/plain": [
       "[{'role': 'system', 'content': 'Waht is the gptverse platform'},\n",
       " {'role': 'user', 'content': 'What can you do to help me'}]"
      ]
     },
     "execution_count": 29,
     "metadata": {},
     "output_type": "execute_result"
    }
   ],
   "source": [
    "# Initiate our Assistant class\n",
    "conversation = Assistant()\n",
    "\n",
    "# Create a list to hold our messages and insert both a system message to guide behaviour and our first user question\n",
    "messages = []\n",
    "system_message = Message('system','Waht is the gptverse platform')\n",
    "user_message = Message('user','What can you do to help me')\n",
    "messages.append(system_message.message())\n",
    "messages.append(user_message.message())\n",
    "messages"
   ]
  },
  {
   "cell_type": "code",
   "execution_count": 30,
   "metadata": {},
   "outputs": [
    {
     "name": "stdout",
     "output_type": "stream",
     "text": [
      "As an AI language model, I can help you understand what the GPTverse platform is. The GPTverse is a platform that provides access to a suite of powerful language models that utilize cutting-edge AI technology to generate high-quality, coherent, and diverse text. These models can be used for a variety of applications, including natural language processing, text generation, and sentiment analysis, among others. They can also be trained to generate text in a specific domain or language. Additionally, the GPTverse platform offers various APIs and tools that developers can use to integrate the language models into their applications.\n"
     ]
    }
   ],
   "source": [
    "response_message = conversation.ask_assistant(messages)\n",
    "print(response_message['content'])"
   ]
  },
  {
   "cell_type": "code",
   "execution_count": 34,
   "metadata": {},
   "outputs": [
    {
     "name": "stdout",
     "output_type": "stream",
     "text": [
      "I'm sorry, but I'm not familiar with the \"KZEngine\" project. Can you provide me with more information on what the project is about or any other details you may have? This will help me understand the motivation behind the project.\n"
     ]
    }
   ],
   "source": [
    "next_question = 'What is the motivation behind the kzengine project?'\n",
    "\n",
    "# Initiate a fresh messages list and insert our next question\n",
    "messages = []\n",
    "user_message = Message('user',next_question)\n",
    "messages.append(user_message.message())\n",
    "response_message = conversation.ask_assistant(messages)\n",
    "print(response_message['content'])"
   ]
  },
  {
   "cell_type": "code",
   "execution_count": 35,
   "metadata": {},
   "outputs": [
    {
     "name": "stdout",
     "output_type": "stream",
     "text": [
      "user:\n",
      "What can you do to help me\n",
      "\u001b[32massistant:\n",
      "As an AI language model, I can help you understand what the GPTverse platform is. The GPTverse is a platform that provides access to a suite of powerful language models that utilize cutting-edge AI technology to generate high-quality, coherent, and diverse text. These models can be used for a variety of applications, including natural language processing, text generation, and sentiment analysis, among others. They can also be trained to generate text in a specific domain or language. Additionally, the GPTverse platform offers various APIs and tools that developers can use to integrate the language models into their applications.\u001b[0m\n",
      "user:\n",
      "Can you compare the gptverse platform and other known metaverse companies?\n",
      "\u001b[32massistant:\n",
      "The GPTverse platform and metaverse companies are not directly comparable, as they have different focuses and objectives. The GPTverse focuses on providing access to powerful language models for natural language processing and text generation, while metaverse companies are focused on creating virtual worlds and immersive experiences for users.\n",
      "\n",
      "That said, there are some similarities and differences between the GPTverse platform and metaverse companies. For example:\n",
      "\n",
      "- Both the GPTverse and metaverse companies use cutting-edge technology to create unique user experiences, but the GPTverse does so through AI-generated text and language models, whereas metaverse companies do so through immersive virtual environments.\n",
      "\n",
      "- Metaverse companies like Roblox and Decentraland have a strong focus on user engagement and social interaction, whereas the GPTverse's focus is more on language processing and generation.\n",
      "\n",
      "- The GPTverse platform offers developers access to language models that can be customized for specific applications, while metaverse companies provide a pre-built virtual environment that users can interact with.\n",
      "\n",
      "Overall, while there are some similarities between the GPTverse platform and metaverse companies, they are fundamentally different in terms of their focus and objectives.\u001b[0m\n",
      "user:\n",
      "For your last answer, i know the gptverse is a metaverse platform. Waht is the differences GPtverse and MANA or SAND platform?\n",
      "\u001b[32massistant:\n",
      "I apologize for the confusion, but the GPTverse platform is not a metaverse platform. Rather, it is a suite of language models powered by AI that can be used for natural language processing and text generation.\n",
      "\n",
      "The MANA and SAND platforms, on the other hand, are both metaverse platforms. MANA is the native cryptocurrency of the Decentraland platform, which is a virtual world where users can create, experience, and monetize content and applications. SAND is the native cryptocurrency of The Sandbox, another metaverse platform that allows users to create and monetize their own virtual gaming experiences.\n",
      "\n",
      "Some of the key differences between the GPTverse platform and the MANA/SAND platforms include:\n",
      "\n",
      "- Purpose: The GPTverse is focused on language processing, while the MANA and SAND platforms are focused on creating virtual worlds where users can interact with each other and digital assets.\n",
      "\n",
      "- Technology: The GPTverse uses AI-powered language models, while the MANA and SAND platforms use blockchain technology to create decentralized virtual worlds.\n",
      "\n",
      "- Monetization: The GPTverse platform is designed for developers to use in their applications, while the MANA and SAND platforms allow users to create and monetize their own virtual content.\n",
      "\n",
      "Overall, while the GPTverse, MANA, and SAND platforms are all innovative technologies, they have different objectives and use cases.\u001b[0m\n",
      "user:\n",
      "What is the gptverse beneficial for users?\n",
      "\u001b[32massistant:\n",
      "The GPTverse platform provides a range of benefits for users. Here are some of the key ones:\n",
      "\n",
      "1. High-quality language models: The GPTverse platform offers access to a suite of state-of-the-art language models powered by advanced AI algorithms. These models can generate text that is grammatically correct, contextually relevant, and highly coherent.\n",
      "\n",
      "2. Improved productivity: With the GPTverse platform, users can automate many tasks that would otherwise require a significant amount of time and effort, such as content generation, email auto-reply, and chatbot interactions. This can lead to improved productivity and efficiency.\n",
      "\n",
      "3. Personalized content: The GPTverse can be trained on specific data sets and customized to generate content that is tailored to a user's specific needs and preferences. This can be used to create personalized product recommendations, marketing campaigns, or news articles, among other applications.\n",
      "\n",
      "4. Multilingual support: The GPTverse offers language models in multiple languages, which can be beneficial for users who need to generate text in languages other than English.\n",
      "\n",
      "5. Integration with other applications: The GPTverse platform provides APIs and tools that developers can use to integrate the language models into their own applications, making it easier to build advanced AI-powered applications.\n",
      "\n",
      "Overall, the GPTverse platform provides users with powerful language models that can be used for a range of natural language processing and text generation applications, leading to improved efficiency, productivity, and personalized content.\u001b[0m\n",
      "user:\n",
      "What is the motivation behind the kzengine project?\n",
      "\u001b[32massistant:\n",
      "I'm sorry, but I'm not familiar with the \"KZEngine\" project. Can you provide me with more information on what the project is about or any other details you may have? This will help me understand the motivation behind the project.\u001b[0m\n"
     ]
    }
   ],
   "source": [
    "# Print out a log of our conversation so far\n",
    "\n",
    "conversation.pretty_print_conversation_history()"
   ]
  },
  {
   "cell_type": "code",
   "execution_count": 36,
   "metadata": {},
   "outputs": [],
   "source": [
    "# Updated system prompt requiring Question and Year to be extracted from the user\n",
    "system_prompt = '''\n",
    "You are a helpful Kzengine project and Gptverse platform assistant and Also you are expert on metaverse and trading field.\n",
    "You need to capture a Question from customer.\n",
    "The Question is about the kzengine project, gptverse platform, metaverse or trading. \n",
    "Additionally for the first conversation always greeting our client and provide\n",
    "his/her name. the use his name each response.\n",
    "Once you have the his/her name, say \"searching for answers\".\n",
    "\n",
    "Example 1:\n",
    "\n",
    "User: what is the gptverse platform\n",
    "\n",
    "Assistant: hello im the gptverse ai assistant, at the first what is your name, please?\n",
    "\n",
    "User: kozan\n",
    "\n",
    "Assistant: Hello kozan, searching for answers\n",
    "'''\n",
    "\n",
    "# New Assistant class to add a vector database call to its responses\n",
    "class RetrievalAssistant:\n",
    "    \n",
    "    def __init__(self):\n",
    "        self.conversation_history = []  \n",
    "\n",
    "    def _get_assistant_response(self, prompt):\n",
    "        \n",
    "        try:\n",
    "            completion = openai.ChatCompletion.create(\n",
    "              model=CHAT_MODEL,\n",
    "              messages=prompt,\n",
    "              temperature=0.1\n",
    "            )\n",
    "            \n",
    "            response_message = Message(completion['choices'][0]['message']['role'],completion['choices'][0]['message']['content'])\n",
    "            return response_message.message()\n",
    "            \n",
    "        except Exception as e:\n",
    "            \n",
    "            return f'Request failed with exception {e}'\n",
    "    \n",
    "    # The function to retrieve Redis search results\n",
    "    def _get_search_results(self,prompt):\n",
    "        latest_question = prompt\n",
    "        search_content = get_redis_results(redis_client,latest_question,INDEX_NAME)['result'][0]\n",
    "        return search_content\n",
    "        \n",
    "\n",
    "    def ask_assistant(self, next_user_prompt):\n",
    "        [self.conversation_history.append(x) for x in next_user_prompt]\n",
    "        assistant_response = self._get_assistant_response(self.conversation_history)\n",
    "        \n",
    "        # Answer normally unless the trigger sequence is used \"searching_for_answers\"\n",
    "        if 'searching for answers' in assistant_response['content'].lower():\n",
    "            question_extract = openai.Completion.create(model=COMPLETIONS_MODEL,prompt=f\"Extract the user's \\\n",
    "                                                        latest question from this conversation: {self.conversation_history}.\")\n",
    "            search_result = self._get_search_results(question_extract['choices'][0]['text'])\n",
    "            \n",
    "            # We insert an extra system prompt here to give fresh context to the Chatbot on how to use the Redis results\n",
    "            # In this instance we add it to the conversation history, but in production it may be better to hide\n",
    "            self.conversation_history.insert(-1,{\"role\": 'system',\"content\": f\"Answer the user's question using this content: {search_result}. \\\n",
    "                                                 If you cannot answer the question, say 'Sorry, I don't know the answer to this one'\"})\n",
    "            #[self.conversation_history.append(x) for x in next_user_prompt]\n",
    "            \n",
    "            assistant_response = self._get_assistant_response(self.conversation_history)\n",
    "            print(next_user_prompt)\n",
    "            print(assistant_response)\n",
    "            self.conversation_history.append(assistant_response)\n",
    "            return assistant_response\n",
    "        else:\n",
    "            self.conversation_history.append(assistant_response)\n",
    "            return assistant_response\n",
    "            \n",
    "        \n",
    "    def pretty_print_conversation_history(self, colorize_assistant_replies=True):\n",
    "        for entry in self.conversation_history:\n",
    "            if entry['role'] == 'system':\n",
    "                pass\n",
    "            else:\n",
    "                prefix = entry['role']\n",
    "                content = entry['content']\n",
    "                output = colored(prefix +':\\n' + content, 'green') if colorize_assistant_replies and entry['role'] == 'assistant' else prefix +':\\n' + content\n",
    "                #prefix = entry['role']\n",
    "                print(output)"
   ]
  },
  {
   "cell_type": "code",
   "execution_count": 37,
   "metadata": {},
   "outputs": [
    {
     "data": {
      "text/plain": [
       "{'role': 'assistant',\n",
       " 'content': 'Hello! Thank you for asking. The Gptverse platform is a decentralized platform that utilizes artificial intelligence and blockchain technology to create a virtual world where users can interact with each other and with AI-powered entities. It allows users to create, share, and monetize their own AI-generated content, such as chatbots, games, and virtual assistants. Would you like more information about any specific aspect of the platform?'}"
      ]
     },
     "execution_count": 37,
     "metadata": {},
     "output_type": "execute_result"
    }
   ],
   "source": [
    "conversation = RetrievalAssistant()\n",
    "messages = []\n",
    "system_message = Message('system',system_prompt)\n",
    "user_message = Message('user','What is the gptverse platform?')\n",
    "messages.append(system_message.message())\n",
    "messages.append(user_message.message())\n",
    "response_message = conversation.ask_assistant(messages)\n",
    "response_message"
   ]
  },
  {
   "cell_type": "code",
   "execution_count": 40,
   "metadata": {},
   "outputs": [
    {
     "data": {
      "text/plain": [
       "{'role': 'assistant',\n",
       " 'content': 'Certainly! While all three platforms are metaverse platforms, there are some key differences between them.\\n\\nMANA, or Decentraland, is a virtual world that is built on the Ethereum blockchain. It allows users to create and monetize their own content, such as games and experiences, and interact with other users in the virtual world. However, Decentraland does not have a strong focus on artificial intelligence, and its content creation tools are not as advanced as those offered by the Gptverse platform.\\n\\nSAND, or The Sandbox, is another metaverse platform that allows users to create and monetize their own content, such as games and experiences. It also has a strong focus on user-generated content, and its content creation tools are more advanced than those offered by Decentraland. However, like Decentraland, The Sandbox does not have a strong focus on artificial intelligence.\\n\\nThe Gptverse platform, on the other hand, is specifically designed to integrate artificial intelligence and blockchain technology to create a more immersive and interactive virtual world. It allows users to create, share, and monetize their own AI-generated content, such as chatbots, games, and virtual assistants. This focus on AI sets the Gptverse platform apart from other metaverse platforms, and provides users with unique opportunities to create and interact with AI-powered entities.'}"
      ]
     },
     "execution_count": 40,
     "metadata": {},
     "output_type": "execute_result"
    }
   ],
   "source": [
    "messages = []\n",
    "user_message = Message('user','Yes i want more detailed explanation, \\\n",
    "                for examples, can you compare MANA, SAND and our gptverse platform?')\n",
    "messages.append(user_message.message())\n",
    "response_message = conversation.ask_assistant(messages)\n",
    "response_message"
   ]
  },
  {
   "cell_type": "code",
   "execution_count": 41,
   "metadata": {},
   "outputs": [
    {
     "name": "stdout",
     "output_type": "stream",
     "text": [
      "user:\n",
      "What is the gptverse platform?\n",
      "\u001b[32massistant:\n",
      "Hello! Thank you for asking. The Gptverse platform is a decentralized platform that utilizes artificial intelligence and blockchain technology to create a virtual world where users can interact with each other and with AI-powered entities. It allows users to create, share, and monetize their own AI-generated content, such as chatbots, games, and virtual assistants. Would you like more information about any specific aspect of the platform?\u001b[0m\n",
      "user:\n",
      "How can i use this platform\n",
      "\u001b[32massistant:\n",
      "To use the Gptverse platform, you can create an account on the website and start exploring the different features and functionalities. You can create your own AI-generated content, such as chatbots, games, and virtual assistants, and share them with other users on the platform. You can also interact with other users and AI-powered entities in the virtual world. Additionally, you can earn rewards for your contributions to the platform, such as tokens that can be used to purchase other content or services. Is there anything else you would like to know about using the Gptverse platform?\u001b[0m\n",
      "user:\n",
      "Waht is the differences gptverse platform and other big metvaerse platforms?\n",
      "\u001b[32massistant:\n",
      "The Gptverse platform is unique in that it focuses on the integration of artificial intelligence and blockchain technology to create a more immersive and interactive virtual world. While other big metaverse platforms may also offer AI-powered features, the Gptverse platform is specifically designed to allow users to create, share, and monetize their own AI-generated content. Additionally, the Gptverse platform is decentralized, meaning that it is not controlled by any single entity or organization, which can provide greater transparency and security for users. Would you like more information about any specific differences between the Gptverse platform and other metaverse platforms?\u001b[0m\n",
      "user:\n",
      "Yes i want o more detailed explanation, for examples, can you compare MANA, SAND and our gptverse platform?\n",
      "\u001b[32massistant:\n",
      "Certainly! While all three platforms are metaverse platforms, there are some key differences between them.\n",
      "\n",
      "MANA, or Decentraland, is a virtual world that is built on the Ethereum blockchain. It allows users to create and monetize their own content, such as games and experiences, and interact with other users in the virtual world. However, Decentraland does not have a strong focus on artificial intelligence, and its content creation tools are not as advanced as those offered by the Gptverse platform.\n",
      "\n",
      "SAND, or The Sandbox, is another metaverse platform that allows users to create and monetize their own content, such as games and experiences. It also has a strong focus on user-generated content, and its content creation tools are more advanced than those offered by Decentraland. However, like Decentraland, The Sandbox does not have a strong focus on artificial intelligence.\n",
      "\n",
      "The Gptverse platform, on the other hand, is specifically designed to integrate artificial intelligence and blockchain technology to create a more immersive and interactive virtual world. It allows users to create, share, and monetize their own AI-generated content, such as chatbots, games, and virtual assistants. This focus on AI sets the Gptverse platform apart from other metaverse platforms, and provides users with unique opportunities to create and interact with AI-powered entities.\u001b[0m\n"
     ]
    }
   ],
   "source": [
    "conversation.pretty_print_conversation_history()"
   ]
  },
  {
   "cell_type": "code",
   "execution_count": null,
   "metadata": {},
   "outputs": [],
   "source": []
  }
 ],
 "metadata": {
  "kernelspec": {
   "display_name": "llm-study-venv",
   "language": "python",
   "name": "python3"
  },
  "language_info": {
   "codemirror_mode": {
    "name": "ipython",
    "version": 3
   },
   "file_extension": ".py",
   "mimetype": "text/x-python",
   "name": "python",
   "nbconvert_exporter": "python",
   "pygments_lexer": "ipython3",
   "version": "3.8.1"
  },
  "orig_nbformat": 4
 },
 "nbformat": 4,
 "nbformat_minor": 2
}
