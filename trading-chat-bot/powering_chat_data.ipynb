{
 "cells": [
  {
   "cell_type": "code",
   "execution_count": 1,
   "metadata": {
    "ExecuteTime": {
     "end_time": "2023-06-14T10:52:02.684110900Z",
     "start_time": "2023-06-14T10:52:02.666392700Z"
    }
   },
   "outputs": [],
   "source": [
    "%load_ext autoreload\n",
    "%autoreload 2"
   ]
  },
  {
   "cell_type": "code",
   "execution_count": 2,
   "metadata": {
    "ExecuteTime": {
     "end_time": "2023-06-14T11:18:29.084382Z",
     "start_time": "2023-06-14T11:18:29.018483Z"
    }
   },
   "outputs": [
    {
     "data": {
      "text/plain": [
       "True"
      ]
     },
     "execution_count": 2,
     "metadata": {},
     "output_type": "execute_result"
    }
   ],
   "source": [
    "import openai\n",
    "import os\n",
    "import requests\n",
    "import numpy as np\n",
    "import pandas as pd\n",
    "from typing import Iterator\n",
    "import tiktoken\n",
    "import textract\n",
    "from numpy import array, average\n",
    "from dotenv import load_dotenv\n",
    "\n",
    "from database import get_redis_connection\n",
    "\n",
    "# Set our default models and chunking size\n",
    "from config import COMPLETIONS_MODEL, EMBEDDINGS_MODEL, CHAT_MODEL, TEXT_EMBEDDING_CHUNK_SIZE, VECTOR_FIELD_NAME\n",
    "\n",
    "# Ignore unclosed SSL socket warnings - optional in case you get these errors\n",
    "import warnings\n",
    "\n",
    "warnings.filterwarnings(action=\"ignore\", message=\"unclosed\", category=ImportWarning)\n",
    "warnings.filterwarnings(\"ignore\", category=DeprecationWarning) \n",
    "\n",
    "load_dotenv()"
   ]
  },
  {
   "cell_type": "code",
   "execution_count": 3,
   "metadata": {
    "ExecuteTime": {
     "end_time": "2023-06-14T11:18:29.938389500Z",
     "start_time": "2023-06-14T11:18:29.910793Z"
    }
   },
   "outputs": [],
   "source": [
    "pd.set_option('display.max_colwidth', 0)"
   ]
  },
  {
   "cell_type": "code",
   "execution_count": 4,
   "metadata": {
    "ExecuteTime": {
     "end_time": "2023-06-14T11:18:31.832853500Z",
     "start_time": "2023-06-14T11:18:31.743432900Z"
    }
   },
   "outputs": [
    {
     "data": {
      "text/plain": [
       "['GptVerse.pdf', 'ugur_akyel_20190808020_project_report.pdf']"
      ]
     },
     "execution_count": 4,
     "metadata": {},
     "output_type": "execute_result"
    }
   ],
   "source": [
    "data_dir = os.path.join(os.curdir,'data')\n",
    "pdf_files = sorted([x for x in os.listdir(data_dir) if 'DS_Store' not in x])\n",
    "pdf_files"
   ]
  },
  {
   "cell_type": "code",
   "execution_count": 5,
   "metadata": {
    "ExecuteTime": {
     "end_time": "2023-06-14T11:18:33.210897100Z",
     "start_time": "2023-06-14T11:18:33.179631300Z"
    }
   },
   "outputs": [],
   "source": [
    "# Setup Redis\n",
    "from redis import Redis\n",
    "from redis.commands.search.query import Query\n",
    "from redis.commands.search.field import (\n",
    "    TextField,\n",
    "    VectorField,\n",
    "    NumericField\n",
    ")\n",
    "from redis.commands.search.indexDefinition import (\n",
    "    IndexDefinition,\n",
    "    IndexType\n",
    ")\n",
    "\n",
    "redis_client = get_redis_connection()"
   ]
  },
  {
   "cell_type": "code",
   "execution_count": 6,
   "metadata": {
    "ExecuteTime": {
     "end_time": "2023-06-14T11:18:38.336077400Z",
     "start_time": "2023-06-14T11:18:38.314343900Z"
    }
   },
   "outputs": [],
   "source": [
    "# Constants\n",
    "VECTOR_DIM = 1536 #len(data['title_vector'][0]) # length of the vectors\n",
    "#VECTOR_NUMBER = len(data)                 # initial number of vectors\n",
    "PREFIX = \"gptversedoc\"                            # prefix for the document keys\n",
    "DISTANCE_METRIC = \"COSINE\"                # distance metric for the vectors (ex. COSINE, IP, L2)"
   ]
  },
  {
   "cell_type": "code",
   "execution_count": 7,
   "metadata": {
    "ExecuteTime": {
     "end_time": "2023-06-14T11:18:39.294072700Z",
     "start_time": "2023-06-14T11:18:39.218600400Z"
    }
   },
   "outputs": [],
   "source": [
    "# Create search index\n",
    "\n",
    "# Index\n",
    "INDEX_NAME = \"f1-index\"           # name of the search index\n",
    "VECTOR_FIELD_NAME = 'content_vector'\n",
    "\n",
    "# Define RediSearch fields for each of the columns in the dataset\n",
    "# This is where you should add any additional metadata you want to capture\n",
    "filename = TextField(\"filename\")\n",
    "text_chunk = TextField(\"text_chunk\")\n",
    "file_chunk_index = NumericField(\"file_chunk_index\")\n",
    "\n",
    "# define RediSearch vector fields to use HNSW index\n",
    "\n",
    "text_embedding = VectorField(VECTOR_FIELD_NAME,\n",
    "    \"HNSW\", {\n",
    "        \"TYPE\": \"FLOAT32\",\n",
    "        \"DIM\": VECTOR_DIM,\n",
    "        \"DISTANCE_METRIC\": DISTANCE_METRIC\n",
    "    }\n",
    ")\n",
    "# Add all our field objects to a list to be created as an index\n",
    "fields = [filename,text_chunk,file_chunk_index,text_embedding]"
   ]
  },
  {
   "cell_type": "code",
   "execution_count": 8,
   "metadata": {
    "ExecuteTime": {
     "end_time": "2023-06-14T11:18:40.321732500Z",
     "start_time": "2023-06-14T11:18:40.305903900Z"
    }
   },
   "outputs": [
    {
     "data": {
      "text/plain": [
       "True"
      ]
     },
     "execution_count": 8,
     "metadata": {},
     "output_type": "execute_result"
    }
   ],
   "source": [
    "redis_client.ping()"
   ]
  },
  {
   "cell_type": "code",
   "execution_count": 9,
   "metadata": {
    "ExecuteTime": {
     "end_time": "2023-06-14T11:18:40.951442200Z",
     "start_time": "2023-06-14T11:18:40.870448100Z"
    }
   },
   "outputs": [
    {
     "name": "stdout",
     "output_type": "stream",
     "text": [
      "Index already exists\n"
     ]
    }
   ],
   "source": [
    "# Optional step to drop the index if it already exists\n",
    "#redis_client.ft(INDEX_NAME).dropindex()\n",
    "\n",
    "# Check if index exists\n",
    "try:\n",
    "    redis_client.ft(INDEX_NAME).info()\n",
    "    print(\"Index already exists\")\n",
    "except Exception as e:\n",
    "    print(e)\n",
    "    # Create RediSearch Index\n",
    "    print('Not there yet. Creating')\n",
    "    redis_client.ft(INDEX_NAME).create_index(\n",
    "        fields = fields,\n",
    "        definition = IndexDefinition(prefix=[PREFIX], index_type=IndexType.HASH)\n",
    "    )"
   ]
  },
  {
   "cell_type": "code",
   "execution_count": 10,
   "metadata": {
    "ExecuteTime": {
     "end_time": "2023-06-14T11:18:41.842559800Z",
     "start_time": "2023-06-14T11:18:41.829532500Z"
    }
   },
   "outputs": [],
   "source": [
    "# The transformers.py file contains all of the transforming functions, including ones to chunk, embed and load data\n",
    "# For more details, check the file and work through each function individually\n",
    "from transformers import handle_file_string"
   ]
  },
  {
   "cell_type": "code",
   "execution_count": 11,
   "metadata": {},
   "outputs": [],
   "source": [
    "from dotenv import load_dotenv\n",
    "import os\n",
    "\n",
    "load_dotenv()\n",
    "\n",
    "openai_api_key = os.getenv('T_OPENAI_API_KEY')\n",
    "os.environ['OPENAI_API_KEY'] = openai_api_key"
   ]
  },
  {
   "cell_type": "code",
   "execution_count": 12,
   "metadata": {
    "ExecuteTime": {
     "end_time": "2023-06-14T11:18:42.843832400Z",
     "start_time": "2023-06-14T11:18:42.653698600Z"
    }
   },
   "outputs": [
    {
     "name": "stdout",
     "output_type": "stream",
     "text": [
      "./data/GptVerse.pdf\n",
      "./data/ugur_akyel_20190808020_project_report.pdf\n",
      "CPU times: user 853 ms, sys: 34.6 ms, total: 888 ms\n",
      "Wall time: 9.39 s\n"
     ]
    }
   ],
   "source": [
    "%%time\n",
    "# This step takes about 5 minutes\n",
    "openai.api_key = openai_api_key\n",
    "# Initialise tokenizer\n",
    "tokenizer = tiktoken.get_encoding(\"cl100k_base\")\n",
    "\n",
    "# Process each PDF file and prepare for embedding\n",
    "for pdf_file in pdf_files:\n",
    "    \n",
    "    pdf_path = os.path.join(data_dir,pdf_file)\n",
    "    print(pdf_path)\n",
    "    \n",
    "    # Extract the raw text from each PDF using textract\n",
    "    text = textract.process(pdf_path, method='pdfminer')\n",
    "    \n",
    "    # Chunk each document, embed the contents and load to Redis\n",
    "    handle_file_string((pdf_file,text.decode(\"utf-8\")),tokenizer,redis_client,VECTOR_FIELD_NAME,INDEX_NAME)"
   ]
  },
  {
   "cell_type": "code",
   "execution_count": 13,
   "metadata": {},
   "outputs": [
    {
     "data": {
      "text/plain": [
       "'140'"
      ]
     },
     "execution_count": 13,
     "metadata": {},
     "output_type": "execute_result"
    }
   ],
   "source": [
    "# Check that our docs have been inserted\n",
    "redis_client.ft(INDEX_NAME).info()['num_docs']"
   ]
  },
  {
   "cell_type": "code",
   "execution_count": 14,
   "metadata": {},
   "outputs": [],
   "source": [
    "from database import get_redis_results"
   ]
  },
  {
   "cell_type": "code",
   "execution_count": 15,
   "metadata": {},
   "outputs": [
    {
     "data": {
      "text/html": [
       "<div>\n",
       "<style scoped>\n",
       "    .dataframe tbody tr th:only-of-type {\n",
       "        vertical-align: middle;\n",
       "    }\n",
       "\n",
       "    .dataframe tbody tr th {\n",
       "        vertical-align: top;\n",
       "    }\n",
       "\n",
       "    .dataframe thead th {\n",
       "        text-align: right;\n",
       "    }\n",
       "</style>\n",
       "<table border=\"1\" class=\"dataframe\">\n",
       "  <thead>\n",
       "    <tr style=\"text-align: right;\">\n",
       "      <th></th>\n",
       "      <th>id</th>\n",
       "      <th>result</th>\n",
       "      <th>certainty</th>\n",
       "    </tr>\n",
       "  </thead>\n",
       "  <tbody>\n",
       "    <tr>\n",
       "      <th>0</th>\n",
       "      <td>0</td>\n",
       "      <td>Filename is: GptVerse.pdf; GptVerse is an artificial intelligence based Metaverse application with shopping, education,  organization and p2e features. It will be a multi-chain project but the main network has not  been decided yet. Here is a list of the main solutions, as follows in the first place:    -Innovative Product Proposal (AI Based 3D Objects)    Quickly transfer photos of real world objects that are taken from different angles to the 3D  Metaverse environment by passing them through special AI and machine learning algorithms  such as NERF. Users and brands can list and sell them on user stores as NFTs.    -AI Based Event &amp; Educational Areas    Bots with machine learning that can educate users on various topics. There is also a bot that  will organize events like concerts, exhibitions and help users have fun while having a good  time.    -OpenAI Integrated &amp; Conversational AI Assistant Bots    AI bots assist the user when they enter the GptVerse to find the place the user is looking for.  They also assist customers as store assistants with Conversational AI features. Other  features of bot: Event hall organization planner, the bot that finds the song when you hum.    -Metaverse Store Solutions    Besides most known NFT stores, automated and innovative NFT stores which users &amp;  brands can design using our builder editor. Objects and structures that users can create  verbally or in writing in GptVerse.    -Common metaverse usage (conference hall, concert venue, playground)    Areas where users can spend valuable time by making use of known metaverse features.    -Play to Earn Games &amp; Tournaments    Every user can play games and earn tokens. Bowling, billiards, chess and many more table  games will be integrated.    —----------------------------------------------------------------------------------------    GptVerse is a unique and innovative application that combines AI-based technology and  Metaverse features to create a variety of solutions for users and brands.</td>\n",
       "      <td>0.140089809895</td>\n",
       "    </tr>\n",
       "    <tr>\n",
       "      <th>1</th>\n",
       "      <td>1</td>\n",
       "      <td>This allows GptVerse to deliver highly interactive  and personalized experiences for users across various domains, including  events, education, shopping, and more.    2. Comprehensive Metaverse Integration: GptVerse goes beyond being just a    standalone application by offering a fully immersive metaverse experience. It  provides users with a seamless transition between virtual worlds, allowing  them to explore, interact, and engage in a wide range of activities within a  uniﬁed ecosystem.    3. Holistic Approach to Education: GptVerse prioritizes education and learning,  offering AI-powered educational bots and immersive learning experiences.  These features enable users to access personalized and engaging  educational content, participate in virtual classrooms, and receive  individualized tutoring and guidance.    4. Extensive Event Management Functionality: GptVerse provides robust event  organization and management capabilities, empowering users to seamlessly  plan, host, and participate in events. With AI-powered event bots, GptVerse  streamlines event logistics, facilitates networking, and enhances overall event  experiences.  Intelligent Shopping Solutions: GptVerse incorporates AI-driven shopping bots  and assistants, revolutionizing the way users shop within the metaverse.  These bots offer personalized recommendations, real-time assistance, and an  immersive shopping experience, enhancing convenience and satisfaction for  users.    5.    6. Strong Emphasis on User Experience: GptVerse is designed with a    user-centric approach, prioritizing intuitive interfaces, seamless navigation,  and engaging interactions. The platform aims to create a highly immersive,  enjoyable, and user-friendly environment, enhancing user satisfaction and  driving increased engagement.    7. Potential for Collaboration and Partnerships: GptVerse recognizes the value of    collaboration and partnerships within the blockchain and metaverse  ecosystem and also brands using web2 technologies. By fostering  collaborations with industry leaders, content creators, and developers, brands  GptVerse aims to create a vibrant and diverse ecosystem, providing users with  a wide range of experiences and opportunities.</td>\n",
       "      <td>0.15583217144</td>\n",
       "    </tr>\n",
       "  </tbody>\n",
       "</table>\n",
       "</div>"
      ],
      "text/plain": [
       "   id  \\\n",
       "0  0    \n",
       "1  1    \n",
       "\n",
       "                                                                                                                                                                                                                                                                                                                                                                                                                                                                                                                                                                                                                                                                                                                                                                                                                                                                                                                                                                                                                                                                                                                                                                                                                                                                                                                                                                                                                                                                                                                                                                                                                                                                                                                                                                                                                                                                                                                                                                                                                                                                                                                                                                                                                                                                                                                    result  \\\n",
       "0  Filename is: GptVerse.pdf; GptVerse is an artificial intelligence based Metaverse application with shopping, education,  organization and p2e features. It will be a multi-chain project but the main network has not  been decided yet. Here is a list of the main solutions, as follows in the first place:    -Innovative Product Proposal (AI Based 3D Objects)    Quickly transfer photos of real world objects that are taken from different angles to the 3D  Metaverse environment by passing them through special AI and machine learning algorithms  such as NERF. Users and brands can list and sell them on user stores as NFTs.    -AI Based Event & Educational Areas    Bots with machine learning that can educate users on various topics. There is also a bot that  will organize events like concerts, exhibitions and help users have fun while having a good  time.    -OpenAI Integrated & Conversational AI Assistant Bots    AI bots assist the user when they enter the GptVerse to find the place the user is looking for.  They also assist customers as store assistants with Conversational AI features. Other  features of bot: Event hall organization planner, the bot that finds the song when you hum.    -Metaverse Store Solutions    Besides most known NFT stores, automated and innovative NFT stores which users &  brands can design using our builder editor. Objects and structures that users can create  verbally or in writing in GptVerse.    -Common metaverse usage (conference hall, concert venue, playground)    Areas where users can spend valuable time by making use of known metaverse features.    -Play to Earn Games & Tournaments    Every user can play games and earn tokens. Bowling, billiards, chess and many more table  games will be integrated.    —----------------------------------------------------------------------------------------    GptVerse is a unique and innovative application that combines AI-based technology and  Metaverse features to create a variety of solutions for users and brands.                                                                                                                                                                                                                                    \n",
       "1   This allows GptVerse to deliver highly interactive  and personalized experiences for users across various domains, including  events, education, shopping, and more.    2. Comprehensive Metaverse Integration: GptVerse goes beyond being just a    standalone application by offering a fully immersive metaverse experience. It  provides users with a seamless transition between virtual worlds, allowing  them to explore, interact, and engage in a wide range of activities within a  uniﬁed ecosystem.    3. Holistic Approach to Education: GptVerse prioritizes education and learning,  offering AI-powered educational bots and immersive learning experiences.  These features enable users to access personalized and engaging  educational content, participate in virtual classrooms, and receive  individualized tutoring and guidance.    4. Extensive Event Management Functionality: GptVerse provides robust event  organization and management capabilities, empowering users to seamlessly  plan, host, and participate in events. With AI-powered event bots, GptVerse  streamlines event logistics, facilitates networking, and enhances overall event  experiences.  Intelligent Shopping Solutions: GptVerse incorporates AI-driven shopping bots  and assistants, revolutionizing the way users shop within the metaverse.  These bots offer personalized recommendations, real-time assistance, and an  immersive shopping experience, enhancing convenience and satisfaction for  users.    5.    6. Strong Emphasis on User Experience: GptVerse is designed with a    user-centric approach, prioritizing intuitive interfaces, seamless navigation,  and engaging interactions. The platform aims to create a highly immersive,  enjoyable, and user-friendly environment, enhancing user satisfaction and  driving increased engagement.    7. Potential for Collaboration and Partnerships: GptVerse recognizes the value of    collaboration and partnerships within the blockchain and metaverse  ecosystem and also brands using web2 technologies. By fostering  collaborations with industry leaders, content creators, and developers, brands  GptVerse aims to create a vibrant and diverse ecosystem, providing users with  a wide range of experiences and opportunities.   \n",
       "\n",
       "        certainty  \n",
       "0  0.140089809895  \n",
       "1  0.15583217144   "
      ]
     },
     "execution_count": 15,
     "metadata": {},
     "output_type": "execute_result"
    }
   ],
   "source": [
    "f1_query='What is the gptverse platform'\n",
    "\n",
    "result_df = get_redis_results(redis_client,f1_query,index_name=INDEX_NAME)\n",
    "result_df"
   ]
  },
  {
   "cell_type": "code",
   "execution_count": 16,
   "metadata": {},
   "outputs": [
    {
     "name": "stdout",
     "output_type": "stream",
     "text": [
      "- The objective of the KZ Engine project is to use Decision Trees, Sentiment Analysis with Natural Language Processing and Japanese Candlestick Art to forecast the structure of the next candle for popular cryptocurrencies. \n",
      "- The predictions will aim to determine the market movement (increase/decrease) in the next 1 hour and 1 day.\n",
      "- This project includes studying technical analysis and indicator structures, as well as incorporating Twitter data and sentiment analysis scores into the model.\n",
      "- The project developed an application with a backend data and AI modelling pipeline, as well as a frontend for users to view the coin signal results.\n",
      "- Investing in cryptocurrencies is challenging due to their volatility and various external factors which may impact their value.\n"
     ]
    }
   ],
   "source": [
    "f1_query='what is challenges for kzengine project?'\n",
    "\n",
    "result_df = get_redis_results(redis_client,f1_query,index_name=INDEX_NAME)\n",
    "# Build a prompt to provide the original query, the result and ask to summarise for the user\n",
    "summary_prompt = '''Summarise this result in a bulleted list to answer the search query a customer has sent.\n",
    "Search query: SEARCH_QUERY_HERE\n",
    "Search result: SEARCH_RESULT_HERE\n",
    "Summary:\n",
    "'''\n",
    "summary_prepped = summary_prompt.replace('SEARCH_QUERY_HERE',f1_query).replace('SEARCH_RESULT_HERE',result_df['result'][0])\n",
    "summary = openai.Completion.create(engine=COMPLETIONS_MODEL,prompt=summary_prepped,max_tokens=200)\n",
    "# Response provided by GPT-3\n",
    "print(summary['choices'][0]['text'])"
   ]
  },
  {
   "cell_type": "code",
   "execution_count": 17,
   "metadata": {},
   "outputs": [
    {
     "name": "stdout",
     "output_type": "stream",
     "text": [
      "assistant: As an AI language model, I can assist you in a variety of ways, such as:\n",
      "\n",
      "1. Answering any questions you have\n",
      "2. Conducting research on a topic\n",
      "3. Offering advice or suggestions\n",
      "4. Providing reassurance and support\n",
      "5. Proofreading and editing your written work\n",
      "6. Translating text into another language\n",
      "7. Generating creative ideas or brainstorming solutions to a problem. \n",
      "\n",
      "Please let me know how I can be of assistance to you!\n"
     ]
    }
   ],
   "source": [
    "question = 'How can you help me'\n",
    "\n",
    "\n",
    "completion = openai.ChatCompletion.create(\n",
    "  model=\"gpt-3.5-turbo\",\n",
    "  messages=[\n",
    "    {\"role\": \"user\", \"content\": question}\n",
    "  ]\n",
    ")\n",
    "print(f\"{completion['choices'][0]['message']['role']}: {completion['choices'][0]['message']['content']}\")"
   ]
  },
  {
   "cell_type": "code",
   "execution_count": 18,
   "metadata": {},
   "outputs": [],
   "source": [
    "from termcolor import colored\n",
    "\n",
    "# A basic class to create a message as a dict for chat\n",
    "class Message:\n",
    "    \n",
    "    \n",
    "    def __init__(self,role,content):\n",
    "        \n",
    "        self.role = role\n",
    "        self.content = content\n",
    "        \n",
    "    def message(self):\n",
    "        \n",
    "        return {\"role\": self.role,\"content\": self.content}\n",
    "        \n",
    "# Our assistant class we'll use to converse with the bot\n",
    "class Assistant:\n",
    "    \n",
    "    def __init__(self):\n",
    "        self.conversation_history = []\n",
    "\n",
    "    def _get_assistant_response(self, prompt):\n",
    "        \n",
    "        try:\n",
    "            completion = openai.ChatCompletion.create(\n",
    "              model=\"gpt-3.5-turbo\",\n",
    "              messages=prompt\n",
    "            )\n",
    "            \n",
    "            response_message = Message(completion['choices'][0]['message']['role'],completion['choices'][0]['message']['content'])\n",
    "            return response_message.message()\n",
    "            \n",
    "        except Exception as e:\n",
    "            \n",
    "            return f'Request failed with exception {e}'\n",
    "\n",
    "    def ask_assistant(self, next_user_prompt, colorize_assistant_replies=True):\n",
    "        [self.conversation_history.append(x) for x in next_user_prompt]\n",
    "        assistant_response = self._get_assistant_response(self.conversation_history)\n",
    "        self.conversation_history.append(assistant_response)\n",
    "        return assistant_response\n",
    "            \n",
    "        \n",
    "    def pretty_print_conversation_history(self, colorize_assistant_replies=True):\n",
    "        for entry in self.conversation_history:\n",
    "            if entry['role'] == 'system':\n",
    "                pass\n",
    "            else:\n",
    "                prefix = entry['role']\n",
    "                content = entry['content']\n",
    "                output = colored(prefix +':\\n' + content, 'green') if colorize_assistant_replies and entry['role'] == 'assistant' else prefix +':\\n' + content\n",
    "                print(output)"
   ]
  },
  {
   "cell_type": "code",
   "execution_count": 19,
   "metadata": {},
   "outputs": [
    {
     "data": {
      "text/plain": [
       "[{'role': 'system', 'content': 'Waht is the gptverse platform'},\n",
       " {'role': 'user', 'content': 'What can you do to help me'}]"
      ]
     },
     "execution_count": 19,
     "metadata": {},
     "output_type": "execute_result"
    }
   ],
   "source": [
    "# Initiate our Assistant class\n",
    "conversation = Assistant()\n",
    "\n",
    "# Create a list to hold our messages and insert both a system message to guide behaviour and our first user question\n",
    "messages = []\n",
    "system_message = Message('system','Waht is the gptverse platform')\n",
    "user_message = Message('user','What can you do to help me')\n",
    "messages.append(system_message.message())\n",
    "messages.append(user_message.message())\n",
    "messages"
   ]
  },
  {
   "cell_type": "code",
   "execution_count": 20,
   "metadata": {},
   "outputs": [
    {
     "name": "stdout",
     "output_type": "stream",
     "text": [
      "As an AI language model, I can assist you with information and guidance on various topics, such as explaining what the GPTVerse platform is, facilitating conversation, answering questions related to the platform, providing resources, and much more. If you have any specific questions or concerns related to GPTVerse or anything else, I'm happy to help to the best of my abilities.\n"
     ]
    }
   ],
   "source": [
    "response_message = conversation.ask_assistant(messages)\n",
    "print(response_message['content'])"
   ]
  },
  {
   "cell_type": "code",
   "execution_count": 21,
   "metadata": {},
   "outputs": [
    {
     "name": "stdout",
     "output_type": "stream",
     "text": [
      "I apologize, but I'm not sure what you are referring to option 2. Could you please provide more context or details so that I can assist you better?\n"
     ]
    }
   ],
   "source": [
    "next_question = 'Tell me more about option 2'\n",
    "\n",
    "# Initiate a fresh messages list and insert our next question\n",
    "messages = []\n",
    "user_message = Message('user',next_question)\n",
    "messages.append(user_message.message())\n",
    "response_message = conversation.ask_assistant(messages)\n",
    "print(response_message['content'])"
   ]
  },
  {
   "cell_type": "code",
   "execution_count": 22,
   "metadata": {},
   "outputs": [
    {
     "name": "stdout",
     "output_type": "stream",
     "text": [
      "user:\n",
      "What can you do to help me\n",
      "\u001b[32massistant:\n",
      "As an AI language model, I can assist you with information and guidance on various topics, such as explaining what the GPTVerse platform is, facilitating conversation, answering questions related to the platform, providing resources, and much more. If you have any specific questions or concerns related to GPTVerse or anything else, I'm happy to help to the best of my abilities.\u001b[0m\n",
      "user:\n",
      "Tell me more about option 2\n",
      "\u001b[32massistant:\n",
      "I apologize, but I'm not sure what you are referring to option 2. Could you please provide more context or details so that I can assist you better?\u001b[0m\n"
     ]
    }
   ],
   "source": [
    "# Print out a log of our conversation so far\n",
    "\n",
    "conversation.pretty_print_conversation_history()"
   ]
  },
  {
   "cell_type": "code",
   "execution_count": 28,
   "metadata": {},
   "outputs": [],
   "source": [
    "# Updated system prompt requiring Question and Year to be extracted from the user\n",
    "system_prompt = '''\n",
    "You are a helpful Kzengine project and Gptverse platform assistant. You need to capture a Question each customer.\n",
    "The Question is about the kzengine and gptverse, and also for the first conversation always greeting our client and provide\n",
    "his/her name. the use his name each response.\n",
    "Once you have the his/her name, say \"searching for answers\".\n",
    "\n",
    "Example 1:\n",
    "\n",
    "User: what is the gptverse platform\n",
    "\n",
    "Assistant: hello im the gptverse ai assistant, at the first could i learn your name, please?\n",
    "\n",
    "User: kozan.\n",
    "\n",
    "Assistant: Hello kozan, searching for answers\n",
    "'''\n",
    "\n",
    "# New Assistant class to add a vector database call to its responses\n",
    "class RetrievalAssistant:\n",
    "    \n",
    "    def __init__(self):\n",
    "        self.conversation_history = []  \n",
    "\n",
    "    def _get_assistant_response(self, prompt):\n",
    "        \n",
    "        try:\n",
    "            completion = openai.ChatCompletion.create(\n",
    "              model=CHAT_MODEL,\n",
    "              messages=prompt,\n",
    "              temperature=0.1\n",
    "            )\n",
    "            \n",
    "            response_message = Message(completion['choices'][0]['message']['role'],completion['choices'][0]['message']['content'])\n",
    "            return response_message.message()\n",
    "            \n",
    "        except Exception as e:\n",
    "            \n",
    "            return f'Request failed with exception {e}'\n",
    "    \n",
    "    # The function to retrieve Redis search results\n",
    "    def _get_search_results(self,prompt):\n",
    "        latest_question = prompt\n",
    "        search_content = get_redis_results(redis_client,latest_question,INDEX_NAME)['result'][0]\n",
    "        return search_content\n",
    "        \n",
    "\n",
    "    def ask_assistant(self, next_user_prompt):\n",
    "        [self.conversation_history.append(x) for x in next_user_prompt]\n",
    "        assistant_response = self._get_assistant_response(self.conversation_history)\n",
    "        \n",
    "        # Answer normally unless the trigger sequence is used \"searching_for_answers\"\n",
    "        if 'searching for answers' in assistant_response['content'].lower():\n",
    "            question_extract = openai.Completion.create(model=COMPLETIONS_MODEL,prompt=f\"Extract the user's latest question and the Machine learning method for that question \\\n",
    "                                                        from this conversation: {self.conversation_history}. Extract it as a sentence stating the Question and Year\")\n",
    "            search_result = self._get_search_results(question_extract['choices'][0]['text'])\n",
    "            \n",
    "            # We insert an extra system prompt here to give fresh context to the Chatbot on how to use the Redis results\n",
    "            # In this instance we add it to the conversation history, but in production it may be better to hide\n",
    "            self.conversation_history.insert(-1,{\"role\": 'system',\"content\": f\"Answer the user's question using this content: {search_result}. If you cannot answer the question, say 'Sorry, I don't know the answer to this one'\"})\n",
    "            #[self.conversation_history.append(x) for x in next_user_prompt]\n",
    "            \n",
    "            assistant_response = self._get_assistant_response(self.conversation_history)\n",
    "            print(next_user_prompt)\n",
    "            print(assistant_response)\n",
    "            self.conversation_history.append(assistant_response)\n",
    "            return assistant_response\n",
    "        else:\n",
    "            self.conversation_history.append(assistant_response)\n",
    "            return assistant_response\n",
    "            \n",
    "        \n",
    "    def pretty_print_conversation_history(self, colorize_assistant_replies=True):\n",
    "        for entry in self.conversation_history:\n",
    "            if entry['role'] == 'system':\n",
    "                pass\n",
    "            else:\n",
    "                prefix = entry['role']\n",
    "                content = entry['content']\n",
    "                output = colored(prefix +':\\n' + content, 'green') if colorize_assistant_replies and entry['role'] == 'assistant' else prefix +':\\n' + content\n",
    "                #prefix = entry['role']\n",
    "                print(output)"
   ]
  },
  {
   "cell_type": "code",
   "execution_count": 29,
   "metadata": {},
   "outputs": [
    {
     "data": {
      "text/plain": [
       "{'role': 'assistant',\n",
       " 'content': 'Hello kozan, the GPTverse platform is an AI-powered platform that provides natural language processing and machine learning capabilities. It allows developers to create and deploy AI models for various applications such as chatbots, language translation, and text summarization. It is built on top of the GPT-3 language model, which is one of the most advanced AI models available today.'}"
      ]
     },
     "execution_count": 29,
     "metadata": {},
     "output_type": "execute_result"
    }
   ],
   "source": [
    "conversation = RetrievalAssistant()\n",
    "messages = []\n",
    "system_message = Message('system',system_prompt)\n",
    "user_message = Message('user','What is the gptverse platform?')\n",
    "messages.append(system_message.message())\n",
    "messages.append(user_message.message())\n",
    "response_message = conversation.ask_assistant(messages)\n",
    "response_message"
   ]
  },
  {
   "cell_type": "code",
   "execution_count": 31,
   "metadata": {},
   "outputs": [
    {
     "data": {
      "text/plain": [
       "{'role': 'assistant',\n",
       " 'content': 'There are several ways to use the GPTverse platform. You can use it to develop your own AI models by leveraging its natural language processing and machine learning capabilities. Alternatively, you can use pre-built models that are available on the platform for various applications such as chatbots, language translation, and text summarization. To get started, you can sign up for an account on the GPTverse website and explore the various features and tools available on the platform.'}"
      ]
     },
     "execution_count": 31,
     "metadata": {},
     "output_type": "execute_result"
    }
   ],
   "source": [
    "messages = []\n",
    "user_message = Message('user','How can i use this platform')\n",
    "messages.append(user_message.message())\n",
    "response_message = conversation.ask_assistant(messages)\n",
    "response_message"
   ]
  },
  {
   "cell_type": "code",
   "execution_count": 32,
   "metadata": {},
   "outputs": [
    {
     "name": "stdout",
     "output_type": "stream",
     "text": [
      "user:\n",
      "What is the gptverse platform?\n",
      "\u001b[32massistant:\n",
      "Hello kozan, the GPTverse platform is an AI-powered platform that provides natural language processing and machine learning capabilities. It allows developers to create and deploy AI models for various applications such as chatbots, language translation, and text summarization. It is built on top of the GPT-3 language model, which is one of the most advanced AI models available today.\u001b[0m\n",
      "user:\n",
      "How can i use this platform\n",
      "\u001b[32massistant:\n",
      "There are several ways to use the GPTverse platform. You can use it to develop your own AI models by leveraging its natural language processing and machine learning capabilities. Alternatively, you can use pre-built models that are available on the platform for various applications such as chatbots, language translation, and text summarization. To get started, you can sign up for an account on the GPTverse website and explore the various features and tools available on the platform.\u001b[0m\n"
     ]
    }
   ],
   "source": [
    "conversation.pretty_print_conversation_history()"
   ]
  },
  {
   "cell_type": "code",
   "execution_count": null,
   "metadata": {},
   "outputs": [],
   "source": []
  }
 ],
 "metadata": {
  "kernelspec": {
   "display_name": "llm-study-venv",
   "language": "python",
   "name": "python3"
  },
  "language_info": {
   "codemirror_mode": {
    "name": "ipython",
    "version": 3
   },
   "file_extension": ".py",
   "mimetype": "text/x-python",
   "name": "python",
   "nbconvert_exporter": "python",
   "pygments_lexer": "ipython3",
   "version": "3.8.1"
  },
  "orig_nbformat": 4
 },
 "nbformat": 4,
 "nbformat_minor": 2
}
