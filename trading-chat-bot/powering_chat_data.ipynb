{
 "cells": [
  {
   "cell_type": "code",
   "execution_count": 1,
   "metadata": {
    "ExecuteTime": {
     "end_time": "2023-06-14T10:52:02.684110900Z",
     "start_time": "2023-06-14T10:52:02.666392700Z"
    }
   },
   "outputs": [],
   "source": [
    "%load_ext autoreload\n",
    "%autoreload 2"
   ]
  },
  {
   "cell_type": "code",
   "execution_count": 2,
   "metadata": {
    "ExecuteTime": {
     "end_time": "2023-06-14T10:52:05.691784100Z",
     "start_time": "2023-06-14T10:52:05.052354200Z"
    }
   },
   "outputs": [
    {
     "data": {
      "text/plain": "True"
     },
     "execution_count": 2,
     "metadata": {},
     "output_type": "execute_result"
    }
   ],
   "source": [
    "import openai\n",
    "import os\n",
    "import requests\n",
    "import numpy as np\n",
    "import pandas as pd\n",
    "from typing import Iterator\n",
    "import tiktoken\n",
    "import textract\n",
    "from numpy import array, average\n",
    "from dotenv import load_dotenv\n",
    "\n",
    "from database import get_redis_connection\n",
    "\n",
    "# Set our default models and chunking size\n",
    "from config import COMPLETIONS_MODEL, EMBEDDINGS_MODEL, CHAT_MODEL, TEXT_EMBEDDING_CHUNK_SIZE, VECTOR_FIELD_NAME\n",
    "\n",
    "# Ignore unclosed SSL socket warnings - optional in case you get these errors\n",
    "import warnings\n",
    "\n",
    "warnings.filterwarnings(action=\"ignore\", message=\"unclosed\", category=ImportWarning)\n",
    "warnings.filterwarnings(\"ignore\", category=DeprecationWarning) \n",
    "\n",
    "load_dotenv()"
   ]
  },
  {
   "cell_type": "code",
   "execution_count": 3,
   "metadata": {
    "ExecuteTime": {
     "end_time": "2023-06-14T10:52:06.312138Z",
     "start_time": "2023-06-14T10:52:06.293250600Z"
    }
   },
   "outputs": [],
   "source": [
    "pd.set_option('display.max_colwidth', 0)"
   ]
  },
  {
   "cell_type": "code",
   "execution_count": 4,
   "metadata": {
    "ExecuteTime": {
     "end_time": "2023-06-14T10:52:07.168201800Z",
     "start_time": "2023-06-14T10:52:07.150167Z"
    }
   },
   "outputs": [
    {
     "data": {
      "text/plain": "['GptVerse.pdf', 'ugur_akyel_20190808020_project_report.pdf']"
     },
     "execution_count": 4,
     "metadata": {},
     "output_type": "execute_result"
    }
   ],
   "source": [
    "data_dir = os.path.join(os.curdir,'data')\n",
    "pdf_files = sorted([x for x in os.listdir(data_dir) if 'DS_Store' not in x])\n",
    "pdf_files"
   ]
  },
  {
   "cell_type": "code",
   "execution_count": 5,
   "metadata": {
    "ExecuteTime": {
     "end_time": "2023-06-14T10:52:09.061895800Z",
     "start_time": "2023-06-14T10:52:09.037360400Z"
    }
   },
   "outputs": [],
   "source": [
    "# Setup Redis\n",
    "from redis import Redis\n",
    "from redis.commands.search.query import Query\n",
    "from redis.commands.search.field import (\n",
    "    TextField,\n",
    "    VectorField,\n",
    "    NumericField\n",
    ")\n",
    "from redis.commands.search.indexDefinition import (\n",
    "    IndexDefinition,\n",
    "    IndexType\n",
    ")\n",
    "\n",
    "redis_client = get_redis_connection()"
   ]
  },
  {
   "cell_type": "code",
   "execution_count": 6,
   "metadata": {
    "ExecuteTime": {
     "end_time": "2023-06-14T10:52:36.276129700Z",
     "start_time": "2023-06-14T10:52:36.260075900Z"
    }
   },
   "outputs": [],
   "source": [
    "# Constants\n",
    "VECTOR_DIM = 1536 #len(data['title_vector'][0]) # length of the vectors\n",
    "#VECTOR_NUMBER = len(data)                 # initial number of vectors\n",
    "PREFIX = \"gptversedoc\"                            # prefix for the document keys\n",
    "DISTANCE_METRIC = \"COSINE\"                # distance metric for the vectors (ex. COSINE, IP, L2)"
   ]
  },
  {
   "cell_type": "code",
   "execution_count": 7,
   "metadata": {
    "ExecuteTime": {
     "end_time": "2023-06-14T10:52:37.109744500Z",
     "start_time": "2023-06-14T10:52:37.087773400Z"
    }
   },
   "outputs": [],
   "source": [
    "# Create search index\n",
    "\n",
    "# Index\n",
    "INDEX_NAME = \"f1-index\"           # name of the search index\n",
    "VECTOR_FIELD_NAME = 'content_vector'\n",
    "\n",
    "# Define RediSearch fields for each of the columns in the dataset\n",
    "# This is where you should add any additional metadata you want to capture\n",
    "filename = TextField(\"filename\")\n",
    "text_chunk = TextField(\"text_chunk\")\n",
    "file_chunk_index = NumericField(\"file_chunk_index\")\n",
    "\n",
    "# define RediSearch vector fields to use HNSW index\n",
    "\n",
    "text_embedding = VectorField(VECTOR_FIELD_NAME,\n",
    "    \"HNSW\", {\n",
    "        \"TYPE\": \"FLOAT32\",\n",
    "        \"DIM\": VECTOR_DIM,\n",
    "        \"DISTANCE_METRIC\": DISTANCE_METRIC\n",
    "    }\n",
    ")\n",
    "# Add all our field objects to a list to be created as an index\n",
    "fields = [filename,text_chunk,file_chunk_index,text_embedding]"
   ]
  },
  {
   "cell_type": "code",
   "execution_count": 8,
   "metadata": {
    "ExecuteTime": {
     "end_time": "2023-06-14T10:52:38.347635100Z",
     "start_time": "2023-06-14T10:52:38.328011600Z"
    }
   },
   "outputs": [
    {
     "data": {
      "text/plain": "True"
     },
     "execution_count": 8,
     "metadata": {},
     "output_type": "execute_result"
    }
   ],
   "source": [
    "redis_client.ping()"
   ]
  },
  {
   "cell_type": "code",
   "execution_count": 9,
   "metadata": {
    "ExecuteTime": {
     "end_time": "2023-06-14T10:52:39.188349500Z",
     "start_time": "2023-06-14T10:52:39.122832600Z"
    }
   },
   "outputs": [
    {
     "name": "stdout",
     "output_type": "stream",
     "text": [
      "Index already exists\n"
     ]
    }
   ],
   "source": [
    "# Optional step to drop the index if it already exists\n",
    "#redis_client.ft(INDEX_NAME).dropindex()\n",
    "\n",
    "# Check if index exists\n",
    "try:\n",
    "    redis_client.ft(INDEX_NAME).info()\n",
    "    print(\"Index already exists\")\n",
    "except Exception as e:\n",
    "    print(e)\n",
    "    # Create RediSearch Index\n",
    "    print('Not there yet. Creating')\n",
    "    redis_client.ft(INDEX_NAME).create_index(\n",
    "        fields = fields,\n",
    "        definition = IndexDefinition(prefix=[PREFIX], index_type=IndexType.HASH)\n",
    "    )"
   ]
  },
  {
   "cell_type": "code",
   "execution_count": 10,
   "metadata": {
    "ExecuteTime": {
     "end_time": "2023-06-14T10:52:40.201545700Z",
     "start_time": "2023-06-14T10:52:40.180809700Z"
    }
   },
   "outputs": [],
   "source": [
    "# The transformers.py file contains all of the transforming functions, including ones to chunk, embed and load data\n",
    "# For more details, check the file and work through each function individually\n",
    "from transformers import handle_file_string"
   ]
  },
  {
   "cell_type": "code",
   "execution_count": 11,
   "metadata": {
    "ExecuteTime": {
     "end_time": "2023-06-14T10:52:41.741221700Z",
     "start_time": "2023-06-14T10:52:41.159075600Z"
    }
   },
   "outputs": [
    {
     "name": "stdout",
     "output_type": "stream",
     "text": [
      "./data/GptVerse.pdf\n"
     ]
    },
    {
     "ename": "ShellError",
     "evalue": "The command `pdf2txt.py ./data/GptVerse.pdf` failed because the executable\n`pdf2txt.py` is not installed on your system. Please make\nsure the appropriate dependencies are installed before using\ntextract:\n\n    http://textract.readthedocs.org/en/latest/installation.html\n",
     "output_type": "error",
     "traceback": [
      "\u001B[0;31m---------------------------------------------------------------------------\u001B[0m",
      "\u001B[0;31mFileNotFoundError\u001B[0m                         Traceback (most recent call last)",
      "File \u001B[0;32m~/.virtualenvs/llm-study-venv/lib/python3.8/site-packages/textract/parsers/utils.py:82\u001B[0m, in \u001B[0;36mShellParser.run\u001B[0;34m(self, args)\u001B[0m\n\u001B[1;32m     81\u001B[0m \u001B[38;5;28;01mtry\u001B[39;00m:\n\u001B[0;32m---> 82\u001B[0m     pipe \u001B[38;5;241m=\u001B[39m \u001B[43msubprocess\u001B[49m\u001B[38;5;241;43m.\u001B[39;49m\u001B[43mPopen\u001B[49m\u001B[43m(\u001B[49m\n\u001B[1;32m     83\u001B[0m \u001B[43m        \u001B[49m\u001B[43margs\u001B[49m\u001B[43m,\u001B[49m\n\u001B[1;32m     84\u001B[0m \u001B[43m        \u001B[49m\u001B[43mstdout\u001B[49m\u001B[38;5;241;43m=\u001B[39;49m\u001B[43msubprocess\u001B[49m\u001B[38;5;241;43m.\u001B[39;49m\u001B[43mPIPE\u001B[49m\u001B[43m,\u001B[49m\u001B[43m \u001B[49m\u001B[43mstderr\u001B[49m\u001B[38;5;241;43m=\u001B[39;49m\u001B[43msubprocess\u001B[49m\u001B[38;5;241;43m.\u001B[39;49m\u001B[43mPIPE\u001B[49m\u001B[43m,\u001B[49m\n\u001B[1;32m     85\u001B[0m \u001B[43m    \u001B[49m\u001B[43m)\u001B[49m\n\u001B[1;32m     86\u001B[0m \u001B[38;5;28;01mexcept\u001B[39;00m \u001B[38;5;167;01mOSError\u001B[39;00m \u001B[38;5;28;01mas\u001B[39;00m e:\n",
      "File \u001B[0;32m~/.pyenv/versions/3.8.1/lib/python3.8/subprocess.py:854\u001B[0m, in \u001B[0;36mPopen.__init__\u001B[0;34m(self, args, bufsize, executable, stdin, stdout, stderr, preexec_fn, close_fds, shell, cwd, env, universal_newlines, startupinfo, creationflags, restore_signals, start_new_session, pass_fds, encoding, errors, text)\u001B[0m\n\u001B[1;32m    851\u001B[0m             \u001B[38;5;28mself\u001B[39m\u001B[38;5;241m.\u001B[39mstderr \u001B[38;5;241m=\u001B[39m io\u001B[38;5;241m.\u001B[39mTextIOWrapper(\u001B[38;5;28mself\u001B[39m\u001B[38;5;241m.\u001B[39mstderr,\n\u001B[1;32m    852\u001B[0m                     encoding\u001B[38;5;241m=\u001B[39mencoding, errors\u001B[38;5;241m=\u001B[39merrors)\n\u001B[0;32m--> 854\u001B[0m     \u001B[38;5;28;43mself\u001B[39;49m\u001B[38;5;241;43m.\u001B[39;49m\u001B[43m_execute_child\u001B[49m\u001B[43m(\u001B[49m\u001B[43margs\u001B[49m\u001B[43m,\u001B[49m\u001B[43m \u001B[49m\u001B[43mexecutable\u001B[49m\u001B[43m,\u001B[49m\u001B[43m \u001B[49m\u001B[43mpreexec_fn\u001B[49m\u001B[43m,\u001B[49m\u001B[43m \u001B[49m\u001B[43mclose_fds\u001B[49m\u001B[43m,\u001B[49m\n\u001B[1;32m    855\u001B[0m \u001B[43m                        \u001B[49m\u001B[43mpass_fds\u001B[49m\u001B[43m,\u001B[49m\u001B[43m \u001B[49m\u001B[43mcwd\u001B[49m\u001B[43m,\u001B[49m\u001B[43m \u001B[49m\u001B[43menv\u001B[49m\u001B[43m,\u001B[49m\n\u001B[1;32m    856\u001B[0m \u001B[43m                        \u001B[49m\u001B[43mstartupinfo\u001B[49m\u001B[43m,\u001B[49m\u001B[43m \u001B[49m\u001B[43mcreationflags\u001B[49m\u001B[43m,\u001B[49m\u001B[43m \u001B[49m\u001B[43mshell\u001B[49m\u001B[43m,\u001B[49m\n\u001B[1;32m    857\u001B[0m \u001B[43m                        \u001B[49m\u001B[43mp2cread\u001B[49m\u001B[43m,\u001B[49m\u001B[43m \u001B[49m\u001B[43mp2cwrite\u001B[49m\u001B[43m,\u001B[49m\n\u001B[1;32m    858\u001B[0m \u001B[43m                        \u001B[49m\u001B[43mc2pread\u001B[49m\u001B[43m,\u001B[49m\u001B[43m \u001B[49m\u001B[43mc2pwrite\u001B[49m\u001B[43m,\u001B[49m\n\u001B[1;32m    859\u001B[0m \u001B[43m                        \u001B[49m\u001B[43merrread\u001B[49m\u001B[43m,\u001B[49m\u001B[43m \u001B[49m\u001B[43merrwrite\u001B[49m\u001B[43m,\u001B[49m\n\u001B[1;32m    860\u001B[0m \u001B[43m                        \u001B[49m\u001B[43mrestore_signals\u001B[49m\u001B[43m,\u001B[49m\u001B[43m \u001B[49m\u001B[43mstart_new_session\u001B[49m\u001B[43m)\u001B[49m\n\u001B[1;32m    861\u001B[0m \u001B[38;5;28;01mexcept\u001B[39;00m:\n\u001B[1;32m    862\u001B[0m     \u001B[38;5;66;03m# Cleanup if the child failed starting.\u001B[39;00m\n",
      "File \u001B[0;32m~/.pyenv/versions/3.8.1/lib/python3.8/subprocess.py:1702\u001B[0m, in \u001B[0;36mPopen._execute_child\u001B[0;34m(self, args, executable, preexec_fn, close_fds, pass_fds, cwd, env, startupinfo, creationflags, shell, p2cread, p2cwrite, c2pread, c2pwrite, errread, errwrite, restore_signals, start_new_session)\u001B[0m\n\u001B[1;32m   1701\u001B[0m         err_msg \u001B[38;5;241m=\u001B[39m os\u001B[38;5;241m.\u001B[39mstrerror(errno_num)\n\u001B[0;32m-> 1702\u001B[0m     \u001B[38;5;28;01mraise\u001B[39;00m child_exception_type(errno_num, err_msg, err_filename)\n\u001B[1;32m   1703\u001B[0m \u001B[38;5;28;01mraise\u001B[39;00m child_exception_type(err_msg)\n",
      "\u001B[0;31mFileNotFoundError\u001B[0m: [Errno 2] No such file or directory: 'pdf2txt.py'",
      "\nDuring handling of the above exception, another exception occurred:\n",
      "\u001B[0;31mShellError\u001B[0m                                Traceback (most recent call last)",
      "File \u001B[0;32m<timed exec>:13\u001B[0m\n",
      "File \u001B[0;32m~/.virtualenvs/llm-study-venv/lib/python3.8/site-packages/textract/parsers/__init__.py:77\u001B[0m, in \u001B[0;36mprocess\u001B[0;34m(filename, encoding, extension, **kwargs)\u001B[0m\n\u001B[1;32m     74\u001B[0m \u001B[38;5;66;03m# do the extraction\u001B[39;00m\n\u001B[1;32m     76\u001B[0m parser \u001B[38;5;241m=\u001B[39m filetype_module\u001B[38;5;241m.\u001B[39mParser()\n\u001B[0;32m---> 77\u001B[0m \u001B[38;5;28;01mreturn\u001B[39;00m \u001B[43mparser\u001B[49m\u001B[38;5;241;43m.\u001B[39;49m\u001B[43mprocess\u001B[49m\u001B[43m(\u001B[49m\u001B[43mfilename\u001B[49m\u001B[43m,\u001B[49m\u001B[43m \u001B[49m\u001B[43mencoding\u001B[49m\u001B[43m,\u001B[49m\u001B[43m \u001B[49m\u001B[38;5;241;43m*\u001B[39;49m\u001B[38;5;241;43m*\u001B[39;49m\u001B[43mkwargs\u001B[49m\u001B[43m)\u001B[49m\n",
      "File \u001B[0;32m~/.virtualenvs/llm-study-venv/lib/python3.8/site-packages/textract/parsers/utils.py:46\u001B[0m, in \u001B[0;36mBaseParser.process\u001B[0;34m(self, filename, encoding, **kwargs)\u001B[0m\n\u001B[1;32m     36\u001B[0m \u001B[38;5;250m\u001B[39m\u001B[38;5;124;03m\"\"\"Process ``filename`` and encode byte-string with ``encoding``. This\u001B[39;00m\n\u001B[1;32m     37\u001B[0m \u001B[38;5;124;03mmethod is called by :func:`textract.parsers.process` and wraps\u001B[39;00m\n\u001B[1;32m     38\u001B[0m \u001B[38;5;124;03mthe :meth:`.BaseParser.extract` method in `a delicious unicode\u001B[39;00m\n\u001B[1;32m     39\u001B[0m \u001B[38;5;124;03msandwich <http://nedbatchelder.com/text/unipain.html>`_.\u001B[39;00m\n\u001B[1;32m     40\u001B[0m \n\u001B[1;32m     41\u001B[0m \u001B[38;5;124;03m\"\"\"\u001B[39;00m\n\u001B[1;32m     42\u001B[0m \u001B[38;5;66;03m# make a \"unicode sandwich\" to handle dealing with unknown\u001B[39;00m\n\u001B[1;32m     43\u001B[0m \u001B[38;5;66;03m# input byte strings and converting them to a predictable\u001B[39;00m\n\u001B[1;32m     44\u001B[0m \u001B[38;5;66;03m# output encoding\u001B[39;00m\n\u001B[1;32m     45\u001B[0m \u001B[38;5;66;03m# http://nedbatchelder.com/text/unipain/unipain.html#35\u001B[39;00m\n\u001B[0;32m---> 46\u001B[0m byte_string \u001B[38;5;241m=\u001B[39m \u001B[38;5;28;43mself\u001B[39;49m\u001B[38;5;241;43m.\u001B[39;49m\u001B[43mextract\u001B[49m\u001B[43m(\u001B[49m\u001B[43mfilename\u001B[49m\u001B[43m,\u001B[49m\u001B[43m \u001B[49m\u001B[38;5;241;43m*\u001B[39;49m\u001B[38;5;241;43m*\u001B[39;49m\u001B[43mkwargs\u001B[49m\u001B[43m)\u001B[49m\n\u001B[1;32m     47\u001B[0m unicode_string \u001B[38;5;241m=\u001B[39m \u001B[38;5;28mself\u001B[39m\u001B[38;5;241m.\u001B[39mdecode(byte_string)\n\u001B[1;32m     48\u001B[0m \u001B[38;5;28;01mreturn\u001B[39;00m \u001B[38;5;28mself\u001B[39m\u001B[38;5;241m.\u001B[39mencode(unicode_string, encoding)\n",
      "File \u001B[0;32m~/.virtualenvs/llm-study-venv/lib/python3.8/site-packages/textract/parsers/pdf_parser.py:31\u001B[0m, in \u001B[0;36mParser.extract\u001B[0;34m(self, filename, method, **kwargs)\u001B[0m\n\u001B[1;32m     28\u001B[0m             \u001B[38;5;28;01mraise\u001B[39;00m ex\n\u001B[1;32m     30\u001B[0m \u001B[38;5;28;01melif\u001B[39;00m method \u001B[38;5;241m==\u001B[39m \u001B[38;5;124m'\u001B[39m\u001B[38;5;124mpdfminer\u001B[39m\u001B[38;5;124m'\u001B[39m:\n\u001B[0;32m---> 31\u001B[0m     \u001B[38;5;28;01mreturn\u001B[39;00m \u001B[38;5;28;43mself\u001B[39;49m\u001B[38;5;241;43m.\u001B[39;49m\u001B[43mextract_pdfminer\u001B[49m\u001B[43m(\u001B[49m\u001B[43mfilename\u001B[49m\u001B[43m,\u001B[49m\u001B[43m \u001B[49m\u001B[38;5;241;43m*\u001B[39;49m\u001B[38;5;241;43m*\u001B[39;49m\u001B[43mkwargs\u001B[49m\u001B[43m)\u001B[49m\n\u001B[1;32m     32\u001B[0m \u001B[38;5;28;01melif\u001B[39;00m method \u001B[38;5;241m==\u001B[39m \u001B[38;5;124m'\u001B[39m\u001B[38;5;124mtesseract\u001B[39m\u001B[38;5;124m'\u001B[39m:\n\u001B[1;32m     33\u001B[0m     \u001B[38;5;28;01mreturn\u001B[39;00m \u001B[38;5;28mself\u001B[39m\u001B[38;5;241m.\u001B[39mextract_tesseract(filename, \u001B[38;5;241m*\u001B[39m\u001B[38;5;241m*\u001B[39mkwargs)\n",
      "File \u001B[0;32m~/.virtualenvs/llm-study-venv/lib/python3.8/site-packages/textract/parsers/pdf_parser.py:48\u001B[0m, in \u001B[0;36mParser.extract_pdfminer\u001B[0;34m(self, filename, **kwargs)\u001B[0m\n\u001B[1;32m     46\u001B[0m \u001B[38;5;28;01mdef\u001B[39;00m \u001B[38;5;21mextract_pdfminer\u001B[39m(\u001B[38;5;28mself\u001B[39m, filename, \u001B[38;5;241m*\u001B[39m\u001B[38;5;241m*\u001B[39mkwargs):\n\u001B[1;32m     47\u001B[0m \u001B[38;5;250m    \u001B[39m\u001B[38;5;124;03m\"\"\"Extract text from pdfs using pdfminer.\"\"\"\u001B[39;00m\n\u001B[0;32m---> 48\u001B[0m     stdout, _ \u001B[38;5;241m=\u001B[39m \u001B[38;5;28;43mself\u001B[39;49m\u001B[38;5;241;43m.\u001B[39;49m\u001B[43mrun\u001B[49m\u001B[43m(\u001B[49m\u001B[43m[\u001B[49m\u001B[38;5;124;43m'\u001B[39;49m\u001B[38;5;124;43mpdf2txt.py\u001B[39;49m\u001B[38;5;124;43m'\u001B[39;49m\u001B[43m,\u001B[49m\u001B[43m \u001B[49m\u001B[43mfilename\u001B[49m\u001B[43m]\u001B[49m\u001B[43m)\u001B[49m\n\u001B[1;32m     49\u001B[0m     \u001B[38;5;28;01mreturn\u001B[39;00m stdout\n",
      "File \u001B[0;32m~/.virtualenvs/llm-study-venv/lib/python3.8/site-packages/textract/parsers/utils.py:90\u001B[0m, in \u001B[0;36mShellParser.run\u001B[0;34m(self, args)\u001B[0m\n\u001B[1;32m     86\u001B[0m \u001B[38;5;28;01mexcept\u001B[39;00m \u001B[38;5;167;01mOSError\u001B[39;00m \u001B[38;5;28;01mas\u001B[39;00m e:\n\u001B[1;32m     87\u001B[0m     \u001B[38;5;28;01mif\u001B[39;00m e\u001B[38;5;241m.\u001B[39merrno \u001B[38;5;241m==\u001B[39m errno\u001B[38;5;241m.\u001B[39mENOENT:\n\u001B[1;32m     88\u001B[0m         \u001B[38;5;66;03m# File not found.\u001B[39;00m\n\u001B[1;32m     89\u001B[0m         \u001B[38;5;66;03m# This is equivalent to getting exitcode 127 from sh\u001B[39;00m\n\u001B[0;32m---> 90\u001B[0m         \u001B[38;5;28;01mraise\u001B[39;00m exceptions\u001B[38;5;241m.\u001B[39mShellError(\n\u001B[1;32m     91\u001B[0m             \u001B[38;5;124m'\u001B[39m\u001B[38;5;124m \u001B[39m\u001B[38;5;124m'\u001B[39m\u001B[38;5;241m.\u001B[39mjoin(args), \u001B[38;5;241m127\u001B[39m, \u001B[38;5;124m'\u001B[39m\u001B[38;5;124m'\u001B[39m, \u001B[38;5;124m'\u001B[39m\u001B[38;5;124m'\u001B[39m,\n\u001B[1;32m     92\u001B[0m         )\n\u001B[1;32m     94\u001B[0m \u001B[38;5;66;03m# pipe.wait() ends up hanging on large files. using\u001B[39;00m\n\u001B[1;32m     95\u001B[0m \u001B[38;5;66;03m# pipe.communicate appears to avoid this issue\u001B[39;00m\n\u001B[1;32m     96\u001B[0m stdout, stderr \u001B[38;5;241m=\u001B[39m pipe\u001B[38;5;241m.\u001B[39mcommunicate()\n",
      "\u001B[0;31mShellError\u001B[0m: The command `pdf2txt.py ./data/GptVerse.pdf` failed because the executable\n`pdf2txt.py` is not installed on your system. Please make\nsure the appropriate dependencies are installed before using\ntextract:\n\n    http://textract.readthedocs.org/en/latest/installation.html\n"
     ]
    }
   ],
   "source": [
    "%%time\n",
    "# This step takes about 5 minutes\n",
    "\n",
    "# Initialise tokenizer\n",
    "tokenizer = tiktoken.get_encoding(\"cl100k_base\")\n",
    "\n",
    "# Process each PDF file and prepare for embedding\n",
    "for pdf_file in pdf_files:\n",
    "    \n",
    "    pdf_path = os.path.join(data_dir,pdf_file)\n",
    "    print(pdf_path)\n",
    "    \n",
    "    # Extract the raw text from each PDF using textract\n",
    "    text = textract.process(pdf_path, method='pdfminer')\n",
    "    \n",
    "    # Chunk each document, embed the contents and load to Redis\n",
    "    handle_file_string((pdf_file,text.decode(\"utf-8\")),tokenizer,redis_client,VECTOR_FIELD_NAME,INDEX_NAME)"
   ]
  },
  {
   "cell_type": "code",
   "execution_count": 34,
   "metadata": {},
   "outputs": [
    {
     "data": {
      "text/plain": [
       "'56'"
      ]
     },
     "execution_count": 34,
     "metadata": {},
     "output_type": "execute_result"
    }
   ],
   "source": [
    "# Check that our docs have been inserted\n",
    "redis_client.ft(INDEX_NAME).info()['num_docs']"
   ]
  },
  {
   "cell_type": "code",
   "execution_count": 35,
   "metadata": {},
   "outputs": [],
   "source": [
    "from database import get_redis_results"
   ]
  },
  {
   "cell_type": "code",
   "execution_count": 19,
   "metadata": {},
   "outputs": [
    {
     "name": "stdout",
     "output_type": "stream",
     "text": [
      "results: Result{2 total, docs: [Document {'id': 'gptversedoc:GptVerse.pdf-!0', 'payload': None, 'vector_score': '0.140639543533', 'filename': 'GptVerse.pdf', 'text_chunk': 'Filename is: GptVerse.pdf; GptVerse is an artificial intelligence based Metaverse application with shopping, education,  organization and p2e features. It will be a multi-chain project but the main network has not  been decided yet. Here is a list of the main solutions, as follows in the first place:    -Innovative Product Proposal (AI Based 3D Objects)    Quickly transfer photos of real world objects that are taken from different angles to the 3D  Metaverse environment by passing them through special AI and machine learning algorithms  such as NERF. Users and brands can list and sell them on user stores as NFTs.    -AI Based Event & Educational Areas    Bots with machine learning that can educate users on various topics. There is also a bot that  will organize events like concerts, exhibitions and help users have fun while having a good  time.    -OpenAI Integrated & Conversational AI Assistant Bots    AI bots assist the user when they enter the GptVerse to find the place the user is looking for.  They also assist customers as store assistants with Conversational AI features. Other  features of bot: Event hall organization planner, the bot that finds the song when you hum.    -Metaverse Store Solutions    Besides most known NFT stores, automated and innovative NFT stores which users &  brands can design using our builder editor. Objects and structures that users can create  verbally or in writing in GptVerse.    -Common metaverse usage (conference hall, concert venue, playground)    Areas where users can spend valuable time by making use of known metaverse features.    -Play to Earn Games & Tournaments    Every user can play games and earn tokens. Bowling, billiards, chess and many more table  games will be integrated.    —----------------------------------------------------------------------------------------    GptVerse is a unique and innovative application that combines AI-based technology and  Metaverse features to create a variety of solutions for users and brands.'}, Document {'id': 'gptversedoc:GptVerse.pdf-!24', 'payload': None, 'vector_score': '0.156740307808', 'filename': 'GptVerse.pdf', 'text_chunk': ' This allows GptVerse to deliver highly interactive  and personalized experiences for users across various domains, including  events, education, shopping, and more.    2. Comprehensive Metaverse Integration: GptVerse goes beyond being just a    standalone application by offering a fully immersive metaverse experience. It  provides users with a seamless transition between virtual worlds, allowing  them to explore, interact, and engage in a wide range of activities within a  uniﬁed ecosystem.    3. Holistic Approach to Education: GptVerse prioritizes education and learning,  offering AI-powered educational bots and immersive learning experiences.  These features enable users to access personalized and engaging  educational content, participate in virtual classrooms, and receive  individualized tutoring and guidance.    4. Extensive Event Management Functionality: GptVerse provides robust event  organization and management capabilities, empowering users to seamlessly  plan, host, and participate in events. With AI-powered event bots, GptVerse  streamlines event logistics, facilitates networking, and enhances overall event  experiences.  Intelligent Shopping Solutions: GptVerse incorporates AI-driven shopping bots  and assistants, revolutionizing the way users shop within the metaverse.  These bots offer personalized recommendations, real-time assistance, and an  immersive shopping experience, enhancing convenience and satisfaction for  users.    5.    6. Strong Emphasis on User Experience: GptVerse is designed with a    user-centric approach, prioritizing intuitive interfaces, seamless navigation,  and engaging interactions. The platform aims to create a highly immersive,  enjoyable, and user-friendly environment, enhancing user satisfaction and  driving increased engagement.    7. Potential for Collaboration and Partnerships: GptVerse recognizes the value of    collaboration and partnerships within the blockchain and metaverse  ecosystem and also brands using web2 technologies. By fostering  collaborations with industry leaders, content creators, and developers, brands  GptVerse aims to create a vibrant and diverse ecosystem, providing users with  a wide range of experiences and opportunities.'}]}\n"
     ]
    },
    {
     "data": {
      "text/html": [
       "<div>\n",
       "<style scoped>\n",
       "    .dataframe tbody tr th:only-of-type {\n",
       "        vertical-align: middle;\n",
       "    }\n",
       "\n",
       "    .dataframe tbody tr th {\n",
       "        vertical-align: top;\n",
       "    }\n",
       "\n",
       "    .dataframe thead th {\n",
       "        text-align: right;\n",
       "    }\n",
       "</style>\n",
       "<table border=\"1\" class=\"dataframe\">\n",
       "  <thead>\n",
       "    <tr style=\"text-align: right;\">\n",
       "      <th></th>\n",
       "      <th>id</th>\n",
       "      <th>result</th>\n",
       "      <th>certainty</th>\n",
       "    </tr>\n",
       "  </thead>\n",
       "  <tbody>\n",
       "    <tr>\n",
       "      <th>0</th>\n",
       "      <td>0</td>\n",
       "      <td>Filename is: GptVerse.pdf; GptVerse is an artificial intelligence based Metaverse application with shopping, education,  organization and p2e features. It will be a multi-chain project but the main network has not  been decided yet. Here is a list of the main solutions, as follows in the first place:    -Innovative Product Proposal (AI Based 3D Objects)    Quickly transfer photos of real world objects that are taken from different angles to the 3D  Metaverse environment by passing them through special AI and machine learning algorithms  such as NERF. Users and brands can list and sell them on user stores as NFTs.    -AI Based Event &amp; Educational Areas    Bots with machine learning that can educate users on various topics. There is also a bot that  will organize events like concerts, exhibitions and help users have fun while having a good  time.    -OpenAI Integrated &amp; Conversational AI Assistant Bots    AI bots assist the user when they enter the GptVerse to find the place the user is looking for.  They also assist customers as store assistants with Conversational AI features. Other  features of bot: Event hall organization planner, the bot that finds the song when you hum.    -Metaverse Store Solutions    Besides most known NFT stores, automated and innovative NFT stores which users &amp;  brands can design using our builder editor. Objects and structures that users can create  verbally or in writing in GptVerse.    -Common metaverse usage (conference hall, concert venue, playground)    Areas where users can spend valuable time by making use of known metaverse features.    -Play to Earn Games &amp; Tournaments    Every user can play games and earn tokens. Bowling, billiards, chess and many more table  games will be integrated.    —----------------------------------------------------------------------------------------    GptVerse is a unique and innovative application that combines AI-based technology and  Metaverse features to create a variety of solutions for users and brands.</td>\n",
       "      <td>0.140639543533</td>\n",
       "    </tr>\n",
       "    <tr>\n",
       "      <th>1</th>\n",
       "      <td>1</td>\n",
       "      <td>This allows GptVerse to deliver highly interactive  and personalized experiences for users across various domains, including  events, education, shopping, and more.    2. Comprehensive Metaverse Integration: GptVerse goes beyond being just a    standalone application by offering a fully immersive metaverse experience. It  provides users with a seamless transition between virtual worlds, allowing  them to explore, interact, and engage in a wide range of activities within a  uniﬁed ecosystem.    3. Holistic Approach to Education: GptVerse prioritizes education and learning,  offering AI-powered educational bots and immersive learning experiences.  These features enable users to access personalized and engaging  educational content, participate in virtual classrooms, and receive  individualized tutoring and guidance.    4. Extensive Event Management Functionality: GptVerse provides robust event  organization and management capabilities, empowering users to seamlessly  plan, host, and participate in events. With AI-powered event bots, GptVerse  streamlines event logistics, facilitates networking, and enhances overall event  experiences.  Intelligent Shopping Solutions: GptVerse incorporates AI-driven shopping bots  and assistants, revolutionizing the way users shop within the metaverse.  These bots offer personalized recommendations, real-time assistance, and an  immersive shopping experience, enhancing convenience and satisfaction for  users.    5.    6. Strong Emphasis on User Experience: GptVerse is designed with a    user-centric approach, prioritizing intuitive interfaces, seamless navigation,  and engaging interactions. The platform aims to create a highly immersive,  enjoyable, and user-friendly environment, enhancing user satisfaction and  driving increased engagement.    7. Potential for Collaboration and Partnerships: GptVerse recognizes the value of    collaboration and partnerships within the blockchain and metaverse  ecosystem and also brands using web2 technologies. By fostering  collaborations with industry leaders, content creators, and developers, brands  GptVerse aims to create a vibrant and diverse ecosystem, providing users with  a wide range of experiences and opportunities.</td>\n",
       "      <td>0.156740307808</td>\n",
       "    </tr>\n",
       "  </tbody>\n",
       "</table>\n",
       "</div>"
      ],
      "text/plain": [
       "   id  \\\n",
       "0  0    \n",
       "1  1    \n",
       "\n",
       "                                                                                                                                                                                                                                                                                                                                                                                                                                                                                                                                                                                                                                                                                                                                                                                                                                                                                                                                                                                                                                                                                                                                                                                                                                                                                                                                                                                                                                                                                                                                                                                                                                                                                                                                                                                                                                                                                                                                                                                                                                                                                                                                                                                                                                                                                                                    result  \\\n",
       "0  Filename is: GptVerse.pdf; GptVerse is an artificial intelligence based Metaverse application with shopping, education,  organization and p2e features. It will be a multi-chain project but the main network has not  been decided yet. Here is a list of the main solutions, as follows in the first place:    -Innovative Product Proposal (AI Based 3D Objects)    Quickly transfer photos of real world objects that are taken from different angles to the 3D  Metaverse environment by passing them through special AI and machine learning algorithms  such as NERF. Users and brands can list and sell them on user stores as NFTs.    -AI Based Event & Educational Areas    Bots with machine learning that can educate users on various topics. There is also a bot that  will organize events like concerts, exhibitions and help users have fun while having a good  time.    -OpenAI Integrated & Conversational AI Assistant Bots    AI bots assist the user when they enter the GptVerse to find the place the user is looking for.  They also assist customers as store assistants with Conversational AI features. Other  features of bot: Event hall organization planner, the bot that finds the song when you hum.    -Metaverse Store Solutions    Besides most known NFT stores, automated and innovative NFT stores which users &  brands can design using our builder editor. Objects and structures that users can create  verbally or in writing in GptVerse.    -Common metaverse usage (conference hall, concert venue, playground)    Areas where users can spend valuable time by making use of known metaverse features.    -Play to Earn Games & Tournaments    Every user can play games and earn tokens. Bowling, billiards, chess and many more table  games will be integrated.    —----------------------------------------------------------------------------------------    GptVerse is a unique and innovative application that combines AI-based technology and  Metaverse features to create a variety of solutions for users and brands.                                                                                                                                                                                                                                    \n",
       "1   This allows GptVerse to deliver highly interactive  and personalized experiences for users across various domains, including  events, education, shopping, and more.    2. Comprehensive Metaverse Integration: GptVerse goes beyond being just a    standalone application by offering a fully immersive metaverse experience. It  provides users with a seamless transition between virtual worlds, allowing  them to explore, interact, and engage in a wide range of activities within a  uniﬁed ecosystem.    3. Holistic Approach to Education: GptVerse prioritizes education and learning,  offering AI-powered educational bots and immersive learning experiences.  These features enable users to access personalized and engaging  educational content, participate in virtual classrooms, and receive  individualized tutoring and guidance.    4. Extensive Event Management Functionality: GptVerse provides robust event  organization and management capabilities, empowering users to seamlessly  plan, host, and participate in events. With AI-powered event bots, GptVerse  streamlines event logistics, facilitates networking, and enhances overall event  experiences.  Intelligent Shopping Solutions: GptVerse incorporates AI-driven shopping bots  and assistants, revolutionizing the way users shop within the metaverse.  These bots offer personalized recommendations, real-time assistance, and an  immersive shopping experience, enhancing convenience and satisfaction for  users.    5.    6. Strong Emphasis on User Experience: GptVerse is designed with a    user-centric approach, prioritizing intuitive interfaces, seamless navigation,  and engaging interactions. The platform aims to create a highly immersive,  enjoyable, and user-friendly environment, enhancing user satisfaction and  driving increased engagement.    7. Potential for Collaboration and Partnerships: GptVerse recognizes the value of    collaboration and partnerships within the blockchain and metaverse  ecosystem and also brands using web2 technologies. By fostering  collaborations with industry leaders, content creators, and developers, brands  GptVerse aims to create a vibrant and diverse ecosystem, providing users with  a wide range of experiences and opportunities.   \n",
       "\n",
       "        certainty  \n",
       "0  0.140639543533  \n",
       "1  0.156740307808  "
      ]
     },
     "execution_count": 19,
     "metadata": {},
     "output_type": "execute_result"
    }
   ],
   "source": [
    "f1_query='What is the gptverse platform'\n",
    "\n",
    "result_df = get_redis_results(redis_client,f1_query,index_name=INDEX_NAME)\n",
    "result_df"
   ]
  },
  {
   "cell_type": "code",
   "execution_count": 37,
   "metadata": {},
   "outputs": [
    {
     "name": "stdout",
     "output_type": "stream",
     "text": [
      "- GptVerse is an artificial intelligence based Metaverse application with shopping, education, organization and p2e features.\n",
      "- It offers innovative 3D objects through special AI and machine learning algorithms.\n",
      "- AI based event and educational areas, as well as conversational AI assistant bots are included.\n",
      "- It provides Metaverse store solutions, common metaverse usage activities, and Play to Earn Games & Tournaments.\n"
     ]
    }
   ],
   "source": [
    "f1_query='What is the gptverse platform'\n",
    "\n",
    "result_df = get_redis_results(redis_client,f1_query,index_name=INDEX_NAME)\n",
    "# Build a prompt to provide the original query, the result and ask to summarise for the user\n",
    "summary_prompt = '''Summarise this result in a bulleted list to answer the search query a customer has sent.\n",
    "Search query: SEARCH_QUERY_HERE\n",
    "Search result: SEARCH_RESULT_HERE\n",
    "Summary:\n",
    "'''\n",
    "summary_prepped = summary_prompt.replace('SEARCH_QUERY_HERE',f1_query).replace('SEARCH_RESULT_HERE',result_df['result'][0])\n",
    "summary = openai.Completion.create(engine=COMPLETIONS_MODEL,prompt=summary_prepped,max_tokens=100)\n",
    "# Response provided by GPT-3\n",
    "print(summary['choices'][0]['text'])"
   ]
  },
  {
   "cell_type": "code",
   "execution_count": null,
   "metadata": {},
   "outputs": [],
   "source": []
  }
 ],
 "metadata": {
  "kernelspec": {
   "display_name": "llm-study-venv",
   "language": "python",
   "name": "python3"
  },
  "language_info": {
   "codemirror_mode": {
    "name": "ipython",
    "version": 3
   },
   "file_extension": ".py",
   "mimetype": "text/x-python",
   "name": "python",
   "nbconvert_exporter": "python",
   "pygments_lexer": "ipython3",
   "version": "3.8.1"
  },
  "orig_nbformat": 4
 },
 "nbformat": 4,
 "nbformat_minor": 2
}
