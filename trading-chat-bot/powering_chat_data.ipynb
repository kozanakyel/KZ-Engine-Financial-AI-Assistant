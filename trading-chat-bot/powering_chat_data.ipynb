{
 "cells": [
  {
   "cell_type": "code",
   "execution_count": 23,
   "metadata": {},
   "outputs": [
    {
     "name": "stdout",
     "output_type": "stream",
     "text": [
      "The autoreload extension is already loaded. To reload it, use:\n",
      "  %reload_ext autoreload\n"
     ]
    }
   ],
   "source": [
    "%load_ext autoreload\n",
    "%autoreload 2"
   ]
  },
  {
   "cell_type": "code",
   "execution_count": 24,
   "metadata": {},
   "outputs": [
    {
     "data": {
      "text/plain": [
       "True"
      ]
     },
     "execution_count": 24,
     "metadata": {},
     "output_type": "execute_result"
    }
   ],
   "source": [
    "import openai\n",
    "import os\n",
    "import requests\n",
    "import numpy as np\n",
    "import pandas as pd\n",
    "from typing import Iterator\n",
    "import tiktoken\n",
    "import textract\n",
    "from numpy import array, average\n",
    "from dotenv import load_dotenv\n",
    "\n",
    "from database import get_redis_connection\n",
    "\n",
    "# Set our default models and chunking size\n",
    "from config import COMPLETIONS_MODEL, EMBEDDINGS_MODEL, CHAT_MODEL, TEXT_EMBEDDING_CHUNK_SIZE, VECTOR_FIELD_NAME\n",
    "\n",
    "# Ignore unclosed SSL socket warnings - optional in case you get these errors\n",
    "import warnings\n",
    "\n",
    "warnings.filterwarnings(action=\"ignore\", message=\"unclosed\", category=ImportWarning)\n",
    "warnings.filterwarnings(\"ignore\", category=DeprecationWarning) \n",
    "\n",
    "load_dotenv()"
   ]
  },
  {
   "cell_type": "code",
   "execution_count": 25,
   "metadata": {},
   "outputs": [],
   "source": [
    "pd.set_option('display.max_colwidth', 0)"
   ]
  },
  {
   "cell_type": "code",
   "execution_count": 26,
   "metadata": {},
   "outputs": [
    {
     "data": {
      "text/plain": [
       "['GptVerse.pdf', 'ugur_akyel_20190808020_project_report.pdf']"
      ]
     },
     "execution_count": 26,
     "metadata": {},
     "output_type": "execute_result"
    }
   ],
   "source": [
    "data_dir = os.path.join(os.curdir,'data')\n",
    "pdf_files = sorted([x for x in os.listdir(data_dir) if 'DS_Store' not in x])\n",
    "pdf_files"
   ]
  },
  {
   "cell_type": "code",
   "execution_count": 27,
   "metadata": {},
   "outputs": [],
   "source": [
    "# Setup Redis\n",
    "from redis import Redis\n",
    "from redis.commands.search.query import Query\n",
    "from redis.commands.search.field import (\n",
    "    TextField,\n",
    "    VectorField,\n",
    "    NumericField\n",
    ")\n",
    "from redis.commands.search.indexDefinition import (\n",
    "    IndexDefinition,\n",
    "    IndexType\n",
    ")\n",
    "\n",
    "redis_client = get_redis_connection()"
   ]
  },
  {
   "cell_type": "code",
   "execution_count": 28,
   "metadata": {},
   "outputs": [],
   "source": [
    "# Constants\n",
    "VECTOR_DIM = 1536 #len(data['title_vector'][0]) # length of the vectors\n",
    "#VECTOR_NUMBER = len(data)                 # initial number of vectors\n",
    "PREFIX = \"gptversedoc\"                            # prefix for the document keys\n",
    "DISTANCE_METRIC = \"COSINE\"                # distance metric for the vectors (ex. COSINE, IP, L2)"
   ]
  },
  {
   "cell_type": "code",
   "execution_count": 29,
   "metadata": {},
   "outputs": [],
   "source": [
    "# Create search index\n",
    "\n",
    "# Index\n",
    "INDEX_NAME = \"f1-index\"           # name of the search index\n",
    "VECTOR_FIELD_NAME = 'content_vector'\n",
    "\n",
    "# Define RediSearch fields for each of the columns in the dataset\n",
    "# This is where you should add any additional metadata you want to capture\n",
    "filename = TextField(\"filename\")\n",
    "text_chunk = TextField(\"text_chunk\")\n",
    "file_chunk_index = NumericField(\"file_chunk_index\")\n",
    "\n",
    "# define RediSearch vector fields to use HNSW index\n",
    "\n",
    "text_embedding = VectorField(VECTOR_FIELD_NAME,\n",
    "    \"HNSW\", {\n",
    "        \"TYPE\": \"FLOAT32\",\n",
    "        \"DIM\": VECTOR_DIM,\n",
    "        \"DISTANCE_METRIC\": DISTANCE_METRIC\n",
    "    }\n",
    ")\n",
    "# Add all our field objects to a list to be created as an index\n",
    "fields = [filename,text_chunk,file_chunk_index,text_embedding]"
   ]
  },
  {
   "cell_type": "code",
   "execution_count": 30,
   "metadata": {},
   "outputs": [
    {
     "data": {
      "text/plain": [
       "True"
      ]
     },
     "execution_count": 30,
     "metadata": {},
     "output_type": "execute_result"
    }
   ],
   "source": [
    "redis_client.ping()"
   ]
  },
  {
   "cell_type": "code",
   "execution_count": 31,
   "metadata": {},
   "outputs": [
    {
     "name": "stdout",
     "output_type": "stream",
     "text": [
      "Index already exists\n"
     ]
    }
   ],
   "source": [
    "# Optional step to drop the index if it already exists\n",
    "#redis_client.ft(INDEX_NAME).dropindex()\n",
    "\n",
    "# Check if index exists\n",
    "try:\n",
    "    redis_client.ft(INDEX_NAME).info()\n",
    "    print(\"Index already exists\")\n",
    "except Exception as e:\n",
    "    print(e)\n",
    "    # Create RediSearch Index\n",
    "    print('Not there yet. Creating')\n",
    "    redis_client.ft(INDEX_NAME).create_index(\n",
    "        fields = fields,\n",
    "        definition = IndexDefinition(prefix=[PREFIX], index_type=IndexType.HASH)\n",
    "    )"
   ]
  },
  {
   "cell_type": "code",
   "execution_count": 32,
   "metadata": {},
   "outputs": [],
   "source": [
    "# The transformers.py file contains all of the transforming functions, including ones to chunk, embed and load data\n",
    "# For more details, check the file and work through each function individually\n",
    "from transformers import handle_file_string"
   ]
  },
  {
   "cell_type": "code",
   "execution_count": 33,
   "metadata": {},
   "outputs": [
    {
     "name": "stdout",
     "output_type": "stream",
     "text": [
      "./data/GptVerse.pdf\n",
      "./data/ugur_akyel_20190808020_project_report.pdf\n",
      "CPU times: user 535 ms, sys: 28.5 ms, total: 563 ms\n",
      "Wall time: 10 s\n"
     ]
    }
   ],
   "source": [
    "%%time\n",
    "# This step takes about 5 minutes\n",
    "\n",
    "# Initialise tokenizer\n",
    "tokenizer = tiktoken.get_encoding(\"cl100k_base\")\n",
    "\n",
    "# Process each PDF file and prepare for embedding\n",
    "for pdf_file in pdf_files:\n",
    "    \n",
    "    pdf_path = os.path.join(data_dir,pdf_file)\n",
    "    print(pdf_path)\n",
    "    \n",
    "    # Extract the raw text from each PDF using textract\n",
    "    text = textract.process(pdf_path, method='pdfminer')\n",
    "    \n",
    "    # Chunk each document, embed the contents and load to Redis\n",
    "    handle_file_string((pdf_file,text.decode(\"utf-8\")),tokenizer,redis_client,VECTOR_FIELD_NAME,INDEX_NAME)"
   ]
  },
  {
   "cell_type": "code",
   "execution_count": 34,
   "metadata": {},
   "outputs": [
    {
     "data": {
      "text/plain": [
       "'56'"
      ]
     },
     "execution_count": 34,
     "metadata": {},
     "output_type": "execute_result"
    }
   ],
   "source": [
    "# Check that our docs have been inserted\n",
    "redis_client.ft(INDEX_NAME).info()['num_docs']"
   ]
  },
  {
   "cell_type": "code",
   "execution_count": 35,
   "metadata": {},
   "outputs": [],
   "source": [
    "from database import get_redis_results"
   ]
  },
  {
   "cell_type": "code",
   "execution_count": 19,
   "metadata": {},
   "outputs": [
    {
     "name": "stdout",
     "output_type": "stream",
     "text": [
      "results: Result{2 total, docs: [Document {'id': 'gptversedoc:GptVerse.pdf-!0', 'payload': None, 'vector_score': '0.140639543533', 'filename': 'GptVerse.pdf', 'text_chunk': 'Filename is: GptVerse.pdf; GptVerse is an artificial intelligence based Metaverse application with shopping, education,  organization and p2e features. It will be a multi-chain project but the main network has not  been decided yet. Here is a list of the main solutions, as follows in the first place:    -Innovative Product Proposal (AI Based 3D Objects)    Quickly transfer photos of real world objects that are taken from different angles to the 3D  Metaverse environment by passing them through special AI and machine learning algorithms  such as NERF. Users and brands can list and sell them on user stores as NFTs.    -AI Based Event & Educational Areas    Bots with machine learning that can educate users on various topics. There is also a bot that  will organize events like concerts, exhibitions and help users have fun while having a good  time.    -OpenAI Integrated & Conversational AI Assistant Bots    AI bots assist the user when they enter the GptVerse to find the place the user is looking for.  They also assist customers as store assistants with Conversational AI features. Other  features of bot: Event hall organization planner, the bot that finds the song when you hum.    -Metaverse Store Solutions    Besides most known NFT stores, automated and innovative NFT stores which users &  brands can design using our builder editor. Objects and structures that users can create  verbally or in writing in GptVerse.    -Common metaverse usage (conference hall, concert venue, playground)    Areas where users can spend valuable time by making use of known metaverse features.    -Play to Earn Games & Tournaments    Every user can play games and earn tokens. Bowling, billiards, chess and many more table  games will be integrated.    —----------------------------------------------------------------------------------------    GptVerse is a unique and innovative application that combines AI-based technology and  Metaverse features to create a variety of solutions for users and brands.'}, Document {'id': 'gptversedoc:GptVerse.pdf-!24', 'payload': None, 'vector_score': '0.156740307808', 'filename': 'GptVerse.pdf', 'text_chunk': ' This allows GptVerse to deliver highly interactive  and personalized experiences for users across various domains, including  events, education, shopping, and more.    2. Comprehensive Metaverse Integration: GptVerse goes beyond being just a    standalone application by offering a fully immersive metaverse experience. It  provides users with a seamless transition between virtual worlds, allowing  them to explore, interact, and engage in a wide range of activities within a  uniﬁed ecosystem.    3. Holistic Approach to Education: GptVerse prioritizes education and learning,  offering AI-powered educational bots and immersive learning experiences.  These features enable users to access personalized and engaging  educational content, participate in virtual classrooms, and receive  individualized tutoring and guidance.    4. Extensive Event Management Functionality: GptVerse provides robust event  organization and management capabilities, empowering users to seamlessly  plan, host, and participate in events. With AI-powered event bots, GptVerse  streamlines event logistics, facilitates networking, and enhances overall event  experiences.  Intelligent Shopping Solutions: GptVerse incorporates AI-driven shopping bots  and assistants, revolutionizing the way users shop within the metaverse.  These bots offer personalized recommendations, real-time assistance, and an  immersive shopping experience, enhancing convenience and satisfaction for  users.    5.    6. Strong Emphasis on User Experience: GptVerse is designed with a    user-centric approach, prioritizing intuitive interfaces, seamless navigation,  and engaging interactions. The platform aims to create a highly immersive,  enjoyable, and user-friendly environment, enhancing user satisfaction and  driving increased engagement.    7. Potential for Collaboration and Partnerships: GptVerse recognizes the value of    collaboration and partnerships within the blockchain and metaverse  ecosystem and also brands using web2 technologies. By fostering  collaborations with industry leaders, content creators, and developers, brands  GptVerse aims to create a vibrant and diverse ecosystem, providing users with  a wide range of experiences and opportunities.'}]}\n"
     ]
    },
    {
     "data": {
      "text/html": [
       "<div>\n",
       "<style scoped>\n",
       "    .dataframe tbody tr th:only-of-type {\n",
       "        vertical-align: middle;\n",
       "    }\n",
       "\n",
       "    .dataframe tbody tr th {\n",
       "        vertical-align: top;\n",
       "    }\n",
       "\n",
       "    .dataframe thead th {\n",
       "        text-align: right;\n",
       "    }\n",
       "</style>\n",
       "<table border=\"1\" class=\"dataframe\">\n",
       "  <thead>\n",
       "    <tr style=\"text-align: right;\">\n",
       "      <th></th>\n",
       "      <th>id</th>\n",
       "      <th>result</th>\n",
       "      <th>certainty</th>\n",
       "    </tr>\n",
       "  </thead>\n",
       "  <tbody>\n",
       "    <tr>\n",
       "      <th>0</th>\n",
       "      <td>0</td>\n",
       "      <td>Filename is: GptVerse.pdf; GptVerse is an artificial intelligence based Metaverse application with shopping, education,  organization and p2e features. It will be a multi-chain project but the main network has not  been decided yet. Here is a list of the main solutions, as follows in the first place:    -Innovative Product Proposal (AI Based 3D Objects)    Quickly transfer photos of real world objects that are taken from different angles to the 3D  Metaverse environment by passing them through special AI and machine learning algorithms  such as NERF. Users and brands can list and sell them on user stores as NFTs.    -AI Based Event &amp; Educational Areas    Bots with machine learning that can educate users on various topics. There is also a bot that  will organize events like concerts, exhibitions and help users have fun while having a good  time.    -OpenAI Integrated &amp; Conversational AI Assistant Bots    AI bots assist the user when they enter the GptVerse to find the place the user is looking for.  They also assist customers as store assistants with Conversational AI features. Other  features of bot: Event hall organization planner, the bot that finds the song when you hum.    -Metaverse Store Solutions    Besides most known NFT stores, automated and innovative NFT stores which users &amp;  brands can design using our builder editor. Objects and structures that users can create  verbally or in writing in GptVerse.    -Common metaverse usage (conference hall, concert venue, playground)    Areas where users can spend valuable time by making use of known metaverse features.    -Play to Earn Games &amp; Tournaments    Every user can play games and earn tokens. Bowling, billiards, chess and many more table  games will be integrated.    —----------------------------------------------------------------------------------------    GptVerse is a unique and innovative application that combines AI-based technology and  Metaverse features to create a variety of solutions for users and brands.</td>\n",
       "      <td>0.140639543533</td>\n",
       "    </tr>\n",
       "    <tr>\n",
       "      <th>1</th>\n",
       "      <td>1</td>\n",
       "      <td>This allows GptVerse to deliver highly interactive  and personalized experiences for users across various domains, including  events, education, shopping, and more.    2. Comprehensive Metaverse Integration: GptVerse goes beyond being just a    standalone application by offering a fully immersive metaverse experience. It  provides users with a seamless transition between virtual worlds, allowing  them to explore, interact, and engage in a wide range of activities within a  uniﬁed ecosystem.    3. Holistic Approach to Education: GptVerse prioritizes education and learning,  offering AI-powered educational bots and immersive learning experiences.  These features enable users to access personalized and engaging  educational content, participate in virtual classrooms, and receive  individualized tutoring and guidance.    4. Extensive Event Management Functionality: GptVerse provides robust event  organization and management capabilities, empowering users to seamlessly  plan, host, and participate in events. With AI-powered event bots, GptVerse  streamlines event logistics, facilitates networking, and enhances overall event  experiences.  Intelligent Shopping Solutions: GptVerse incorporates AI-driven shopping bots  and assistants, revolutionizing the way users shop within the metaverse.  These bots offer personalized recommendations, real-time assistance, and an  immersive shopping experience, enhancing convenience and satisfaction for  users.    5.    6. Strong Emphasis on User Experience: GptVerse is designed with a    user-centric approach, prioritizing intuitive interfaces, seamless navigation,  and engaging interactions. The platform aims to create a highly immersive,  enjoyable, and user-friendly environment, enhancing user satisfaction and  driving increased engagement.    7. Potential for Collaboration and Partnerships: GptVerse recognizes the value of    collaboration and partnerships within the blockchain and metaverse  ecosystem and also brands using web2 technologies. By fostering  collaborations with industry leaders, content creators, and developers, brands  GptVerse aims to create a vibrant and diverse ecosystem, providing users with  a wide range of experiences and opportunities.</td>\n",
       "      <td>0.156740307808</td>\n",
       "    </tr>\n",
       "  </tbody>\n",
       "</table>\n",
       "</div>"
      ],
      "text/plain": [
       "   id  \\\n",
       "0  0    \n",
       "1  1    \n",
       "\n",
       "                                                                                                                                                                                                                                                                                                                                                                                                                                                                                                                                                                                                                                                                                                                                                                                                                                                                                                                                                                                                                                                                                                                                                                                                                                                                                                                                                                                                                                                                                                                                                                                                                                                                                                                                                                                                                                                                                                                                                                                                                                                                                                                                                                                                                                                                                                                    result  \\\n",
       "0  Filename is: GptVerse.pdf; GptVerse is an artificial intelligence based Metaverse application with shopping, education,  organization and p2e features. It will be a multi-chain project but the main network has not  been decided yet. Here is a list of the main solutions, as follows in the first place:    -Innovative Product Proposal (AI Based 3D Objects)    Quickly transfer photos of real world objects that are taken from different angles to the 3D  Metaverse environment by passing them through special AI and machine learning algorithms  such as NERF. Users and brands can list and sell them on user stores as NFTs.    -AI Based Event & Educational Areas    Bots with machine learning that can educate users on various topics. There is also a bot that  will organize events like concerts, exhibitions and help users have fun while having a good  time.    -OpenAI Integrated & Conversational AI Assistant Bots    AI bots assist the user when they enter the GptVerse to find the place the user is looking for.  They also assist customers as store assistants with Conversational AI features. Other  features of bot: Event hall organization planner, the bot that finds the song when you hum.    -Metaverse Store Solutions    Besides most known NFT stores, automated and innovative NFT stores which users &  brands can design using our builder editor. Objects and structures that users can create  verbally or in writing in GptVerse.    -Common metaverse usage (conference hall, concert venue, playground)    Areas where users can spend valuable time by making use of known metaverse features.    -Play to Earn Games & Tournaments    Every user can play games and earn tokens. Bowling, billiards, chess and many more table  games will be integrated.    —----------------------------------------------------------------------------------------    GptVerse is a unique and innovative application that combines AI-based technology and  Metaverse features to create a variety of solutions for users and brands.                                                                                                                                                                                                                                    \n",
       "1   This allows GptVerse to deliver highly interactive  and personalized experiences for users across various domains, including  events, education, shopping, and more.    2. Comprehensive Metaverse Integration: GptVerse goes beyond being just a    standalone application by offering a fully immersive metaverse experience. It  provides users with a seamless transition between virtual worlds, allowing  them to explore, interact, and engage in a wide range of activities within a  uniﬁed ecosystem.    3. Holistic Approach to Education: GptVerse prioritizes education and learning,  offering AI-powered educational bots and immersive learning experiences.  These features enable users to access personalized and engaging  educational content, participate in virtual classrooms, and receive  individualized tutoring and guidance.    4. Extensive Event Management Functionality: GptVerse provides robust event  organization and management capabilities, empowering users to seamlessly  plan, host, and participate in events. With AI-powered event bots, GptVerse  streamlines event logistics, facilitates networking, and enhances overall event  experiences.  Intelligent Shopping Solutions: GptVerse incorporates AI-driven shopping bots  and assistants, revolutionizing the way users shop within the metaverse.  These bots offer personalized recommendations, real-time assistance, and an  immersive shopping experience, enhancing convenience and satisfaction for  users.    5.    6. Strong Emphasis on User Experience: GptVerse is designed with a    user-centric approach, prioritizing intuitive interfaces, seamless navigation,  and engaging interactions. The platform aims to create a highly immersive,  enjoyable, and user-friendly environment, enhancing user satisfaction and  driving increased engagement.    7. Potential for Collaboration and Partnerships: GptVerse recognizes the value of    collaboration and partnerships within the blockchain and metaverse  ecosystem and also brands using web2 technologies. By fostering  collaborations with industry leaders, content creators, and developers, brands  GptVerse aims to create a vibrant and diverse ecosystem, providing users with  a wide range of experiences and opportunities.   \n",
       "\n",
       "        certainty  \n",
       "0  0.140639543533  \n",
       "1  0.156740307808  "
      ]
     },
     "execution_count": 19,
     "metadata": {},
     "output_type": "execute_result"
    }
   ],
   "source": [
    "f1_query='What is the gptverse platform'\n",
    "\n",
    "result_df = get_redis_results(redis_client,f1_query,index_name=INDEX_NAME)\n",
    "result_df"
   ]
  },
  {
   "cell_type": "code",
   "execution_count": 37,
   "metadata": {},
   "outputs": [
    {
     "name": "stdout",
     "output_type": "stream",
     "text": [
      "- GptVerse is an artificial intelligence based Metaverse application with shopping, education, organization and p2e features.\n",
      "- It offers innovative 3D objects through special AI and machine learning algorithms.\n",
      "- AI based event and educational areas, as well as conversational AI assistant bots are included.\n",
      "- It provides Metaverse store solutions, common metaverse usage activities, and Play to Earn Games & Tournaments.\n"
     ]
    }
   ],
   "source": [
    "f1_query='What is the gptverse platform'\n",
    "\n",
    "result_df = get_redis_results(redis_client,f1_query,index_name=INDEX_NAME)\n",
    "# Build a prompt to provide the original query, the result and ask to summarise for the user\n",
    "summary_prompt = '''Summarise this result in a bulleted list to answer the search query a customer has sent.\n",
    "Search query: SEARCH_QUERY_HERE\n",
    "Search result: SEARCH_RESULT_HERE\n",
    "Summary:\n",
    "'''\n",
    "summary_prepped = summary_prompt.replace('SEARCH_QUERY_HERE',f1_query).replace('SEARCH_RESULT_HERE',result_df['result'][0])\n",
    "summary = openai.Completion.create(engine=COMPLETIONS_MODEL,prompt=summary_prepped,max_tokens=100)\n",
    "# Response provided by GPT-3\n",
    "print(summary['choices'][0]['text'])"
   ]
  },
  {
   "cell_type": "code",
   "execution_count": null,
   "metadata": {},
   "outputs": [],
   "source": []
  }
 ],
 "metadata": {
  "kernelspec": {
   "display_name": "llm-study-venv",
   "language": "python",
   "name": "python3"
  },
  "language_info": {
   "codemirror_mode": {
    "name": "ipython",
    "version": 3
   },
   "file_extension": ".py",
   "mimetype": "text/x-python",
   "name": "python",
   "nbconvert_exporter": "python",
   "pygments_lexer": "ipython3",
   "version": "3.8.1"
  },
  "orig_nbformat": 4
 },
 "nbformat": 4,
 "nbformat_minor": 2
}
