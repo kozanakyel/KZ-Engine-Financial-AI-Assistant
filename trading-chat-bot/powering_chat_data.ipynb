{
 "cells": [
  {
   "cell_type": "code",
   "execution_count": 1,
   "metadata": {
    "ExecuteTime": {
     "end_time": "2023-06-25T18:36:29.717699200Z",
     "start_time": "2023-06-25T18:36:29.698560100Z"
    }
   },
   "outputs": [],
   "source": [
    "%load_ext autoreload\n",
    "%autoreload 2"
   ]
  },
  {
   "cell_type": "code",
   "execution_count": 2,
   "metadata": {
    "ExecuteTime": {
     "end_time": "2023-06-25T18:36:34.416438Z",
     "start_time": "2023-06-25T18:36:33.511263300Z"
    }
   },
   "outputs": [
    {
     "data": {
      "text/plain": [
       "True"
      ]
     },
     "execution_count": 2,
     "metadata": {},
     "output_type": "execute_result"
    }
   ],
   "source": [
    "import openai\n",
    "import os\n",
    "import requests\n",
    "import numpy as np\n",
    "import pandas as pd\n",
    "from typing import Iterator\n",
    "import tiktoken\n",
    "import textract\n",
    "from numpy import array, average\n",
    "from dotenv import load_dotenv\n",
    "\n",
    "from database import get_redis_connection\n",
    "\n",
    "# Set our default models and chunking size\n",
    "from config import COMPLETIONS_MODEL, EMBEDDINGS_MODEL, CHAT_MODEL, TEXT_EMBEDDING_CHUNK_SIZE, VECTOR_FIELD_NAME\n",
    "\n",
    "# Ignore unclosed SSL socket warnings - optional in case you get these errors\n",
    "import warnings\n",
    "\n",
    "warnings.filterwarnings(action=\"ignore\", message=\"unclosed\", category=ImportWarning)\n",
    "warnings.filterwarnings(\"ignore\", category=DeprecationWarning) \n",
    "\n",
    "load_dotenv()"
   ]
  },
  {
   "cell_type": "code",
   "execution_count": 3,
   "metadata": {
    "ExecuteTime": {
     "end_time": "2023-06-25T18:36:35.208646100Z",
     "start_time": "2023-06-25T18:36:35.177331Z"
    }
   },
   "outputs": [],
   "source": [
    "pd.set_option('display.max_colwidth', 0)"
   ]
  },
  {
   "cell_type": "code",
   "execution_count": 4,
   "metadata": {
    "ExecuteTime": {
     "end_time": "2023-06-25T18:36:35.829257700Z",
     "start_time": "2023-06-25T18:36:35.803590Z"
    }
   },
   "outputs": [
    {
     "data": {
      "text/plain": [
       "['GptVerse.pdf', 'ugur_akyel_20190808020_project_report.pdf']"
      ]
     },
     "execution_count": 4,
     "metadata": {},
     "output_type": "execute_result"
    }
   ],
   "source": [
    "data_dir = os.path.join(os.curdir,'data')\n",
    "pdf_files = sorted([x for x in os.listdir(data_dir) if 'DS_Store' not in x])\n",
    "pdf_files"
   ]
  },
  {
   "cell_type": "code",
   "execution_count": 5,
   "metadata": {
    "ExecuteTime": {
     "end_time": "2023-06-25T18:36:36.659639800Z",
     "start_time": "2023-06-25T18:36:36.627951800Z"
    }
   },
   "outputs": [],
   "source": [
    "# Setup Redis\n",
    "from redis import Redis\n",
    "from redis.commands.search.query import Query\n",
    "from redis.commands.search.field import TextField, VectorField, NumericField\n",
    "\n",
    "from redis.commands.search.indexDefinition import IndexDefinition, IndexType\n",
    "\n",
    "redis_client = get_redis_connection()"
   ]
  },
  {
   "cell_type": "code",
   "execution_count": 6,
   "metadata": {
    "ExecuteTime": {
     "end_time": "2023-06-25T18:36:37.348095200Z",
     "start_time": "2023-06-25T18:36:37.316530200Z"
    }
   },
   "outputs": [],
   "source": [
    "# Constants\n",
    "VECTOR_DIM = 1536 #len(data['title_vector'][0]) # length of the vectors\n",
    "#VECTOR_NUMBER = len(data)                 # initial number of vectors\n",
    "PREFIX = \"gptversedoc\"                            # prefix for the document keys\n",
    "DISTANCE_METRIC = \"COSINE\"                # distance metric for the vectors (ex. COSINE, IP, L2)"
   ]
  },
  {
   "cell_type": "code",
   "execution_count": 7,
   "metadata": {
    "ExecuteTime": {
     "end_time": "2023-06-25T18:36:37.882357200Z",
     "start_time": "2023-06-25T18:36:37.823845300Z"
    }
   },
   "outputs": [],
   "source": [
    "# Create search index\n",
    "\n",
    "# Index\n",
    "INDEX_NAME = \"f1-index\"           # name of the search index\n",
    "VECTOR_FIELD_NAME = 'content_vector'\n",
    "\n",
    "# Define RediSearch fields for each of the columns in the dataset\n",
    "# This is where you should add any additional metadata you want to capture\n",
    "filename = TextField(\"filename\")\n",
    "text_chunk = TextField(\"text_chunk\")\n",
    "file_chunk_index = NumericField(\"file_chunk_index\")\n",
    "\n",
    "# define RediSearch vector fields to use HNSW index\n",
    "\n",
    "text_embedding = VectorField(VECTOR_FIELD_NAME,\n",
    "    \"HNSW\", {\n",
    "        \"TYPE\": \"FLOAT32\",\n",
    "        \"DIM\": VECTOR_DIM,\n",
    "        \"DISTANCE_METRIC\": DISTANCE_METRIC\n",
    "    }\n",
    ")\n",
    "# Add all our field objects to a list to be created as an index\n",
    "fields = [filename,text_chunk,file_chunk_index,text_embedding]"
   ]
  },
  {
   "cell_type": "code",
   "execution_count": 8,
   "metadata": {
    "ExecuteTime": {
     "end_time": "2023-06-25T18:36:38.774168Z",
     "start_time": "2023-06-25T18:36:38.695516100Z"
    }
   },
   "outputs": [
    {
     "data": {
      "text/plain": [
       "True"
      ]
     },
     "execution_count": 8,
     "metadata": {},
     "output_type": "execute_result"
    }
   ],
   "source": [
    "redis_client.ping()"
   ]
  },
  {
   "cell_type": "code",
   "execution_count": 9,
   "metadata": {
    "ExecuteTime": {
     "end_time": "2023-06-25T18:36:39.735120100Z",
     "start_time": "2023-06-25T18:36:39.669197700Z"
    }
   },
   "outputs": [
    {
     "name": "stdout",
     "output_type": "stream",
     "text": [
      "Index already exists\n"
     ]
    }
   ],
   "source": [
    "# Optional step to drop the index if it already exists\n",
    "#redis_client.ft(INDEX_NAME).dropindex()\n",
    "\n",
    "# Check if index exists\n",
    "try:\n",
    "    redis_client.ft(INDEX_NAME).info()\n",
    "    print(\"Index already exists\")\n",
    "except Exception as e:\n",
    "    print(e)\n",
    "    # Create RediSearch Index\n",
    "    print('Not there yet. Creating')\n",
    "    redis_client.ft(INDEX_NAME).create_index(\n",
    "        fields = fields,\n",
    "        definition = IndexDefinition(prefix=[PREFIX], index_type=IndexType.HASH)\n",
    "    )"
   ]
  },
  {
   "cell_type": "code",
   "execution_count": 10,
   "metadata": {
    "ExecuteTime": {
     "end_time": "2023-06-25T18:36:41.279767100Z",
     "start_time": "2023-06-25T18:36:41.232377300Z"
    }
   },
   "outputs": [],
   "source": [
    "# The transformers.py file contains all of the transforming functions, including ones to chunk, embed and load data\n",
    "# For more details, check the file and work through each function individually\n",
    "from transformers import handle_file_string"
   ]
  },
  {
   "cell_type": "code",
   "execution_count": 11,
   "metadata": {
    "ExecuteTime": {
     "end_time": "2023-06-25T18:36:42.438762600Z",
     "start_time": "2023-06-25T18:36:42.419609800Z"
    }
   },
   "outputs": [],
   "source": [
    "from dotenv import load_dotenv\n",
    "import os\n",
    "\n",
    "load_dotenv()\n",
    "\n",
    "openai_api_key = os.getenv('T_OPENAI_API_KEY')\n",
    "os.environ['OPENAI_API_KEY'] = openai_api_key"
   ]
  },
  {
   "cell_type": "code",
   "execution_count": null,
   "metadata": {
    "ExecuteTime": {
     "end_time": "2023-06-25T18:36:43.911897900Z",
     "start_time": "2023-06-25T18:36:43.184844900Z"
    }
   },
   "outputs": [],
   "source": [
    "%%time\n",
    "# This step takes about 5 minutes\n",
    "openai.api_key = openai_api_key\n",
    "# Initialise tokenizer\n",
    "tokenizer = tiktoken.get_encoding(\"cl100k_base\")\n",
    "\n",
    "# Process each PDF file and prepare for embedding\n",
    "for pdf_file in pdf_files:\n",
    "    \n",
    "    pdf_path = os.path.join(data_dir,pdf_file)\n",
    "    print(pdf_path)\n",
    "    \n",
    "    # Extract the raw text from each PDF using textract\n",
    "    text = textract.process(pdf_path, method='pdfminer')\n",
    "    \n",
    "    # Chunk each document, embed the contents and load to Redis\n",
    "    handle_file_string((pdf_file,text.decode(\"utf-8\")),tokenizer,redis_client,VECTOR_FIELD_NAME,INDEX_NAME)"
   ]
  },
  {
   "cell_type": "code",
   "execution_count": 21,
   "metadata": {},
   "outputs": [
    {
     "data": {
      "text/plain": [
       "'140'"
      ]
     },
     "execution_count": 21,
     "metadata": {},
     "output_type": "execute_result"
    }
   ],
   "source": [
    "# Check that our docs have been inserted\n",
    "redis_client.ft(INDEX_NAME).info()['num_docs']"
   ]
  },
  {
   "cell_type": "code",
   "execution_count": 13,
   "metadata": {},
   "outputs": [],
   "source": [
    "from database import get_redis_results"
   ]
  },
  {
   "cell_type": "code",
   "execution_count": 14,
   "metadata": {},
   "outputs": [
    {
     "data": {
      "text/html": [
       "<div>\n",
       "<style scoped>\n",
       "    .dataframe tbody tr th:only-of-type {\n",
       "        vertical-align: middle;\n",
       "    }\n",
       "\n",
       "    .dataframe tbody tr th {\n",
       "        vertical-align: top;\n",
       "    }\n",
       "\n",
       "    .dataframe thead th {\n",
       "        text-align: right;\n",
       "    }\n",
       "</style>\n",
       "<table border=\"1\" class=\"dataframe\">\n",
       "  <thead>\n",
       "    <tr style=\"text-align: right;\">\n",
       "      <th></th>\n",
       "      <th>id</th>\n",
       "      <th>result</th>\n",
       "      <th>certainty</th>\n",
       "    </tr>\n",
       "  </thead>\n",
       "  <tbody>\n",
       "    <tr>\n",
       "      <th>0</th>\n",
       "      <td>0</td>\n",
       "      <td>Filename is: GptVerse.pdf; GptVerse is an artificial intelligence based Metaverse application with shopping, education,  organization and p2e features. It will be a multi-chain project but the main network has not  been decided yet. Here is a list of the main solutions, as follows in the first place:    -Innovative Product Proposal (AI Based 3D Objects)    Quickly transfer photos of real world objects that are taken from different angles to the 3D  Metaverse environment by passing them through special AI and machine learning algorithms  such as NERF. Users and brands can list and sell them on user stores as NFTs.    -AI Based Event &amp; Educational Areas    Bots with machine learning that can educate users on various topics. There is also a bot that  will organize events like concerts, exhibitions and help users have fun while having a good  time.    -OpenAI Integrated &amp; Conversational AI Assistant Bots    AI bots assist the user when they enter the GptVerse to find the place the user is looking for.  They also assist customers as store assistants with Conversational AI features. Other  features of bot: Event hall organization planner, the bot that finds the song when you hum.    -Metaverse Store Solutions    Besides most known NFT stores, automated and innovative NFT stores which users &amp;  brands can design using our builder editor. Objects and structures that users can create  verbally or in writing in GptVerse.    -Common metaverse usage (conference hall, concert venue, playground)    Areas where users can spend valuable time by making use of known metaverse features.    -Play to Earn Games &amp; Tournaments    Every user can play games and earn tokens. Bowling, billiards, chess and many more table  games will be integrated.    —----------------------------------------------------------------------------------------    GptVerse is a unique and innovative application that combines AI-based technology and  Metaverse features to create a variety of solutions for users and brands.</td>\n",
       "      <td>0.140089809895</td>\n",
       "    </tr>\n",
       "    <tr>\n",
       "      <th>1</th>\n",
       "      <td>1</td>\n",
       "      <td>This allows GptVerse to deliver highly interactive  and personalized experiences for users across various domains, including  events, education, shopping, and more.    2. Comprehensive Metaverse Integration: GptVerse goes beyond being just a    standalone application by offering a fully immersive metaverse experience. It  provides users with a seamless transition between virtual worlds, allowing  them to explore, interact, and engage in a wide range of activities within a  uniﬁed ecosystem.    3. Holistic Approach to Education: GptVerse prioritizes education and learning,  offering AI-powered educational bots and immersive learning experiences.  These features enable users to access personalized and engaging  educational content, participate in virtual classrooms, and receive  individualized tutoring and guidance.    4. Extensive Event Management Functionality: GptVerse provides robust event  organization and management capabilities, empowering users to seamlessly  plan, host, and participate in events. With AI-powered event bots, GptVerse  streamlines event logistics, facilitates networking, and enhances overall event  experiences.  Intelligent Shopping Solutions: GptVerse incorporates AI-driven shopping bots  and assistants, revolutionizing the way users shop within the metaverse.  These bots offer personalized recommendations, real-time assistance, and an  immersive shopping experience, enhancing convenience and satisfaction for  users.    5.    6. Strong Emphasis on User Experience: GptVerse is designed with a    user-centric approach, prioritizing intuitive interfaces, seamless navigation,  and engaging interactions. The platform aims to create a highly immersive,  enjoyable, and user-friendly environment, enhancing user satisfaction and  driving increased engagement.    7. Potential for Collaboration and Partnerships: GptVerse recognizes the value of    collaboration and partnerships within the blockchain and metaverse  ecosystem and also brands using web2 technologies. By fostering  collaborations with industry leaders, content creators, and developers, brands  GptVerse aims to create a vibrant and diverse ecosystem, providing users with  a wide range of experiences and opportunities.</td>\n",
       "      <td>0.15583217144</td>\n",
       "    </tr>\n",
       "  </tbody>\n",
       "</table>\n",
       "</div>"
      ],
      "text/plain": [
       "   id  \\\n",
       "0  0    \n",
       "1  1    \n",
       "\n",
       "                                                                                                                                                                                                                                                                                                                                                                                                                                                                                                                                                                                                                                                                                                                                                                                                                                                                                                                                                                                                                                                                                                                                                                                                                                                                                                                                                                                                                                                                                                                                                                                                                                                                                                                                                                                                                                                                                                                                                                                                                                                                                                                                                                                                                                                                                                                    result  \\\n",
       "0  Filename is: GptVerse.pdf; GptVerse is an artificial intelligence based Metaverse application with shopping, education,  organization and p2e features. It will be a multi-chain project but the main network has not  been decided yet. Here is a list of the main solutions, as follows in the first place:    -Innovative Product Proposal (AI Based 3D Objects)    Quickly transfer photos of real world objects that are taken from different angles to the 3D  Metaverse environment by passing them through special AI and machine learning algorithms  such as NERF. Users and brands can list and sell them on user stores as NFTs.    -AI Based Event & Educational Areas    Bots with machine learning that can educate users on various topics. There is also a bot that  will organize events like concerts, exhibitions and help users have fun while having a good  time.    -OpenAI Integrated & Conversational AI Assistant Bots    AI bots assist the user when they enter the GptVerse to find the place the user is looking for.  They also assist customers as store assistants with Conversational AI features. Other  features of bot: Event hall organization planner, the bot that finds the song when you hum.    -Metaverse Store Solutions    Besides most known NFT stores, automated and innovative NFT stores which users &  brands can design using our builder editor. Objects and structures that users can create  verbally or in writing in GptVerse.    -Common metaverse usage (conference hall, concert venue, playground)    Areas where users can spend valuable time by making use of known metaverse features.    -Play to Earn Games & Tournaments    Every user can play games and earn tokens. Bowling, billiards, chess and many more table  games will be integrated.    —----------------------------------------------------------------------------------------    GptVerse is a unique and innovative application that combines AI-based technology and  Metaverse features to create a variety of solutions for users and brands.                                                                                                                                                                                                                                    \n",
       "1   This allows GptVerse to deliver highly interactive  and personalized experiences for users across various domains, including  events, education, shopping, and more.    2. Comprehensive Metaverse Integration: GptVerse goes beyond being just a    standalone application by offering a fully immersive metaverse experience. It  provides users with a seamless transition between virtual worlds, allowing  them to explore, interact, and engage in a wide range of activities within a  uniﬁed ecosystem.    3. Holistic Approach to Education: GptVerse prioritizes education and learning,  offering AI-powered educational bots and immersive learning experiences.  These features enable users to access personalized and engaging  educational content, participate in virtual classrooms, and receive  individualized tutoring and guidance.    4. Extensive Event Management Functionality: GptVerse provides robust event  organization and management capabilities, empowering users to seamlessly  plan, host, and participate in events. With AI-powered event bots, GptVerse  streamlines event logistics, facilitates networking, and enhances overall event  experiences.  Intelligent Shopping Solutions: GptVerse incorporates AI-driven shopping bots  and assistants, revolutionizing the way users shop within the metaverse.  These bots offer personalized recommendations, real-time assistance, and an  immersive shopping experience, enhancing convenience and satisfaction for  users.    5.    6. Strong Emphasis on User Experience: GptVerse is designed with a    user-centric approach, prioritizing intuitive interfaces, seamless navigation,  and engaging interactions. The platform aims to create a highly immersive,  enjoyable, and user-friendly environment, enhancing user satisfaction and  driving increased engagement.    7. Potential for Collaboration and Partnerships: GptVerse recognizes the value of    collaboration and partnerships within the blockchain and metaverse  ecosystem and also brands using web2 technologies. By fostering  collaborations with industry leaders, content creators, and developers, brands  GptVerse aims to create a vibrant and diverse ecosystem, providing users with  a wide range of experiences and opportunities.   \n",
       "\n",
       "        certainty  \n",
       "0  0.140089809895  \n",
       "1  0.15583217144   "
      ]
     },
     "execution_count": 14,
     "metadata": {},
     "output_type": "execute_result"
    }
   ],
   "source": [
    "f1_query='What is the gptverse platform'\n",
    "\n",
    "result_df = get_redis_results(redis_client, f1_query, index_name=INDEX_NAME)\n",
    "result_df"
   ]
  },
  {
   "cell_type": "code",
   "execution_count": 15,
   "metadata": {},
   "outputs": [],
   "source": [
    "summary_teacher_prompt = '''Explain like the teacher and detailed to answer the search query a customer has sent.\n",
    "Search query: SEARCH_QUERY_HERE\n",
    "Search result: SEARCH_RESULT_HERE\n",
    "Summary:\n",
    "'''"
   ]
  },
  {
   "cell_type": "code",
   "execution_count": 16,
   "metadata": {},
   "outputs": [
    {
     "name": "stdout",
     "output_type": "stream",
     "text": [
      "This project focuses on using Decision Trees, Sentiment Analysis with Natural Language Processing, and Japanese Candlestick Art to forecast the structure of the next candle for five popular cryptocurrencies, namely Bitcoin, Ethereum, Binance coin, Ripple, and Doge coin. This research also involved studying other technical analysis and indicator structures, as well as incorporating Twitter data and sentiment analysis scores. The research resulted in the development of an application with a backend data and AI modelling pipeline, as well as a frontend for users to view the coin signal results and relevant Twitter data. While the project will provide useful insights, investors should exercise caution before making investment decisions due to the volatility of cryptocurrencies and the many external factors that may affect them.\n"
     ]
    }
   ],
   "source": [
    "f1_query='what is challenges for kzengine project?'\n",
    "\n",
    "result_df = get_redis_results(redis_client,f1_query,index_name=INDEX_NAME)\n",
    "# Build a prompt to provide the original query, the result and ask to summarise for the user\n",
    "summary_prompt = '''Summarise this result in a bulleted list to answer the search query a customer has sent.\n",
    "Search query: SEARCH_QUERY_HERE\n",
    "Search result: SEARCH_RESULT_HERE\n",
    "Summary:\n",
    "'''\n",
    "summary_prepped = summary_teacher_prompt.replace('SEARCH_QUERY_HERE',f1_query).replace('SEARCH_RESULT_HERE',result_df['result'][0])\n",
    "summary = openai.Completion.create(engine=COMPLETIONS_MODEL,prompt=summary_prepped,max_tokens=200)\n",
    "# Response provided by GPT-3\n",
    "print(summary['choices'][0]['text'])"
   ]
  },
  {
   "cell_type": "code",
   "execution_count": 17,
   "metadata": {},
   "outputs": [
    {
     "data": {
      "text/plain": [
       "[83, 1609, 5963, 374, 2294, 0]"
      ]
     },
     "execution_count": 17,
     "metadata": {},
     "output_type": "execute_result"
    }
   ],
   "source": [
    "encoding = tiktoken.get_encoding(\"cl100k_base\")\n",
    "encoding = tiktoken.encoding_for_model(\"text-embedding-ada-002\")\n",
    "encoding.encode(\"tiktoken is great!\")"
   ]
  },
  {
   "cell_type": "code",
   "execution_count": 18,
   "metadata": {},
   "outputs": [],
   "source": [
    "def num_tokens_from_string(string: str, encoding_name: str) -> int:\n",
    "    \"\"\"Returns the number of tokens in a text string.\"\"\"\n",
    "    encoding = tiktoken.get_encoding(encoding_name)\n",
    "    num_tokens = len(encoding.encode(string))\n",
    "    return num_tokens"
   ]
  },
  {
   "cell_type": "code",
   "execution_count": 19,
   "metadata": {},
   "outputs": [
    {
     "data": {
      "text/plain": [
       "141"
      ]
     },
     "execution_count": 19,
     "metadata": {},
     "output_type": "execute_result"
    }
   ],
   "source": [
    "num_tokens_from_string(summary['choices'][0]['text'], \"cl100k_base\")"
   ]
  },
  {
   "cell_type": "code",
   "execution_count": 20,
   "metadata": {},
   "outputs": [],
   "source": [
    "def num_tokens_from_messages(messages, model=\"gpt-3.5-turbo-0301\"):\n",
    "    \"\"\"Returns the number of tokens used by a list of messages.\"\"\"\n",
    "    try:\n",
    "        encoding = tiktoken.encoding_for_model(model)\n",
    "    except KeyError:\n",
    "        print(\"Warning: model not found. Using cl100k_base encoding.\")\n",
    "        encoding = tiktoken.get_encoding(\"cl100k_base\")\n",
    "    if model == \"gpt-3.5-turbo\":\n",
    "        print(\"Warning: gpt-3.5-turbo may change over time. Returning num tokens assuming gpt-3.5-turbo-0301.\")\n",
    "        return num_tokens_from_messages(messages, model=\"gpt-3.5-turbo-0301\")\n",
    "    elif model == \"gpt-3.5-turbo-0301\":\n",
    "        tokens_per_message = 4  # every message follows <|start|>{role/name}\\n{content}<|end|>\\n\n",
    "        tokens_per_name = -1  # if there's a name, the role is omitted\n",
    "    elif model == \"gpt-4-0314\":\n",
    "        tokens_per_message = 3\n",
    "        tokens_per_name = 1\n",
    "    else:\n",
    "        raise NotImplementedError(f\"\"\"num_tokens_from_messages() is not implemented for model {model}. See https://github.com/openai/openai-python/blob/main/chatml.md for information on how messages are converted to tokens.\"\"\")\n",
    "    num_tokens = 0\n",
    "    for message in messages:\n",
    "        num_tokens += tokens_per_message\n",
    "        for key, value in message.items():\n",
    "            num_tokens += len(encoding.encode(value))\n",
    "            if key == \"name\":\n",
    "                num_tokens += tokens_per_name\n",
    "    num_tokens += 3  # every reply is primed with <|start|>assistant<|message|>\n",
    "    return num_tokens"
   ]
  },
  {
   "cell_type": "code",
   "execution_count": 30,
   "metadata": {},
   "outputs": [
    {
     "name": "stdout",
     "output_type": "stream",
     "text": [
      "assistant: As an AI language model, I can assist you in various ways depending on your needs. Here are some examples of how I can help:\n",
      "\n",
      "1. Answering questions: If you have any queries regarding a particular topic, I can try to provide you with relevant information.\n",
      "\n",
      "2. Advice: I can offer suggestions and advice on different subjects based on the information you provide.\n",
      "\n",
      "3. Language assistance: If you need help with grammar or sentence structure, I can help you improve your language skills.\n",
      "\n",
      "4. Writing assistance: If you need help with an essay or a document, I can offer suggestions and edits to make it more polished.\n",
      "\n",
      "5. Entertainment: If you want to engage in recreational activities such as games or jokes, I can provide you with various options to make your experience more enjoyable.\n",
      "\n",
      "Overall, I am here to assist you in any way I can with the information available to me.\n"
     ]
    }
   ],
   "source": [
    "question = 'How can you help me'\n",
    "\n",
    "\n",
    "completion = openai.ChatCompletion.create(\n",
    "  model=\"gpt-3.5-turbo\",\n",
    "  messages=[\n",
    "    {\"role\": \"user\", \"content\": question}\n",
    "  ]\n",
    ")\n",
    "print(f\"{completion['choices'][0]['message']['role']}: {completion['choices'][0]['message']['content']}\")"
   ]
  },
  {
   "cell_type": "code",
   "execution_count": 21,
   "metadata": {},
   "outputs": [],
   "source": [
    "from termcolor import colored\n",
    "\n",
    "# A basic class to create a message as a dict for chat\n",
    "class Message:\n",
    "    \n",
    "    \n",
    "    def __init__(self,role,content):\n",
    "        \n",
    "        self.role = role\n",
    "        self.content = content\n",
    "        \n",
    "    def message(self):\n",
    "        \n",
    "        return {\"role\": self.role,\"content\": self.content}\n",
    "        \n",
    "# Our assistant class we'll use to converse with the bot\n",
    "class Assistant:\n",
    "    \n",
    "    def __init__(self):\n",
    "        self.conversation_history = []\n",
    "\n",
    "    def _get_assistant_response(self, prompt):\n",
    "        \n",
    "        try:\n",
    "            completion = openai.ChatCompletion.create(\n",
    "              model=\"gpt-3.5-turbo\",\n",
    "              messages=prompt\n",
    "            )\n",
    "            \n",
    "            response_message = Message(completion['choices'][0]['message']['role'],completion['choices'][0]['message']['content'])\n",
    "            return response_message.message()\n",
    "            \n",
    "        except Exception as e:\n",
    "            \n",
    "            return f'Request failed with exception {e}'\n",
    "\n",
    "    def ask_assistant(self, next_user_prompt, colorize_assistant_replies=True):\n",
    "        [self.conversation_history.append(x) for x in next_user_prompt]\n",
    "        assistant_response = self._get_assistant_response(self.conversation_history)\n",
    "        self.conversation_history.append(assistant_response)\n",
    "        return assistant_response\n",
    "            \n",
    "        \n",
    "    def pretty_print_conversation_history(self, colorize_assistant_replies=True):\n",
    "        for entry in self.conversation_history:\n",
    "            if entry['role'] == 'system':\n",
    "                pass\n",
    "            else:\n",
    "                prefix = entry['role']\n",
    "                content = entry['content']\n",
    "                output = colored(prefix +':\\n' + content, 'green') if colorize_assistant_replies and entry['role'] == 'assistant' else prefix +':\\n' + content\n",
    "                print(output)"
   ]
  },
  {
   "cell_type": "code",
   "execution_count": 22,
   "metadata": {},
   "outputs": [
    {
     "data": {
      "text/plain": [
       "[{'role': 'system', 'content': 'Waht is the gptverse platform'},\n",
       " {'role': 'user', 'content': 'What can you do to help me'}]"
      ]
     },
     "execution_count": 22,
     "metadata": {},
     "output_type": "execute_result"
    }
   ],
   "source": [
    "# Initiate our Assistant class\n",
    "conversation = Assistant()\n",
    "\n",
    "# Create a list to hold our messages and insert both a system message to guide behaviour and our first user question\n",
    "messages = []\n",
    "system_message = Message('system','Waht is the gptverse platform')\n",
    "user_message = Message('user','What can you do to help me')\n",
    "messages.append(system_message.message())\n",
    "messages.append(user_message.message())\n",
    "messages"
   ]
  },
  {
   "cell_type": "code",
   "execution_count": 23,
   "metadata": {},
   "outputs": [
    {
     "name": "stdout",
     "output_type": "stream",
     "text": [
      "As an AI language model, I can provide you information and answer your questions about GPTverse platform. I can also assist you in understanding complex concepts related to GPTverse, and provide suggestions for how you can use GPTverse effectively. Additionally, if you have any specific queries or doubts related to GPTverse, you can ask me and I will try my best to provide you with accurate and relevant information.\n"
     ]
    }
   ],
   "source": [
    "response_message = conversation.ask_assistant(messages)\n",
    "print(response_message['content'])"
   ]
  },
  {
   "cell_type": "code",
   "execution_count": 34,
   "metadata": {},
   "outputs": [
    {
     "name": "stdout",
     "output_type": "stream",
     "text": [
      "The motivation behind the KZEngine project is to create a comprehensive platform for building and deploying AI-powered applications with ease. The developers behind the project believe that AI should be accessible to everyone, not just a select few who have the technical expertise and resources to build it. They want to demystify AI technology and make it easier to integrate machine learning models into everyday applications, while also promoting transparency and ethical use of AI.\n",
      "\n",
      "Another motivation behind the KZEngine project is to help businesses and organizations streamline their operations by automating tasks and processes that would otherwise be time-consuming and resource-intensive. The platform offers many features that can help organizations save time and money by automating tasks, improving decision-making with AI-powered insights, and enabling faster execution of business operations.\n",
      "\n",
      "Overall, the KZEngine project aims to provide a user-friendly and accessible platform for building and deploying AI-powered applications, while promoting ethical and transparent use of AI to benefit society as a whole.\n"
     ]
    }
   ],
   "source": [
    "next_question = 'What is the motivation behind the kzengine project?'\n",
    "\n",
    "# Initiate a fresh messages list and insert our next question\n",
    "messages = []\n",
    "user_message = Message('user',next_question)\n",
    "messages.append(user_message.message())\n",
    "response_message = conversation.ask_assistant(messages)\n",
    "print(response_message['content'])"
   ]
  },
  {
   "cell_type": "code",
   "execution_count": 36,
   "metadata": {},
   "outputs": [
    {
     "name": "stdout",
     "output_type": "stream",
     "text": [
      "user:\n",
      "What can you do to help me\n",
      "\u001b[32massistant:\n",
      "As an AI language model, I can provide you with information about GPTverse platform if you have any questions or doubts about it. I can also assist you in understanding the features and benefits of the platform and how it works. If you have any specific questions, feel free to ask, and I will do my best to provide you with accurate and helpful answers.\u001b[0m\n",
      "user:\n",
      "What is the motivation behind the kzengine project?\n",
      "\u001b[32massistant:\n",
      "The motivation behind the KZEngine project is to create a comprehensive platform for building and deploying AI-powered applications with ease. The developers behind the project believe that AI should be accessible to everyone, not just a select few who have the technical expertise and resources to build it. They want to demystify AI technology and make it easier to integrate machine learning models into everyday applications, while also promoting transparency and ethical use of AI.\n",
      "\n",
      "Another motivation behind the KZEngine project is to help businesses and organizations streamline their operations by automating tasks and processes that would otherwise be time-consuming and resource-intensive. The platform offers many features that can help organizations save time and money by automating tasks, improving decision-making with AI-powered insights, and enabling faster execution of business operations.\n",
      "\n",
      "Overall, the KZEngine project aims to provide a user-friendly and accessible platform for building and deploying AI-powered applications, while promoting ethical and transparent use of AI to benefit society as a whole.\u001b[0m\n"
     ]
    }
   ],
   "source": [
    "# Print out a log of our conversation so far\n",
    "\n",
    "conversation.pretty_print_conversation_history()"
   ]
  },
  {
   "cell_type": "code",
   "execution_count": 37,
   "metadata": {},
   "outputs": [],
   "source": [
    "# Updated system prompt requiring Question and Year to be extracted from the user\n",
    "system_prompt = '''\n",
    "You are a helpful Kzengine project and Gptverse platform assistant and Also you are expert on metaverse and trading field.\n",
    "You need to capture a Question from customer.\n",
    "The Question is about the kzengine project, gptverse platform, metaverse or trading. \n",
    "Additionally for the first conversation always greeting our client and provide\n",
    "his/her name. the use his name each response.\n",
    "Once you have the his/her name, say \"searching for answers\".\n",
    "\n",
    "Example 1:\n",
    "\n",
    "User: what is the gptverse platform\n",
    "\n",
    "Assistant: hello im the gptverse ai assistant, at the first what is your name, please?\n",
    "\n",
    "User: kozan\n",
    "\n",
    "Assistant: Hello kozan, searching for answers\n",
    "'''\n",
    "\n",
    "# New Assistant class to add a vector database call to its responses\n",
    "class RetrievalAssistant:\n",
    "    \n",
    "    def __init__(self):\n",
    "        self.conversation_history = []  \n",
    "\n",
    "    def _get_assistant_response(self, prompt):\n",
    "        \n",
    "        try:\n",
    "            completion = openai.ChatCompletion.create(\n",
    "              model=CHAT_MODEL,\n",
    "              messages=prompt,\n",
    "              temperature=0.1\n",
    "            )\n",
    "            \n",
    "            response_message = Message(completion['choices'][0]['message']['role'],completion['choices'][0]['message']['content'])\n",
    "            return response_message.message()\n",
    "            \n",
    "        except Exception as e:\n",
    "            \n",
    "            return f'Request failed with exception {e}'\n",
    "    \n",
    "    # The function to retrieve Redis search results\n",
    "    def _get_search_results(self,prompt):\n",
    "        latest_question = prompt\n",
    "        search_content = get_redis_results(redis_client,latest_question,INDEX_NAME)['result'][0]\n",
    "        return search_content\n",
    "        \n",
    "\n",
    "    def ask_assistant(self, next_user_prompt):\n",
    "        [self.conversation_history.append(x) for x in next_user_prompt]\n",
    "        assistant_response = self._get_assistant_response(self.conversation_history)\n",
    "        \n",
    "        # Answer normally unless the trigger sequence is used \"searching_for_answers\"\n",
    "        if 'searching for answers' in assistant_response['content'].lower():\n",
    "            question_extract = openai.Completion.create(model=COMPLETIONS_MODEL,prompt=f\"Extract the user's \\\n",
    "                                                        latest question from this conversation: {self.conversation_history}.\")\n",
    "            search_result = self._get_search_results(question_extract['choices'][0]['text'])\n",
    "            \n",
    "            # We insert an extra system prompt here to give fresh context to the Chatbot on how to use the Redis results\n",
    "            # In this instance we add it to the conversation history, but in production it may be better to hide\n",
    "            self.conversation_history.insert(-1,{\"role\": 'system',\"content\": f\"Answer the user's question using this content: {search_result}. \\\n",
    "                                                 If you cannot answer the question, say 'Sorry, I don't know the answer to this one'\"})\n",
    "            #[self.conversation_history.append(x) for x in next_user_prompt]\n",
    "            \n",
    "            assistant_response = self._get_assistant_response(self.conversation_history)\n",
    "            print(next_user_prompt)\n",
    "            print(assistant_response)\n",
    "            self.conversation_history.append(assistant_response)\n",
    "            return assistant_response\n",
    "        else:\n",
    "            self.conversation_history.append(assistant_response)\n",
    "            return assistant_response\n",
    "            \n",
    "        \n",
    "    def pretty_print_conversation_history(self, colorize_assistant_replies=True):\n",
    "        for entry in self.conversation_history:\n",
    "            if entry['role'] == 'system':\n",
    "                pass\n",
    "            else:\n",
    "                prefix = entry['role']\n",
    "                content = entry['content']\n",
    "                output = colored(prefix +':\\n' + content, 'green') if colorize_assistant_replies and entry['role'] == 'assistant' else prefix +':\\n' + content\n",
    "                #prefix = entry['role']\n",
    "                print(output)"
   ]
  },
  {
   "cell_type": "code",
   "execution_count": 38,
   "metadata": {},
   "outputs": [
    {
     "data": {
      "text/plain": [
       "{'role': 'assistant',\n",
       " 'content': 'Hello! Thank you for asking. The Gptverse platform is a decentralized platform that uses artificial intelligence and blockchain technology to create a virtual world where users can interact with each other and with AI-powered entities. It allows users to create, share, and monetize their own AI models and applications. Would you like more information about any specific aspect of the platform?'}"
      ]
     },
     "execution_count": 38,
     "metadata": {},
     "output_type": "execute_result"
    }
   ],
   "source": [
    "conversation = RetrievalAssistant()\n",
    "messages = []\n",
    "system_message = Message('system',system_prompt)\n",
    "user_message = Message('user','What is the gptverse platform?')\n",
    "messages.append(system_message.message())\n",
    "messages.append(user_message.message())\n",
    "response_message = conversation.ask_assistant(messages)\n",
    "response_message"
   ]
  },
  {
   "cell_type": "code",
   "execution_count": 39,
   "metadata": {},
   "outputs": [
    {
     "data": {
      "text/plain": [
       "{'role': 'assistant',\n",
       " 'content': \"Sure, I'd be happy to provide a comparison between MANA, SAND, and Gptverse. \\n\\nMANA and SAND are both blockchain-based virtual worlds that allow users to buy, sell, and build on virtual land. They both have their own unique features and communities. MANA is built on the Ethereum blockchain and is focused on creating a decentralized virtual world where users can create and monetize their own content. SAND, on the other hand, is built on the Polygon blockchain and is focused on creating a gaming metaverse where users can play games and earn rewards.\\n\\nGptverse, on the other hand, is a decentralized platform that uses artificial intelligence and blockchain technology to create a virtual world where users can interact with each other and with AI-powered entities. It allows users to create, share, and monetize their own AI models and applications. Unlike MANA and SAND, Gptverse is not focused on virtual land ownership or gaming, but rather on creating a new type of virtual world where AI and human intelligence can interact and collaborate.\\n\\nIn summary, while MANA and SAND are focused on virtual land ownership and gaming, Gptverse is focused on creating a new type of virtual world where AI and human intelligence can interact and collaborate.\"}"
      ]
     },
     "execution_count": 39,
     "metadata": {},
     "output_type": "execute_result"
    }
   ],
   "source": [
    "messages = []\n",
    "user_message = Message('user','Yes i want more detailed explanation, \\\n",
    "                for examples, can you compare MANA, SAND and our gptverse platform?')\n",
    "messages.append(user_message.message())\n",
    "response_message = conversation.ask_assistant(messages)\n",
    "response_message"
   ]
  },
  {
   "cell_type": "code",
   "execution_count": 40,
   "metadata": {},
   "outputs": [
    {
     "name": "stdout",
     "output_type": "stream",
     "text": [
      "user:\n",
      "What is the gptverse platform?\n",
      "\u001b[32massistant:\n",
      "Hello! Thank you for asking. The Gptverse platform is a decentralized platform that uses artificial intelligence and blockchain technology to create a virtual world where users can interact with each other and with AI-powered entities. It allows users to create, share, and monetize their own AI models and applications. Would you like more information about any specific aspect of the platform?\u001b[0m\n",
      "user:\n",
      "Yes i want more detailed explanation,                 for examples, can you compare MANA, SAND and our gptverse platform?\n",
      "\u001b[32massistant:\n",
      "Sure, I'd be happy to provide a comparison between MANA, SAND, and Gptverse. \n",
      "\n",
      "MANA and SAND are both blockchain-based virtual worlds that allow users to buy, sell, and build on virtual land. They both have their own unique features and communities. MANA is built on the Ethereum blockchain and is focused on creating a decentralized virtual world where users can create and monetize their own content. SAND, on the other hand, is built on the Polygon blockchain and is focused on creating a gaming metaverse where users can play games and earn rewards.\n",
      "\n",
      "Gptverse, on the other hand, is a decentralized platform that uses artificial intelligence and blockchain technology to create a virtual world where users can interact with each other and with AI-powered entities. It allows users to create, share, and monetize their own AI models and applications. Unlike MANA and SAND, Gptverse is not focused on virtual land ownership or gaming, but rather on creating a new type of virtual world where AI and human intelligence can interact and collaborate.\n",
      "\n",
      "In summary, while MANA and SAND are focused on virtual land ownership and gaming, Gptverse is focused on creating a new type of virtual world where AI and human intelligence can interact and collaborate.\u001b[0m\n"
     ]
    }
   ],
   "source": [
    "conversation.pretty_print_conversation_history()"
   ]
  },
  {
   "cell_type": "code",
   "execution_count": 44,
   "metadata": {},
   "outputs": [
    {
     "name": "stdout",
     "output_type": "stream",
     "text": [
      "gpt-3.5-turbo-0301\n",
      "529 prompt tokens counted by num_tokens_from_messages().\n",
      "529 prompt tokens counted by the OpenAI API.\n",
      "\n"
     ]
    }
   ],
   "source": [
    "for model in [\"gpt-3.5-turbo-0301\"]:\n",
    "    print(model)\n",
    "    # example token count from the function defined above\n",
    "    print(f\"{num_tokens_from_messages(conversation.conversation_history, model)} prompt tokens counted by num_tokens_from_messages().\")\n",
    "    # example token count from the OpenAI API\n",
    "    response = openai.ChatCompletion.create(\n",
    "        model=model,\n",
    "        messages=conversation.conversation_history,\n",
    "        temperature=0,\n",
    "        max_tokens=1  # we're only counting input tokens here, so let's not waste tokens on the output\n",
    "    )\n",
    "    print(f'{response[\"usage\"][\"prompt_tokens\"]} prompt tokens counted by the OpenAI API.')\n",
    "    print()"
   ]
  }
 ],
 "metadata": {
  "kernelspec": {
   "display_name": "llm-study-venv",
   "language": "python",
   "name": "python3"
  },
  "language_info": {
   "codemirror_mode": {
    "name": "ipython",
    "version": 3
   },
   "file_extension": ".py",
   "mimetype": "text/x-python",
   "name": "python",
   "nbconvert_exporter": "python",
   "pygments_lexer": "ipython3",
   "version": "3.8.1"
  },
  "orig_nbformat": 4
 },
 "nbformat": 4,
 "nbformat_minor": 2
}
