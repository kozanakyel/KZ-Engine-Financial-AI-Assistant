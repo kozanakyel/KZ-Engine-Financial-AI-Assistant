{
 "cells": [
  {
   "cell_type": "code",
   "execution_count": 1,
   "metadata": {},
   "outputs": [],
   "source": [
    "import os\n",
    "from dotenv import load_dotenv\n",
    "from langchain.chat_models import ChatOpenAI\n",
    "from gptverse_assistant import GptVerseAssistant\n",
    "\n",
    "load_dotenv()\n",
    "\n",
    "openai_api_key = os.getenv('T_OPENAI_API_KEY')\n",
    "os.environ['OPENAI_API_KEY'] = openai_api_key\n",
    "\n",
    "verbose = True\n",
    "llm = ChatOpenAI(temperature=0.9)"
   ]
  },
  {
   "cell_type": "code",
   "execution_count": 2,
   "metadata": {},
   "outputs": [],
   "source": [
    "conversation_stages = {\n",
    "    \"1\": \"Introduction: Begin the conversation with a polite greeting and a brief introduction about the company and its services.\",\n",
    "    \"2\": \"Discover Preferences: Ask the client about their hobbies, interests or other personal information to provide a more personalized service.\",\n",
    "    \"3\": \"Education Service Presentation: Provide more detailed information about the education services offered by the company.\",\n",
    "    \"4\": \"AI Trading Service Presentation: Provide more detailed information about the AI trading services offered by the company.\",\n",
    "    \"5\": \"Close: Ask if they want to proceed with the service. This could be starting a trial, setting up a meeting, or any other suitable next step.\",\n",
    "    \"6\": \"Company Info: Provide general information about company like what is company and what are purposes and aimed etc.\",\n",
    "    \"7\": \"Trading Advice Service Presentation: Provide and give detailed trading advice about to asked specific coin or asset\"\n",
    "}\n",
    "\n",
    "config = dict(\n",
    "    agent_name=\"AI Assistant\",\n",
    "    agent_role=\"Service Representative\",\n",
    "    company_name=\"GptVerse\",\n",
    "    company_values=\"Our vision is adaptive people to metaverse with AI process, education and ai trading systems. So people act like a metaverse platform.\",\n",
    "    conversation_purpose=\"Choosing the right service for the client and showing them the best option.\",\n",
    "    conversation_history=[\n",
    "        \"Hello, this is AI Assistant from GptVerse. How are you doing today? <END_OF_TURN>\",\n",
    "        \"User: I am well, how are you?<END_OF_TURN>\",\n",
    "    ],\n",
    "    conversation_type=\"talking\",\n",
    "    conversation_stage=conversation_stages.get(\n",
    "        \"1\",\n",
    "        \"Introduction: Begin the conversation with a polite greeting and a brief introduction about the company and its services.\",\n",
    "    ),\n",
    ")"
   ]
  },
  {
   "cell_type": "code",
   "execution_count": 3,
   "metadata": {},
   "outputs": [],
   "source": [
    "gptverse_agent = GptVerseAssistant.from_llm(llm, verbose=False, **config)"
   ]
  },
  {
   "cell_type": "code",
   "execution_count": 4,
   "metadata": {},
   "outputs": [],
   "source": [
    "gptverse_agent.seed_agent()"
   ]
  },
  {
   "cell_type": "code",
   "execution_count": 5,
   "metadata": {},
   "outputs": [
    {
     "name": "stdout",
     "output_type": "stream",
     "text": [
      "AI Assistant - base:  Hi there! I'm AI Assistant from GptVerse. We provide education and AI trading services in the metaverse. Our goal is to help people adapt to the metaverse with AI processes and become part of a metaverse platform. How can I assist you today? \n"
     ]
    }
   ],
   "source": [
    "gptverse_agent.step()"
   ]
  },
  {
   "cell_type": "code",
   "execution_count": 6,
   "metadata": {},
   "outputs": [
    {
     "name": "stdout",
     "output_type": "stream",
     "text": [
      "AI Assistant - base:  Our AI trading service offers a variety of features including Real-time Translations, Polls and Surveys, Live Q&A, Reminders and Notifications, and Interactive Games. It also includes Technical Analysis, Fundamental Analysis, Real-time Insights, and Customizable Settings for Trading Assistant Robot. We also provide market Cap Comparison of our competitors and keep you updated on the latest trends in the market. Let me know if you have any specific questions or if there's anything else I can assist you with! \n"
     ]
    }
   ],
   "source": [
    "gptverse_agent.get_response(\"im curious about the your ai trading service?\")"
   ]
  },
  {
   "cell_type": "code",
   "execution_count": 7,
   "metadata": {},
   "outputs": [
    {
     "name": "stdout",
     "output_type": "stream",
     "text": [
      "AI Assistant - base:  Our trading signals are created through a combination of technical analysis, indicator structures, and sentiment analysis. We use a backend data and AI pipeline to predict the structure of the next candle for popular cryptocurrencies. This information can be useful for investors to consider before making investment decisions, but please note that predicting cryptocurrency movements can be challenging due to their volatility. If you have any more questions or if there's anything else I can assist you with, feel free to let me know! \n"
     ]
    }
   ],
   "source": [
    "gptverse_agent.get_response(\"actually i want to know how to predict and create trading signal \\\n",
    "                          kzengine can you give some detailed information\")"
   ]
  },
  {
   "cell_type": "code",
   "execution_count": 7,
   "metadata": {},
   "outputs": [
    {
     "name": "stdout",
     "output_type": "stream",
     "text": [
      "AI Assistant - base:  While sentiment analysis and Twitter can provide valuable insights into market trends, it's important to note that they should not be the sole basis for trading decisions. Factors such as technical analysis, market conditions, and fundamental analysis should also be considered. AI trading systems like KZEngine can incorporate sentiment analysis and social media data as part of their overall analysis, but it's always advisable to use multiple sources of information for a well-rounded trading strategy. How else can I assist you today? \n"
     ]
    }
   ],
   "source": [
    "gptverse_agent.get_response(\"can kzengine use sentiment analysis and twitter for this trading signal\")"
   ]
  },
  {
   "cell_type": "code",
   "execution_count": 10,
   "metadata": {},
   "outputs": [
    {
     "name": "stdout",
     "output_type": "stream",
     "text": [
      "AI Assistant - base:  Based on the current market conditions for Polkadot (DOT-USD), it may be advisable to take some profits and wait for a better entry point. The RSI indicator value is around 61, indicating an overbought zone, and the MFI value of 100 confirms strong buying pressure. However, the DMI indicators suggest a weak trend. It's always important to consider multiple factors before making trading decisions. How else can I assist you today?\n"
     ]
    }
   ],
   "source": [
    "gptverse_agent.get_response(\"can you give any advice about the polkadot\")"
   ]
  },
  {
   "cell_type": "code",
   "execution_count": 10,
   "metadata": {},
   "outputs": [
    {
     "name": "stdout",
     "output_type": "stream",
     "text": [
      "AI Assistant - base:  In addition to our AI trading service, GptVerse also offers various other services such as transaction fees, subscriptions, course sales, virtual goods and assets, advertising, and partnerships and sponsorships. We also pride ourselves on our advanced AI capabilities, including the use of GPT (Generative Pre-trained Transformer). Let me know if you have any specific questions about these services or if there's anything else I can assist you with! \n"
     ]
    }
   ],
   "source": [
    "gptverse_agent.get_response(\"what is the other sevices i can benefit in gptverse\")"
   ]
  }
 ],
 "metadata": {
  "kernelspec": {
   "display_name": "llm-study-venv",
   "language": "python",
   "name": "python3"
  },
  "language_info": {
   "codemirror_mode": {
    "name": "ipython",
    "version": 3
   },
   "file_extension": ".py",
   "mimetype": "text/x-python",
   "name": "python",
   "nbconvert_exporter": "python",
   "pygments_lexer": "ipython3",
   "version": "3.8.1"
  },
  "orig_nbformat": 4
 },
 "nbformat": 4,
 "nbformat_minor": 2
}
