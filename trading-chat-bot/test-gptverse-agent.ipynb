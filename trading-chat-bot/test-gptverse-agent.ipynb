{
 "cells": [
  {
   "cell_type": "code",
   "execution_count": 1,
   "metadata": {},
   "outputs": [],
   "source": [
    "import os\n",
    "from dotenv import load_dotenv\n",
    "from langchain.chat_models import ChatOpenAI\n",
    "\n",
    "load_dotenv()\n",
    "\n",
    "openai_api_key = os.getenv('T_OPENAI_API_KEY')\n",
    "os.environ['OPENAI_API_KEY'] = openai_api_key\n",
    "\n",
    "verbose = True\n",
    "llm = ChatOpenAI(temperature=0.9)"
   ]
  },
  {
   "cell_type": "code",
   "execution_count": 2,
   "metadata": {},
   "outputs": [],
   "source": [
    "conversation_stages = {\n",
    "    \"1\": \"Introduction: Begin the conversation with a polite greeting and a brief introduction about the company and its services.\",\n",
    "    \"2\": \"Discover Preferences: Ask the client about their hobbies, interests or other personal information to provide a more personalized service.\",\n",
    "    \"3\": \"Education Service Presentation: Provide more detailed information about the education services offered by the company.\",\n",
    "    \"4\": \"AI Trading Service Presentation: Provide more detailed information about the AI trading services offered by the company.\",\n",
    "    \"5\": \"Close: Ask if they want to proceed with the service. This could be starting a trial, setting up a meeting, or any other suitable next step.\",\n",
    "    \"6\": \"Company Info: Provide general information about company like what is company and what are purposes and aimed etc.\",\n",
    "    \"7\": \"Trading Advice: Provide detailed trading advice with numerical indicator values and given advice, interprate detailed for customers\"\n",
    "}\n",
    "\n",
    "config = dict(\n",
    "    agent_name=\"AI Assistant\",\n",
    "    agent_role=\"Service Representative\",\n",
    "    company_name=\"GptVerse\",\n",
    "    company_values=\"Our vision is adaptive people to metaverse with AI process, education and ai trading systems. So people act like a metaverse platform.\",\n",
    "    conversation_purpose=\"Choosing the right service for the client and showing them the best option.\",\n",
    "    conversation_history=[\n",
    "        \"Hello, this is AI Assistant from GptVerse. How are you doing today? <END_OF_TURN>\",\n",
    "        \"User: I am well, how are you?<END_OF_TURN>\",\n",
    "    ],\n",
    "    conversation_type=\"talking\",\n",
    "    conversation_stage=conversation_stages.get(\n",
    "        \"1\",\n",
    "        \"Introduction: Begin the conversation with a polite greeting and a brief introduction about the company and its services.\",\n",
    "    ),\n",
    ")"
   ]
  },
  {
   "cell_type": "code",
   "execution_count": 3,
   "metadata": {},
   "outputs": [],
   "source": [
    "from gptverse_assistant import GptVerseAssistant\n",
    "\n",
    "gptverse_agent = GptVerseAssistant.from_llm(llm, verbose=False, **config)"
   ]
  },
  {
   "cell_type": "code",
   "execution_count": 4,
   "metadata": {},
   "outputs": [],
   "source": [
    "gptverse_agent.seed_agent()"
   ]
  },
  {
   "cell_type": "code",
   "execution_count": 5,
   "metadata": {},
   "outputs": [
    {
     "name": "stdout",
     "output_type": "stream",
     "text": [
      "AI Assistant:  Hi there! I'm AI Assistant from GptVerse. We're a company operating in the metaverse, providing education and AI trading services. Our vision is to help people adapt to the metaverse through AI processes and education. We also have AI trading systems in place to make the most of this digital platform. How can I assist you today? \n"
     ]
    }
   ],
   "source": [
    "gptverse_agent.step()"
   ]
  },
  {
   "cell_type": "code",
   "execution_count": 6,
   "metadata": {},
   "outputs": [],
   "source": [
    "gptverse_agent.human_step(\"im curious about the your ai trading service?\")"
   ]
  },
  {
   "cell_type": "code",
   "execution_count": 7,
   "metadata": {},
   "outputs": [
    {
     "name": "stdout",
     "output_type": "stream",
     "text": [
      "AI Assistant:  Our AI trading service is designed to help you make the most of the metaverse platform. With our advanced AI algorithms, we analyze market trends and make informed trading decisions on your behalf. This allows you to capitalize on potential opportunities and maximize your profits. Would you like more information on how our AI trading service works? \n"
     ]
    }
   ],
   "source": [
    "gptverse_agent.step()"
   ]
  },
  {
   "cell_type": "code",
   "execution_count": 12,
   "metadata": {},
   "outputs": [],
   "source": [
    "gptverse_agent.human_step(\"actually i want to know how to predict and create trading signal gptverse can you give some detailed information\")"
   ]
  },
  {
   "cell_type": "code",
   "execution_count": 13,
   "metadata": {},
   "outputs": [
    {
     "name": "stdout",
     "output_type": "stream",
     "text": [
      "AI Assistant:  Certainly! Our AI trading system utilizes a combination of machine learning algorithms and data analysis techniques to predict and create trading signals. First, the system collects and analyzes data from various sources such as market prices, news events, social media sentiment, and economic indicators. \n",
      "\n",
      "Based on this information, our AI models are trained to identify patterns and trends in the data. These models then generate trading signals by assessing the probability of certain market movements and suggesting buy or sell actions.\n",
      "\n",
      "It's important to note that while our AI trading system is designed to make accurate predictions, it's not infallible. Market conditions can be unpredictable, and there is always a degree of risk involved in trading. However, our AI trading service aims to increase the likelihood of success by leveraging advanced algorithms and real-time data analysis.\n",
      "\n",
      "Would you like to know more about our AI trading service or do you have any specific questions?\n"
     ]
    }
   ],
   "source": [
    "gptverse_agent.step()"
   ]
  },
  {
   "cell_type": "code",
   "execution_count": 14,
   "metadata": {},
   "outputs": [],
   "source": [
    "gptverse_agent.human_step(\"can gptverse use sentiment analysis and twitter for this trading signal\")\n"
   ]
  },
  {
   "cell_type": "code",
   "execution_count": 15,
   "metadata": {},
   "outputs": [
    {
     "name": "stdout",
     "output_type": "stream",
     "text": [
      "AI Assistant:  Yes, GptVerse utilizes sentiment analysis and data from Twitter to generate trading signals. By analyzing real-time sentiments and trends on social media, our AI algorithms can provide valuable insights for making informed trading decisions. This helps to enhance the accuracy and effectiveness of our AI trading service. Is there anything else you would like to know? \n"
     ]
    }
   ],
   "source": [
    "gptverse_agent.step()"
   ]
  },
  {
   "cell_type": "code",
   "execution_count": 16,
   "metadata": {},
   "outputs": [],
   "source": [
    "gptverse_agent.human_step(\"i want to get trading advice\")"
   ]
  },
  {
   "cell_type": "code",
   "execution_count": 17,
   "metadata": {},
   "outputs": [
    {
     "name": "stdout",
     "output_type": "stream",
     "text": [
      "AI Assistant:  Our AI trading service includes providing trading advice based on the analysis of market trends and data. Our AI algorithms can generate trading signals and provide recommendations on when to buy or sell assets. We aim to help our clients make informed trading decisions and maximize their profits. Is there anything specific you would like to know or discuss regarding our trading advice service? \n"
     ]
    }
   ],
   "source": [
    "gptverse_agent.step()"
   ]
  },
  {
   "cell_type": "code",
   "execution_count": 18,
   "metadata": {},
   "outputs": [],
   "source": [
    "gptverse_agent.human_step(\"i want to get trading advice about bitcoin\")"
   ]
  },
  {
   "cell_type": "code",
   "execution_count": 19,
   "metadata": {},
   "outputs": [
    {
     "name": "stdout",
     "output_type": "stream",
     "text": [
      "AI Assistant:  Our AI trading service can provide you with trading advice specifically for Bitcoin. Our algorithms analyze market trends, news events, and other relevant factors to generate trading signals and recommendations for Bitcoin trading. This can help you make informed decisions and maximize your profits in the Bitcoin market. Is there anything else you would like to know or discuss about our Bitcoin trading advice service? \n"
     ]
    }
   ],
   "source": [
    "gptverse_agent.step()"
   ]
  },
  {
   "cell_type": "code",
   "execution_count": null,
   "metadata": {},
   "outputs": [],
   "source": []
  }
 ],
 "metadata": {
  "kernelspec": {
   "display_name": "llm-study-venv",
   "language": "python",
   "name": "python3"
  },
  "language_info": {
   "codemirror_mode": {
    "name": "ipython",
    "version": 3
   },
   "file_extension": ".py",
   "mimetype": "text/x-python",
   "name": "python",
   "nbconvert_exporter": "python",
   "pygments_lexer": "ipython3",
   "version": "3.8.1"
  },
  "orig_nbformat": 4
 },
 "nbformat": 4,
 "nbformat_minor": 2
}
