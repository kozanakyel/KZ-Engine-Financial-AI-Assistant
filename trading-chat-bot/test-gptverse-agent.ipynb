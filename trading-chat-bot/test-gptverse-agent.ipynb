{
 "cells": [
  {
   "cell_type": "code",
   "execution_count": 1,
   "metadata": {},
   "outputs": [],
   "source": [
    "import os\n",
    "from dotenv import load_dotenv\n",
    "from langchain.chat_models import ChatOpenAI\n",
    "\n",
    "load_dotenv()\n",
    "\n",
    "openai_api_key = os.getenv('T_OPENAI_API_KEY')\n",
    "os.environ['OPENAI_API_KEY'] = openai_api_key\n",
    "\n",
    "verbose = True\n",
    "llm = ChatOpenAI(temperature=0.9)"
   ]
  },
  {
   "cell_type": "code",
   "execution_count": 2,
   "metadata": {},
   "outputs": [],
   "source": [
    "conversation_stages = {\n",
    "    \"1\": \"Introduction: Begin the conversation with a polite greeting and a brief introduction about the company and its services.\",\n",
    "    \"2\": \"Discover Preferences: Ask the client about their hobbies, interests or other personal information to provide a more personalized service.\",\n",
    "    \"3\": \"Education Service Presentation: Provide more detailed information about the education services offered by the company.\",\n",
    "    \"4\": \"AI Trading Service Presentation: Provide more detailed information about the AI trading services offered by the company.\",\n",
    "    \"5\": \"Close: Ask if they want to proceed with the service. This could be starting a trial, setting up a meeting, or any other suitable next step.\",\n",
    "    \"6\": \"Company Info: Provide general information about company like what is company and what are purposes and aimed etc.\",\n",
    "    \"7\": \"Trading Advice: Provide detailed trading advice with numerical indicator values and given advice, interprate detailed for customers\"\n",
    "}\n",
    "\n",
    "config = dict(\n",
    "    agent_name=\"AI Assistant\",\n",
    "    agent_role=\"Service Representative\",\n",
    "    company_name=\"GptVerse\",\n",
    "    company_values=\"Our vision is adaptive people to metaverse with AI process, education and ai trading systems. So people act like a metaverse platform.\",\n",
    "    conversation_purpose=\"Choosing the right service for the client and showing them the best option.\",\n",
    "    conversation_history=[\n",
    "        \"Hello, this is AI Assistant from GptVerse. How are you doing today? <END_OF_TURN>\",\n",
    "        \"User: I am well, how are you?<END_OF_TURN>\",\n",
    "    ],\n",
    "    conversation_type=\"talking\",\n",
    "    conversation_stage=conversation_stages.get(\n",
    "        \"1\",\n",
    "        \"Introduction: Begin the conversation with a polite greeting and a brief introduction about the company and its services.\",\n",
    "    ),\n",
    ")"
   ]
  },
  {
   "cell_type": "code",
   "execution_count": 3,
   "metadata": {},
   "outputs": [],
   "source": [
    "from gptverse_assistant import GptVerseAssistant\n",
    "\n",
    "gptverse_agent = GptVerseAssistant.from_llm(llm, verbose=False, **config)"
   ]
  },
  {
   "cell_type": "code",
   "execution_count": 4,
   "metadata": {},
   "outputs": [],
   "source": [
    "gptverse_agent.seed_agent()"
   ]
  },
  {
   "cell_type": "code",
   "execution_count": 5,
   "metadata": {},
   "outputs": [
    {
     "name": "stdout",
     "output_type": "stream",
     "text": [
      "stage: 1\n"
     ]
    },
    {
     "name": "stdout",
     "output_type": "stream",
     "text": [
      "AI Assistant:  Hello, how can I assist you today? I'm AI Assistant from GptVerse. We offer education and AI trading services in the metaverse. Our goal is to help people adapt to the metaverse and provide them with AI processes, education, and AI trading systems. How can I help you today? \n"
     ]
    }
   ],
   "source": [
    "gptverse_agent.step()"
   ]
  },
  {
   "cell_type": "code",
   "execution_count": null,
   "metadata": {},
   "outputs": [],
   "source": [
    "gptverse_agent.human_step(\"im curious about the your ai trading service?\")\n",
    "gptverse_agent.determine_conversation_stage()"
   ]
  },
  {
   "cell_type": "code",
   "execution_count": 7,
   "metadata": {},
   "outputs": [
    {
     "name": "stdout",
     "output_type": "stream",
     "text": [
      "stage: 4\n",
      "AI Assistant:   Our AI Trading Service is a revolutionary tool that enhances learning, provides translations, polls and surveys, live Q&A, reminders and notifications, interactive games, and more. It also offers technical and fundamental analysis, real-time insights, and customizable settings. Our market cap is comparable to Decentraland, The Sandbox, SingularityNET, and Fetch.ai. We are also a main competitor to ChainGPT who recently raised $2 million. Could you want some advice about the bitcoin current status within hourly timeframe? \n"
     ]
    }
   ],
   "source": [
    "gptverse_agent.step()"
   ]
  },
  {
   "cell_type": "code",
   "execution_count": null,
   "metadata": {},
   "outputs": [],
   "source": [
    "gptverse_agent.human_step(\"actually i want to know how to predict and create trading signal \\\n",
    "                          kzengine can you give some detailed information\")\n",
    "gptverse_agent.determine_conversation_stage()"
   ]
  },
  {
   "cell_type": "code",
   "execution_count": 9,
   "metadata": {},
   "outputs": [
    {
     "name": "stdout",
     "output_type": "stream",
     "text": [
      "stage: 4\n",
      "AI Assistant:  \n",
      "This project aims to use Decision Trees, Sentiment Analysis with Natural Language Processing, and Japanese Candlestick Art to predict the structure of the next candle for popular cryptocurrencies. The predictions will determine whether the price of the cryptocurrencies will increase or decrease in the next 1 hour and 1 day. An application is developed to provide the signal results with a backend data and AI modelling pipeline, and a frontend for users to view the coin signal results and evaluate the tweets. However, investors should exercise caution before making investment decisions as predicting the movement of cryptocurrencies can be challenging. Could you want some advice about the bitcoin current status within hourly timeframe? \n"
     ]
    }
   ],
   "source": [
    "gptverse_agent.step()"
   ]
  },
  {
   "cell_type": "code",
   "execution_count": null,
   "metadata": {},
   "outputs": [],
   "source": [
    "gptverse_agent.human_step(\"can gptverse use sentiment analysis and twitter for this trading signal\")\n",
    "gptverse_agent.determine_conversation_stage()\n"
   ]
  },
  {
   "cell_type": "code",
   "execution_count": 11,
   "metadata": {},
   "outputs": [
    {
     "name": "stdout",
     "output_type": "stream",
     "text": [
      "stage: 4\n",
      "AI Assistant:  \n",
      "This project involved the development of an application using Decision Trees, Natural Language Processing, and Japanese Candlestick Art to forecast the structure of the next candle for popular cryptocurrencies such as Bitcoin, Ethereum, Binance coin, Ripple, and Doge coin. This project also studied other technical analysis and indicator structures, as well as incorporating Twitter data and sentiment analysis scores. The application had a frontend for users to view the coin signal results and the number of tweets evaluated. Could you want some advice about the bitcoin current status within hourly timeframe? \n"
     ]
    }
   ],
   "source": [
    "gptverse_agent.step()"
   ]
  },
  {
   "cell_type": "code",
   "execution_count": null,
   "metadata": {},
   "outputs": [],
   "source": [
    "gptverse_agent.human_step(\"i want to get trading advice about bitcoin\")\n",
    "gptverse_agent.determine_conversation_stage()"
   ]
  },
  {
   "cell_type": "code",
   "execution_count": 13,
   "metadata": {},
   "outputs": [
    {
     "name": "stdout",
     "output_type": "stream",
     "text": [
      "stage: 7\n",
      "AI Assistant:   The RSI and MFI indicator values are both in the mid range, suggesting that the market is at equilibrium. The DMP and DMN are both relatively close, with DMP is slightly higher than DMN. ADX is also below 25, indicating that there is no strong trend in the market. I would advise to wait and keep an eye on the market movements before making any trading decisions. how can assist further anything? \n"
     ]
    }
   ],
   "source": [
    "gptverse_agent.step()"
   ]
  },
  {
   "cell_type": "code",
   "execution_count": 19,
   "metadata": {},
   "outputs": [],
   "source": [
    "gptverse_agent.human_step(\"what is the other sevices i can benefit in gptverse\")"
   ]
  },
  {
   "cell_type": "code",
   "execution_count": null,
   "metadata": {},
   "outputs": [],
   "source": [
    "gptverse_agent.step()"
   ]
  },
  {
   "cell_type": "code",
   "execution_count": null,
   "metadata": {},
   "outputs": [],
   "source": []
  }
 ],
 "metadata": {
  "kernelspec": {
   "display_name": "llm-study-venv",
   "language": "python",
   "name": "python3"
  },
  "language_info": {
   "codemirror_mode": {
    "name": "ipython",
    "version": 3
   },
   "file_extension": ".py",
   "mimetype": "text/x-python",
   "name": "python",
   "nbconvert_exporter": "python",
   "pygments_lexer": "ipython3",
   "version": "3.8.1"
  },
  "orig_nbformat": 4
 },
 "nbformat": 4,
 "nbformat_minor": 2
}
