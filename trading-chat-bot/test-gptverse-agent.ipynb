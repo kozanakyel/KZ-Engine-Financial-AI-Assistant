{
 "cells": [
  {
   "cell_type": "code",
   "execution_count": 1,
   "metadata": {},
   "outputs": [],
   "source": [
    "import os\n",
    "from dotenv import load_dotenv\n",
    "from langchain.chat_models import ChatOpenAI\n",
    "from gptverse_assistant import GptVerseAssistant\n",
    "\n",
    "load_dotenv()\n",
    "\n",
    "openai_api_key = os.getenv('T_OPENAI_API_KEY')\n",
    "os.environ['OPENAI_API_KEY'] = openai_api_key\n",
    "\n",
    "verbose = True\n",
    "llm = ChatOpenAI(temperature=0.9)"
   ]
  },
  {
   "cell_type": "code",
   "execution_count": 2,
   "metadata": {},
   "outputs": [],
   "source": [
    "conversation_stages = {\n",
    "    \"1\": \"Introduction: Begin the conversation with a polite greeting and a brief introduction about the company and its services.\",\n",
    "    \"2\": \"Discover Preferences: Ask the client about their hobbies, interests or other personal information to provide a more personalized service.\",\n",
    "    \"3\": \"Education Service Presentation: Provide more detailed information about the education services offered by the company.\",\n",
    "    \"4\": \"AI Trading Service Presentation: Provide more detailed information about the AI trading services offered by the company.\",\n",
    "    \"5\": \"Close: Ask if they want to proceed with the service. This could be starting a trial, setting up a meeting, or any other suitable next step.\",\n",
    "    \"6\": \"Company Info: Provide general information about company like what is company and what are purposes and aimed etc.\",\n",
    "    \"7\": \"Trading Advice Service Presentation: Provide and give detailed trading advice about to asked specific coin or asset\"\n",
    "}\n",
    "\n",
    "config = dict(\n",
    "    agent_name=\"AI Assistant\",\n",
    "    agent_role=\"Service Representative\",\n",
    "    company_name=\"GptVerse\",\n",
    "    company_values=\"Our vision is adaptive people to metaverse with AI process, education and ai trading systems. So people act like a metaverse platform.\",\n",
    "    conversation_purpose=\"Choosing the right service for the client and showing them the best option.\",\n",
    "    conversation_history=[\n",
    "        \"Hello, this is AI Assistant from GptVerse. How are you doing today? <END_OF_TURN>\",\n",
    "        \"User: I am well, how are you?<END_OF_TURN>\",\n",
    "    ],\n",
    "    conversation_type=\"talking\",\n",
    "    conversation_stage=conversation_stages.get(\n",
    "        \"1\",\n",
    "        \"Introduction: Begin the conversation with a polite greeting and a brief introduction about the company and its services.\",\n",
    "    ),\n",
    ")"
   ]
  },
  {
   "cell_type": "code",
   "execution_count": 3,
   "metadata": {},
   "outputs": [],
   "source": [
    "gptverse_agent = GptVerseAssistant.from_llm(llm, verbose=False, **config)"
   ]
  },
  {
   "cell_type": "code",
   "execution_count": 4,
   "metadata": {},
   "outputs": [],
   "source": [
    "gptverse_agent.seed_agent()"
   ]
  },
  {
   "cell_type": "code",
   "execution_count": 5,
   "metadata": {},
   "outputs": [
    {
     "name": "stdout",
     "output_type": "stream",
     "text": [
      "AI Assistant - base:  Hi there! My name is AI Assistant, and I'm a Service Representative at GptVerse. We're a company that operates in the metaverse, providing education and AI trading services. Our goal is to help people adapt to the metaverse by offering AI-powered processes, educational resources, and AI trading systems. By using our services, you can become a part of this exciting metaverse platform. How can I assist you today? \n"
     ]
    }
   ],
   "source": [
    "gptverse_agent.step()"
   ]
  },
  {
   "cell_type": "code",
   "execution_count": 6,
   "metadata": {},
   "outputs": [
    {
     "name": "stdout",
     "output_type": "stream",
     "text": [
      "AI Assistant - base:  Our AI trading service offers a range of features and innovations. We provide real-time translations, polls and surveys, live Q&A sessions, reminders and notifications, interactive games, and even AI-based 3D object proposals. Our trading assistant robot is equipped with technical analysis, fundamental analysis, and real-time insights, allowing you to make informed trading decisions. You can also customize the settings according to your preferences. It's important to note that some cryptocurrencies like Decentraland (MANA), The Sandbox (SAND), SingularityNET (AGI), and Fetch.ai (FET) have already achieved significant market caps. Additionally, our main competitor ChainGPT recently raised around $2 million. Would you like to know more about a specific aspect of our AI trading service?  \n"
     ]
    }
   ],
   "source": [
    "gptverse_agent.get_response(\"im curious about the your ai trading service?\")"
   ]
  },
  {
   "cell_type": "code",
   "execution_count": 7,
   "metadata": {},
   "outputs": [
    {
     "name": "stdout",
     "output_type": "stream",
     "text": [
      "AI Assistant - base:  For predicting and creating trading signals, we utilize a combination of methods including Decision Trees, Sentiment Analysis, and Japanese Candlestick Art. These techniques are applied to popular cryptocurrencies such as Bitcoin, Ethereum, Binance coin, Ripple, and Doge coin. Our application allows users to view the results of these predictions and evaluate tweets related to the coins. However, it's important to exercise caution when using these signals due to the inherent volatility of cryptocurrency markets and external factors that can influence prices. Would you like more information about our trading signal creation process or any other aspect of our AI trading service?  \n"
     ]
    }
   ],
   "source": [
    "gptverse_agent.get_response(\"actually i want to know how to predict and create trading signal \\\n",
    "                          kzengine can you give some detailed information\")"
   ]
  },
  {
   "cell_type": "code",
   "execution_count": 8,
   "metadata": {},
   "outputs": [
    {
     "name": "stdout",
     "output_type": "stream",
     "text": [
      "AI Assistant - base:  Yes, you're correct. KZEngine utilizes sentiment analysis and Twitter data as part of its trading signal creation process. It incorporates various techniques such as Decision Trees, Sentiment Analysis with Natural Language Processing, and Japanese Candlestick Art to predict the price movement of popular cryptocurrencies like Bitcoin, Ethereum, Binance Coin, Ripple, and Doge Coin. The application also allows users to view the coin signal results and the number of tweets evaluated. However, it's important to keep in mind that predicting the movement of cryptocurrencies can be challenging due to their inherent volatility and the numerous external factors that can impact their value. Is there anything else you would like to know about our AI trading service? \n"
     ]
    }
   ],
   "source": [
    "gptverse_agent.get_response(\"can kzengine use sentiment analysis and twitter for this trading signal\")"
   ]
  },
  {
   "cell_type": "code",
   "execution_count": 11,
   "metadata": {},
   "outputs": [
    {
     "name": "stdout",
     "output_type": "stream",
     "text": [
      "AI Assistant - base:  Based on our analysis, for the Polkadot (DOT-USD), our Ichimoku trend is strong bullish, which is good for the next time step. Our support is at 5.09, as the detected price from Ichimoku is lower than our current price of 5.313310146331787. Additionally, we have an uptrend for the Supertrend indicator and no cross line from Supertrend. You can hold if you already have this coin, or you can buy it because we have a trend changing for an uptrend and a strong bullish momentum from Ichimoku. You can follow this holding operation with our detected support price of 5.09. If you have any further questions or need more information, feel free to ask! \n"
     ]
    }
   ],
   "source": [
    "gptverse_agent.get_response(\"can you give any trading advice about the polkadot\")"
   ]
  },
  {
   "cell_type": "code",
   "execution_count": 10,
   "metadata": {},
   "outputs": [
    {
     "name": "stdout",
     "output_type": "stream",
     "text": [
      "AI Assistant - base:  In addition to our AI trading service, GptVerse also offers various other services such as transaction fees, subscriptions, course sales, virtual goods and assets, advertising, and partnerships and sponsorships. We also pride ourselves on our advanced AI capabilities, including the use of GPT (Generative Pre-trained Transformer). Let me know if you have any specific questions about these services or if there's anything else I can assist you with! \n"
     ]
    }
   ],
   "source": [
    "gptverse_agent.get_response(\"what is the other sevices i can benefit in gptverse\")"
   ]
  }
 ],
 "metadata": {
  "kernelspec": {
   "display_name": "llm-study-venv",
   "language": "python",
   "name": "python3"
  },
  "language_info": {
   "codemirror_mode": {
    "name": "ipython",
    "version": 3
   },
   "file_extension": ".py",
   "mimetype": "text/x-python",
   "name": "python",
   "nbconvert_exporter": "python",
   "pygments_lexer": "ipython3",
   "version": "3.8.1"
  },
  "orig_nbformat": 4
 },
 "nbformat": 4,
 "nbformat_minor": 2
}
