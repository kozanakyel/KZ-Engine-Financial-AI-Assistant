{
 "cells": [
  {
   "cell_type": "code",
   "execution_count": 1,
   "metadata": {},
   "outputs": [],
   "source": [
    "import os\n",
    "from dotenv import load_dotenv\n",
    "from langchain.chat_models import ChatOpenAI\n",
    "from kzai_assistant import KzaiAssistant\n",
    "\n",
    "load_dotenv()\n",
    "\n",
    "openai_api_key = os.getenv('T_OPENAI_API_KEY')\n",
    "os.environ['OPENAI_API_KEY'] = openai_api_key\n",
    "\n",
    "verbose = True\n",
    "llm = ChatOpenAI(temperature=0.9)"
   ]
  },
  {
   "cell_type": "code",
   "execution_count": 2,
   "metadata": {},
   "outputs": [],
   "source": [
    "conversation_stages = {\n",
    "    \"1\": \"Introduction: Begin the conversation with a polite greeting and a brief introduction about the company and its services.\",\n",
    "    \"2\": \"Discover Preferences: Ask the client about their hobbies, interests or other personal information to provide a more personalized service.\",\n",
    "    \"3\": \"Education Service Presentation: Provide more detailed information about the education services offered by the company.\",\n",
    "    \"4\": \"AI Trading Service Presentation: Provide more detailed information about the AI trading services offered by the company.\",\n",
    "    \"5\": \"Close: Ask if they want to proceed with the service. This could be starting a trial, setting up a meeting, or any other suitable next step.\",\n",
    "    \"6\": \"Company Info: Provide general information about company like what is company and what are purposes and aimed etc.\",\n",
    "    \"7\": \"Trading Advice Service Presentation: Provide and give detailed trading advice about to asked specific coin or asset\"\n",
    "}\n",
    "\n",
    "config = dict(\n",
    "    agent_name=\"AI Assistant\",\n",
    "    agent_role=\"Service Representative\",\n",
    "    company_name=\"GptVerse\",\n",
    "    company_values=\"Our vision is adaptive people to metaverse with AI process, education and ai trading systems. So people act like a metaverse platform.\",\n",
    "    conversation_purpose=\"Choosing the right service for the client and showing them the best option.\",\n",
    "    conversation_history=[\n",
    "    ],\n",
    "    conversation_type=\"talking\",\n",
    "    conversation_stage=conversation_stages.get(\n",
    "        \"1\",\n",
    "        \"Introduction: Begin the conversation with a polite greeting and a brief introduction about the company and its services.\",\n",
    "    ),\n",
    ")"
   ]
  },
  {
   "cell_type": "code",
   "execution_count": 3,
   "metadata": {},
   "outputs": [],
   "source": [
    "kzai_agent = KzaiAssistant.from_llm(llm, verbose=False, **config)"
   ]
  },
  {
   "cell_type": "code",
   "execution_count": 4,
   "metadata": {},
   "outputs": [],
   "source": [
    "kzai_agent.seed_agent()"
   ]
  },
  {
   "cell_type": "code",
   "execution_count": 5,
   "metadata": {},
   "outputs": [
    {
     "data": {
      "text/plain": [
       "\"Hi there! How can I assist you today? I'm AI Assistant from GptVerse, a company operating in the metaverse. We specialize in providing education and AI trading services, helping people adapt to the metaverse and act like a metaverse platform. How can we help you in your journey? \""
      ]
     },
     "execution_count": 5,
     "metadata": {},
     "output_type": "execute_result"
    }
   ],
   "source": [
    "kzai_agent.get_response(\"hello\")"
   ]
  },
  {
   "cell_type": "code",
   "execution_count": 6,
   "metadata": {},
   "outputs": [
    {
     "data": {
      "text/plain": [
       "'Our AI Trading Service offers a range of products and innovations to revolutionize education in the metaverse. We have Event Robot products that provide real-time translations, polls and surveys, live Q&A sessions, reminders and notifications, and interactive games. Additionally, we offer Shopping Robot products such as innovative product proposals and the Builder Editor. Our Trading Assistant Robot provides technical analysis, fundamental analysis, real-time insights, and customizable settings. We also provide a market cap comparison of popular metaverse tokens like Decentraland (MANA), The Sandbox (SAND), SingularityNET (AGI), and Fetch.ai (FET). We do have a main competitor called ChainGPT, who recently raised around $2 million. How can we assist you further with our AI trading service? '"
      ]
     },
     "execution_count": 6,
     "metadata": {},
     "output_type": "execute_result"
    }
   ],
   "source": [
    "kzai_agent.get_response(\"im curious about the your ai trading service?\")"
   ]
  },
  {
   "cell_type": "code",
   "execution_count": 7,
   "metadata": {},
   "outputs": [
    {
     "data": {
      "text/plain": [
       "\"GptVerse is an artificial intelligence-based Metaverse platform that offers a range of features including shopping, education, organization, and play-to-earn opportunities. Our platform is designed to transfer photos of real-world objects into the 3D Metaverse and includes AI-based event and educational areas. We also have conversational AI assistant bots, Metaverse store solutions, common Metaverse usage areas, and Play-to-Earn games and tournaments. It's a comprehensive platform that aims to provide a seamless and immersive Metaverse experience. How can we assist you further? \""
      ]
     },
     "execution_count": 7,
     "metadata": {},
     "output_type": "execute_result"
    }
   ],
   "source": [
    "kzai_agent.get_response(\"what is the gptverse platform?\")"
   ]
  },
  {
   "cell_type": "code",
   "execution_count": 7,
   "metadata": {},
   "outputs": [
    {
     "name": "stdout",
     "output_type": "stream",
     "text": [
      "AI Assistant - base:  For predicting and creating trading signals, we utilize a combination of methods including Decision Trees, Sentiment Analysis, and Japanese Candlestick Art. These techniques are applied to popular cryptocurrencies such as Bitcoin, Ethereum, Binance coin, Ripple, and Doge coin. Our application allows users to view the results of these predictions and evaluate tweets related to the coins. However, it's important to exercise caution when using these signals due to the inherent volatility of cryptocurrency markets and external factors that can influence prices. Would you like more information about our trading signal creation process or any other aspect of our AI trading service?  \n"
     ]
    }
   ],
   "source": [
    "kzai_agent.get_response(\"actually i want to know how to predict and create trading signal \\\n",
    "                          kzengine can you give some detailed information\")"
   ]
  },
  {
   "cell_type": "code",
   "execution_count": 8,
   "metadata": {},
   "outputs": [
    {
     "name": "stdout",
     "output_type": "stream",
     "text": [
      "AI Assistant - base:  Yes, you're correct. KZEngine utilizes sentiment analysis and Twitter data as part of its trading signal creation process. It incorporates various techniques such as Decision Trees, Sentiment Analysis with Natural Language Processing, and Japanese Candlestick Art to predict the price movement of popular cryptocurrencies like Bitcoin, Ethereum, Binance Coin, Ripple, and Doge Coin. The application also allows users to view the coin signal results and the number of tweets evaluated. However, it's important to keep in mind that predicting the movement of cryptocurrencies can be challenging due to their inherent volatility and the numerous external factors that can impact their value. Is there anything else you would like to know about our AI trading service? \n"
     ]
    }
   ],
   "source": [
    "kzai_agent.get_response(\"can kzengine use sentiment analysis and twitter for this trading signal\")"
   ]
  },
  {
   "cell_type": "code",
   "execution_count": 6,
   "metadata": {},
   "outputs": [
    {
     "name": "stdout",
     "output_type": "stream",
     "text": [
      "AI Assistant - base:  Sure! For Solana (SOL-USD), our analysis shows that the Ichimoku trend is currently bearish. However, the detected price is 18.58, and the current price is 18.36, which indicates that the current price is supported. The supertrend indicator also indicates a downtrend, and there haven't been any crosses or bullish movements from our trade engine. \n",
      "\n",
      "Based on these indicators, you can consider holding onto your Solana coins for now, or you can wait for a better opportunity to buy. It's important to keep monitoring the market and make informed decisions based on your trading strategy. Is there anything else I can assist you with? \n"
     ]
    }
   ],
   "source": [
    "kzai_agent.get_response(\"can you give any trading advice about the solana\")"
   ]
  },
  {
   "cell_type": "code",
   "execution_count": 10,
   "metadata": {},
   "outputs": [
    {
     "name": "stdout",
     "output_type": "stream",
     "text": [
      "AI Assistant - base:  In addition to our AI trading service, GptVerse also offers various other services such as transaction fees, subscriptions, course sales, virtual goods and assets, advertising, and partnerships and sponsorships. We also pride ourselves on our advanced AI capabilities, including the use of GPT (Generative Pre-trained Transformer). Let me know if you have any specific questions about these services or if there's anything else I can assist you with! \n"
     ]
    }
   ],
   "source": [
    "kzai_agent.get_response(\"what is the other sevices i can benefit in gptverse\")"
   ]
  }
 ],
 "metadata": {
  "kernelspec": {
   "display_name": "llm-study-venv",
   "language": "python",
   "name": "python3"
  },
  "language_info": {
   "codemirror_mode": {
    "name": "ipython",
    "version": 3
   },
   "file_extension": ".py",
   "mimetype": "text/x-python",
   "name": "python",
   "nbconvert_exporter": "python",
   "pygments_lexer": "ipython3",
   "version": "3.8.1"
  },
  "orig_nbformat": 4
 },
 "nbformat": 4,
 "nbformat_minor": 2
}
