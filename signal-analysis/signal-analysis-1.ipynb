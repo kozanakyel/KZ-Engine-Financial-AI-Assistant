{
 "cells": [
  {
   "cell_type": "code",
   "execution_count": 1,
   "metadata": {},
   "outputs": [],
   "source": [
    "import requests, json\n",
    "import pandas as pd\n",
    "import yfinance as yf\n",
    "import matplotlib.pyplot as plt\n",
    "import numpy as np\n",
    "import datetime"
   ]
  },
  {
   "cell_type": "markdown",
   "metadata": {},
   "source": [
    "### BITCOIN KZENGINE SIGNAL ANALYSIS"
   ]
  },
  {
   "cell_type": "code",
   "execution_count": 2,
   "metadata": {},
   "outputs": [],
   "source": [
    "payload = {\"ticker\":\"btc\"}\n",
    "url = \"https://1dd4-161-97-89-37.ngrok-free.app/signals_ticker\"\n",
    "result = requests.post(url=url, json=payload)"
   ]
  },
  {
   "cell_type": "code",
   "execution_count": 3,
   "metadata": {},
   "outputs": [
    {
     "data": {
      "text/html": [
       "<div>\n",
       "<style scoped>\n",
       "    .dataframe tbody tr th:only-of-type {\n",
       "        vertical-align: middle;\n",
       "    }\n",
       "\n",
       "    .dataframe tbody tr th {\n",
       "        vertical-align: top;\n",
       "    }\n",
       "\n",
       "    .dataframe thead th {\n",
       "        text-align: right;\n",
       "    }\n",
       "</style>\n",
       "<table border=\"1\" class=\"dataframe\">\n",
       "  <thead>\n",
       "    <tr style=\"text-align: right;\">\n",
       "      <th></th>\n",
       "      <th>backtest_returns_data</th>\n",
       "      <th>forecast_model</th>\n",
       "      <th>japanese_candle</th>\n",
       "      <th>signal</th>\n",
       "      <th>ticker</th>\n",
       "      <th>tweet_counts</th>\n",
       "    </tr>\n",
       "    <tr>\n",
       "      <th>datetime_t</th>\n",
       "      <th></th>\n",
       "      <th></th>\n",
       "      <th></th>\n",
       "      <th></th>\n",
       "      <th></th>\n",
       "      <th></th>\n",
       "    </tr>\n",
       "  </thead>\n",
       "  <tbody>\n",
       "    <tr>\n",
       "      <th>2023-10-11 11:00:00+00:00</th>\n",
       "      <td>{st_ema_6,st_adxdmi_5,st_mfi_10_pct,st_mfi_8_p...</td>\n",
       "      <td>{'accuracy_score': 0.5464247598719317, 'ai_typ...</td>\n",
       "      <td>CDLDOJI_Bull</td>\n",
       "      <td>0</td>\n",
       "      <td>btc</td>\n",
       "      <td>0</td>\n",
       "    </tr>\n",
       "    <tr>\n",
       "      <th>2023-10-11 12:00:00+00:00</th>\n",
       "      <td>{st_ema_6,st_adxdmi_5,st_mfi_10_pct,st_mfi_8_p...</td>\n",
       "      <td>{'accuracy_score': 0.5421558164354322, 'ai_typ...</td>\n",
       "      <td>CDLLONGLEGGEDDOJI_Bull</td>\n",
       "      <td>0</td>\n",
       "      <td>btc</td>\n",
       "      <td>0</td>\n",
       "    </tr>\n",
       "    <tr>\n",
       "      <th>2023-10-11 13:00:00+00:00</th>\n",
       "      <td>{st_ema_6,st_adxdmi_5,st_mfi_10_pct,st_mfi_8_p...</td>\n",
       "      <td>{'accuracy_score': 0.5437100213219617, 'ai_typ...</td>\n",
       "      <td>CDLMATCHINGLOW_Bull</td>\n",
       "      <td>0</td>\n",
       "      <td>btc</td>\n",
       "      <td>0</td>\n",
       "    </tr>\n",
       "    <tr>\n",
       "      <th>2023-10-11 14:00:00+00:00</th>\n",
       "      <td>{st_ema_6,st_adxdmi_5,st_mfi_10_pct,st_mfi_8_p...</td>\n",
       "      <td>{'accuracy_score': 0.5447761194029851, 'ai_typ...</td>\n",
       "      <td>CDLSHORTLINE_Bear</td>\n",
       "      <td>1</td>\n",
       "      <td>btc</td>\n",
       "      <td>0</td>\n",
       "    </tr>\n",
       "    <tr>\n",
       "      <th>2023-10-16 10:00:00+00:00</th>\n",
       "      <td>{st_ema_6,st_mfi_10_pct,st_mfi_8_pct,st_adxdmi...</td>\n",
       "      <td>{'accuracy_score': 0.5229455709711847, 'ai_typ...</td>\n",
       "      <td>CDLSHORTLINE_Bear</td>\n",
       "      <td>0</td>\n",
       "      <td>btc</td>\n",
       "      <td>0</td>\n",
       "    </tr>\n",
       "  </tbody>\n",
       "</table>\n",
       "</div>"
      ],
      "text/plain": [
       "                                                       backtest_returns_data  \\\n",
       "datetime_t                                                                     \n",
       "2023-10-11 11:00:00+00:00  {st_ema_6,st_adxdmi_5,st_mfi_10_pct,st_mfi_8_p...   \n",
       "2023-10-11 12:00:00+00:00  {st_ema_6,st_adxdmi_5,st_mfi_10_pct,st_mfi_8_p...   \n",
       "2023-10-11 13:00:00+00:00  {st_ema_6,st_adxdmi_5,st_mfi_10_pct,st_mfi_8_p...   \n",
       "2023-10-11 14:00:00+00:00  {st_ema_6,st_adxdmi_5,st_mfi_10_pct,st_mfi_8_p...   \n",
       "2023-10-16 10:00:00+00:00  {st_ema_6,st_mfi_10_pct,st_mfi_8_pct,st_adxdmi...   \n",
       "\n",
       "                                                              forecast_model  \\\n",
       "datetime_t                                                                     \n",
       "2023-10-11 11:00:00+00:00  {'accuracy_score': 0.5464247598719317, 'ai_typ...   \n",
       "2023-10-11 12:00:00+00:00  {'accuracy_score': 0.5421558164354322, 'ai_typ...   \n",
       "2023-10-11 13:00:00+00:00  {'accuracy_score': 0.5437100213219617, 'ai_typ...   \n",
       "2023-10-11 14:00:00+00:00  {'accuracy_score': 0.5447761194029851, 'ai_typ...   \n",
       "2023-10-16 10:00:00+00:00  {'accuracy_score': 0.5229455709711847, 'ai_typ...   \n",
       "\n",
       "                                  japanese_candle  signal ticker  tweet_counts  \n",
       "datetime_t                                                                      \n",
       "2023-10-11 11:00:00+00:00            CDLDOJI_Bull       0    btc             0  \n",
       "2023-10-11 12:00:00+00:00  CDLLONGLEGGEDDOJI_Bull       0    btc             0  \n",
       "2023-10-11 13:00:00+00:00     CDLMATCHINGLOW_Bull       0    btc             0  \n",
       "2023-10-11 14:00:00+00:00       CDLSHORTLINE_Bear       1    btc             0  \n",
       "2023-10-16 10:00:00+00:00       CDLSHORTLINE_Bear       0    btc             0  "
      ]
     },
     "execution_count": 3,
     "metadata": {},
     "output_type": "execute_result"
    }
   ],
   "source": [
    "data = json.loads(result.text)\n",
    "df = pd.DataFrame(data)\n",
    "df.datetime_t = pd.to_datetime(df.datetime_t)\n",
    "df.set_index(df.datetime_t, drop=True, inplace=True)\n",
    "df.index = df.index - datetime.timedelta(hours=3)\n",
    "df = df.drop(axis=1, columns=['datetime_t'])\n",
    "df.sort_index(inplace=True)\n",
    "df_hourly = df[df.apply(lambda row: row.forecast_model['interval'] != '1d', axis=1)]\n",
    "df_hourly.tail()"
   ]
  },
  {
   "cell_type": "code",
   "execution_count": 4,
   "metadata": {},
   "outputs": [
    {
     "data": {
      "text/plain": [
       "[<matplotlib.lines.Line2D at 0x7fe6c6d404c0>]"
      ]
     },
     "execution_count": 4,
     "metadata": {},
     "output_type": "execute_result"
    },
    {
     "data": {
      "image/png": "[encoded data removed]",
      "text/plain": [
       "<Figure size 640x480 with 1 Axes>"
      ]
     },
     "metadata": {},
     "output_type": "display_data"
    }
   ],
   "source": [
    "plt.plot(df.index, df['signal'])"
   ]
  },
  {
   "cell_type": "code",
   "execution_count": 5,
   "metadata": {},
   "outputs": [
    {
     "data": {
      "text/plain": [
       "'1h'"
      ]
     },
     "execution_count": 5,
     "metadata": {},
     "output_type": "execute_result"
    }
   ],
   "source": [
    "df_hourly.forecast_model.iloc[0]['interval']"
   ]
  },
  {
   "cell_type": "code",
   "execution_count": 6,
   "metadata": {},
   "outputs": [
    {
     "name": "stdout",
     "output_type": "stream",
     "text": [
      "[*********************100%***********************]  1 of 1 completed\n"
     ]
    },
    {
     "data": {
      "text/plain": [
       "[<matplotlib.lines.Line2D at 0x7fe6c43734f0>]"
      ]
     },
     "execution_count": 6,
     "metadata": {},
     "output_type": "execute_result"
    },
    {
     "data": {
      "image/png": "[encoded data removed]",
      "text/plain": [
       "<Figure size 640x480 with 1 Axes>"
      ]
     },
     "metadata": {},
     "output_type": "display_data"
    }
   ],
   "source": [
    "btc_yf = yf.download('BTC-USD', start=\"2023-07-27\", interval='1h')\n",
    "btc_yf['act_signal'] = np.where(btc_yf['Close'].pct_change() > 0, 1, 0)\n",
    "btc_yf['pct'] = btc_yf.Close.pct_change()\n",
    "plt.plot(btc_yf.index, btc_yf[\"act_signal\"])"
   ]
  },
  {
   "cell_type": "code",
   "execution_count": 7,
   "metadata": {},
   "outputs": [
    {
     "name": "stdout",
     "output_type": "stream",
     "text": [
      "<class 'pandas.core.frame.DataFrame'>\n",
      "DatetimeIndex: 1955 entries, 2023-07-27 00:00:00+00:00 to 2023-10-16 10:00:00+00:00\n",
      "Data columns (total 8 columns):\n",
      " #   Column      Non-Null Count  Dtype  \n",
      "---  ------      --------------  -----  \n",
      " 0   Open        1955 non-null   float64\n",
      " 1   High        1955 non-null   float64\n",
      " 2   Low         1955 non-null   float64\n",
      " 3   Close       1955 non-null   float64\n",
      " 4   Adj Close   1955 non-null   float64\n",
      " 5   Volume      1955 non-null   int64  \n",
      " 6   act_signal  1955 non-null   int64  \n",
      " 7   pct         1954 non-null   float64\n",
      "dtypes: float64(6), int64(2)\n",
      "memory usage: 137.5 KB\n",
      "<class 'pandas.core.frame.DataFrame'>\n",
      "DatetimeIndex: 1749 entries, 2023-07-27 09:00:00+00:00 to 2023-10-16 10:00:00+00:00\n",
      "Data columns (total 6 columns):\n",
      " #   Column                 Non-Null Count  Dtype \n",
      "---  ------                 --------------  ----- \n",
      " 0   backtest_returns_data  1749 non-null   object\n",
      " 1   forecast_model         1749 non-null   object\n",
      " 2   japanese_candle        1749 non-null   object\n",
      " 3   signal                 1749 non-null   int64 \n",
      " 4   ticker                 1749 non-null   object\n",
      " 5   tweet_counts           1749 non-null   int64 \n",
      "dtypes: int64(2), object(4)\n",
      "memory usage: 95.6+ KB\n"
     ]
    },
    {
     "data": {
      "text/plain": [
       "(None, None)"
      ]
     },
     "execution_count": 7,
     "metadata": {},
     "output_type": "execute_result"
    }
   ],
   "source": [
    "btc_yf.info(), df_hourly.info()"
   ]
  },
  {
   "cell_type": "code",
   "execution_count": 8,
   "metadata": {},
   "outputs": [],
   "source": [
    "btc_yf.loc[df_hourly.index, 'signal'] = df_hourly['signal']\n",
    "btc_yf = btc_yf.dropna()"
   ]
  },
  {
   "cell_type": "code",
   "execution_count": 9,
   "metadata": {},
   "outputs": [
    {
     "data": {
      "text/html": [
       "<div>\n",
       "<style scoped>\n",
       "    .dataframe tbody tr th:only-of-type {\n",
       "        vertical-align: middle;\n",
       "    }\n",
       "\n",
       "    .dataframe tbody tr th {\n",
       "        vertical-align: top;\n",
       "    }\n",
       "\n",
       "    .dataframe thead th {\n",
       "        text-align: right;\n",
       "    }\n",
       "</style>\n",
       "<table border=\"1\" class=\"dataframe\">\n",
       "  <thead>\n",
       "    <tr style=\"text-align: right;\">\n",
       "      <th></th>\n",
       "      <th>Open</th>\n",
       "      <th>High</th>\n",
       "      <th>Low</th>\n",
       "      <th>Close</th>\n",
       "      <th>Adj Close</th>\n",
       "      <th>Volume</th>\n",
       "      <th>act_signal</th>\n",
       "      <th>pct</th>\n",
       "      <th>signal</th>\n",
       "    </tr>\n",
       "    <tr>\n",
       "      <th>Datetime</th>\n",
       "      <th></th>\n",
       "      <th></th>\n",
       "      <th></th>\n",
       "      <th></th>\n",
       "      <th></th>\n",
       "      <th></th>\n",
       "      <th></th>\n",
       "      <th></th>\n",
       "      <th></th>\n",
       "    </tr>\n",
       "  </thead>\n",
       "  <tbody>\n",
       "    <tr>\n",
       "      <th>2023-07-27 09:00:00+00:00</th>\n",
       "      <td>29459.216797</td>\n",
       "      <td>29560.966797</td>\n",
       "      <td>29459.216797</td>\n",
       "      <td>29551.265625</td>\n",
       "      <td>29551.265625</td>\n",
       "      <td>81599488</td>\n",
       "      <td>1</td>\n",
       "      <td>0.003152</td>\n",
       "      <td>0.0</td>\n",
       "    </tr>\n",
       "    <tr>\n",
       "      <th>2023-07-27 10:00:00+00:00</th>\n",
       "      <td>29546.113281</td>\n",
       "      <td>29552.125000</td>\n",
       "      <td>29480.312500</td>\n",
       "      <td>29482.810547</td>\n",
       "      <td>29482.810547</td>\n",
       "      <td>102379520</td>\n",
       "      <td>0</td>\n",
       "      <td>-0.002316</td>\n",
       "      <td>0.0</td>\n",
       "    </tr>\n",
       "    <tr>\n",
       "      <th>2023-07-27 11:00:00+00:00</th>\n",
       "      <td>29490.933594</td>\n",
       "      <td>29520.707031</td>\n",
       "      <td>29478.330078</td>\n",
       "      <td>29505.267578</td>\n",
       "      <td>29505.267578</td>\n",
       "      <td>0</td>\n",
       "      <td>1</td>\n",
       "      <td>0.000762</td>\n",
       "      <td>0.0</td>\n",
       "    </tr>\n",
       "    <tr>\n",
       "      <th>2023-07-27 12:00:00+00:00</th>\n",
       "      <td>29508.166016</td>\n",
       "      <td>29508.166016</td>\n",
       "      <td>29464.062500</td>\n",
       "      <td>29489.669922</td>\n",
       "      <td>29489.669922</td>\n",
       "      <td>26038272</td>\n",
       "      <td>0</td>\n",
       "      <td>-0.000529</td>\n",
       "      <td>0.0</td>\n",
       "    </tr>\n",
       "    <tr>\n",
       "      <th>2023-07-27 13:00:00+00:00</th>\n",
       "      <td>29492.818359</td>\n",
       "      <td>29501.738281</td>\n",
       "      <td>29443.453125</td>\n",
       "      <td>29446.339844</td>\n",
       "      <td>29446.339844</td>\n",
       "      <td>0</td>\n",
       "      <td>0</td>\n",
       "      <td>-0.001469</td>\n",
       "      <td>0.0</td>\n",
       "    </tr>\n",
       "    <tr>\n",
       "      <th>...</th>\n",
       "      <td>...</td>\n",
       "      <td>...</td>\n",
       "      <td>...</td>\n",
       "      <td>...</td>\n",
       "      <td>...</td>\n",
       "      <td>...</td>\n",
       "      <td>...</td>\n",
       "      <td>...</td>\n",
       "      <td>...</td>\n",
       "    </tr>\n",
       "    <tr>\n",
       "      <th>2023-10-11 11:00:00+00:00</th>\n",
       "      <td>27281.558594</td>\n",
       "      <td>27297.455078</td>\n",
       "      <td>27187.955078</td>\n",
       "      <td>27200.904297</td>\n",
       "      <td>27200.904297</td>\n",
       "      <td>0</td>\n",
       "      <td>0</td>\n",
       "      <td>-0.002973</td>\n",
       "      <td>0.0</td>\n",
       "    </tr>\n",
       "    <tr>\n",
       "      <th>2023-10-11 12:00:00+00:00</th>\n",
       "      <td>27196.958984</td>\n",
       "      <td>27258.455078</td>\n",
       "      <td>27062.796875</td>\n",
       "      <td>27171.683594</td>\n",
       "      <td>27171.683594</td>\n",
       "      <td>97126400</td>\n",
       "      <td>0</td>\n",
       "      <td>-0.001074</td>\n",
       "      <td>0.0</td>\n",
       "    </tr>\n",
       "    <tr>\n",
       "      <th>2023-10-11 13:00:00+00:00</th>\n",
       "      <td>27172.865234</td>\n",
       "      <td>27185.613281</td>\n",
       "      <td>27086.476562</td>\n",
       "      <td>27143.173828</td>\n",
       "      <td>27143.173828</td>\n",
       "      <td>0</td>\n",
       "      <td>0</td>\n",
       "      <td>-0.001049</td>\n",
       "      <td>0.0</td>\n",
       "    </tr>\n",
       "    <tr>\n",
       "      <th>2023-10-11 14:00:00+00:00</th>\n",
       "      <td>27142.960938</td>\n",
       "      <td>27161.822266</td>\n",
       "      <td>27054.142578</td>\n",
       "      <td>27084.576172</td>\n",
       "      <td>27084.576172</td>\n",
       "      <td>0</td>\n",
       "      <td>0</td>\n",
       "      <td>-0.002159</td>\n",
       "      <td>1.0</td>\n",
       "    </tr>\n",
       "    <tr>\n",
       "      <th>2023-10-16 10:00:00+00:00</th>\n",
       "      <td>27775.175781</td>\n",
       "      <td>27775.175781</td>\n",
       "      <td>27717.839844</td>\n",
       "      <td>27733.025391</td>\n",
       "      <td>27733.025391</td>\n",
       "      <td>163981312</td>\n",
       "      <td>0</td>\n",
       "      <td>-0.001560</td>\n",
       "      <td>0.0</td>\n",
       "    </tr>\n",
       "  </tbody>\n",
       "</table>\n",
       "<p>1743 rows × 9 columns</p>\n",
       "</div>"
      ],
      "text/plain": [
       "                                   Open          High           Low  \\\n",
       "Datetime                                                              \n",
       "2023-07-27 09:00:00+00:00  29459.216797  29560.966797  29459.216797   \n",
       "2023-07-27 10:00:00+00:00  29546.113281  29552.125000  29480.312500   \n",
       "2023-07-27 11:00:00+00:00  29490.933594  29520.707031  29478.330078   \n",
       "2023-07-27 12:00:00+00:00  29508.166016  29508.166016  29464.062500   \n",
       "2023-07-27 13:00:00+00:00  29492.818359  29501.738281  29443.453125   \n",
       "...                                 ...           ...           ...   \n",
       "2023-10-11 11:00:00+00:00  27281.558594  27297.455078  27187.955078   \n",
       "2023-10-11 12:00:00+00:00  27196.958984  27258.455078  27062.796875   \n",
       "2023-10-11 13:00:00+00:00  27172.865234  27185.613281  27086.476562   \n",
       "2023-10-11 14:00:00+00:00  27142.960938  27161.822266  27054.142578   \n",
       "2023-10-16 10:00:00+00:00  27775.175781  27775.175781  27717.839844   \n",
       "\n",
       "                                  Close     Adj Close     Volume  act_signal  \\\n",
       "Datetime                                                                       \n",
       "2023-07-27 09:00:00+00:00  29551.265625  29551.265625   81599488           1   \n",
       "2023-07-27 10:00:00+00:00  29482.810547  29482.810547  102379520           0   \n",
       "2023-07-27 11:00:00+00:00  29505.267578  29505.267578          0           1   \n",
       "2023-07-27 12:00:00+00:00  29489.669922  29489.669922   26038272           0   \n",
       "2023-07-27 13:00:00+00:00  29446.339844  29446.339844          0           0   \n",
       "...                                 ...           ...        ...         ...   \n",
       "2023-10-11 11:00:00+00:00  27200.904297  27200.904297          0           0   \n",
       "2023-10-11 12:00:00+00:00  27171.683594  27171.683594   97126400           0   \n",
       "2023-10-11 13:00:00+00:00  27143.173828  27143.173828          0           0   \n",
       "2023-10-11 14:00:00+00:00  27084.576172  27084.576172          0           0   \n",
       "2023-10-16 10:00:00+00:00  27733.025391  27733.025391  163981312           0   \n",
       "\n",
       "                                pct  signal  \n",
       "Datetime                                     \n",
       "2023-07-27 09:00:00+00:00  0.003152     0.0  \n",
       "2023-07-27 10:00:00+00:00 -0.002316     0.0  \n",
       "2023-07-27 11:00:00+00:00  0.000762     0.0  \n",
       "2023-07-27 12:00:00+00:00 -0.000529     0.0  \n",
       "2023-07-27 13:00:00+00:00 -0.001469     0.0  \n",
       "...                             ...     ...  \n",
       "2023-10-11 11:00:00+00:00 -0.002973     0.0  \n",
       "2023-10-11 12:00:00+00:00 -0.001074     0.0  \n",
       "2023-10-11 13:00:00+00:00 -0.001049     0.0  \n",
       "2023-10-11 14:00:00+00:00 -0.002159     1.0  \n",
       "2023-10-16 10:00:00+00:00 -0.001560     0.0  \n",
       "\n",
       "[1743 rows x 9 columns]"
      ]
     },
     "execution_count": 9,
     "metadata": {},
     "output_type": "execute_result"
    }
   ],
   "source": [
    "btc_yf"
   ]
  },
  {
   "cell_type": "code",
   "execution_count": 10,
   "metadata": {},
   "outputs": [
    {
     "data": {
      "image/png": "[encoded data removed]",
      "text/plain": [
       "<Figure size 640x480 with 1 Axes>"
      ]
     },
     "metadata": {},
     "output_type": "display_data"
    }
   ],
   "source": [
    "plt.plot(btc_yf.index, btc_yf[\"act_signal\"])\n",
    "plt.plot(btc_yf.index, btc_yf[\"signal\"])\n",
    "total_success_prediction = (btc_yf[\"act_signal\"] == btc_yf[\"signal\"]).sum()"
   ]
  },
  {
   "cell_type": "code",
   "execution_count": 11,
   "metadata": {},
   "outputs": [
    {
     "data": {
      "text/plain": [
       "0.5157773952954676"
      ]
     },
     "execution_count": 11,
     "metadata": {},
     "output_type": "execute_result"
    }
   ],
   "source": [
    "success_rate = total_success_prediction / btc_yf.shape[0]\n",
    "success_rate"
   ]
  },
  {
   "cell_type": "code",
   "execution_count": null,
   "metadata": {},
   "outputs": [],
   "source": []
  }
 ],
 "metadata": {
  "kernelspec": {
   "display_name": "llm-study-venv",
   "language": "python",
   "name": "python3"
  },
  "language_info": {
   "codemirror_mode": {
    "name": "ipython",
    "version": 3
   },
   "file_extension": ".py",
   "mimetype": "text/x-python",
   "name": "python",
   "nbconvert_exporter": "python",
   "pygments_lexer": "ipython3",
   "version": "3.8.1"
  },
  "orig_nbformat": 4
 },
 "nbformat": 4,
 "nbformat_minor": 2
}
