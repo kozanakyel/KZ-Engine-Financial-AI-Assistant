{
 "cells": [
  {
   "cell_type": "code",
   "execution_count": 1,
   "metadata": {},
   "outputs": [],
   "source": [
    "from dotenv import load_dotenv\n",
    "import os\n",
    "\n",
    "load_dotenv()\n",
    "\n",
    "twitter_bearer_token = os.getenv('TW_BEARER_TOKEN')\n",
    "\n",
    "from langchain.document_loaders import TwitterTweetLoader"
   ]
  },
  {
   "cell_type": "code",
   "execution_count": 2,
   "metadata": {},
   "outputs": [],
   "source": [
    "def get_users_twitter(file: str) -> list:\n",
    "    with open(file, 'r') as f:\n",
    "        usernames = f.read().splitlines()\n",
    "    return usernames"
   ]
  },
  {
   "cell_type": "code",
   "execution_count": 3,
   "metadata": {},
   "outputs": [],
   "source": [
    "loader = TwitterTweetLoader.from_bearer_token(\n",
    "    oauth2_bearer_token=twitter_bearer_token,\n",
    "    twitter_users=get_users_twitter('/mnt/c/Users/kozan/Desktop/Sen_Des_Proj/GPT-4-KZEngine-Signal-Interpretation/twitter-sentiment/list_users_twitter.txt'),\n",
    "    number_tweets=1000,  # Default value is 100\n",
    ")"
   ]
  },
  {
   "cell_type": "code",
   "execution_count": 4,
   "metadata": {},
   "outputs": [
    {
     "data": {
      "text/plain": [
       "5318"
      ]
     },
     "execution_count": 4,
     "metadata": {},
     "output_type": "execute_result"
    }
   ],
   "source": [
    "contents = []\n",
    "documents = loader.load()\n",
    "for doc in documents:\n",
    "    contents.append(doc.dict())\n",
    "len(contents)"
   ]
  },
  {
   "cell_type": "code",
   "execution_count": 5,
   "metadata": {},
   "outputs": [],
   "source": [
    "import pandas as pd\n",
    "\n",
    "df = pd.DataFrame(contents)\n",
    "\n",
    "df['created_at'] = pd.to_datetime(df['metadata'].apply(lambda x: x['created_at']), format='%a %b %d %H:%M:%S %z %Y')\n",
    "df['screen_name'] = df['metadata'].apply(lambda x: x['user_info']['screen_name'])\n",
    "df = df[['screen_name', 'page_content', 'created_at']]\n",
    "df = df.rename(columns={'page_content': 'text', 'screen_name': 'username'})"
   ]
  },
  {
   "cell_type": "code",
   "execution_count": 6,
   "metadata": {},
   "outputs": [],
   "source": [
    "def cleaning_tweet_data( df: pd.DataFrame()):\n",
    "    import re\n",
    "    df_tweets = df.copy()\n",
    "    if 'Unnamed: 0' in df_tweets.columns:\n",
    "        df_tweets.drop(columns=['Unnamed: 0'], axis=1, inplace=True)\n",
    "    if 'source' in df_tweets.columns:\n",
    "        df_tweets.drop(columns=['source', 'name', 'location', 'verified', 'description'], axis=1, inplace=True)\n",
    "        \n",
    "\n",
    "    df_tweets = df_tweets.apply(lambda x: x.astype(str).str.lower()).drop_duplicates(subset=['text', 'username'],\n",
    "                                                                                        keep='first')\n",
    "    \n",
    "    df_tweets['text'] = df_tweets['text'].apply(lambda x: re.split('https:\\/\\/.*', str(x))[0])\n",
    "    df_tweets['text'] = df_tweets['text'].str.lower()\n",
    "    df_tweets['text'] = df_tweets['text'].str.replace(\"@[a-z0-9A-Z]+\", \"\", regex=True)\n",
    "    df_tweets['text'] = df_tweets['text'].str.replace(\"#[a-z0-9A-Z]+\", \"\", regex=True)\n",
    "\n",
    "    blanks = []  # start with an empty list\n",
    "    for i, created_at, text, *username in df_tweets.itertuples():\n",
    "        if type(text) == str:\n",
    "            if text.isspace():\n",
    "                blanks.append(i)\n",
    "    df_tweets.drop(blanks, inplace=True)\n",
    "    df_tweets.dropna(inplace=True)\n",
    "\n",
    "    return df_tweets"
   ]
  },
  {
   "cell_type": "code",
   "execution_count": 7,
   "metadata": {},
   "outputs": [
    {
     "name": "stdout",
     "output_type": "stream",
     "text": [
      "<class 'pandas.core.frame.DataFrame'>\n",
      "RangeIndex: 5318 entries, 0 to 5317\n",
      "Data columns (total 3 columns):\n",
      " #   Column      Non-Null Count  Dtype              \n",
      "---  ------      --------------  -----              \n",
      " 0   username    5318 non-null   object             \n",
      " 1   text        5318 non-null   object             \n",
      " 2   created_at  5318 non-null   datetime64[ns, UTC]\n",
      "dtypes: datetime64[ns, UTC](1), object(2)\n",
      "memory usage: 124.8+ KB\n"
     ]
    }
   ],
   "source": [
    "df['username'] = df['username'].astype(str)\n",
    "df['text'] = df['text'].astype(str)\n",
    "df.info()"
   ]
  },
  {
   "cell_type": "code",
   "execution_count": 8,
   "metadata": {},
   "outputs": [],
   "source": [
    "def preprocessing_tweet_datetime(df: pd.DataFrame()) -> pd.DataFrame():\n",
    "    \"\"\"\n",
    "    For adding datetime groups Date, Hour, Minute to existing Dataframe.\n",
    "        It uses to copy of existing Dataframe\n",
    "    Args:\n",
    "        self (tsa) \n",
    "        df (DataFrame)\n",
    "\n",
    "    Returns:\n",
    "        DataFrame\n",
    "    \"\"\"\n",
    "    df_temp = df.copy()\n",
    "    # Fixed for some blank tweets: 'tweets'. Interesting api result delete below with function\n",
    "    df_temp.drop(df_temp[df_temp.created_at == 'twitter'].index, inplace=True)\n",
    "    df_temp.created_at = pd.to_datetime(df_temp.created_at)\n",
    "    df_temp['Date'] = df_temp.created_at.apply(lambda x: x.date())\n",
    "    df_temp['hour'] = df_temp.created_at.apply(lambda x: x.hour)\n",
    "    df_temp['minute'] = df_temp.created_at.apply(lambda x: x.minute)\n",
    "    return df_temp"
   ]
  },
  {
   "cell_type": "code",
   "execution_count": 9,
   "metadata": {},
   "outputs": [
    {
     "name": "stderr",
     "output_type": "stream",
     "text": [
      "[nltk_data] Downloading package vader_lexicon to\n",
      "[nltk_data]     /home/kozan/nltk_data...\n",
      "[nltk_data]   Package vader_lexicon is already up-to-date!\n"
     ]
    }
   ],
   "source": [
    "import nltk\n",
    "nltk.download('vader_lexicon')\n",
    "from nltk.sentiment.vader import SentimentIntensityAnalyzer\n",
    "sid = SentimentIntensityAnalyzer()\n",
    "def get_vader_sentiment( score):\n",
    "    \"\"\"\n",
    "    Return to float sentiment score to with Positive, Neurtal and Negative label\n",
    "    Args:\n",
    "        self (tsa) \n",
    "        score (float)\n",
    "\n",
    "    Returns: str\n",
    "    \"\"\"\n",
    "    if score >= 0.05:\n",
    "        return \"Positive\"\n",
    "    elif 0.05 > score > -0.05:\n",
    "        return \"Neutral\"\n",
    "    elif score <= -0.05:\n",
    "        return \"Negative\"\n",
    "    return score\n",
    "\n",
    "def get_sentiment_scores(df: pd.DataFrame()):\n",
    "    df_temp = df.copy()\n",
    "    df_temp['scores'] = df_temp['text'].apply(lambda review: sid.polarity_scores(review))\n",
    "    df_temp['compound'] = df_temp['scores'].apply(lambda score_dict: score_dict['compound'])\n",
    "    df_temp['comp_score'] = df_temp['compound'].apply(lambda score: get_vader_sentiment(score))\n",
    "\n",
    "    return df_temp"
   ]
  },
  {
   "cell_type": "code",
   "execution_count": 10,
   "metadata": {},
   "outputs": [],
   "source": [
    "import numpy as np\n",
    "def add_datetime_to_col(df: pd.DataFrame()) -> None:\n",
    "    df['Datetime'] = np.nan\n",
    "    for i in df.index:\n",
    "        if df.hour[i] < 10:\n",
    "            df.loc[i, 'Datetime'] = pd.to_datetime(f'{str(df.Date[i])} 0{str(df.hour[i])}:00+00:00')\n",
    "        else:\n",
    "            df.loc[i, 'Datetime'] = pd.to_datetime(f'{str(df.Date[i])} {str(df.hour[i])}:00+00:00')"
   ]
  },
  {
   "cell_type": "code",
   "execution_count": 11,
   "metadata": {},
   "outputs": [
    {
     "data": {
      "text/html": [
       "<div>\n",
       "<style scoped>\n",
       "    .dataframe tbody tr th:only-of-type {\n",
       "        vertical-align: middle;\n",
       "    }\n",
       "\n",
       "    .dataframe tbody tr th {\n",
       "        vertical-align: top;\n",
       "    }\n",
       "\n",
       "    .dataframe thead th {\n",
       "        text-align: right;\n",
       "    }\n",
       "</style>\n",
       "<table border=\"1\" class=\"dataframe\">\n",
       "  <thead>\n",
       "    <tr style=\"text-align: right;\">\n",
       "      <th></th>\n",
       "      <th>username</th>\n",
       "      <th>text</th>\n",
       "      <th>created_at</th>\n",
       "      <th>Date</th>\n",
       "      <th>hour</th>\n",
       "      <th>minute</th>\n",
       "      <th>scores</th>\n",
       "      <th>compound</th>\n",
       "      <th>comp_score</th>\n",
       "      <th>Datetime</th>\n",
       "    </tr>\n",
       "  </thead>\n",
       "  <tbody>\n",
       "    <tr>\n",
       "      <th>0</th>\n",
       "      <td>cryptocapo_</td>\n",
       "      <td></td>\n",
       "      <td>2023-06-23 12:39:56+00:00</td>\n",
       "      <td>2023-06-23</td>\n",
       "      <td>12</td>\n",
       "      <td>39</td>\n",
       "      <td>{'neg': 0.0, 'neu': 0.0, 'pos': 0.0, 'compound...</td>\n",
       "      <td>0.0000</td>\n",
       "      <td>Neutral</td>\n",
       "      <td>2023-06-23 12:00:00+00:00</td>\n",
       "    </tr>\n",
       "    <tr>\n",
       "      <th>1</th>\n",
       "      <td>cryptocapo_</td>\n",
       "      <td>after hours and hours of deep analysis and re...</td>\n",
       "      <td>2023-04-11 12:27:50+00:00</td>\n",
       "      <td>2023-04-11</td>\n",
       "      <td>12</td>\n",
       "      <td>27</td>\n",
       "      <td>{'neg': 0.0, 'neu': 1.0, 'pos': 0.0, 'compound...</td>\n",
       "      <td>0.0000</td>\n",
       "      <td>Neutral</td>\n",
       "      <td>2023-04-11 12:00:00+00:00</td>\n",
       "    </tr>\n",
       "    <tr>\n",
       "      <th>2</th>\n",
       "      <td>cryptocapo_</td>\n",
       "      <td>_mc  i've repeated many times that i'm short o...</td>\n",
       "      <td>2023-04-11 11:50:45+00:00</td>\n",
       "      <td>2023-04-11</td>\n",
       "      <td>11</td>\n",
       "      <td>50</td>\n",
       "      <td>{'neg': 0.0, 'neu': 1.0, 'pos': 0.0, 'compound...</td>\n",
       "      <td>0.0000</td>\n",
       "      <td>Neutral</td>\n",
       "      <td>2023-04-11 11:00:00+00:00</td>\n",
       "    </tr>\n",
       "    <tr>\n",
       "      <th>3</th>\n",
       "      <td>cryptocapo_</td>\n",
       "      <td>the joke would at least be funny if i shorted...</td>\n",
       "      <td>2023-04-11 11:46:53+00:00</td>\n",
       "      <td>2023-04-11</td>\n",
       "      <td>11</td>\n",
       "      <td>46</td>\n",
       "      <td>{'neg': 0.0, 'neu': 0.756, 'pos': 0.244, 'comp...</td>\n",
       "      <td>0.3716</td>\n",
       "      <td>Positive</td>\n",
       "      <td>2023-04-11 11:00:00+00:00</td>\n",
       "    </tr>\n",
       "    <tr>\n",
       "      <th>4</th>\n",
       "      <td>cryptocapo_</td>\n",
       "      <td>everything is based on probabilities. the mor...</td>\n",
       "      <td>2023-04-11 08:19:40+00:00</td>\n",
       "      <td>2023-04-11</td>\n",
       "      <td>8</td>\n",
       "      <td>19</td>\n",
       "      <td>{'neg': 0.0, 'neu': 1.0, 'pos': 0.0, 'compound...</td>\n",
       "      <td>0.0000</td>\n",
       "      <td>Neutral</td>\n",
       "      <td>2023-04-11 08:00:00+00:00</td>\n",
       "    </tr>\n",
       "    <tr>\n",
       "      <th>...</th>\n",
       "      <td>...</td>\n",
       "      <td>...</td>\n",
       "      <td>...</td>\n",
       "      <td>...</td>\n",
       "      <td>...</td>\n",
       "      <td>...</td>\n",
       "      <td>...</td>\n",
       "      <td>...</td>\n",
       "      <td>...</td>\n",
       "      <td>...</td>\n",
       "    </tr>\n",
       "    <tr>\n",
       "      <th>5313</th>\n",
       "      <td>timstolte98</td>\n",
       "      <td>which is (exactly like you are stating) desig...</td>\n",
       "      <td>2022-05-03 10:04:55+00:00</td>\n",
       "      <td>2022-05-03</td>\n",
       "      <td>10</td>\n",
       "      <td>4</td>\n",
       "      <td>{'neg': 0.0, 'neu': 0.872, 'pos': 0.128, 'comp...</td>\n",
       "      <td>0.3612</td>\n",
       "      <td>Positive</td>\n",
       "      <td>2022-05-03 10:00:00+00:00</td>\n",
       "    </tr>\n",
       "    <tr>\n",
       "      <th>5314</th>\n",
       "      <td>timstolte98</td>\n",
       "      <td>i am aware that my current approach already d...</td>\n",
       "      <td>2022-05-03 10:04:33+00:00</td>\n",
       "      <td>2022-05-03</td>\n",
       "      <td>10</td>\n",
       "      <td>4</td>\n",
       "      <td>{'neg': 0.0, 'neu': 1.0, 'pos': 0.0, 'compound...</td>\n",
       "      <td>0.0000</td>\n",
       "      <td>Neutral</td>\n",
       "      <td>2022-05-03 10:00:00+00:00</td>\n",
       "    </tr>\n",
       "    <tr>\n",
       "      <th>5315</th>\n",
       "      <td>timstolte98</td>\n",
       "      <td>it may very well be a useful indicator once i...</td>\n",
       "      <td>2022-05-03 10:01:59+00:00</td>\n",
       "      <td>2022-05-03</td>\n",
       "      <td>10</td>\n",
       "      <td>1</td>\n",
       "      <td>{'neg': 0.0, 'neu': 0.635, 'pos': 0.365, 'comp...</td>\n",
       "      <td>0.7939</td>\n",
       "      <td>Positive</td>\n",
       "      <td>2022-05-03 10:00:00+00:00</td>\n",
       "    </tr>\n",
       "    <tr>\n",
       "      <th>5316</th>\n",
       "      <td>timstolte98</td>\n",
       "      <td>one of the intentions of this piece was to pr...</td>\n",
       "      <td>2022-05-03 10:01:47+00:00</td>\n",
       "      <td>2022-05-03</td>\n",
       "      <td>10</td>\n",
       "      <td>1</td>\n",
       "      <td>{'neg': 0.0, 'neu': 1.0, 'pos': 0.0, 'compound...</td>\n",
       "      <td>0.0000</td>\n",
       "      <td>Neutral</td>\n",
       "      <td>2022-05-03 10:00:00+00:00</td>\n",
       "    </tr>\n",
       "    <tr>\n",
       "      <th>5317</th>\n",
       "      <td>timstolte98</td>\n",
       "      <td>first of all, thanks for responding to my art...</td>\n",
       "      <td>2022-05-03 10:01:33+00:00</td>\n",
       "      <td>2022-05-03</td>\n",
       "      <td>10</td>\n",
       "      <td>1</td>\n",
       "      <td>{'neg': 0.0, 'neu': 0.755, 'pos': 0.245, 'comp...</td>\n",
       "      <td>0.6360</td>\n",
       "      <td>Positive</td>\n",
       "      <td>2022-05-03 10:00:00+00:00</td>\n",
       "    </tr>\n",
       "  </tbody>\n",
       "</table>\n",
       "<p>5155 rows × 10 columns</p>\n",
       "</div>"
      ],
      "text/plain": [
       "         username                                               text  \\\n",
       "0     cryptocapo_                                                      \n",
       "1     cryptocapo_   after hours and hours of deep analysis and re...   \n",
       "2     cryptocapo_  _mc  i've repeated many times that i'm short o...   \n",
       "3     cryptocapo_   the joke would at least be funny if i shorted...   \n",
       "4     cryptocapo_   everything is based on probabilities. the mor...   \n",
       "...           ...                                                ...   \n",
       "5313  timstolte98   which is (exactly like you are stating) desig...   \n",
       "5314  timstolte98   i am aware that my current approach already d...   \n",
       "5315  timstolte98   it may very well be a useful indicator once i...   \n",
       "5316  timstolte98   one of the intentions of this piece was to pr...   \n",
       "5317  timstolte98   first of all, thanks for responding to my art...   \n",
       "\n",
       "                    created_at        Date  hour  minute  \\\n",
       "0    2023-06-23 12:39:56+00:00  2023-06-23    12      39   \n",
       "1    2023-04-11 12:27:50+00:00  2023-04-11    12      27   \n",
       "2    2023-04-11 11:50:45+00:00  2023-04-11    11      50   \n",
       "3    2023-04-11 11:46:53+00:00  2023-04-11    11      46   \n",
       "4    2023-04-11 08:19:40+00:00  2023-04-11     8      19   \n",
       "...                        ...         ...   ...     ...   \n",
       "5313 2022-05-03 10:04:55+00:00  2022-05-03    10       4   \n",
       "5314 2022-05-03 10:04:33+00:00  2022-05-03    10       4   \n",
       "5315 2022-05-03 10:01:59+00:00  2022-05-03    10       1   \n",
       "5316 2022-05-03 10:01:47+00:00  2022-05-03    10       1   \n",
       "5317 2022-05-03 10:01:33+00:00  2022-05-03    10       1   \n",
       "\n",
       "                                                 scores  compound comp_score  \\\n",
       "0     {'neg': 0.0, 'neu': 0.0, 'pos': 0.0, 'compound...    0.0000    Neutral   \n",
       "1     {'neg': 0.0, 'neu': 1.0, 'pos': 0.0, 'compound...    0.0000    Neutral   \n",
       "2     {'neg': 0.0, 'neu': 1.0, 'pos': 0.0, 'compound...    0.0000    Neutral   \n",
       "3     {'neg': 0.0, 'neu': 0.756, 'pos': 0.244, 'comp...    0.3716   Positive   \n",
       "4     {'neg': 0.0, 'neu': 1.0, 'pos': 0.0, 'compound...    0.0000    Neutral   \n",
       "...                                                 ...       ...        ...   \n",
       "5313  {'neg': 0.0, 'neu': 0.872, 'pos': 0.128, 'comp...    0.3612   Positive   \n",
       "5314  {'neg': 0.0, 'neu': 1.0, 'pos': 0.0, 'compound...    0.0000    Neutral   \n",
       "5315  {'neg': 0.0, 'neu': 0.635, 'pos': 0.365, 'comp...    0.7939   Positive   \n",
       "5316  {'neg': 0.0, 'neu': 1.0, 'pos': 0.0, 'compound...    0.0000    Neutral   \n",
       "5317  {'neg': 0.0, 'neu': 0.755, 'pos': 0.245, 'comp...    0.6360   Positive   \n",
       "\n",
       "                       Datetime  \n",
       "0     2023-06-23 12:00:00+00:00  \n",
       "1     2023-04-11 12:00:00+00:00  \n",
       "2     2023-04-11 11:00:00+00:00  \n",
       "3     2023-04-11 11:00:00+00:00  \n",
       "4     2023-04-11 08:00:00+00:00  \n",
       "...                         ...  \n",
       "5313  2022-05-03 10:00:00+00:00  \n",
       "5314  2022-05-03 10:00:00+00:00  \n",
       "5315  2022-05-03 10:00:00+00:00  \n",
       "5316  2022-05-03 10:00:00+00:00  \n",
       "5317  2022-05-03 10:00:00+00:00  \n",
       "\n",
       "[5155 rows x 10 columns]"
      ]
     },
     "execution_count": 11,
     "metadata": {},
     "output_type": "execute_result"
    }
   ],
   "source": [
    "df = cleaning_tweet_data(df)\n",
    "df = preprocessing_tweet_datetime(df)\n",
    "df = get_sentiment_scores(df)\n",
    "add_datetime_to_col(df)\n",
    "df"
   ]
  },
  {
   "cell_type": "code",
   "execution_count": 12,
   "metadata": {},
   "outputs": [],
   "source": [
    "def get_sent_with_mean_interval(df_tweets: pd.DataFrame(), interval: str = '1h') -> pd.DataFrame():\n",
    "    df_result = pd.DataFrame()\n",
    "    df_result['Datetime'] = df_tweets.Datetime.unique()\n",
    "    df_result['sentiment_score'] = 0\n",
    "    for i, dt, com in df_result.itertuples():\n",
    "        sub_df = df_tweets.copy()\n",
    "        df_result.loc[i, 'sentiment_score'] = sub_df.loc[\n",
    "            (sub_df.Datetime.unique()[i] == sub_df.Datetime), 'compound'].mean()\n",
    "    df_result.set_index('Datetime', inplace=True)\n",
    "    df_result = df_result.sort_values('Datetime')\n",
    "    if interval == '1d':\n",
    "        df_result = df_result.resample('D').mean().reset_index()\n",
    "        df_result.set_index('Datetime', inplace=True)\n",
    "        df_result = df_result.sort_values('Datetime')\n",
    "    df_result = df_result.dropna(axis=0)\n",
    "    return df_result"
   ]
  },
  {
   "cell_type": "code",
   "execution_count": 17,
   "metadata": {},
   "outputs": [
    {
     "data": {
      "text/plain": [
       "<Axes: xlabel='Datetime'>"
      ]
     },
     "execution_count": 17,
     "metadata": {},
     "output_type": "execute_result"
    },
    {
     "data": {
      "image/png": "[encoded data removed]",
      "text/plain": [
       "<Figure size 640x480 with 1 Axes>"
      ]
     },
     "metadata": {},
     "output_type": "display_data"
    }
   ],
   "source": [
    "import matplotlib.pyplot as plt\n",
    "sent_scores = get_sent_with_mean_interval(df, '1d')\n",
    "sent_scores.plot()"
   ]
  },
  {
   "cell_type": "code",
   "execution_count": 19,
   "metadata": {},
   "outputs": [
    {
     "data": {
      "text/html": [
       "<div>\n",
       "<style scoped>\n",
       "    .dataframe tbody tr th:only-of-type {\n",
       "        vertical-align: middle;\n",
       "    }\n",
       "\n",
       "    .dataframe tbody tr th {\n",
       "        vertical-align: top;\n",
       "    }\n",
       "\n",
       "    .dataframe thead th {\n",
       "        text-align: right;\n",
       "    }\n",
       "</style>\n",
       "<table border=\"1\" class=\"dataframe\">\n",
       "  <thead>\n",
       "    <tr style=\"text-align: right;\">\n",
       "      <th></th>\n",
       "      <th>sentiment_score</th>\n",
       "    </tr>\n",
       "    <tr>\n",
       "      <th>Datetime</th>\n",
       "      <th></th>\n",
       "    </tr>\n",
       "  </thead>\n",
       "  <tbody>\n",
       "    <tr>\n",
       "      <th>2022-05-03 00:00:00+00:00</th>\n",
       "      <td>0.327106</td>\n",
       "    </tr>\n",
       "    <tr>\n",
       "      <th>2022-05-12 00:00:00+00:00</th>\n",
       "      <td>0.681250</td>\n",
       "    </tr>\n",
       "    <tr>\n",
       "      <th>2022-06-09 00:00:00+00:00</th>\n",
       "      <td>0.895500</td>\n",
       "    </tr>\n",
       "    <tr>\n",
       "      <th>2022-07-06 00:00:00+00:00</th>\n",
       "      <td>0.095450</td>\n",
       "    </tr>\n",
       "    <tr>\n",
       "      <th>2022-08-03 00:00:00+00:00</th>\n",
       "      <td>0.008600</td>\n",
       "    </tr>\n",
       "    <tr>\n",
       "      <th>...</th>\n",
       "      <td>...</td>\n",
       "    </tr>\n",
       "    <tr>\n",
       "      <th>2023-07-17 00:00:00+00:00</th>\n",
       "      <td>0.148719</td>\n",
       "    </tr>\n",
       "    <tr>\n",
       "      <th>2023-07-18 00:00:00+00:00</th>\n",
       "      <td>0.126148</td>\n",
       "    </tr>\n",
       "    <tr>\n",
       "      <th>2023-07-19 00:00:00+00:00</th>\n",
       "      <td>0.151720</td>\n",
       "    </tr>\n",
       "    <tr>\n",
       "      <th>2023-07-20 00:00:00+00:00</th>\n",
       "      <td>0.129525</td>\n",
       "    </tr>\n",
       "    <tr>\n",
       "      <th>2023-07-21 00:00:00+00:00</th>\n",
       "      <td>0.168487</td>\n",
       "    </tr>\n",
       "  </tbody>\n",
       "</table>\n",
       "<p>195 rows × 1 columns</p>\n",
       "</div>"
      ],
      "text/plain": [
       "                           sentiment_score\n",
       "Datetime                                  \n",
       "2022-05-03 00:00:00+00:00         0.327106\n",
       "2022-05-12 00:00:00+00:00         0.681250\n",
       "2022-06-09 00:00:00+00:00         0.895500\n",
       "2022-07-06 00:00:00+00:00         0.095450\n",
       "2022-08-03 00:00:00+00:00         0.008600\n",
       "...                                    ...\n",
       "2023-07-17 00:00:00+00:00         0.148719\n",
       "2023-07-18 00:00:00+00:00         0.126148\n",
       "2023-07-19 00:00:00+00:00         0.151720\n",
       "2023-07-20 00:00:00+00:00         0.129525\n",
       "2023-07-21 00:00:00+00:00         0.168487\n",
       "\n",
       "[195 rows x 1 columns]"
      ]
     },
     "execution_count": 19,
     "metadata": {},
     "output_type": "execute_result"
    }
   ],
   "source": [
    "sent_scores"
   ]
  },
  {
   "cell_type": "code",
   "execution_count": 20,
   "metadata": {},
   "outputs": [],
   "source": [
    "from pandas.tseries.offsets import DateOffset\n",
    "\n",
    "last_month_start = sent_scores.index.max() - DateOffset(months=1)\n",
    "last_month_scores = sent_scores[sent_scores.index >= last_month_start]['sentiment_score']"
   ]
  },
  {
   "cell_type": "code",
   "execution_count": 21,
   "metadata": {},
   "outputs": [
    {
     "data": {
      "text/plain": [
       "<Axes: xlabel='Datetime'>"
      ]
     },
     "execution_count": 21,
     "metadata": {},
     "output_type": "execute_result"
    },
    {
     "data": {
      "image/png": "[encoded data removed]",
      "text/plain": [
       "<Figure size 640x480 with 1 Axes>"
      ]
     },
     "metadata": {},
     "output_type": "display_data"
    }
   ],
   "source": [
    "last_month_scores.plot()"
   ]
  },
  {
   "cell_type": "code",
   "execution_count": null,
   "metadata": {},
   "outputs": [],
   "source": []
  }
 ],
 "metadata": {
  "kernelspec": {
   "display_name": "llm-study-venv",
   "language": "python",
   "name": "python3"
  },
  "language_info": {
   "codemirror_mode": {
    "name": "ipython",
    "version": 3
   },
   "file_extension": ".py",
   "mimetype": "text/x-python",
   "name": "python",
   "nbconvert_exporter": "python",
   "pygments_lexer": "ipython3",
   "version": "3.8.1"
  },
  "orig_nbformat": 4
 },
 "nbformat": 4,
 "nbformat_minor": 2
}
