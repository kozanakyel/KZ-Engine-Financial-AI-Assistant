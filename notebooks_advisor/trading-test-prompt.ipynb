{
 "cells": [
  {
   "cell_type": "code",
   "execution_count": 30,
   "metadata": {
    "ExecuteTime": {
     "end_time": "2023-06-06T08:05:43.342083500Z",
     "start_time": "2023-06-06T08:05:43.326424600Z"
    },
    "collapsed": true
   },
   "outputs": [],
   "source": [
    "from dotenv import load_dotenv\n",
    "import os\n",
    "from ohlc_data_process import calculate_dmi_rsi_mfi, fetch_data\n",
    "\n",
    "load_dotenv()\n",
    "\n",
    "openai_api_key = os.getenv('T_OPENAI_API_KEY')\n",
    "os.environ['OPENAI_API_KEY'] = openai_api_key"
   ]
  },
  {
   "cell_type": "code",
   "execution_count": 34,
   "metadata": {
    "ExecuteTime": {
     "end_time": "2023-06-06T08:06:15.479732400Z",
     "start_time": "2023-06-06T08:06:15.464084800Z"
    }
   },
   "outputs": [],
   "source": [
    "from langchain import OpenAI\n",
    "\n",
    "openai = OpenAI(\n",
    "    #model_name='text-davinci-003',\n",
    "    model_name='text-curie-001',\n",
    "    temperature=0.1\n",
    ")"
   ]
  },
  {
   "cell_type": "code",
   "execution_count": 35,
   "metadata": {
    "ExecuteTime": {
     "end_time": "2023-06-06T08:06:15.940217300Z",
     "start_time": "2023-06-06T08:06:15.928209Z"
    }
   },
   "outputs": [],
   "source": [
    "from langchain import PromptTemplate\n",
    "\n",
    "template = \"\"\"Answer the question based on the context below.\n",
    "You are the trading advisor. Also you are expert on RSI, MFI and DMP, DMI indicators.\n",
    "\n",
    "Context: RSI indicator value range betwwen 0-100. RSI value 70 and above meaning that overbought area.\n",
    " So you should sell your coin. also value 80 is a extreme overbought and you act cautiously.\n",
    " RSI value 30 that meaning is overselling area. and value 20 is extreme overselling are.\n",
    " if the RSI value are 20-30s you should bought this coin. 30-70 range waiting or\n",
    " you can look other indicator results.\n",
    " MFI indicator value range betwen 0-100. MFI value 80 and above meaning that overbought area.\n",
    " So you should sell your coin. also value 90 is a extreme overbought and you should act cautiously.\n",
    " MFI value 20 that meaning is overselling area. and value 10 is extreme overselling are.\n",
    " if the MFI value are 10-20s you should bought this coin. 20-80 range waiting or\n",
    " you can look other indicator results.\n",
    " Else it shows overselling condition between 0-25.\n",
    " DMI indicator is a collection of indicators including DMP, DMI, and ADX. The Plus Direction Indicator DMP and\n",
    " Minus Direction Indicator DMI show the current price direction. When the DMP is above DMN,\n",
    " the current price momentum is up. When the DMN is above DMP, the current price momentum is down.\n",
    " ADX measures the strength of the trend, either up or down; a reading above 25 indicates a strong trend.\n",
    "\n",
    "Question: {query}\n",
    "\n",
    "Answer: \"\"\"\n",
    "\n",
    "prompt_template = PromptTemplate(\n",
    "    input_variables=[\"query\"],\n",
    "    template=template\n",
    ")"
   ]
  },
  {
   "cell_type": "code",
   "execution_count": 36,
   "metadata": {
    "ExecuteTime": {
     "end_time": "2023-06-06T08:06:18.625147400Z",
     "start_time": "2023-06-06T08:06:17.219622700Z"
    }
   },
   "outputs": [
    {
     "name": "stdout",
     "output_type": "stream",
     "text": [
      "\n",
      "\n",
      "Based on the indicators, it is advised to sell the coin if the RSI value is 36.47 or above, and to wait for the MFI value to drop before buying the coin if the MFI value is 42.37 or above. It is also advised to sell the coin if the DMP value is 15.79 or above, and to wait for the DMN value to drop before buying the coin if the DMN value is 30.62 or above.\n"
     ]
    }
   ],
   "source": [
    "df = fetch_data('BTC-USD', '3mo', '1d')\n",
    "indicator_data = calculate_dmi_rsi_mfi(df)\n",
    "rsi_14 = indicator_data.RSI_14.iloc[-1]\n",
    "mfi_14 = indicator_data.MFI_14.iloc[-1]\n",
    "dmp_14 = indicator_data.DMP_14.iloc[-1]\n",
    "dmn_14 = indicator_data.DMN_14.iloc[-1]\n",
    "adx_14 = indicator_data.ADX_14.iloc[-1]\n",
    "\n",
    "print(openai(\n",
    "    prompt_template.format(\n",
    "        query=f\"RSI indicator value is {rsi_14:.2f}, MFI indicator value is {mfi_14:.2f}, DMP indicator value is {dmp_14:.2f},\"\n",
    "              f\" DMN indicator value is {dmn_14:.2f} and ADX indicator value is {adx_14:.2f}.\"\n",
    "              f\" What is your advice for trading for those indicator values?\"\n",
    "    )\n",
    "))"
   ]
  },
  {
   "cell_type": "code",
   "execution_count": 33,
   "metadata": {
    "ExecuteTime": {
     "end_time": "2023-06-06T08:05:45.625363100Z",
     "start_time": "2023-06-06T08:05:45.578163100Z"
    }
   },
   "outputs": [],
   "source": []
  }
 ],
 "metadata": {
  "kernelspec": {
   "display_name": "Python 3 (ipykernel)",
   "language": "python",
   "name": "python3"
  },
  "language_info": {
   "codemirror_mode": {
    "name": "ipython",
    "version": 3
   },
   "file_extension": ".py",
   "mimetype": "text/x-python",
   "name": "python",
   "nbconvert_exporter": "python",
   "pygments_lexer": "ipython3",
   "version": "3.9.9"
  }
 },
 "nbformat": 4,
 "nbformat_minor": 1
}
